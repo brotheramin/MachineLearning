{
  "nbformat": 4,
  "nbformat_minor": 0,
  "metadata": {
    "colab": {
      "provenance": [],
      "authorship_tag": "ABX9TyM3AJJC51UngV0GcdIbZWol",
      "include_colab_link": true
    },
    "kernelspec": {
      "name": "python3",
      "display_name": "Python 3"
    },
    "language_info": {
      "name": "python"
    }
  },
  "cells": [
    {
      "cell_type": "markdown",
      "metadata": {
        "id": "view-in-github",
        "colab_type": "text"
      },
      "source": [
        "<a href=\"https://colab.research.google.com/github/brotheramin/MachineLearning/blob/main/AbnormalProject.ipynb\" target=\"_parent\"><img src=\"https://colab.research.google.com/assets/colab-badge.svg\" alt=\"Open In Colab\"/></a>"
      ]
    },
    {
      "cell_type": "code",
      "execution_count": 2,
      "metadata": {
        "colab": {
          "base_uri": "https://localhost:8080/"
        },
        "id": "00xjlfCKhjq-",
        "outputId": "1f423cd6-b795-4132-83ac-a3962f9a35b7"
      },
      "outputs": [
        {
          "output_type": "stream",
          "name": "stdout",
          "text": [
            "Accuracy: 0.9882506527415144\n",
            "Classification Report:\n",
            "               precision    recall  f1-score   support\n",
            "\n",
            "      Normal       1.00      1.00      1.00       674\n",
            "   Failure 1       0.99      0.99      0.99       551\n",
            "   Failure 2       0.97      0.92      0.95       144\n",
            "   Failure 3       0.94      0.99      0.96       163\n",
            "\n",
            "    accuracy                           0.99      1532\n",
            "   macro avg       0.98      0.98      0.98      1532\n",
            "weighted avg       0.99      0.99      0.99      1532\n",
            "\n"
          ]
        }
      ],
      "source": [
        "import pandas as pd\n",
        "from sklearn.model_selection import train_test_split\n",
        "from sklearn.preprocessing import StandardScaler\n",
        "from sklearn.ensemble import RandomForestClassifier\n",
        "from sklearn.metrics import classification_report, accuracy_score\n",
        "\n",
        "# Load the datasets from Colab's default directory\n",
        "file_paths = {\n",
        "    \"normal\": \"dane_OT.csv\",\n",
        "    \"failure_1\": \"dane_UT1.csv\",\n",
        "    \"failure_2\": \"dane_UT2.csv\",\n",
        "    \"failure_3\": \"dane_UT3.csv\"\n",
        "}\n",
        "\n",
        "# Read the datasets into pandas dataframes\n",
        "datasets = {name: pd.read_csv(path, delimiter=\",\") for name, path in file_paths.items()}\n",
        "\n",
        "# Assign labels to each dataset\n",
        "datasets[\"normal\"][\"label\"] = 0\n",
        "datasets[\"failure_1\"][\"label\"] = 1\n",
        "datasets[\"failure_2\"][\"label\"] = 2\n",
        "datasets[\"failure_3\"][\"label\"] = 3\n",
        "\n",
        "# Drop timestamp columns\n",
        "for name in datasets:\n",
        "    datasets[name] = datasets[name].drop(columns=[\"Czas2\", \"Czas\"])\n",
        "\n",
        "# Combine all datasets into one\n",
        "df = pd.concat(datasets.values(), ignore_index=True)\n",
        "\n",
        "# Reduce dataset size to 5% to prevent memory issues\n",
        "df_sampled = df.sample(frac=0.05, random_state=42)\n",
        "\n",
        "# Split features and labels\n",
        "X = df_sampled.drop(columns=[\"label\"])\n",
        "y = df_sampled[\"label\"]\n",
        "\n",
        "# Standardize features\n",
        "scaler = StandardScaler()\n",
        "X_scaled = scaler.fit_transform(X)\n",
        "\n",
        "# Split data into training and test sets\n",
        "X_train, X_test, y_train, y_test = train_test_split(X_scaled, y, test_size=0.2, stratify=y, random_state=42)\n",
        "\n",
        "# Train a RandomForest classifier\n",
        "model = RandomForestClassifier(n_estimators=100, random_state=42)\n",
        "model.fit(X_train, y_train)\n",
        "\n",
        "# Make predictions\n",
        "y_pred = model.predict(X_test)\n",
        "\n",
        "# Evaluate the model\n",
        "accuracy = accuracy_score(y_test, y_pred)\n",
        "report = classification_report(y_test, y_pred, target_names=[\"Normal\", \"Failure 1\", \"Failure 2\", \"Failure 3\"])\n",
        "\n",
        "print(f\"Accuracy: {accuracy}\")\n",
        "print(\"Classification Report:\\n\", report)\n"
      ]
    }
  ]
}
{
  "nbformat": 4,
  "nbformat_minor": 0,
  "metadata": {
    "colab": {
      "name": "Keras2.ipynb",
      "provenance": [],
      "authorship_tag": "ABX9TyOyS3LtPzecymckpRfaQtUz",
      "include_colab_link": true
    },
    "kernelspec": {
      "name": "python3",
      "display_name": "Python 3"
    },
    "language_info": {
      "name": "python"
    }
  },
  "cells": [
    {
      "cell_type": "markdown",
      "metadata": {
        "id": "view-in-github",
        "colab_type": "text"
      },
      "source": [
        "<a href=\"https://colab.research.google.com/github/brotheramin/MachineLearning/blob/main/Keras2.ipynb\" target=\"_parent\"><img src=\"https://colab.research.google.com/assets/colab-badge.svg\" alt=\"Open In Colab\"/></a>"
      ]
    },
    {
      "cell_type": "code",
      "execution_count": null,
      "metadata": {
        "id": "7A4JczTDiDi4"
      },
      "outputs": [],
      "source": [
        "from tensorflow.keras.models import Sequential\n",
        "from tensorflow.keras.layers import Dense, Activation\n",
        "from tensorflow.keras.optimizers import Adam\n",
        "from tensorflow.keras.models import model_from_json\n",
        " \n",
        "from matplotlib import pyplot as plt\n",
        " \n",
        "import numpy as np"
      ]
    },
    {
      "cell_type": "code",
      "source": [
        "def function(x):\n",
        "    return 10*x**2 - 5*x - 0.5"
      ],
      "metadata": {
        "id": "703oXvg1iHyU"
      },
      "execution_count": null,
      "outputs": []
    },
    {
      "cell_type": "code",
      "source": [
        "x_train = np.random.rand(10000)\n",
        "y_train = function(x_train)\n",
        " \n",
        "x_test = np.linspace(0, 1, 100)\n",
        "y_test = function(x_test)"
      ],
      "metadata": {
        "id": "pwL8bprBiReV"
      },
      "execution_count": null,
      "outputs": []
    },
    {
      "cell_type": "code",
      "source": [
        "plt.scatter(x_train, y_train, label='Train', color='blue')\n",
        "plt.plot(x_test, y_test, label='Test', color='red')\n",
        "plt.ylabel('y')\n",
        "plt.xlabel('x')\n",
        "plt.legend(loc='best')\n",
        "plt.show()"
      ],
      "metadata": {
        "id": "ololXnR3iV1E"
      },
      "execution_count": null,
      "outputs": []
    },
    {
      "cell_type": "code",
      "source": [
        "model = Sequential()\n",
        "model.add(Dense(units=200, input_dim=1))\n",
        "model.add(Activation('relu'))\n",
        "# Add a dense layer with 20 units\n",
        "# Add a 'relu' activation layer\n",
        "# Add an output dense layer with 1 unit"
      ],
      "metadata": {
        "id": "UV44h7PfiZRf"
      },
      "execution_count": null,
      "outputs": []
    },
    {
      "cell_type": "code",
      "source": [
        "history = model.fit(x_train, y_train, batch_size=50, epochs=10, verbose=1, validation_data=(x_test, y_test))\n"
      ],
      "metadata": {
        "id": "dLr49npyid3k"
      },
      "execution_count": null,
      "outputs": []
    },
    {
      "cell_type": "code",
      "source": [
        "plt.plot(history.history['loss'])\n",
        "plt.plot(history.history['val_loss'])\n",
        "plt.title('Model loss')\n",
        "plt.ylabel('Loss')\n",
        "plt.xlabel('Epoch')\n",
        "plt.legend(['Train', 'Test'], loc='upper left')\n",
        "plt.show()"
      ],
      "metadata": {
        "id": "Yrez6x0_igas"
      },
      "execution_count": null,
      "outputs": []
    },
    {
      "cell_type": "code",
      "source": [
        "y_predictions = # your code here"
      ],
      "metadata": {
        "id": "2BfiWBJuik-4"
      },
      "execution_count": null,
      "outputs": []
    },
    {
      "cell_type": "code",
      "source": [
        "plt.scatter(x_test, y_predictions, label='Predictions', color='blue')\n",
        "plt.plot(x_test, y_test, label='Test', color='red')\n",
        "plt.ylabel('y')\n",
        "plt.xlabel('x')\n",
        "plt.legend(loc='best')\n",
        "plt.show()"
      ],
      "metadata": {
        "id": "9wdEawC3ip7O"
      },
      "execution_count": null,
      "outputs": []
    }
  ]
}
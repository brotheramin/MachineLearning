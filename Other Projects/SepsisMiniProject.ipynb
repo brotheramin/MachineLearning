{
  "nbformat": 4,
  "nbformat_minor": 0,
  "metadata": {
    "colab": {
      "provenance": [],
      "collapsed_sections": [],
      "include_colab_link": true
    },
    "kernelspec": {
      "name": "python3",
      "display_name": "Python 3"
    },
    "language_info": {
      "name": "python"
    }
  },
  "cells": [
    {
      "cell_type": "markdown",
      "metadata": {
        "id": "view-in-github",
        "colab_type": "text"
      },
      "source": [
        "<a href=\"https://colab.research.google.com/github/brotheramin/MachineLearning/blob/main/SepsisMiniProject.ipynb\" target=\"_parent\"><img src=\"https://colab.research.google.com/assets/colab-badge.svg\" alt=\"Open In Colab\"/></a>"
      ]
    },
    {
      "cell_type": "code",
      "execution_count": 1,
      "metadata": {
        "id": "-AT_F8-9B7vc"
      },
      "outputs": [],
      "source": [
        "# data manipulation libraries\n",
        "import numpy as np # linear algebra\n",
        "import pandas as pd # data processing\n",
        "\n",
        "# data visualization libraries\n",
        "import matplotlib.pyplot as plt\n",
        "import seaborn as sns\n",
        "\n",
        "# machine learning methods\n",
        "from sklearn.model_selection import train_test_split # data splitting into train and test\n",
        "from sklearn.preprocessing import FunctionTransformer\n",
        "\n",
        "\n",
        "from sklearn.linear_model import LogisticRegression\n",
        "from sklearn.neural_network import MLPClassifier\n",
        "from sklearn.ensemble import RandomForestClassifier\n",
        "\n",
        "from sklearn.model_selection import cross_validate\n",
        "from sklearn.metrics import f1_score"
      ]
    },
    {
      "cell_type": "code",
      "source": [
        "df = pd.read_csv('feature_combined.csv')"
      ],
      "metadata": {
        "id": "ZdwQy-_HEFYm"
      },
      "execution_count": 2,
      "outputs": []
    },
    {
      "cell_type": "code",
      "source": [
        "df.head().T"
      ],
      "metadata": {
        "colab": {
          "base_uri": "https://localhost:8080/",
          "height": 424
        },
        "id": "h8LSi8A-FjdV",
        "outputId": "ec7e3e4b-c0c5-437c-97f6-9d5d8a732b2e"
      },
      "execution_count": null,
      "outputs": [
        {
          "output_type": "execute_result",
          "data": {
            "text/plain": [
              "                 0           1           2           3           4\n",
              "X_0       1.500000    2.227147    4.000000    0.000000    4.000000\n",
              "X_1     140.000000  140.000000  140.000000  138.000000  140.000000\n",
              "X_2     138.000000  138.250000  138.500000  138.000000  138.500000\n",
              "X_3     137.000000  137.000000  138.000000  138.000000  138.000000\n",
              "X_4       1.414214    1.129338    2.000000    0.000000    2.000000\n",
              "...            ...         ...         ...         ...         ...\n",
              "X_103     0.015385    0.006593   -0.001099   -0.027473   -0.037363\n",
              "X_104     0.650444    0.650444    0.776250    1.235168    1.281025\n",
              "offset -660.000000 -655.000000 -650.000000 -645.000000 -640.000000\n",
              "id        1.000000    1.000000    1.000000    1.000000    1.000000\n",
              "label     1.000000    1.000000    1.000000    1.000000    1.000000\n",
              "\n",
              "[108 rows x 5 columns]"
            ],
            "text/html": [
              "\n",
              "  <div id=\"df-9689f0cc-4d98-4274-a616-3aae714e9bb9\">\n",
              "    <div class=\"colab-df-container\">\n",
              "      <div>\n",
              "<style scoped>\n",
              "    .dataframe tbody tr th:only-of-type {\n",
              "        vertical-align: middle;\n",
              "    }\n",
              "\n",
              "    .dataframe tbody tr th {\n",
              "        vertical-align: top;\n",
              "    }\n",
              "\n",
              "    .dataframe thead th {\n",
              "        text-align: right;\n",
              "    }\n",
              "</style>\n",
              "<table border=\"1\" class=\"dataframe\">\n",
              "  <thead>\n",
              "    <tr style=\"text-align: right;\">\n",
              "      <th></th>\n",
              "      <th>0</th>\n",
              "      <th>1</th>\n",
              "      <th>2</th>\n",
              "      <th>3</th>\n",
              "      <th>4</th>\n",
              "    </tr>\n",
              "  </thead>\n",
              "  <tbody>\n",
              "    <tr>\n",
              "      <th>X_0</th>\n",
              "      <td>1.500000</td>\n",
              "      <td>2.227147</td>\n",
              "      <td>4.000000</td>\n",
              "      <td>0.000000</td>\n",
              "      <td>4.000000</td>\n",
              "    </tr>\n",
              "    <tr>\n",
              "      <th>X_1</th>\n",
              "      <td>140.000000</td>\n",
              "      <td>140.000000</td>\n",
              "      <td>140.000000</td>\n",
              "      <td>138.000000</td>\n",
              "      <td>140.000000</td>\n",
              "    </tr>\n",
              "    <tr>\n",
              "      <th>X_2</th>\n",
              "      <td>138.000000</td>\n",
              "      <td>138.250000</td>\n",
              "      <td>138.500000</td>\n",
              "      <td>138.000000</td>\n",
              "      <td>138.500000</td>\n",
              "    </tr>\n",
              "    <tr>\n",
              "      <th>X_3</th>\n",
              "      <td>137.000000</td>\n",
              "      <td>137.000000</td>\n",
              "      <td>138.000000</td>\n",
              "      <td>138.000000</td>\n",
              "      <td>138.000000</td>\n",
              "    </tr>\n",
              "    <tr>\n",
              "      <th>X_4</th>\n",
              "      <td>1.414214</td>\n",
              "      <td>1.129338</td>\n",
              "      <td>2.000000</td>\n",
              "      <td>0.000000</td>\n",
              "      <td>2.000000</td>\n",
              "    </tr>\n",
              "    <tr>\n",
              "      <th>...</th>\n",
              "      <td>...</td>\n",
              "      <td>...</td>\n",
              "      <td>...</td>\n",
              "      <td>...</td>\n",
              "      <td>...</td>\n",
              "    </tr>\n",
              "    <tr>\n",
              "      <th>X_103</th>\n",
              "      <td>0.015385</td>\n",
              "      <td>0.006593</td>\n",
              "      <td>-0.001099</td>\n",
              "      <td>-0.027473</td>\n",
              "      <td>-0.037363</td>\n",
              "    </tr>\n",
              "    <tr>\n",
              "      <th>X_104</th>\n",
              "      <td>0.650444</td>\n",
              "      <td>0.650444</td>\n",
              "      <td>0.776250</td>\n",
              "      <td>1.235168</td>\n",
              "      <td>1.281025</td>\n",
              "    </tr>\n",
              "    <tr>\n",
              "      <th>offset</th>\n",
              "      <td>-660.000000</td>\n",
              "      <td>-655.000000</td>\n",
              "      <td>-650.000000</td>\n",
              "      <td>-645.000000</td>\n",
              "      <td>-640.000000</td>\n",
              "    </tr>\n",
              "    <tr>\n",
              "      <th>id</th>\n",
              "      <td>1.000000</td>\n",
              "      <td>1.000000</td>\n",
              "      <td>1.000000</td>\n",
              "      <td>1.000000</td>\n",
              "      <td>1.000000</td>\n",
              "    </tr>\n",
              "    <tr>\n",
              "      <th>label</th>\n",
              "      <td>1.000000</td>\n",
              "      <td>1.000000</td>\n",
              "      <td>1.000000</td>\n",
              "      <td>1.000000</td>\n",
              "      <td>1.000000</td>\n",
              "    </tr>\n",
              "  </tbody>\n",
              "</table>\n",
              "<p>108 rows × 5 columns</p>\n",
              "</div>\n",
              "      <button class=\"colab-df-convert\" onclick=\"convertToInteractive('df-9689f0cc-4d98-4274-a616-3aae714e9bb9')\"\n",
              "              title=\"Convert this dataframe to an interactive table.\"\n",
              "              style=\"display:none;\">\n",
              "        \n",
              "  <svg xmlns=\"http://www.w3.org/2000/svg\" height=\"24px\"viewBox=\"0 0 24 24\"\n",
              "       width=\"24px\">\n",
              "    <path d=\"M0 0h24v24H0V0z\" fill=\"none\"/>\n",
              "    <path d=\"M18.56 5.44l.94 2.06.94-2.06 2.06-.94-2.06-.94-.94-2.06-.94 2.06-2.06.94zm-11 1L8.5 8.5l.94-2.06 2.06-.94-2.06-.94L8.5 2.5l-.94 2.06-2.06.94zm10 10l.94 2.06.94-2.06 2.06-.94-2.06-.94-.94-2.06-.94 2.06-2.06.94z\"/><path d=\"M17.41 7.96l-1.37-1.37c-.4-.4-.92-.59-1.43-.59-.52 0-1.04.2-1.43.59L10.3 9.45l-7.72 7.72c-.78.78-.78 2.05 0 2.83L4 21.41c.39.39.9.59 1.41.59.51 0 1.02-.2 1.41-.59l7.78-7.78 2.81-2.81c.8-.78.8-2.07 0-2.86zM5.41 20L4 18.59l7.72-7.72 1.47 1.35L5.41 20z\"/>\n",
              "  </svg>\n",
              "      </button>\n",
              "      \n",
              "  <style>\n",
              "    .colab-df-container {\n",
              "      display:flex;\n",
              "      flex-wrap:wrap;\n",
              "      gap: 12px;\n",
              "    }\n",
              "\n",
              "    .colab-df-convert {\n",
              "      background-color: #E8F0FE;\n",
              "      border: none;\n",
              "      border-radius: 50%;\n",
              "      cursor: pointer;\n",
              "      display: none;\n",
              "      fill: #1967D2;\n",
              "      height: 32px;\n",
              "      padding: 0 0 0 0;\n",
              "      width: 32px;\n",
              "    }\n",
              "\n",
              "    .colab-df-convert:hover {\n",
              "      background-color: #E2EBFA;\n",
              "      box-shadow: 0px 1px 2px rgba(60, 64, 67, 0.3), 0px 1px 3px 1px rgba(60, 64, 67, 0.15);\n",
              "      fill: #174EA6;\n",
              "    }\n",
              "\n",
              "    [theme=dark] .colab-df-convert {\n",
              "      background-color: #3B4455;\n",
              "      fill: #D2E3FC;\n",
              "    }\n",
              "\n",
              "    [theme=dark] .colab-df-convert:hover {\n",
              "      background-color: #434B5C;\n",
              "      box-shadow: 0px 1px 3px 1px rgba(0, 0, 0, 0.15);\n",
              "      filter: drop-shadow(0px 1px 2px rgba(0, 0, 0, 0.3));\n",
              "      fill: #FFFFFF;\n",
              "    }\n",
              "  </style>\n",
              "\n",
              "      <script>\n",
              "        const buttonEl =\n",
              "          document.querySelector('#df-9689f0cc-4d98-4274-a616-3aae714e9bb9 button.colab-df-convert');\n",
              "        buttonEl.style.display =\n",
              "          google.colab.kernel.accessAllowed ? 'block' : 'none';\n",
              "\n",
              "        async function convertToInteractive(key) {\n",
              "          const element = document.querySelector('#df-9689f0cc-4d98-4274-a616-3aae714e9bb9');\n",
              "          const dataTable =\n",
              "            await google.colab.kernel.invokeFunction('convertToInteractive',\n",
              "                                                     [key], {});\n",
              "          if (!dataTable) return;\n",
              "\n",
              "          const docLinkHtml = 'Like what you see? Visit the ' +\n",
              "            '<a target=\"_blank\" href=https://colab.research.google.com/notebooks/data_table.ipynb>data table notebook</a>'\n",
              "            + ' to learn more about interactive tables.';\n",
              "          element.innerHTML = '';\n",
              "          dataTable['output_type'] = 'display_data';\n",
              "          await google.colab.output.renderOutput(dataTable, element);\n",
              "          const docLink = document.createElement('div');\n",
              "          docLink.innerHTML = docLinkHtml;\n",
              "          element.appendChild(docLink);\n",
              "        }\n",
              "      </script>\n",
              "    </div>\n",
              "  </div>\n",
              "  "
            ]
          },
          "metadata": {},
          "execution_count": 3
        }
      ]
    },
    {
      "cell_type": "code",
      "source": [
        "df.info()"
      ],
      "metadata": {
        "colab": {
          "base_uri": "https://localhost:8080/"
        },
        "id": "A1ojDIr3GRtq",
        "outputId": "e08eb5f1-19e2-4440-f9af-c7f60d81fc0e"
      },
      "execution_count": null,
      "outputs": [
        {
          "output_type": "stream",
          "name": "stdout",
          "text": [
            "<class 'pandas.core.frame.DataFrame'>\n",
            "RangeIndex: 79800 entries, 0 to 79799\n",
            "Columns: 108 entries, X_0 to label\n",
            "dtypes: float64(93), int64(15)\n",
            "memory usage: 65.8 MB\n"
          ]
        }
      ]
    },
    {
      "cell_type": "code",
      "source": [
        "df.nunique()"
      ],
      "metadata": {
        "colab": {
          "base_uri": "https://localhost:8080/"
        },
        "id": "txCEJYbZGuPo",
        "outputId": "bd744deb-c581-48e0-cd8a-59f17a63b3fa"
      },
      "execution_count": null,
      "outputs": [
        {
          "output_type": "execute_result",
          "data": {
            "text/plain": [
              "X_0       1372\n",
              "X_1        137\n",
              "X_2        513\n",
              "X_3        135\n",
              "X_4       1841\n",
              "          ... \n",
              "X_103     1147\n",
              "X_104     4182\n",
              "offset     133\n",
              "id         600\n",
              "label        2\n",
              "Length: 108, dtype: int64"
            ]
          },
          "metadata": {},
          "execution_count": 5
        }
      ]
    },
    {
      "cell_type": "code",
      "source": [
        "df.describe(include=\"all\").T"
      ],
      "metadata": {
        "colab": {
          "base_uri": "https://localhost:8080/",
          "height": 424
        },
        "id": "Zd18YszmG2c9",
        "outputId": "e79239e1-6326-4361-a4e1-d8f0d298cc02"
      },
      "execution_count": null,
      "outputs": [
        {
          "output_type": "execute_result",
          "data": {
            "text/plain": [
              "          count        mean         std         min         25%        50%  \\\n",
              "X_0     79800.0    0.155129    3.047073   -6.000000   -1.289256    0.00000   \n",
              "X_1     79800.0   89.397506   20.258613    0.000000   75.000000   88.00000   \n",
              "X_2     79800.0   87.264355   19.951703    0.000000   72.750000   85.50000   \n",
              "X_3     79800.0   85.344023   19.978456    0.000000   71.000000   84.00000   \n",
              "X_4     79800.0    0.145070    1.102048   -2.000000   -0.228728    0.00000   \n",
              "...         ...         ...         ...         ...         ...        ...   \n",
              "X_103   79800.0    0.000516    0.100430   -2.241758   -0.029670    0.00000   \n",
              "X_104   79800.0    2.405792    2.542446    0.000000    1.068188    1.83275   \n",
              "offset  79800.0 -330.000000  191.964741 -660.000000 -495.000000 -330.00000   \n",
              "id      79800.0  300.500000  173.205925    1.000000  150.750000  300.50000   \n",
              "label   79800.0    0.500000    0.500003    0.000000    0.000000    0.50000   \n",
              "\n",
              "               75%         max  \n",
              "X_0       2.602498    4.000000  \n",
              "X_1     102.000000  177.000000  \n",
              "X_2      99.750000  177.000000  \n",
              "X_3      98.000000  177.000000  \n",
              "X_4       0.854563    2.000000  \n",
              "...            ...         ...  \n",
              "X_103     0.030769    2.209890  \n",
              "X_104     3.004270   50.647474  \n",
              "offset -165.000000    0.000000  \n",
              "id      450.250000  600.000000  \n",
              "label     1.000000    1.000000  \n",
              "\n",
              "[108 rows x 8 columns]"
            ],
            "text/html": [
              "\n",
              "  <div id=\"df-656aa0c2-ecc1-497b-9ac5-22707db22a82\">\n",
              "    <div class=\"colab-df-container\">\n",
              "      <div>\n",
              "<style scoped>\n",
              "    .dataframe tbody tr th:only-of-type {\n",
              "        vertical-align: middle;\n",
              "    }\n",
              "\n",
              "    .dataframe tbody tr th {\n",
              "        vertical-align: top;\n",
              "    }\n",
              "\n",
              "    .dataframe thead th {\n",
              "        text-align: right;\n",
              "    }\n",
              "</style>\n",
              "<table border=\"1\" class=\"dataframe\">\n",
              "  <thead>\n",
              "    <tr style=\"text-align: right;\">\n",
              "      <th></th>\n",
              "      <th>count</th>\n",
              "      <th>mean</th>\n",
              "      <th>std</th>\n",
              "      <th>min</th>\n",
              "      <th>25%</th>\n",
              "      <th>50%</th>\n",
              "      <th>75%</th>\n",
              "      <th>max</th>\n",
              "    </tr>\n",
              "  </thead>\n",
              "  <tbody>\n",
              "    <tr>\n",
              "      <th>X_0</th>\n",
              "      <td>79800.0</td>\n",
              "      <td>0.155129</td>\n",
              "      <td>3.047073</td>\n",
              "      <td>-6.000000</td>\n",
              "      <td>-1.289256</td>\n",
              "      <td>0.00000</td>\n",
              "      <td>2.602498</td>\n",
              "      <td>4.000000</td>\n",
              "    </tr>\n",
              "    <tr>\n",
              "      <th>X_1</th>\n",
              "      <td>79800.0</td>\n",
              "      <td>89.397506</td>\n",
              "      <td>20.258613</td>\n",
              "      <td>0.000000</td>\n",
              "      <td>75.000000</td>\n",
              "      <td>88.00000</td>\n",
              "      <td>102.000000</td>\n",
              "      <td>177.000000</td>\n",
              "    </tr>\n",
              "    <tr>\n",
              "      <th>X_2</th>\n",
              "      <td>79800.0</td>\n",
              "      <td>87.264355</td>\n",
              "      <td>19.951703</td>\n",
              "      <td>0.000000</td>\n",
              "      <td>72.750000</td>\n",
              "      <td>85.50000</td>\n",
              "      <td>99.750000</td>\n",
              "      <td>177.000000</td>\n",
              "    </tr>\n",
              "    <tr>\n",
              "      <th>X_3</th>\n",
              "      <td>79800.0</td>\n",
              "      <td>85.344023</td>\n",
              "      <td>19.978456</td>\n",
              "      <td>0.000000</td>\n",
              "      <td>71.000000</td>\n",
              "      <td>84.00000</td>\n",
              "      <td>98.000000</td>\n",
              "      <td>177.000000</td>\n",
              "    </tr>\n",
              "    <tr>\n",
              "      <th>X_4</th>\n",
              "      <td>79800.0</td>\n",
              "      <td>0.145070</td>\n",
              "      <td>1.102048</td>\n",
              "      <td>-2.000000</td>\n",
              "      <td>-0.228728</td>\n",
              "      <td>0.00000</td>\n",
              "      <td>0.854563</td>\n",
              "      <td>2.000000</td>\n",
              "    </tr>\n",
              "    <tr>\n",
              "      <th>...</th>\n",
              "      <td>...</td>\n",
              "      <td>...</td>\n",
              "      <td>...</td>\n",
              "      <td>...</td>\n",
              "      <td>...</td>\n",
              "      <td>...</td>\n",
              "      <td>...</td>\n",
              "      <td>...</td>\n",
              "    </tr>\n",
              "    <tr>\n",
              "      <th>X_103</th>\n",
              "      <td>79800.0</td>\n",
              "      <td>0.000516</td>\n",
              "      <td>0.100430</td>\n",
              "      <td>-2.241758</td>\n",
              "      <td>-0.029670</td>\n",
              "      <td>0.00000</td>\n",
              "      <td>0.030769</td>\n",
              "      <td>2.209890</td>\n",
              "    </tr>\n",
              "    <tr>\n",
              "      <th>X_104</th>\n",
              "      <td>79800.0</td>\n",
              "      <td>2.405792</td>\n",
              "      <td>2.542446</td>\n",
              "      <td>0.000000</td>\n",
              "      <td>1.068188</td>\n",
              "      <td>1.83275</td>\n",
              "      <td>3.004270</td>\n",
              "      <td>50.647474</td>\n",
              "    </tr>\n",
              "    <tr>\n",
              "      <th>offset</th>\n",
              "      <td>79800.0</td>\n",
              "      <td>-330.000000</td>\n",
              "      <td>191.964741</td>\n",
              "      <td>-660.000000</td>\n",
              "      <td>-495.000000</td>\n",
              "      <td>-330.00000</td>\n",
              "      <td>-165.000000</td>\n",
              "      <td>0.000000</td>\n",
              "    </tr>\n",
              "    <tr>\n",
              "      <th>id</th>\n",
              "      <td>79800.0</td>\n",
              "      <td>300.500000</td>\n",
              "      <td>173.205925</td>\n",
              "      <td>1.000000</td>\n",
              "      <td>150.750000</td>\n",
              "      <td>300.50000</td>\n",
              "      <td>450.250000</td>\n",
              "      <td>600.000000</td>\n",
              "    </tr>\n",
              "    <tr>\n",
              "      <th>label</th>\n",
              "      <td>79800.0</td>\n",
              "      <td>0.500000</td>\n",
              "      <td>0.500003</td>\n",
              "      <td>0.000000</td>\n",
              "      <td>0.000000</td>\n",
              "      <td>0.50000</td>\n",
              "      <td>1.000000</td>\n",
              "      <td>1.000000</td>\n",
              "    </tr>\n",
              "  </tbody>\n",
              "</table>\n",
              "<p>108 rows × 8 columns</p>\n",
              "</div>\n",
              "      <button class=\"colab-df-convert\" onclick=\"convertToInteractive('df-656aa0c2-ecc1-497b-9ac5-22707db22a82')\"\n",
              "              title=\"Convert this dataframe to an interactive table.\"\n",
              "              style=\"display:none;\">\n",
              "        \n",
              "  <svg xmlns=\"http://www.w3.org/2000/svg\" height=\"24px\"viewBox=\"0 0 24 24\"\n",
              "       width=\"24px\">\n",
              "    <path d=\"M0 0h24v24H0V0z\" fill=\"none\"/>\n",
              "    <path d=\"M18.56 5.44l.94 2.06.94-2.06 2.06-.94-2.06-.94-.94-2.06-.94 2.06-2.06.94zm-11 1L8.5 8.5l.94-2.06 2.06-.94-2.06-.94L8.5 2.5l-.94 2.06-2.06.94zm10 10l.94 2.06.94-2.06 2.06-.94-2.06-.94-.94-2.06-.94 2.06-2.06.94z\"/><path d=\"M17.41 7.96l-1.37-1.37c-.4-.4-.92-.59-1.43-.59-.52 0-1.04.2-1.43.59L10.3 9.45l-7.72 7.72c-.78.78-.78 2.05 0 2.83L4 21.41c.39.39.9.59 1.41.59.51 0 1.02-.2 1.41-.59l7.78-7.78 2.81-2.81c.8-.78.8-2.07 0-2.86zM5.41 20L4 18.59l7.72-7.72 1.47 1.35L5.41 20z\"/>\n",
              "  </svg>\n",
              "      </button>\n",
              "      \n",
              "  <style>\n",
              "    .colab-df-container {\n",
              "      display:flex;\n",
              "      flex-wrap:wrap;\n",
              "      gap: 12px;\n",
              "    }\n",
              "\n",
              "    .colab-df-convert {\n",
              "      background-color: #E8F0FE;\n",
              "      border: none;\n",
              "      border-radius: 50%;\n",
              "      cursor: pointer;\n",
              "      display: none;\n",
              "      fill: #1967D2;\n",
              "      height: 32px;\n",
              "      padding: 0 0 0 0;\n",
              "      width: 32px;\n",
              "    }\n",
              "\n",
              "    .colab-df-convert:hover {\n",
              "      background-color: #E2EBFA;\n",
              "      box-shadow: 0px 1px 2px rgba(60, 64, 67, 0.3), 0px 1px 3px 1px rgba(60, 64, 67, 0.15);\n",
              "      fill: #174EA6;\n",
              "    }\n",
              "\n",
              "    [theme=dark] .colab-df-convert {\n",
              "      background-color: #3B4455;\n",
              "      fill: #D2E3FC;\n",
              "    }\n",
              "\n",
              "    [theme=dark] .colab-df-convert:hover {\n",
              "      background-color: #434B5C;\n",
              "      box-shadow: 0px 1px 3px 1px rgba(0, 0, 0, 0.15);\n",
              "      filter: drop-shadow(0px 1px 2px rgba(0, 0, 0, 0.3));\n",
              "      fill: #FFFFFF;\n",
              "    }\n",
              "  </style>\n",
              "\n",
              "      <script>\n",
              "        const buttonEl =\n",
              "          document.querySelector('#df-656aa0c2-ecc1-497b-9ac5-22707db22a82 button.colab-df-convert');\n",
              "        buttonEl.style.display =\n",
              "          google.colab.kernel.accessAllowed ? 'block' : 'none';\n",
              "\n",
              "        async function convertToInteractive(key) {\n",
              "          const element = document.querySelector('#df-656aa0c2-ecc1-497b-9ac5-22707db22a82');\n",
              "          const dataTable =\n",
              "            await google.colab.kernel.invokeFunction('convertToInteractive',\n",
              "                                                     [key], {});\n",
              "          if (!dataTable) return;\n",
              "\n",
              "          const docLinkHtml = 'Like what you see? Visit the ' +\n",
              "            '<a target=\"_blank\" href=https://colab.research.google.com/notebooks/data_table.ipynb>data table notebook</a>'\n",
              "            + ' to learn more about interactive tables.';\n",
              "          element.innerHTML = '';\n",
              "          dataTable['output_type'] = 'display_data';\n",
              "          await google.colab.output.renderOutput(dataTable, element);\n",
              "          const docLink = document.createElement('div');\n",
              "          docLink.innerHTML = docLinkHtml;\n",
              "          element.appendChild(docLink);\n",
              "        }\n",
              "      </script>\n",
              "    </div>\n",
              "  </div>\n",
              "  "
            ]
          },
          "metadata": {},
          "execution_count": 6
        }
      ]
    },
    {
      "cell_type": "code",
      "source": [
        "df[\"label\"].value_counts()"
      ],
      "metadata": {
        "colab": {
          "base_uri": "https://localhost:8080/"
        },
        "id": "uxYagwm7G_2v",
        "outputId": "99434737-cd30-42f0-ca47-831c77511864"
      },
      "execution_count": null,
      "outputs": [
        {
          "output_type": "execute_result",
          "data": {
            "text/plain": [
              "1    39900\n",
              "0    39900\n",
              "Name: label, dtype: int64"
            ]
          },
          "metadata": {},
          "execution_count": 7
        }
      ]
    },
    {
      "cell_type": "code",
      "source": [
        "# Create (X_train, y_train), (X_test, y_test)\n",
        "\n",
        "as_np = df.to_numpy()\n",
        "\n",
        "index = int(len(as_np) * .80)\n",
        "\n",
        "X_train, y_train = as_np[:index, :-1], as_np[:index, -1]\n",
        "X_test, y_test = as_np[index:, :-1], as_np[index:, -1]\n",
        "\n",
        "(X_train.shape, y_train.shape), (X_test.shape, y_test.shape)"
      ],
      "metadata": {
        "id": "a9nH6yTpHK6s",
        "colab": {
          "base_uri": "https://localhost:8080/"
        },
        "outputId": "5d1e75b5-5359-4be8-925f-436fd387d543"
      },
      "execution_count": null,
      "outputs": [
        {
          "output_type": "execute_result",
          "data": {
            "text/plain": [
              "(((63840, 107), (63840,)), ((15960, 107), (15960,)))"
            ]
          },
          "metadata": {},
          "execution_count": 8
        }
      ]
    },
    {
      "cell_type": "code",
      "source": [
        "df1 = df.loc[df['offset'] == 0]"
      ],
      "metadata": {
        "id": "7N9rVOEAvHZX"
      },
      "execution_count": null,
      "outputs": []
    },
    {
      "cell_type": "code",
      "source": [
        "df1.head()"
      ],
      "metadata": {
        "colab": {
          "base_uri": "https://localhost:8080/",
          "height": 300
        },
        "id": "6RNyRoT92YUk",
        "outputId": "1b0fc81b-8ca1-4071-aecb-9b621e94596d"
      },
      "execution_count": null,
      "outputs": [
        {
          "output_type": "execute_result",
          "data": {
            "text/plain": [
              "          X_0  X_1     X_2  X_3       X_4   X_5       X_6       X_7  X_8  \\\n",
              "132 -1.200000  127  125.50  124  0.000000  0.20  1.290994 -0.056816  127   \n",
              "265  4.000000   86   85.25   85  2.000000 -0.02  0.500000 -1.317901   90   \n",
              "398  4.000000  106  105.25  105  2.000000  0.02  0.500000  3.000000  106   \n",
              "531 -3.109816  105   98.75   94  0.456508 -0.14  5.188127 -0.077303  105   \n",
              "664  0.000000   77   77.00   77  0.000000  0.00  0.000000  7.000000   77   \n",
              "\n",
              "            X_9  ...      X_98  X_99      X_100  X_101     X_102     X_103  \\\n",
              "132  124.857143  ...  1.772306    19  16.923077     16  1.085143  0.028571   \n",
              "265   86.857143  ... -0.707671    20  15.846154     13  0.634795 -0.054945   \n",
              "398  105.000000  ...  0.060937    32  30.307692     28 -0.722135  0.012088   \n",
              "531   96.285714  ... -1.039498    21  16.615385     14  0.449215  0.078022   \n",
              "664   76.857143  ...  1.798440    23  16.076923     11  0.845429 -0.015385   \n",
              "\n",
              "        X_104  offset  id  label  \n",
              "132  0.862316       0   1      1  \n",
              "265  2.409915       0   2      1  \n",
              "398  1.109400       0   3      1  \n",
              "531  2.433737       0   4      1  \n",
              "664  2.985005       0   5      1  \n",
              "\n",
              "[5 rows x 108 columns]"
            ],
            "text/html": [
              "\n",
              "  <div id=\"df-659d489e-9144-4685-aa2f-872fe1cc523d\">\n",
              "    <div class=\"colab-df-container\">\n",
              "      <div>\n",
              "<style scoped>\n",
              "    .dataframe tbody tr th:only-of-type {\n",
              "        vertical-align: middle;\n",
              "    }\n",
              "\n",
              "    .dataframe tbody tr th {\n",
              "        vertical-align: top;\n",
              "    }\n",
              "\n",
              "    .dataframe thead th {\n",
              "        text-align: right;\n",
              "    }\n",
              "</style>\n",
              "<table border=\"1\" class=\"dataframe\">\n",
              "  <thead>\n",
              "    <tr style=\"text-align: right;\">\n",
              "      <th></th>\n",
              "      <th>X_0</th>\n",
              "      <th>X_1</th>\n",
              "      <th>X_2</th>\n",
              "      <th>X_3</th>\n",
              "      <th>X_4</th>\n",
              "      <th>X_5</th>\n",
              "      <th>X_6</th>\n",
              "      <th>X_7</th>\n",
              "      <th>X_8</th>\n",
              "      <th>X_9</th>\n",
              "      <th>...</th>\n",
              "      <th>X_98</th>\n",
              "      <th>X_99</th>\n",
              "      <th>X_100</th>\n",
              "      <th>X_101</th>\n",
              "      <th>X_102</th>\n",
              "      <th>X_103</th>\n",
              "      <th>X_104</th>\n",
              "      <th>offset</th>\n",
              "      <th>id</th>\n",
              "      <th>label</th>\n",
              "    </tr>\n",
              "  </thead>\n",
              "  <tbody>\n",
              "    <tr>\n",
              "      <th>132</th>\n",
              "      <td>-1.200000</td>\n",
              "      <td>127</td>\n",
              "      <td>125.50</td>\n",
              "      <td>124</td>\n",
              "      <td>0.000000</td>\n",
              "      <td>0.20</td>\n",
              "      <td>1.290994</td>\n",
              "      <td>-0.056816</td>\n",
              "      <td>127</td>\n",
              "      <td>124.857143</td>\n",
              "      <td>...</td>\n",
              "      <td>1.772306</td>\n",
              "      <td>19</td>\n",
              "      <td>16.923077</td>\n",
              "      <td>16</td>\n",
              "      <td>1.085143</td>\n",
              "      <td>0.028571</td>\n",
              "      <td>0.862316</td>\n",
              "      <td>0</td>\n",
              "      <td>1</td>\n",
              "      <td>1</td>\n",
              "    </tr>\n",
              "    <tr>\n",
              "      <th>265</th>\n",
              "      <td>4.000000</td>\n",
              "      <td>86</td>\n",
              "      <td>85.25</td>\n",
              "      <td>85</td>\n",
              "      <td>2.000000</td>\n",
              "      <td>-0.02</td>\n",
              "      <td>0.500000</td>\n",
              "      <td>-1.317901</td>\n",
              "      <td>90</td>\n",
              "      <td>86.857143</td>\n",
              "      <td>...</td>\n",
              "      <td>-0.707671</td>\n",
              "      <td>20</td>\n",
              "      <td>15.846154</td>\n",
              "      <td>13</td>\n",
              "      <td>0.634795</td>\n",
              "      <td>-0.054945</td>\n",
              "      <td>2.409915</td>\n",
              "      <td>0</td>\n",
              "      <td>2</td>\n",
              "      <td>1</td>\n",
              "    </tr>\n",
              "    <tr>\n",
              "      <th>398</th>\n",
              "      <td>4.000000</td>\n",
              "      <td>106</td>\n",
              "      <td>105.25</td>\n",
              "      <td>105</td>\n",
              "      <td>2.000000</td>\n",
              "      <td>0.02</td>\n",
              "      <td>0.500000</td>\n",
              "      <td>3.000000</td>\n",
              "      <td>106</td>\n",
              "      <td>105.000000</td>\n",
              "      <td>...</td>\n",
              "      <td>0.060937</td>\n",
              "      <td>32</td>\n",
              "      <td>30.307692</td>\n",
              "      <td>28</td>\n",
              "      <td>-0.722135</td>\n",
              "      <td>0.012088</td>\n",
              "      <td>1.109400</td>\n",
              "      <td>0</td>\n",
              "      <td>3</td>\n",
              "      <td>1</td>\n",
              "    </tr>\n",
              "    <tr>\n",
              "      <th>531</th>\n",
              "      <td>-3.109816</td>\n",
              "      <td>105</td>\n",
              "      <td>98.75</td>\n",
              "      <td>94</td>\n",
              "      <td>0.456508</td>\n",
              "      <td>-0.14</td>\n",
              "      <td>5.188127</td>\n",
              "      <td>-0.077303</td>\n",
              "      <td>105</td>\n",
              "      <td>96.285714</td>\n",
              "      <td>...</td>\n",
              "      <td>-1.039498</td>\n",
              "      <td>21</td>\n",
              "      <td>16.615385</td>\n",
              "      <td>14</td>\n",
              "      <td>0.449215</td>\n",
              "      <td>0.078022</td>\n",
              "      <td>2.433737</td>\n",
              "      <td>0</td>\n",
              "      <td>4</td>\n",
              "      <td>1</td>\n",
              "    </tr>\n",
              "    <tr>\n",
              "      <th>664</th>\n",
              "      <td>0.000000</td>\n",
              "      <td>77</td>\n",
              "      <td>77.00</td>\n",
              "      <td>77</td>\n",
              "      <td>0.000000</td>\n",
              "      <td>0.00</td>\n",
              "      <td>0.000000</td>\n",
              "      <td>7.000000</td>\n",
              "      <td>77</td>\n",
              "      <td>76.857143</td>\n",
              "      <td>...</td>\n",
              "      <td>1.798440</td>\n",
              "      <td>23</td>\n",
              "      <td>16.076923</td>\n",
              "      <td>11</td>\n",
              "      <td>0.845429</td>\n",
              "      <td>-0.015385</td>\n",
              "      <td>2.985005</td>\n",
              "      <td>0</td>\n",
              "      <td>5</td>\n",
              "      <td>1</td>\n",
              "    </tr>\n",
              "  </tbody>\n",
              "</table>\n",
              "<p>5 rows × 108 columns</p>\n",
              "</div>\n",
              "      <button class=\"colab-df-convert\" onclick=\"convertToInteractive('df-659d489e-9144-4685-aa2f-872fe1cc523d')\"\n",
              "              title=\"Convert this dataframe to an interactive table.\"\n",
              "              style=\"display:none;\">\n",
              "        \n",
              "  <svg xmlns=\"http://www.w3.org/2000/svg\" height=\"24px\"viewBox=\"0 0 24 24\"\n",
              "       width=\"24px\">\n",
              "    <path d=\"M0 0h24v24H0V0z\" fill=\"none\"/>\n",
              "    <path d=\"M18.56 5.44l.94 2.06.94-2.06 2.06-.94-2.06-.94-.94-2.06-.94 2.06-2.06.94zm-11 1L8.5 8.5l.94-2.06 2.06-.94-2.06-.94L8.5 2.5l-.94 2.06-2.06.94zm10 10l.94 2.06.94-2.06 2.06-.94-2.06-.94-.94-2.06-.94 2.06-2.06.94z\"/><path d=\"M17.41 7.96l-1.37-1.37c-.4-.4-.92-.59-1.43-.59-.52 0-1.04.2-1.43.59L10.3 9.45l-7.72 7.72c-.78.78-.78 2.05 0 2.83L4 21.41c.39.39.9.59 1.41.59.51 0 1.02-.2 1.41-.59l7.78-7.78 2.81-2.81c.8-.78.8-2.07 0-2.86zM5.41 20L4 18.59l7.72-7.72 1.47 1.35L5.41 20z\"/>\n",
              "  </svg>\n",
              "      </button>\n",
              "      \n",
              "  <style>\n",
              "    .colab-df-container {\n",
              "      display:flex;\n",
              "      flex-wrap:wrap;\n",
              "      gap: 12px;\n",
              "    }\n",
              "\n",
              "    .colab-df-convert {\n",
              "      background-color: #E8F0FE;\n",
              "      border: none;\n",
              "      border-radius: 50%;\n",
              "      cursor: pointer;\n",
              "      display: none;\n",
              "      fill: #1967D2;\n",
              "      height: 32px;\n",
              "      padding: 0 0 0 0;\n",
              "      width: 32px;\n",
              "    }\n",
              "\n",
              "    .colab-df-convert:hover {\n",
              "      background-color: #E2EBFA;\n",
              "      box-shadow: 0px 1px 2px rgba(60, 64, 67, 0.3), 0px 1px 3px 1px rgba(60, 64, 67, 0.15);\n",
              "      fill: #174EA6;\n",
              "    }\n",
              "\n",
              "    [theme=dark] .colab-df-convert {\n",
              "      background-color: #3B4455;\n",
              "      fill: #D2E3FC;\n",
              "    }\n",
              "\n",
              "    [theme=dark] .colab-df-convert:hover {\n",
              "      background-color: #434B5C;\n",
              "      box-shadow: 0px 1px 3px 1px rgba(0, 0, 0, 0.15);\n",
              "      filter: drop-shadow(0px 1px 2px rgba(0, 0, 0, 0.3));\n",
              "      fill: #FFFFFF;\n",
              "    }\n",
              "  </style>\n",
              "\n",
              "      <script>\n",
              "        const buttonEl =\n",
              "          document.querySelector('#df-659d489e-9144-4685-aa2f-872fe1cc523d button.colab-df-convert');\n",
              "        buttonEl.style.display =\n",
              "          google.colab.kernel.accessAllowed ? 'block' : 'none';\n",
              "\n",
              "        async function convertToInteractive(key) {\n",
              "          const element = document.querySelector('#df-659d489e-9144-4685-aa2f-872fe1cc523d');\n",
              "          const dataTable =\n",
              "            await google.colab.kernel.invokeFunction('convertToInteractive',\n",
              "                                                     [key], {});\n",
              "          if (!dataTable) return;\n",
              "\n",
              "          const docLinkHtml = 'Like what you see? Visit the ' +\n",
              "            '<a target=\"_blank\" href=https://colab.research.google.com/notebooks/data_table.ipynb>data table notebook</a>'\n",
              "            + ' to learn more about interactive tables.';\n",
              "          element.innerHTML = '';\n",
              "          dataTable['output_type'] = 'display_data';\n",
              "          await google.colab.output.renderOutput(dataTable, element);\n",
              "          const docLink = document.createElement('div');\n",
              "          docLink.innerHTML = docLinkHtml;\n",
              "          element.appendChild(docLink);\n",
              "        }\n",
              "      </script>\n",
              "    </div>\n",
              "  </div>\n",
              "  "
            ]
          },
          "metadata": {},
          "execution_count": 10
        }
      ]
    },
    {
      "cell_type": "code",
      "source": [
        "df1.info()"
      ],
      "metadata": {
        "colab": {
          "base_uri": "https://localhost:8080/"
        },
        "id": "zsTElW4F7QHt",
        "outputId": "b17235b3-df4e-4431-a6b8-00d44cea1da3"
      },
      "execution_count": null,
      "outputs": [
        {
          "output_type": "stream",
          "name": "stdout",
          "text": [
            "<class 'pandas.core.frame.DataFrame'>\n",
            "Int64Index: 600 entries, 132 to 79799\n",
            "Columns: 108 entries, X_0 to label\n",
            "dtypes: float64(93), int64(15)\n",
            "memory usage: 510.9 KB\n"
          ]
        }
      ]
    },
    {
      "cell_type": "code",
      "source": [
        "X_train, X_test, y_train, y_test = train_test_split(df1.drop(\"label\", axis=1), df1[\"label\"], test_size=0.2, random_state=42)"
      ],
      "metadata": {
        "id": "O3C0Iovz77l5"
      },
      "execution_count": null,
      "outputs": []
    },
    {
      "cell_type": "markdown",
      "source": [
        "**Logestic Regression**"
      ],
      "metadata": {
        "id": "iYbPAAbNhFpP"
      }
    },
    {
      "cell_type": "code",
      "source": [
        "model = LogisticRegression().fit(X_train, y_train)\n",
        "test_predictions = model.predict(X_test)\n",
        "test_predictions"
      ],
      "metadata": {
        "colab": {
          "base_uri": "https://localhost:8080/"
        },
        "id": "3jTRF86hQDbR",
        "outputId": "334c9861-d4e6-4c7a-9afe-2964b29a1534"
      },
      "execution_count": null,
      "outputs": [
        {
          "output_type": "stream",
          "name": "stderr",
          "text": [
            "/usr/local/lib/python3.7/dist-packages/sklearn/linear_model/_logistic.py:818: ConvergenceWarning: lbfgs failed to converge (status=1):\n",
            "STOP: TOTAL NO. of ITERATIONS REACHED LIMIT.\n",
            "\n",
            "Increase the number of iterations (max_iter) or scale the data as shown in:\n",
            "    https://scikit-learn.org/stable/modules/preprocessing.html\n",
            "Please also refer to the documentation for alternative solver options:\n",
            "    https://scikit-learn.org/stable/modules/linear_model.html#logistic-regression\n",
            "  extra_warning_msg=_LOGISTIC_SOLVER_CONVERGENCE_MSG,\n"
          ]
        },
        {
          "output_type": "execute_result",
          "data": {
            "text/plain": [
              "array([1, 0, 0, 1, 1, 1, 1, 0, 1, 0, 1, 1, 1, 0, 0, 1, 1, 1, 1, 1, 1, 0,\n",
              "       0, 0, 0, 0, 1, 1, 0, 0, 0, 1, 1, 1, 1, 0, 1, 0, 0, 1, 0, 1, 0, 0,\n",
              "       1, 1, 0, 1, 1, 0, 1, 1, 1, 0, 0, 0, 1, 1, 1, 1, 1, 1, 1, 0, 0, 1,\n",
              "       0, 0, 1, 0, 0, 1, 0, 0, 0, 0, 0, 1, 0, 0, 1, 0, 0, 0, 1, 1, 1, 1,\n",
              "       0, 1, 1, 0, 1, 0, 1, 0, 1, 1, 0, 1, 1, 1, 0, 0, 1, 0, 1, 1, 1, 0,\n",
              "       1, 0, 0, 0, 0, 0, 0, 1, 0, 0])"
            ]
          },
          "metadata": {},
          "execution_count": 13
        }
      ]
    },
    {
      "cell_type": "code",
      "source": [
        "# Display Confusion Matrix\n",
        "\n",
        "from sklearn.metrics import confusion_matrix, ConfusionMatrixDisplay\n",
        "\n",
        "cm = confusion_matrix(y_test, test_predictions, labels=[0, 1])\n",
        "disp = ConfusionMatrixDisplay(confusion_matrix=cm,\n",
        "                              display_labels=['Non Sepsis', 'Sepsis'])\n",
        "disp.plot()"
      ],
      "metadata": {
        "colab": {
          "base_uri": "https://localhost:8080/",
          "height": 296
        },
        "id": "6wRii27ceenP",
        "outputId": "a5262048-14a3-4642-86e9-90434bb104ab"
      },
      "execution_count": null,
      "outputs": [
        {
          "output_type": "execute_result",
          "data": {
            "text/plain": [
              "<sklearn.metrics._plot.confusion_matrix.ConfusionMatrixDisplay at 0x7f963f0b2250>"
            ]
          },
          "metadata": {},
          "execution_count": 36
        },
        {
          "output_type": "display_data",
          "data": {
            "text/plain": [
              "<Figure size 432x288 with 2 Axes>"
            ],
            "image/png": "[encoded data removed]"
          },
          "metadata": {
            "needs_background": "light"
          }
        }
      ]
    },
    {
      "cell_type": "code",
      "source": [
        "# Get TNs, FPs, FNs, TPs\n",
        "\n",
        "tn, fp, fn, tp = cm.ravel()\n",
        "\n",
        "s = \"\"\"\n",
        "True Negatives: {0}\n",
        "False Positives: {1}\n",
        "False Negatives: {2}\n",
        "True Positives: {3}\n",
        "\"\"\".format(tn, fp, fn, tp)\n",
        "\n",
        "print(s)"
      ],
      "metadata": {
        "colab": {
          "base_uri": "https://localhost:8080/"
        },
        "id": "enwSu5Jnf9cT",
        "outputId": "eaebcc79-192b-4347-d8bd-48db8b13266b"
      },
      "execution_count": null,
      "outputs": [
        {
          "output_type": "stream",
          "name": "stdout",
          "text": [
            "\n",
            "True Negatives: 57\n",
            "False Positives: 1\n",
            "False Negatives: 0\n",
            "True Positives: 62\n",
            "\n"
          ]
        }
      ]
    },
    {
      "cell_type": "markdown",
      "source": [
        "**Accuracy**"
      ],
      "metadata": {
        "id": "mxkbiDUigDZY"
      }
    },
    {
      "cell_type": "code",
      "source": [
        "def accuracy(tn, fp, fn, tp):\n",
        "  return (tp + tn) / (tp + tn + fp + fn)\n",
        "\n",
        "\"Accuracy: {0}\".format(accuracy(tn, fp, fn, tp))"
      ],
      "metadata": {
        "colab": {
          "base_uri": "https://localhost:8080/",
          "height": 35
        },
        "id": "oSZ4EEuVgGLH",
        "outputId": "391eafee-67e1-4432-9caa-bce9fa28bff2"
      },
      "execution_count": null,
      "outputs": [
        {
          "output_type": "execute_result",
          "data": {
            "text/plain": [
              "'Accuracy: 0.9916666666666667'"
            ],
            "application/vnd.google.colaboratory.intrinsic+json": {
              "type": "string"
            }
          },
          "metadata": {},
          "execution_count": 38
        }
      ]
    },
    {
      "cell_type": "markdown",
      "source": [
        "**Sensitivity**"
      ],
      "metadata": {
        "id": "-TeRCsRygMuP"
      }
    },
    {
      "cell_type": "code",
      "source": [
        "def tpr(tn, fp, fn, tp):\n",
        "  return tp / (tp + fn)\n",
        "\n",
        "\"True Positive Rate: {0}\".format(tpr(tn, fp, fn, tp))"
      ],
      "metadata": {
        "colab": {
          "base_uri": "https://localhost:8080/",
          "height": 35
        },
        "id": "JpcijCCHgSXU",
        "outputId": "ea5bc735-cc25-452a-8fd0-8f0b2c3c6a4d"
      },
      "execution_count": null,
      "outputs": [
        {
          "output_type": "execute_result",
          "data": {
            "text/plain": [
              "'True Positive Rate: 1.0'"
            ],
            "application/vnd.google.colaboratory.intrinsic+json": {
              "type": "string"
            }
          },
          "metadata": {},
          "execution_count": 39
        }
      ]
    },
    {
      "cell_type": "markdown",
      "source": [
        "**False Negative Rate**"
      ],
      "metadata": {
        "id": "KfvPt9VnixBz"
      }
    },
    {
      "cell_type": "code",
      "source": [
        "def fnr(tn, fp, fn, tp):\n",
        "  return fn / (tp + fn)\n",
        "\n",
        "\"False Negative Rate: {0}\".format(fnr(tn, fp, fn, tp))"
      ],
      "metadata": {
        "colab": {
          "base_uri": "https://localhost:8080/",
          "height": 35
        },
        "id": "cbvT9jI5ivhP",
        "outputId": "be38ae81-4ce7-41ed-b586-c48800fb46b5"
      },
      "execution_count": null,
      "outputs": [
        {
          "output_type": "execute_result",
          "data": {
            "text/plain": [
              "'False Negative Rate: 0.0'"
            ],
            "application/vnd.google.colaboratory.intrinsic+json": {
              "type": "string"
            }
          },
          "metadata": {},
          "execution_count": 40
        }
      ]
    },
    {
      "cell_type": "markdown",
      "source": [
        "**Specificity**"
      ],
      "metadata": {
        "id": "a-XJ41rkgbV4"
      }
    },
    {
      "cell_type": "code",
      "source": [
        "def tnr(tn, fp, fn, tp):\n",
        "  return tn / (tn + fp)\n",
        "\n",
        "\"Specificity: {0}\".format(tnr(tn, fp, fn, tp))"
      ],
      "metadata": {
        "colab": {
          "base_uri": "https://localhost:8080/",
          "height": 35
        },
        "id": "mw7NTj7egfzt",
        "outputId": "01818f25-91d5-4ff8-f1e7-cb16e3b38596"
      },
      "execution_count": null,
      "outputs": [
        {
          "output_type": "execute_result",
          "data": {
            "text/plain": [
              "'Specificity: 0.9827586206896551'"
            ],
            "application/vnd.google.colaboratory.intrinsic+json": {
              "type": "string"
            }
          },
          "metadata": {},
          "execution_count": 41
        }
      ]
    },
    {
      "cell_type": "markdown",
      "source": [
        "**False Positive Rate**"
      ],
      "metadata": {
        "id": "PL_93X_kjAwl"
      }
    },
    {
      "cell_type": "code",
      "source": [
        "def fpr(tn, fp, fn, tp):\n",
        "  return fp / (tn + fp)\n",
        "\n",
        "\"False Positive Rate: {0}\".format(fpr(tn, fp, fn, tp))"
      ],
      "metadata": {
        "colab": {
          "base_uri": "https://localhost:8080/",
          "height": 35
        },
        "id": "5WeLeipQjEKg",
        "outputId": "1566d2f3-5bc9-429d-872f-1ef293abfd6d"
      },
      "execution_count": null,
      "outputs": [
        {
          "output_type": "execute_result",
          "data": {
            "text/plain": [
              "'False Positive Rate: 0.017241379310344827'"
            ],
            "application/vnd.google.colaboratory.intrinsic+json": {
              "type": "string"
            }
          },
          "metadata": {},
          "execution_count": 42
        }
      ]
    },
    {
      "cell_type": "markdown",
      "source": [
        "**Negative Predictive Value**"
      ],
      "metadata": {
        "id": "A6ruj3ScjPBv"
      }
    },
    {
      "cell_type": "code",
      "source": [
        "def npv(tn, fp, fn, tp):\n",
        "  return tn / (tn + fn)\n",
        "\n",
        "\"Negative Predictive Value: {0}\".format(npv(tn, fp, fn, tp))"
      ],
      "metadata": {
        "colab": {
          "base_uri": "https://localhost:8080/",
          "height": 35
        },
        "id": "mYiMWMvyjSdA",
        "outputId": "a642913e-8b4f-430a-840b-bca6782577fd"
      },
      "execution_count": null,
      "outputs": [
        {
          "output_type": "execute_result",
          "data": {
            "text/plain": [
              "'Negative Predictive Value: 1.0'"
            ],
            "application/vnd.google.colaboratory.intrinsic+json": {
              "type": "string"
            }
          },
          "metadata": {},
          "execution_count": 43
        }
      ]
    },
    {
      "cell_type": "markdown",
      "source": [
        "**Precision**"
      ],
      "metadata": {
        "id": "hNSsyvAMg1C6"
      }
    },
    {
      "cell_type": "code",
      "source": [
        "def ppv(tn, fp, fn, tp):\n",
        "  return tp / (tp + fp)\n",
        "\n",
        "\"Positive Predictive Value: {0}\".format(ppv(tn, fp, fn, tp))"
      ],
      "metadata": {
        "colab": {
          "base_uri": "https://localhost:8080/",
          "height": 35
        },
        "id": "1kOif6N1g6vL",
        "outputId": "1b638b10-6bb4-450a-df3d-68f4ef98847d"
      },
      "execution_count": null,
      "outputs": [
        {
          "output_type": "execute_result",
          "data": {
            "text/plain": [
              "'Positive Predictive Value: 0.9841269841269841'"
            ],
            "application/vnd.google.colaboratory.intrinsic+json": {
              "type": "string"
            }
          },
          "metadata": {},
          "execution_count": 44
        }
      ]
    },
    {
      "cell_type": "markdown",
      "source": [
        "**Balanced Accuracy**"
      ],
      "metadata": {
        "id": "scwKY8UfhDm2"
      }
    },
    {
      "cell_type": "code",
      "source": [
        "def balanced_accuracy(tn, fp, fn, tp):\n",
        "  tprr = tpr(tn, fp, fn, tp)\n",
        "  tnrr = tnr(tn, fp, fn, tp)\n",
        "  return (tprr + tnrr) / 2\n",
        "\n",
        "\"Balanced Accuracy: {0}\".format(balanced_accuracy(tn, fp, fn, tp))"
      ],
      "metadata": {
        "colab": {
          "base_uri": "https://localhost:8080/",
          "height": 35
        },
        "id": "G7RJ9ZruhG6H",
        "outputId": "7277719b-cb6a-419d-85a3-630a23e6e5f3"
      },
      "execution_count": null,
      "outputs": [
        {
          "output_type": "execute_result",
          "data": {
            "text/plain": [
              "'Balanced Accuracy: 0.9913793103448276'"
            ],
            "application/vnd.google.colaboratory.intrinsic+json": {
              "type": "string"
            }
          },
          "metadata": {},
          "execution_count": 45
        }
      ]
    },
    {
      "cell_type": "markdown",
      "source": [
        "**F1**"
      ],
      "metadata": {
        "id": "_Ii9QOyzhN5c"
      }
    },
    {
      "cell_type": "code",
      "source": [
        "def f1(tn, fp, fn, tp):\n",
        "  p = ppv(tn, fp, fn, tp)\n",
        "  r = tpr(tn, fp, fn, tp)\n",
        "  \n",
        "  return (2*p*r) / (p + r)\n",
        "\n",
        "\"F1 Score: {0}\".format(f1(tn, fp, fn, tp))"
      ],
      "metadata": {
        "colab": {
          "base_uri": "https://localhost:8080/",
          "height": 35
        },
        "id": "5kcBbEmjhPXl",
        "outputId": "e08d03fb-4e1f-4a2d-ef55-6aaae9be00e8"
      },
      "execution_count": null,
      "outputs": [
        {
          "output_type": "execute_result",
          "data": {
            "text/plain": [
              "'F1 Score: 0.9919999999999999'"
            ],
            "application/vnd.google.colaboratory.intrinsic+json": {
              "type": "string"
            }
          },
          "metadata": {},
          "execution_count": 46
        }
      ]
    },
    {
      "cell_type": "code",
      "source": [
        "# Get prediction probabilities\n",
        "\n",
        "probabilities = model.predict_proba(X_test)[:, 1]\n",
        "\n",
        "probabilities"
      ],
      "metadata": {
        "colab": {
          "base_uri": "https://localhost:8080/"
        },
        "id": "YHHRLW0Uh5dH",
        "outputId": "5bf81e5e-675c-4521-b7f3-6850da127169"
      },
      "execution_count": null,
      "outputs": [
        {
          "output_type": "execute_result",
          "data": {
            "text/plain": [
              "array([1. , 0. , 0. , 1. , 1. , 0.6, 1. , 0. , 1. , 0. , 1. , 1. , 1. ,\n",
              "       0. , 0. , 1. , 1. , 1. , 1. , 1. , 1. , 0. , 0. , 0. , 0. , 0. ,\n",
              "       1. , 1. , 0. , 0. , 0. , 1. , 1. , 1. , 1. , 0. , 1. , 0. , 0. ,\n",
              "       0.8, 0. , 1. , 0. , 0. , 1. , 1. , 0. , 1. , 1. , 0. , 1. , 1. ,\n",
              "       1. , 0. , 0. , 0. , 1. , 1. , 1. , 1. , 1. , 1. , 0.2, 0. , 0. ,\n",
              "       1. , 0. , 0. , 1. , 0.4, 0.2, 1. , 0. , 0. , 0. , 0. , 0.2, 1. ,\n",
              "       0. , 0. , 1. , 0. , 0. , 0. , 1. , 1. , 1. , 1. , 0. , 1. , 1. ,\n",
              "       0. , 1. , 0.6, 1. , 1. , 1. , 1. , 0. , 1. , 1. , 1. , 0. , 0. ,\n",
              "       1. , 0. , 1. , 0.8, 1. , 0. , 1. , 0. , 0. , 0. , 0. , 0. , 0. ,\n",
              "       1. , 0. , 0. ])"
            ]
          },
          "metadata": {},
          "execution_count": 47
        }
      ]
    },
    {
      "cell_type": "code",
      "source": [
        "# Get predictions using normal threshold of 0.5\n",
        "\n",
        "pd.value_counts(probabilities > 0.5)"
      ],
      "metadata": {
        "colab": {
          "base_uri": "https://localhost:8080/"
        },
        "id": "Aw0pTjEMh9t3",
        "outputId": "50730c3a-b84c-47dd-862a-4eef86c7be5a"
      },
      "execution_count": null,
      "outputs": [
        {
          "output_type": "execute_result",
          "data": {
            "text/plain": [
              "True     63\n",
              "False    57\n",
              "dtype: int64"
            ]
          },
          "metadata": {},
          "execution_count": 48
        }
      ]
    },
    {
      "cell_type": "code",
      "source": [
        "# Generate 2000 evenly-separated thresholds\n",
        "\n",
        "import numpy as np\n",
        "\n",
        "thresholds = np.linspace(0, 1, num=2000).astype(np.float16)\n",
        "\n",
        "thresholds"
      ],
      "metadata": {
        "colab": {
          "base_uri": "https://localhost:8080/"
        },
        "id": "MhBPjNzRiEVq",
        "outputId": "084ef615-b764-4813-c173-24a1e184eeed"
      },
      "execution_count": null,
      "outputs": [
        {
          "output_type": "execute_result",
          "data": {
            "text/plain": [
              "array([0.000e+00, 5.002e-04, 1.000e-03, ..., 9.990e-01, 9.995e-01,\n",
              "       1.000e+00], dtype=float16)"
            ]
          },
          "metadata": {},
          "execution_count": 51
        }
      ]
    },
    {
      "cell_type": "code",
      "source": [
        "# Get test predictions array for each threshold\n",
        "\n",
        "all_predictions = np.array([(probabilities > t).astype(int) for t in thresholds])\n",
        "\n",
        "all_predictions.shape"
      ],
      "metadata": {
        "colab": {
          "base_uri": "https://localhost:8080/"
        },
        "id": "LIADX91diJMj",
        "outputId": "8a98144b-ce4f-4a32-cbaf-d9d5e5fbcbe4"
      },
      "execution_count": null,
      "outputs": [
        {
          "output_type": "execute_result",
          "data": {
            "text/plain": [
              "(2000, 120)"
            ]
          },
          "metadata": {},
          "execution_count": 52
        }
      ]
    },
    {
      "cell_type": "code",
      "source": [
        "# Show distribution depending on threshold\n",
        "\n",
        "pd.value_counts(all_predictions[0])"
      ],
      "metadata": {
        "colab": {
          "base_uri": "https://localhost:8080/"
        },
        "id": "h3T7hBQUiNmd",
        "outputId": "66cd3a60-6927-4625-cbf6-85ce9382eafb"
      },
      "execution_count": null,
      "outputs": [
        {
          "output_type": "execute_result",
          "data": {
            "text/plain": [
              "1    67\n",
              "0    53\n",
              "dtype: int64"
            ]
          },
          "metadata": {},
          "execution_count": 53
        }
      ]
    },
    {
      "cell_type": "code",
      "source": [
        "# Get confusion matrices, true positive rates, and false positive rates for each threshold\n",
        "\n",
        "confusion_matrices = [confusion_matrix(y_test, predictions) for predictions in all_predictions]\n",
        "tn_fp_fn_tps = [cm.ravel() for cm in confusion_matrices]\n",
        "\n",
        "tprs = [tpr(tn, fp, fn, tp) for tn, fp, fn, tp in tn_fp_fn_tps]\n",
        "fprs = [fpr(tn, fp, fn, tp) for tn, fp, fn, tp in tn_fp_fn_tps]"
      ],
      "metadata": {
        "id": "VdzxnFzDiS93"
      },
      "execution_count": null,
      "outputs": []
    },
    {
      "cell_type": "code",
      "source": [
        "# Create Scatter Plot of ROC Curve\n",
        "\n",
        "import plotly.express as px\n",
        "\n",
        "px.scatter(x=fprs, y=tprs, color=thresholds, labels=dict(x='False Positive Rate', y='True Positive Rate', color='Threshold'), title='ROC Curve')"
      ],
      "metadata": {
        "colab": {
          "base_uri": "https://localhost:8080/",
          "height": 542
        },
        "id": "UI7JUrcXjmFY",
        "outputId": "6e422b27-f1f3-4f62-9d04-1ab786f34f61"
      },
      "execution_count": null,
      "outputs": [
        {
          "output_type": "display_data",
          "data": {
            "text/html": [
              "<html>\n",
              "<head><meta charset=\"utf-8\" /></head>\n",
              "<body>\n",
              "    <div>            <script src=\"https://cdnjs.cloudflare.com/ajax/libs/mathjax/2.7.5/MathJax.js?config=TeX-AMS-MML_SVG\"></script><script type=\"text/javascript\">if (window.MathJax) {MathJax.Hub.Config({SVG: {font: \"STIX-Web\"}});}</script>                <script type=\"text/javascript\">window.PlotlyConfig = {MathJaxConfig: 'local'};</script>\n",
              "        <script src=\"https://cdn.plot.ly/plotly-2.8.3.min.js\"></script>                <div id=\"0d24302b-413c-42fd-a0a5-5761cfb238f2\" class=\"plotly-graph-div\" style=\"height:525px; width:100%;\"></div>            <script type=\"text/javascript\">                                    window.PLOTLYENV=window.PLOTLYENV || {};                                    if (document.getElementById(\"0d24302b-413c-42fd-a0a5-5761cfb238f2\")) {                    Plotly.newPlot(                        \"0d24302b-413c-42fd-a0a5-5761cfb238f2\",                        [{\"hovertemplate\":\"False Positive Rate=%{x}<br>True Positive Rate=%{y}<br>Threshold=%{marker.color}<extra></extra>\",\"legendgroup\":\"\",\"marker\":{\"color\":[0.0,0.0005002021789550781,0.0010004043579101562,0.0015010833740234375,0.0020008087158203125,0.0025005340576171875,0.003002166748046875,0.00350189208984375,0.004001617431640625,0.0045013427734375,0.005001068115234375,0.005504608154296875,0.00600433349609375,0.006504058837890625,0.0070037841796875,0.007503509521484375,0.00800323486328125,0.00850677490234375,0.009002685546875,0.0095062255859375,0.01000213623046875,0.01050567626953125,0.01100921630859375,0.011505126953125,0.0120086669921875,0.01250457763671875,0.01300811767578125,0.0135040283203125,0.014007568359375,0.01450347900390625,0.01500701904296875,0.01551055908203125,0.0160064697265625,0.016510009765625,0.0170135498046875,0.0175018310546875,0.01800537109375,0.0185089111328125,0.019012451171875,0.0195159912109375,0.0200042724609375,0.0205078125,0.0210113525390625,0.021514892578125,0.0220184326171875,0.0225067138671875,0.02301025390625,0.0235137939453125,0.024017333984375,0.024505615234375,0.0250091552734375,0.0255126953125,0.0260162353515625,0.026519775390625,0.027008056640625,0.0275115966796875,0.02801513671875,0.0285186767578125,0.0290069580078125,0.029510498046875,0.0300140380859375,0.030517578125,0.0310211181640625,0.031524658203125,0.032012939453125,0.032501220703125,0.03302001953125,0.03350830078125,0.034027099609375,0.034515380859375,0.035003662109375,0.0355224609375,0.0360107421875,0.036529541015625,0.037017822265625,0.037506103515625,0.03802490234375,0.03851318359375,0.039031982421875,0.039520263671875,0.040008544921875,0.04052734375,0.041015625,0.041534423828125,0.042022705078125,0.042510986328125,0.04302978515625,0.04351806640625,0.044036865234375,0.044525146484375,0.045013427734375,0.0455322265625,0.0460205078125,0.0465087890625,0.047027587890625,0.047515869140625,0.04803466796875,0.04852294921875,0.04901123046875,0.049530029296875,0.050018310546875,0.050537109375,0.051025390625,0.051513671875,0.052032470703125,0.052520751953125,0.05303955078125,0.05352783203125,0.05401611328125,0.054534912109375,0.055023193359375,0.0555419921875,0.0560302734375,0.0565185546875,0.057037353515625,0.057525634765625,0.058013916015625,0.05853271484375,0.05902099609375,0.059539794921875,0.060028076171875,0.060516357421875,0.06103515625,0.0615234375,0.062042236328125,0.06256103515625,0.06304931640625,0.06353759765625,0.06402587890625,0.06451416015625,0.06500244140625,0.0655517578125,0.0660400390625,0.0665283203125,0.0670166015625,0.0675048828125,0.06805419921875,0.06854248046875,0.06903076171875,0.06951904296875,0.07000732421875,0.070556640625,0.071044921875,0.071533203125,0.072021484375,0.072509765625,0.07305908203125,0.07354736328125,0.07403564453125,0.07452392578125,0.07501220703125,0.0755615234375,0.0760498046875,0.0765380859375,0.0770263671875,0.0775146484375,0.07806396484375,0.07855224609375,0.07904052734375,0.07952880859375,0.08001708984375,0.08056640625,0.0810546875,0.08154296875,0.08203125,0.08251953125,0.08306884765625,0.08355712890625,0.08404541015625,0.08453369140625,0.08502197265625,0.0855712890625,0.0860595703125,0.0865478515625,0.0870361328125,0.0875244140625,0.08807373046875,0.08856201171875,0.08905029296875,0.08953857421875,0.09002685546875,0.09051513671875,0.091064453125,0.091552734375,0.092041015625,0.092529296875,0.093017578125,0.09356689453125,0.09405517578125,0.09454345703125,0.09503173828125,0.09552001953125,0.0960693359375,0.0965576171875,0.0970458984375,0.0975341796875,0.0980224609375,0.09857177734375,0.09906005859375,0.09954833984375,0.10003662109375,0.10052490234375,0.10107421875,0.1015625,0.10205078125,0.1025390625,0.10302734375,0.10357666015625,0.10406494140625,0.10455322265625,0.10504150390625,0.10552978515625,0.1060791015625,0.1065673828125,0.1070556640625,0.1075439453125,0.1080322265625,0.10858154296875,0.10906982421875,0.10955810546875,0.11004638671875,0.11053466796875,0.111083984375,0.111572265625,0.112060546875,0.112548828125,0.113037109375,0.11358642578125,0.11407470703125,0.11456298828125,0.11505126953125,0.11553955078125,0.11602783203125,0.1165771484375,0.1170654296875,0.1175537109375,0.1180419921875,0.1185302734375,0.11907958984375,0.11956787109375,0.12005615234375,0.12054443359375,0.12103271484375,0.12158203125,0.1220703125,0.12255859375,0.123046875,0.12353515625,0.12408447265625,0.12457275390625,0.1251220703125,0.1256103515625,0.1260986328125,0.1265869140625,0.1270751953125,0.1275634765625,0.1280517578125,0.1285400390625,0.1290283203125,0.1295166015625,0.1300048828125,0.130615234375,0.131103515625,0.131591796875,0.132080078125,0.132568359375,0.133056640625,0.133544921875,0.134033203125,0.134521484375,0.135009765625,0.1356201171875,0.1361083984375,0.1365966796875,0.1370849609375,0.1375732421875,0.1380615234375,0.1385498046875,0.1390380859375,0.1395263671875,0.1400146484375,0.140625,0.14111328125,0.1416015625,0.14208984375,0.142578125,0.14306640625,0.1435546875,0.14404296875,0.14453125,0.14501953125,0.1456298828125,0.1461181640625,0.1466064453125,0.1470947265625,0.1475830078125,0.1480712890625,0.1485595703125,0.1490478515625,0.1495361328125,0.1500244140625,0.150634765625,0.151123046875,0.151611328125,0.152099609375,0.152587890625,0.153076171875,0.153564453125,0.154052734375,0.154541015625,0.155029296875,0.155517578125,0.1561279296875,0.1566162109375,0.1571044921875,0.1575927734375,0.1580810546875,0.1585693359375,0.1590576171875,0.1595458984375,0.1600341796875,0.1605224609375,0.1611328125,0.16162109375,0.162109375,0.16259765625,0.1630859375,0.16357421875,0.1640625,0.16455078125,0.1650390625,0.16552734375,0.1661376953125,0.1666259765625,0.1671142578125,0.1676025390625,0.1680908203125,0.1685791015625,0.1690673828125,0.1695556640625,0.1700439453125,0.1705322265625,0.171142578125,0.171630859375,0.172119140625,0.172607421875,0.173095703125,0.173583984375,0.174072265625,0.174560546875,0.175048828125,0.175537109375,0.1761474609375,0.1766357421875,0.1771240234375,0.1776123046875,0.1781005859375,0.1785888671875,0.1790771484375,0.1795654296875,0.1800537109375,0.1805419921875,0.1810302734375,0.181640625,0.18212890625,0.1826171875,0.18310546875,0.18359375,0.18408203125,0.1845703125,0.18505859375,0.185546875,0.18603515625,0.1866455078125,0.1871337890625,0.1876220703125,0.1881103515625,0.1885986328125,0.1890869140625,0.1895751953125,0.1900634765625,0.1905517578125,0.1910400390625,0.191650390625,0.192138671875,0.192626953125,0.193115234375,0.193603515625,0.194091796875,0.194580078125,0.195068359375,0.195556640625,0.196044921875,0.1966552734375,0.1971435546875,0.1976318359375,0.1981201171875,0.1986083984375,0.1990966796875,0.1995849609375,0.2000732421875,0.2005615234375,0.2010498046875,0.20166015625,0.2021484375,0.20263671875,0.203125,0.20361328125,0.2041015625,0.20458984375,0.205078125,0.20556640625,0.2060546875,0.20654296875,0.2071533203125,0.2076416015625,0.2081298828125,0.2086181640625,0.2091064453125,0.2095947265625,0.2100830078125,0.2105712890625,0.2110595703125,0.2115478515625,0.212158203125,0.212646484375,0.213134765625,0.213623046875,0.214111328125,0.214599609375,0.215087890625,0.215576171875,0.216064453125,0.216552734375,0.2171630859375,0.2176513671875,0.2181396484375,0.2186279296875,0.2191162109375,0.2196044921875,0.2200927734375,0.2205810546875,0.2210693359375,0.2215576171875,0.22216796875,0.22265625,0.22314453125,0.2236328125,0.22412109375,0.224609375,0.22509765625,0.2255859375,0.22607421875,0.2265625,0.2271728515625,0.2276611328125,0.2281494140625,0.2286376953125,0.2291259765625,0.2296142578125,0.2301025390625,0.2305908203125,0.2310791015625,0.2315673828125,0.2320556640625,0.232666015625,0.233154296875,0.233642578125,0.234130859375,0.234619140625,0.235107421875,0.235595703125,0.236083984375,0.236572265625,0.237060546875,0.2376708984375,0.2381591796875,0.2386474609375,0.2391357421875,0.2396240234375,0.2401123046875,0.2406005859375,0.2410888671875,0.2415771484375,0.2420654296875,0.24267578125,0.2431640625,0.24365234375,0.244140625,0.24462890625,0.2451171875,0.24560546875,0.24609375,0.24658203125,0.2470703125,0.2476806640625,0.2481689453125,0.2486572265625,0.2491455078125,0.2496337890625,0.250244140625,0.250732421875,0.251220703125,0.251708984375,0.252197265625,0.252685546875,0.253173828125,0.253662109375,0.254150390625,0.254638671875,0.255126953125,0.255615234375,0.256103515625,0.256591796875,0.257080078125,0.257568359375,0.258056640625,0.258544921875,0.259033203125,0.259521484375,0.260009765625,0.2607421875,0.26123046875,0.26171875,0.26220703125,0.2626953125,0.26318359375,0.263671875,0.26416015625,0.2646484375,0.26513671875,0.265625,0.26611328125,0.2666015625,0.26708984375,0.267578125,0.26806640625,0.2685546875,0.26904296875,0.26953125,0.27001953125,0.270751953125,0.271240234375,0.271728515625,0.272216796875,0.272705078125,0.273193359375,0.273681640625,0.274169921875,0.274658203125,0.275146484375,0.275634765625,0.276123046875,0.276611328125,0.277099609375,0.277587890625,0.278076171875,0.278564453125,0.279052734375,0.279541015625,0.280029296875,0.28076171875,0.28125,0.28173828125,0.2822265625,0.28271484375,0.283203125,0.28369140625,0.2841796875,0.28466796875,0.28515625,0.28564453125,0.2861328125,0.28662109375,0.287109375,0.28759765625,0.2880859375,0.28857421875,0.2890625,0.28955078125,0.2900390625,0.29052734375,0.291259765625,0.291748046875,0.292236328125,0.292724609375,0.293212890625,0.293701171875,0.294189453125,0.294677734375,0.295166015625,0.295654296875,0.296142578125,0.296630859375,0.297119140625,0.297607421875,0.298095703125,0.298583984375,0.299072265625,0.299560546875,0.300048828125,0.300537109375,0.30126953125,0.3017578125,0.30224609375,0.302734375,0.30322265625,0.3037109375,0.30419921875,0.3046875,0.30517578125,0.3056640625,0.30615234375,0.306640625,0.30712890625,0.3076171875,0.30810546875,0.30859375,0.30908203125,0.3095703125,0.31005859375,0.310546875,0.31103515625,0.311767578125,0.312255859375,0.312744140625,0.313232421875,0.313720703125,0.314208984375,0.314697265625,0.315185546875,0.315673828125,0.316162109375,0.316650390625,0.317138671875,0.317626953125,0.318115234375,0.318603515625,0.319091796875,0.319580078125,0.320068359375,0.320556640625,0.321044921875,0.32177734375,0.322265625,0.32275390625,0.3232421875,0.32373046875,0.32421875,0.32470703125,0.3251953125,0.32568359375,0.326171875,0.32666015625,0.3271484375,0.32763671875,0.328125,0.32861328125,0.3291015625,0.32958984375,0.330078125,0.33056640625,0.3310546875,0.331787109375,0.332275390625,0.332763671875,0.333251953125,0.333740234375,0.334228515625,0.334716796875,0.335205078125,0.335693359375,0.336181640625,0.336669921875,0.337158203125,0.337646484375,0.338134765625,0.338623046875,0.339111328125,0.339599609375,0.340087890625,0.340576171875,0.341064453125,0.341552734375,0.34228515625,0.3427734375,0.34326171875,0.34375,0.34423828125,0.3447265625,0.34521484375,0.345703125,0.34619140625,0.3466796875,0.34716796875,0.34765625,0.34814453125,0.3486328125,0.34912109375,0.349609375,0.35009765625,0.3505859375,0.35107421875,0.3515625,0.352294921875,0.352783203125,0.353271484375,0.353759765625,0.354248046875,0.354736328125,0.355224609375,0.355712890625,0.356201171875,0.356689453125,0.357177734375,0.357666015625,0.358154296875,0.358642578125,0.359130859375,0.359619140625,0.360107421875,0.360595703125,0.361083984375,0.361572265625,0.362060546875,0.36279296875,0.36328125,0.36376953125,0.3642578125,0.36474609375,0.365234375,0.36572265625,0.3662109375,0.36669921875,0.3671875,0.36767578125,0.3681640625,0.36865234375,0.369140625,0.36962890625,0.3701171875,0.37060546875,0.37109375,0.37158203125,0.3720703125,0.372802734375,0.373291015625,0.373779296875,0.374267578125,0.374755859375,0.375244140625,0.375732421875,0.376220703125,0.376708984375,0.377197265625,0.377685546875,0.378173828125,0.378662109375,0.379150390625,0.379638671875,0.380126953125,0.380615234375,0.381103515625,0.381591796875,0.382080078125,0.3828125,0.38330078125,0.3837890625,0.38427734375,0.384765625,0.38525390625,0.3857421875,0.38623046875,0.38671875,0.38720703125,0.3876953125,0.38818359375,0.388671875,0.38916015625,0.3896484375,0.39013671875,0.390625,0.39111328125,0.3916015625,0.39208984375,0.392578125,0.393310546875,0.393798828125,0.394287109375,0.394775390625,0.395263671875,0.395751953125,0.396240234375,0.396728515625,0.397216796875,0.397705078125,0.398193359375,0.398681640625,0.399169921875,0.399658203125,0.400146484375,0.400634765625,0.401123046875,0.401611328125,0.402099609375,0.402587890625,0.4033203125,0.40380859375,0.404296875,0.40478515625,0.4052734375,0.40576171875,0.40625,0.40673828125,0.4072265625,0.40771484375,0.408203125,0.40869140625,0.4091796875,0.40966796875,0.41015625,0.41064453125,0.4111328125,0.41162109375,0.412109375,0.41259765625,0.4130859375,0.413818359375,0.414306640625,0.414794921875,0.415283203125,0.415771484375,0.416259765625,0.416748046875,0.417236328125,0.417724609375,0.418212890625,0.418701171875,0.419189453125,0.419677734375,0.420166015625,0.420654296875,0.421142578125,0.421630859375,0.422119140625,0.422607421875,0.423095703125,0.423828125,0.42431640625,0.4248046875,0.42529296875,0.42578125,0.42626953125,0.4267578125,0.42724609375,0.427734375,0.42822265625,0.4287109375,0.42919921875,0.4296875,0.43017578125,0.4306640625,0.43115234375,0.431640625,0.43212890625,0.4326171875,0.43310546875,0.433837890625,0.434326171875,0.434814453125,0.435302734375,0.435791015625,0.436279296875,0.436767578125,0.437255859375,0.437744140625,0.438232421875,0.438720703125,0.439208984375,0.439697265625,0.440185546875,0.440673828125,0.441162109375,0.441650390625,0.442138671875,0.442626953125,0.443115234375,0.443603515625,0.4443359375,0.44482421875,0.4453125,0.44580078125,0.4462890625,0.44677734375,0.447265625,0.44775390625,0.4482421875,0.44873046875,0.44921875,0.44970703125,0.4501953125,0.45068359375,0.451171875,0.45166015625,0.4521484375,0.45263671875,0.453125,0.45361328125,0.454345703125,0.454833984375,0.455322265625,0.455810546875,0.456298828125,0.456787109375,0.457275390625,0.457763671875,0.458251953125,0.458740234375,0.459228515625,0.459716796875,0.460205078125,0.460693359375,0.461181640625,0.461669921875,0.462158203125,0.462646484375,0.463134765625,0.463623046875,0.464111328125,0.46484375,0.46533203125,0.4658203125,0.46630859375,0.466796875,0.46728515625,0.4677734375,0.46826171875,0.46875,0.46923828125,0.4697265625,0.47021484375,0.470703125,0.47119140625,0.4716796875,0.47216796875,0.47265625,0.47314453125,0.4736328125,0.47412109375,0.474853515625,0.475341796875,0.475830078125,0.476318359375,0.476806640625,0.477294921875,0.477783203125,0.478271484375,0.478759765625,0.479248046875,0.479736328125,0.480224609375,0.480712890625,0.481201171875,0.481689453125,0.482177734375,0.482666015625,0.483154296875,0.483642578125,0.484130859375,0.48486328125,0.4853515625,0.48583984375,0.486328125,0.48681640625,0.4873046875,0.48779296875,0.48828125,0.48876953125,0.4892578125,0.48974609375,0.490234375,0.49072265625,0.4912109375,0.49169921875,0.4921875,0.49267578125,0.4931640625,0.49365234375,0.494140625,0.49462890625,0.495361328125,0.495849609375,0.496337890625,0.496826171875,0.497314453125,0.497802734375,0.498291015625,0.498779296875,0.499267578125,0.499755859375,0.50048828125,0.5009765625,0.50146484375,0.501953125,0.50244140625,0.5029296875,0.50341796875,0.50390625,0.50439453125,0.5048828125,0.50537109375,0.505859375,0.50634765625,0.5068359375,0.50732421875,0.5078125,0.50830078125,0.5087890625,0.50927734375,0.509765625,0.51025390625,0.5107421875,0.51123046875,0.51171875,0.51220703125,0.5126953125,0.51318359375,0.513671875,0.51416015625,0.5146484375,0.51513671875,0.515625,0.51611328125,0.5166015625,0.51708984375,0.517578125,0.51806640625,0.5185546875,0.51904296875,0.51953125,0.52001953125,0.52099609375,0.521484375,0.52197265625,0.5224609375,0.52294921875,0.5234375,0.52392578125,0.5244140625,0.52490234375,0.525390625,0.52587890625,0.5263671875,0.52685546875,0.52734375,0.52783203125,0.5283203125,0.52880859375,0.529296875,0.52978515625,0.5302734375,0.53076171875,0.53125,0.53173828125,0.5322265625,0.53271484375,0.533203125,0.53369140625,0.5341796875,0.53466796875,0.53515625,0.53564453125,0.5361328125,0.53662109375,0.537109375,0.53759765625,0.5380859375,0.53857421875,0.5390625,0.53955078125,0.5400390625,0.54052734375,0.54150390625,0.5419921875,0.54248046875,0.54296875,0.54345703125,0.5439453125,0.54443359375,0.544921875,0.54541015625,0.5458984375,0.54638671875,0.546875,0.54736328125,0.5478515625,0.54833984375,0.548828125,0.54931640625,0.5498046875,0.55029296875,0.55078125,0.55126953125,0.5517578125,0.55224609375,0.552734375,0.55322265625,0.5537109375,0.55419921875,0.5546875,0.55517578125,0.5556640625,0.55615234375,0.556640625,0.55712890625,0.5576171875,0.55810546875,0.55859375,0.55908203125,0.5595703125,0.56005859375,0.560546875,0.5615234375,0.56201171875,0.5625,0.56298828125,0.5634765625,0.56396484375,0.564453125,0.56494140625,0.5654296875,0.56591796875,0.56640625,0.56689453125,0.5673828125,0.56787109375,0.568359375,0.56884765625,0.5693359375,0.56982421875,0.5703125,0.57080078125,0.5712890625,0.57177734375,0.572265625,0.57275390625,0.5732421875,0.57373046875,0.57421875,0.57470703125,0.5751953125,0.57568359375,0.576171875,0.57666015625,0.5771484375,0.57763671875,0.578125,0.57861328125,0.5791015625,0.57958984375,0.580078125,0.58056640625,0.5810546875,0.58203125,0.58251953125,0.5830078125,0.58349609375,0.583984375,0.58447265625,0.5849609375,0.58544921875,0.5859375,0.58642578125,0.5869140625,0.58740234375,0.587890625,0.58837890625,0.5888671875,0.58935546875,0.58984375,0.59033203125,0.5908203125,0.59130859375,0.591796875,0.59228515625,0.5927734375,0.59326171875,0.59375,0.59423828125,0.5947265625,0.59521484375,0.595703125,0.59619140625,0.5966796875,0.59716796875,0.59765625,0.59814453125,0.5986328125,0.59912109375,0.599609375,0.60009765625,0.6005859375,0.60107421875,0.6015625,0.6025390625,0.60302734375,0.603515625,0.60400390625,0.6044921875,0.60498046875,0.60546875,0.60595703125,0.6064453125,0.60693359375,0.607421875,0.60791015625,0.6083984375,0.60888671875,0.609375,0.60986328125,0.6103515625,0.61083984375,0.611328125,0.61181640625,0.6123046875,0.61279296875,0.61328125,0.61376953125,0.6142578125,0.61474609375,0.615234375,0.61572265625,0.6162109375,0.61669921875,0.6171875,0.61767578125,0.6181640625,0.61865234375,0.619140625,0.61962890625,0.6201171875,0.62060546875,0.62109375,0.62158203125,0.6220703125,0.623046875,0.62353515625,0.6240234375,0.62451171875,0.625,0.62548828125,0.6259765625,0.62646484375,0.626953125,0.62744140625,0.6279296875,0.62841796875,0.62890625,0.62939453125,0.6298828125,0.63037109375,0.630859375,0.63134765625,0.6318359375,0.63232421875,0.6328125,0.63330078125,0.6337890625,0.63427734375,0.634765625,0.63525390625,0.6357421875,0.63623046875,0.63671875,0.63720703125,0.6376953125,0.63818359375,0.638671875,0.63916015625,0.6396484375,0.64013671875,0.640625,0.64111328125,0.6416015625,0.64208984375,0.642578125,0.6435546875,0.64404296875,0.64453125,0.64501953125,0.6455078125,0.64599609375,0.646484375,0.64697265625,0.6474609375,0.64794921875,0.6484375,0.64892578125,0.6494140625,0.64990234375,0.650390625,0.65087890625,0.6513671875,0.65185546875,0.65234375,0.65283203125,0.6533203125,0.65380859375,0.654296875,0.65478515625,0.6552734375,0.65576171875,0.65625,0.65673828125,0.6572265625,0.65771484375,0.658203125,0.65869140625,0.6591796875,0.65966796875,0.66015625,0.66064453125,0.6611328125,0.66162109375,0.662109375,0.66259765625,0.66357421875,0.6640625,0.66455078125,0.6650390625,0.66552734375,0.666015625,0.66650390625,0.6669921875,0.66748046875,0.66796875,0.66845703125,0.6689453125,0.66943359375,0.669921875,0.67041015625,0.6708984375,0.67138671875,0.671875,0.67236328125,0.6728515625,0.67333984375,0.673828125,0.67431640625,0.6748046875,0.67529296875,0.67578125,0.67626953125,0.6767578125,0.67724609375,0.677734375,0.67822265625,0.6787109375,0.67919921875,0.6796875,0.68017578125,0.6806640625,0.68115234375,0.681640625,0.68212890625,0.6826171875,0.68310546875,0.68408203125,0.6845703125,0.68505859375,0.685546875,0.68603515625,0.6865234375,0.68701171875,0.6875,0.68798828125,0.6884765625,0.68896484375,0.689453125,0.68994140625,0.6904296875,0.69091796875,0.69140625,0.69189453125,0.6923828125,0.69287109375,0.693359375,0.69384765625,0.6943359375,0.69482421875,0.6953125,0.69580078125,0.6962890625,0.69677734375,0.697265625,0.69775390625,0.6982421875,0.69873046875,0.69921875,0.69970703125,0.7001953125,0.70068359375,0.701171875,0.70166015625,0.7021484375,0.70263671875,0.703125,0.70361328125,0.70458984375,0.705078125,0.70556640625,0.7060546875,0.70654296875,0.70703125,0.70751953125,0.7080078125,0.70849609375,0.708984375,0.70947265625,0.7099609375,0.71044921875,0.7109375,0.71142578125,0.7119140625,0.71240234375,0.712890625,0.71337890625,0.7138671875,0.71435546875,0.71484375,0.71533203125,0.7158203125,0.71630859375,0.716796875,0.71728515625,0.7177734375,0.71826171875,0.71875,0.71923828125,0.7197265625,0.72021484375,0.720703125,0.72119140625,0.7216796875,0.72216796875,0.72265625,0.72314453125,0.7236328125,0.72412109375,0.72509765625,0.7255859375,0.72607421875,0.7265625,0.72705078125,0.7275390625,0.72802734375,0.728515625,0.72900390625,0.7294921875,0.72998046875,0.73046875,0.73095703125,0.7314453125,0.73193359375,0.732421875,0.73291015625,0.7333984375,0.73388671875,0.734375,0.73486328125,0.7353515625,0.73583984375,0.736328125,0.73681640625,0.7373046875,0.73779296875,0.73828125,0.73876953125,0.7392578125,0.73974609375,0.740234375,0.74072265625,0.7412109375,0.74169921875,0.7421875,0.74267578125,0.7431640625,0.74365234375,0.744140625,0.74462890625,0.74560546875,0.74609375,0.74658203125,0.7470703125,0.74755859375,0.748046875,0.74853515625,0.7490234375,0.74951171875,0.75,0.75048828125,0.7509765625,0.75146484375,0.751953125,0.75244140625,0.7529296875,0.75341796875,0.75390625,0.75439453125,0.7548828125,0.75537109375,0.755859375,0.75634765625,0.7568359375,0.75732421875,0.7578125,0.75830078125,0.7587890625,0.75927734375,0.759765625,0.76025390625,0.7607421875,0.76123046875,0.76171875,0.76220703125,0.7626953125,0.76318359375,0.763671875,0.76416015625,0.7646484375,0.765625,0.76611328125,0.7666015625,0.76708984375,0.767578125,0.76806640625,0.7685546875,0.76904296875,0.76953125,0.77001953125,0.7705078125,0.77099609375,0.771484375,0.77197265625,0.7724609375,0.77294921875,0.7734375,0.77392578125,0.7744140625,0.77490234375,0.775390625,0.77587890625,0.7763671875,0.77685546875,0.77734375,0.77783203125,0.7783203125,0.77880859375,0.779296875,0.77978515625,0.7802734375,0.78076171875,0.78125,0.78173828125,0.7822265625,0.78271484375,0.783203125,0.78369140625,0.7841796875,0.78466796875,0.78515625,0.7861328125,0.78662109375,0.787109375,0.78759765625,0.7880859375,0.78857421875,0.7890625,0.78955078125,0.7900390625,0.79052734375,0.791015625,0.79150390625,0.7919921875,0.79248046875,0.79296875,0.79345703125,0.7939453125,0.79443359375,0.794921875,0.79541015625,0.7958984375,0.79638671875,0.796875,0.79736328125,0.7978515625,0.79833984375,0.798828125,0.79931640625,0.7998046875,0.80029296875,0.80078125,0.80126953125,0.8017578125,0.80224609375,0.802734375,0.80322265625,0.8037109375,0.80419921875,0.8046875,0.80517578125,0.8056640625,0.806640625,0.80712890625,0.8076171875,0.80810546875,0.80859375,0.80908203125,0.8095703125,0.81005859375,0.810546875,0.81103515625,0.8115234375,0.81201171875,0.8125,0.81298828125,0.8134765625,0.81396484375,0.814453125,0.81494140625,0.8154296875,0.81591796875,0.81640625,0.81689453125,0.8173828125,0.81787109375,0.818359375,0.81884765625,0.8193359375,0.81982421875,0.8203125,0.82080078125,0.8212890625,0.82177734375,0.822265625,0.82275390625,0.8232421875,0.82373046875,0.82421875,0.82470703125,0.8251953125,0.82568359375,0.826171875,0.8271484375,0.82763671875,0.828125,0.82861328125,0.8291015625,0.82958984375,0.830078125,0.83056640625,0.8310546875,0.83154296875,0.83203125,0.83251953125,0.8330078125,0.83349609375,0.833984375,0.83447265625,0.8349609375,0.83544921875,0.8359375,0.83642578125,0.8369140625,0.83740234375,0.837890625,0.83837890625,0.8388671875,0.83935546875,0.83984375,0.84033203125,0.8408203125,0.84130859375,0.841796875,0.84228515625,0.8427734375,0.84326171875,0.84375,0.84423828125,0.8447265625,0.84521484375,0.845703125,0.84619140625,0.8466796875,0.84765625,0.84814453125,0.8486328125,0.84912109375,0.849609375,0.85009765625,0.8505859375,0.85107421875,0.8515625,0.85205078125,0.8525390625,0.85302734375,0.853515625,0.85400390625,0.8544921875,0.85498046875,0.85546875,0.85595703125,0.8564453125,0.85693359375,0.857421875,0.85791015625,0.8583984375,0.85888671875,0.859375,0.85986328125,0.8603515625,0.86083984375,0.861328125,0.86181640625,0.8623046875,0.86279296875,0.86328125,0.86376953125,0.8642578125,0.86474609375,0.865234375,0.86572265625,0.8662109375,0.86669921875,0.86767578125,0.8681640625,0.86865234375,0.869140625,0.86962890625,0.8701171875,0.87060546875,0.87109375,0.87158203125,0.8720703125,0.87255859375,0.873046875,0.87353515625,0.8740234375,0.87451171875,0.875,0.87548828125,0.8759765625,0.87646484375,0.876953125,0.87744140625,0.8779296875,0.87841796875,0.87890625,0.87939453125,0.8798828125,0.88037109375,0.880859375,0.88134765625,0.8818359375,0.88232421875,0.8828125,0.88330078125,0.8837890625,0.88427734375,0.884765625,0.88525390625,0.8857421875,0.88623046875,0.88671875,0.88720703125,0.88818359375,0.888671875,0.88916015625,0.8896484375,0.89013671875,0.890625,0.89111328125,0.8916015625,0.89208984375,0.892578125,0.89306640625,0.8935546875,0.89404296875,0.89453125,0.89501953125,0.8955078125,0.89599609375,0.896484375,0.89697265625,0.8974609375,0.89794921875,0.8984375,0.89892578125,0.8994140625,0.89990234375,0.900390625,0.90087890625,0.9013671875,0.90185546875,0.90234375,0.90283203125,0.9033203125,0.90380859375,0.904296875,0.90478515625,0.9052734375,0.90576171875,0.90625,0.90673828125,0.9072265625,0.90771484375,0.90869140625,0.9091796875,0.90966796875,0.91015625,0.91064453125,0.9111328125,0.91162109375,0.912109375,0.91259765625,0.9130859375,0.91357421875,0.9140625,0.91455078125,0.9150390625,0.91552734375,0.916015625,0.91650390625,0.9169921875,0.91748046875,0.91796875,0.91845703125,0.9189453125,0.91943359375,0.919921875,0.92041015625,0.9208984375,0.92138671875,0.921875,0.92236328125,0.9228515625,0.92333984375,0.923828125,0.92431640625,0.9248046875,0.92529296875,0.92578125,0.92626953125,0.9267578125,0.92724609375,0.927734375,0.92822265625,0.92919921875,0.9296875,0.93017578125,0.9306640625,0.93115234375,0.931640625,0.93212890625,0.9326171875,0.93310546875,0.93359375,0.93408203125,0.9345703125,0.93505859375,0.935546875,0.93603515625,0.9365234375,0.93701171875,0.9375,0.93798828125,0.9384765625,0.93896484375,0.939453125,0.93994140625,0.9404296875,0.94091796875,0.94140625,0.94189453125,0.9423828125,0.94287109375,0.943359375,0.94384765625,0.9443359375,0.94482421875,0.9453125,0.94580078125,0.9462890625,0.94677734375,0.947265625,0.94775390625,0.9482421875,0.94873046875,0.94970703125,0.9501953125,0.95068359375,0.951171875,0.95166015625,0.9521484375,0.95263671875,0.953125,0.95361328125,0.9541015625,0.95458984375,0.955078125,0.95556640625,0.9560546875,0.95654296875,0.95703125,0.95751953125,0.9580078125,0.95849609375,0.958984375,0.95947265625,0.9599609375,0.96044921875,0.9609375,0.96142578125,0.9619140625,0.96240234375,0.962890625,0.96337890625,0.9638671875,0.96435546875,0.96484375,0.96533203125,0.9658203125,0.96630859375,0.966796875,0.96728515625,0.9677734375,0.96826171875,0.96875,0.9697265625,0.97021484375,0.970703125,0.97119140625,0.9716796875,0.97216796875,0.97265625,0.97314453125,0.9736328125,0.97412109375,0.974609375,0.97509765625,0.9755859375,0.97607421875,0.9765625,0.97705078125,0.9775390625,0.97802734375,0.978515625,0.97900390625,0.9794921875,0.97998046875,0.98046875,0.98095703125,0.9814453125,0.98193359375,0.982421875,0.98291015625,0.9833984375,0.98388671875,0.984375,0.98486328125,0.9853515625,0.98583984375,0.986328125,0.98681640625,0.9873046875,0.98779296875,0.98828125,0.98876953125,0.9892578125,0.990234375,0.99072265625,0.9912109375,0.99169921875,0.9921875,0.99267578125,0.9931640625,0.99365234375,0.994140625,0.99462890625,0.9951171875,0.99560546875,0.99609375,0.99658203125,0.9970703125,0.99755859375,0.998046875,0.99853515625,0.9990234375,0.99951171875,1.0],\"coloraxis\":\"coloraxis\",\"symbol\":\"circle\"},\"mode\":\"markers\",\"name\":\"\",\"showlegend\":false,\"x\":[0.08620689655172414,0.08620689655172414,0.08620689655172414,0.08620689655172414,0.08620689655172414,0.08620689655172414,0.08620689655172414,0.08620689655172414,0.08620689655172414,0.08620689655172414,0.08620689655172414,0.08620689655172414,0.08620689655172414,0.08620689655172414,0.08620689655172414,0.08620689655172414,0.08620689655172414,0.08620689655172414,0.08620689655172414,0.08620689655172414,0.08620689655172414,0.08620689655172414,0.08620689655172414,0.08620689655172414,0.08620689655172414,0.08620689655172414,0.08620689655172414,0.08620689655172414,0.08620689655172414,0.08620689655172414,0.08620689655172414,0.08620689655172414,0.08620689655172414,0.08620689655172414,0.08620689655172414,0.08620689655172414,0.08620689655172414,0.08620689655172414,0.08620689655172414,0.08620689655172414,0.08620689655172414,0.08620689655172414,0.08620689655172414,0.08620689655172414,0.08620689655172414,0.08620689655172414,0.08620689655172414,0.08620689655172414,0.08620689655172414,0.08620689655172414,0.08620689655172414,0.08620689655172414,0.08620689655172414,0.08620689655172414,0.08620689655172414,0.08620689655172414,0.08620689655172414,0.08620689655172414,0.08620689655172414,0.08620689655172414,0.08620689655172414,0.08620689655172414,0.08620689655172414,0.08620689655172414,0.08620689655172414,0.08620689655172414,0.08620689655172414,0.08620689655172414,0.08620689655172414,0.08620689655172414,0.08620689655172414,0.08620689655172414,0.08620689655172414,0.08620689655172414,0.08620689655172414,0.08620689655172414,0.08620689655172414,0.08620689655172414,0.08620689655172414,0.08620689655172414,0.08620689655172414,0.08620689655172414,0.08620689655172414,0.08620689655172414,0.08620689655172414,0.08620689655172414,0.08620689655172414,0.08620689655172414,0.08620689655172414,0.08620689655172414,0.08620689655172414,0.08620689655172414,0.08620689655172414,0.08620689655172414,0.08620689655172414,0.08620689655172414,0.08620689655172414,0.08620689655172414,0.08620689655172414,0.08620689655172414,0.08620689655172414,0.08620689655172414,0.08620689655172414,0.08620689655172414,0.08620689655172414,0.08620689655172414,0.08620689655172414,0.08620689655172414,0.08620689655172414,0.08620689655172414,0.08620689655172414,0.08620689655172414,0.08620689655172414,0.08620689655172414,0.08620689655172414,0.08620689655172414,0.08620689655172414,0.08620689655172414,0.08620689655172414,0.08620689655172414,0.08620689655172414,0.08620689655172414,0.08620689655172414,0.08620689655172414,0.08620689655172414,0.08620689655172414,0.08620689655172414,0.08620689655172414,0.08620689655172414,0.08620689655172414,0.08620689655172414,0.08620689655172414,0.08620689655172414,0.08620689655172414,0.08620689655172414,0.08620689655172414,0.08620689655172414,0.08620689655172414,0.08620689655172414,0.08620689655172414,0.08620689655172414,0.08620689655172414,0.08620689655172414,0.08620689655172414,0.08620689655172414,0.08620689655172414,0.08620689655172414,0.08620689655172414,0.08620689655172414,0.08620689655172414,0.08620689655172414,0.08620689655172414,0.08620689655172414,0.08620689655172414,0.08620689655172414,0.08620689655172414,0.08620689655172414,0.08620689655172414,0.08620689655172414,0.08620689655172414,0.08620689655172414,0.08620689655172414,0.08620689655172414,0.08620689655172414,0.08620689655172414,0.08620689655172414,0.08620689655172414,0.08620689655172414,0.08620689655172414,0.08620689655172414,0.08620689655172414,0.08620689655172414,0.08620689655172414,0.08620689655172414,0.08620689655172414,0.08620689655172414,0.08620689655172414,0.08620689655172414,0.08620689655172414,0.08620689655172414,0.08620689655172414,0.08620689655172414,0.08620689655172414,0.08620689655172414,0.08620689655172414,0.08620689655172414,0.08620689655172414,0.08620689655172414,0.08620689655172414,0.08620689655172414,0.08620689655172414,0.08620689655172414,0.08620689655172414,0.08620689655172414,0.08620689655172414,0.08620689655172414,0.08620689655172414,0.08620689655172414,0.08620689655172414,0.08620689655172414,0.08620689655172414,0.08620689655172414,0.08620689655172414,0.08620689655172414,0.08620689655172414,0.08620689655172414,0.08620689655172414,0.08620689655172414,0.08620689655172414,0.08620689655172414,0.08620689655172414,0.08620689655172414,0.08620689655172414,0.08620689655172414,0.08620689655172414,0.08620689655172414,0.08620689655172414,0.08620689655172414,0.08620689655172414,0.08620689655172414,0.08620689655172414,0.08620689655172414,0.08620689655172414,0.08620689655172414,0.08620689655172414,0.08620689655172414,0.08620689655172414,0.08620689655172414,0.08620689655172414,0.08620689655172414,0.08620689655172414,0.08620689655172414,0.08620689655172414,0.08620689655172414,0.08620689655172414,0.08620689655172414,0.08620689655172414,0.08620689655172414,0.08620689655172414,0.08620689655172414,0.08620689655172414,0.08620689655172414,0.08620689655172414,0.08620689655172414,0.08620689655172414,0.08620689655172414,0.08620689655172414,0.08620689655172414,0.08620689655172414,0.08620689655172414,0.08620689655172414,0.08620689655172414,0.08620689655172414,0.08620689655172414,0.08620689655172414,0.08620689655172414,0.08620689655172414,0.08620689655172414,0.08620689655172414,0.08620689655172414,0.08620689655172414,0.08620689655172414,0.08620689655172414,0.08620689655172414,0.08620689655172414,0.08620689655172414,0.08620689655172414,0.08620689655172414,0.08620689655172414,0.08620689655172414,0.08620689655172414,0.08620689655172414,0.08620689655172414,0.08620689655172414,0.08620689655172414,0.08620689655172414,0.08620689655172414,0.08620689655172414,0.08620689655172414,0.08620689655172414,0.08620689655172414,0.08620689655172414,0.08620689655172414,0.08620689655172414,0.08620689655172414,0.08620689655172414,0.08620689655172414,0.08620689655172414,0.08620689655172414,0.08620689655172414,0.08620689655172414,0.08620689655172414,0.08620689655172414,0.08620689655172414,0.08620689655172414,0.08620689655172414,0.08620689655172414,0.08620689655172414,0.08620689655172414,0.08620689655172414,0.08620689655172414,0.08620689655172414,0.08620689655172414,0.08620689655172414,0.08620689655172414,0.08620689655172414,0.08620689655172414,0.08620689655172414,0.08620689655172414,0.08620689655172414,0.08620689655172414,0.08620689655172414,0.08620689655172414,0.08620689655172414,0.08620689655172414,0.08620689655172414,0.08620689655172414,0.08620689655172414,0.08620689655172414,0.08620689655172414,0.08620689655172414,0.08620689655172414,0.08620689655172414,0.08620689655172414,0.08620689655172414,0.08620689655172414,0.08620689655172414,0.08620689655172414,0.08620689655172414,0.08620689655172414,0.08620689655172414,0.08620689655172414,0.08620689655172414,0.08620689655172414,0.08620689655172414,0.08620689655172414,0.08620689655172414,0.08620689655172414,0.08620689655172414,0.08620689655172414,0.08620689655172414,0.08620689655172414,0.08620689655172414,0.08620689655172414,0.08620689655172414,0.08620689655172414,0.08620689655172414,0.08620689655172414,0.08620689655172414,0.08620689655172414,0.08620689655172414,0.08620689655172414,0.08620689655172414,0.08620689655172414,0.08620689655172414,0.08620689655172414,0.08620689655172414,0.08620689655172414,0.08620689655172414,0.08620689655172414,0.08620689655172414,0.08620689655172414,0.08620689655172414,0.08620689655172414,0.08620689655172414,0.08620689655172414,0.08620689655172414,0.08620689655172414,0.08620689655172414,0.08620689655172414,0.08620689655172414,0.08620689655172414,0.08620689655172414,0.08620689655172414,0.08620689655172414,0.08620689655172414,0.08620689655172414,0.08620689655172414,0.08620689655172414,0.08620689655172414,0.08620689655172414,0.08620689655172414,0.08620689655172414,0.08620689655172414,0.08620689655172414,0.08620689655172414,0.08620689655172414,0.08620689655172414,0.08620689655172414,0.08620689655172414,0.08620689655172414,0.08620689655172414,0.08620689655172414,0.08620689655172414,0.08620689655172414,0.08620689655172414,0.08620689655172414,0.08620689655172414,0.08620689655172414,0.08620689655172414,0.034482758620689655,0.034482758620689655,0.034482758620689655,0.034482758620689655,0.034482758620689655,0.034482758620689655,0.034482758620689655,0.034482758620689655,0.034482758620689655,0.034482758620689655,0.034482758620689655,0.034482758620689655,0.034482758620689655,0.034482758620689655,0.034482758620689655,0.034482758620689655,0.034482758620689655,0.034482758620689655,0.034482758620689655,0.034482758620689655,0.034482758620689655,0.034482758620689655,0.034482758620689655,0.034482758620689655,0.034482758620689655,0.034482758620689655,0.034482758620689655,0.034482758620689655,0.034482758620689655,0.034482758620689655,0.034482758620689655,0.034482758620689655,0.034482758620689655,0.034482758620689655,0.034482758620689655,0.034482758620689655,0.034482758620689655,0.034482758620689655,0.034482758620689655,0.034482758620689655,0.034482758620689655,0.034482758620689655,0.034482758620689655,0.034482758620689655,0.034482758620689655,0.034482758620689655,0.034482758620689655,0.034482758620689655,0.034482758620689655,0.034482758620689655,0.034482758620689655,0.034482758620689655,0.034482758620689655,0.034482758620689655,0.034482758620689655,0.034482758620689655,0.034482758620689655,0.034482758620689655,0.034482758620689655,0.034482758620689655,0.034482758620689655,0.034482758620689655,0.034482758620689655,0.034482758620689655,0.034482758620689655,0.034482758620689655,0.034482758620689655,0.034482758620689655,0.034482758620689655,0.034482758620689655,0.034482758620689655,0.034482758620689655,0.034482758620689655,0.034482758620689655,0.034482758620689655,0.034482758620689655,0.034482758620689655,0.034482758620689655,0.034482758620689655,0.034482758620689655,0.034482758620689655,0.034482758620689655,0.034482758620689655,0.034482758620689655,0.034482758620689655,0.034482758620689655,0.034482758620689655,0.034482758620689655,0.034482758620689655,0.034482758620689655,0.034482758620689655,0.034482758620689655,0.034482758620689655,0.034482758620689655,0.034482758620689655,0.034482758620689655,0.034482758620689655,0.034482758620689655,0.034482758620689655,0.034482758620689655,0.034482758620689655,0.034482758620689655,0.034482758620689655,0.034482758620689655,0.034482758620689655,0.034482758620689655,0.034482758620689655,0.034482758620689655,0.034482758620689655,0.034482758620689655,0.034482758620689655,0.034482758620689655,0.034482758620689655,0.034482758620689655,0.034482758620689655,0.034482758620689655,0.034482758620689655,0.034482758620689655,0.034482758620689655,0.034482758620689655,0.034482758620689655,0.034482758620689655,0.034482758620689655,0.034482758620689655,0.034482758620689655,0.034482758620689655,0.034482758620689655,0.034482758620689655,0.034482758620689655,0.034482758620689655,0.034482758620689655,0.034482758620689655,0.034482758620689655,0.034482758620689655,0.034482758620689655,0.034482758620689655,0.034482758620689655,0.034482758620689655,0.034482758620689655,0.034482758620689655,0.034482758620689655,0.034482758620689655,0.034482758620689655,0.034482758620689655,0.034482758620689655,0.034482758620689655,0.034482758620689655,0.034482758620689655,0.034482758620689655,0.034482758620689655,0.034482758620689655,0.034482758620689655,0.034482758620689655,0.034482758620689655,0.034482758620689655,0.034482758620689655,0.034482758620689655,0.034482758620689655,0.034482758620689655,0.034482758620689655,0.034482758620689655,0.034482758620689655,0.034482758620689655,0.034482758620689655,0.034482758620689655,0.034482758620689655,0.034482758620689655,0.034482758620689655,0.034482758620689655,0.034482758620689655,0.034482758620689655,0.034482758620689655,0.034482758620689655,0.034482758620689655,0.034482758620689655,0.034482758620689655,0.034482758620689655,0.034482758620689655,0.034482758620689655,0.034482758620689655,0.034482758620689655,0.034482758620689655,0.034482758620689655,0.034482758620689655,0.034482758620689655,0.034482758620689655,0.034482758620689655,0.034482758620689655,0.034482758620689655,0.034482758620689655,0.034482758620689655,0.034482758620689655,0.034482758620689655,0.034482758620689655,0.034482758620689655,0.034482758620689655,0.034482758620689655,0.034482758620689655,0.034482758620689655,0.034482758620689655,0.034482758620689655,0.034482758620689655,0.034482758620689655,0.034482758620689655,0.034482758620689655,0.034482758620689655,0.034482758620689655,0.034482758620689655,0.034482758620689655,0.034482758620689655,0.034482758620689655,0.034482758620689655,0.034482758620689655,0.034482758620689655,0.034482758620689655,0.034482758620689655,0.034482758620689655,0.034482758620689655,0.034482758620689655,0.034482758620689655,0.034482758620689655,0.034482758620689655,0.034482758620689655,0.034482758620689655,0.034482758620689655,0.034482758620689655,0.034482758620689655,0.034482758620689655,0.034482758620689655,0.034482758620689655,0.034482758620689655,0.034482758620689655,0.034482758620689655,0.034482758620689655,0.034482758620689655,0.034482758620689655,0.034482758620689655,0.034482758620689655,0.034482758620689655,0.034482758620689655,0.034482758620689655,0.034482758620689655,0.034482758620689655,0.034482758620689655,0.034482758620689655,0.034482758620689655,0.034482758620689655,0.034482758620689655,0.034482758620689655,0.034482758620689655,0.034482758620689655,0.034482758620689655,0.034482758620689655,0.034482758620689655,0.034482758620689655,0.034482758620689655,0.034482758620689655,0.034482758620689655,0.034482758620689655,0.034482758620689655,0.034482758620689655,0.034482758620689655,0.034482758620689655,0.034482758620689655,0.034482758620689655,0.034482758620689655,0.034482758620689655,0.034482758620689655,0.034482758620689655,0.034482758620689655,0.034482758620689655,0.034482758620689655,0.034482758620689655,0.034482758620689655,0.034482758620689655,0.034482758620689655,0.034482758620689655,0.034482758620689655,0.034482758620689655,0.034482758620689655,0.034482758620689655,0.034482758620689655,0.034482758620689655,0.034482758620689655,0.034482758620689655,0.034482758620689655,0.034482758620689655,0.034482758620689655,0.034482758620689655,0.034482758620689655,0.034482758620689655,0.034482758620689655,0.034482758620689655,0.034482758620689655,0.034482758620689655,0.034482758620689655,0.034482758620689655,0.034482758620689655,0.034482758620689655,0.034482758620689655,0.034482758620689655,0.034482758620689655,0.034482758620689655,0.034482758620689655,0.034482758620689655,0.034482758620689655,0.034482758620689655,0.034482758620689655,0.034482758620689655,0.034482758620689655,0.034482758620689655,0.034482758620689655,0.034482758620689655,0.034482758620689655,0.034482758620689655,0.034482758620689655,0.034482758620689655,0.034482758620689655,0.034482758620689655,0.034482758620689655,0.034482758620689655,0.034482758620689655,0.034482758620689655,0.034482758620689655,0.034482758620689655,0.034482758620689655,0.034482758620689655,0.034482758620689655,0.034482758620689655,0.034482758620689655,0.034482758620689655,0.034482758620689655,0.034482758620689655,0.034482758620689655,0.034482758620689655,0.034482758620689655,0.034482758620689655,0.034482758620689655,0.034482758620689655,0.034482758620689655,0.034482758620689655,0.034482758620689655,0.034482758620689655,0.034482758620689655,0.034482758620689655,0.034482758620689655,0.034482758620689655,0.034482758620689655,0.034482758620689655,0.034482758620689655,0.034482758620689655,0.034482758620689655,0.034482758620689655,0.034482758620689655,0.034482758620689655,0.034482758620689655,0.034482758620689655,0.034482758620689655,0.034482758620689655,0.034482758620689655,0.034482758620689655,0.034482758620689655,0.034482758620689655,0.034482758620689655,0.034482758620689655,0.034482758620689655,0.034482758620689655,0.034482758620689655,0.034482758620689655,0.034482758620689655,0.034482758620689655,0.034482758620689655,0.034482758620689655,0.034482758620689655,0.034482758620689655,0.034482758620689655,0.034482758620689655,0.034482758620689655,0.034482758620689655,0.034482758620689655,0.034482758620689655,0.034482758620689655,0.034482758620689655,0.034482758620689655,0.034482758620689655,0.034482758620689655,0.034482758620689655,0.034482758620689655,0.034482758620689655,0.034482758620689655,0.034482758620689655,0.034482758620689655,0.034482758620689655,0.034482758620689655,0.034482758620689655,0.034482758620689655,0.034482758620689655,0.034482758620689655,0.034482758620689655,0.034482758620689655,0.017241379310344827,0.017241379310344827,0.017241379310344827,0.017241379310344827,0.017241379310344827,0.017241379310344827,0.017241379310344827,0.017241379310344827,0.017241379310344827,0.017241379310344827,0.017241379310344827,0.017241379310344827,0.017241379310344827,0.017241379310344827,0.017241379310344827,0.017241379310344827,0.017241379310344827,0.017241379310344827,0.017241379310344827,0.017241379310344827,0.017241379310344827,0.017241379310344827,0.017241379310344827,0.017241379310344827,0.017241379310344827,0.017241379310344827,0.017241379310344827,0.017241379310344827,0.017241379310344827,0.017241379310344827,0.017241379310344827,0.017241379310344827,0.017241379310344827,0.017241379310344827,0.017241379310344827,0.017241379310344827,0.017241379310344827,0.017241379310344827,0.017241379310344827,0.017241379310344827,0.017241379310344827,0.017241379310344827,0.017241379310344827,0.017241379310344827,0.017241379310344827,0.017241379310344827,0.017241379310344827,0.017241379310344827,0.017241379310344827,0.017241379310344827,0.017241379310344827,0.017241379310344827,0.017241379310344827,0.017241379310344827,0.017241379310344827,0.017241379310344827,0.017241379310344827,0.017241379310344827,0.017241379310344827,0.017241379310344827,0.017241379310344827,0.017241379310344827,0.017241379310344827,0.017241379310344827,0.017241379310344827,0.017241379310344827,0.017241379310344827,0.017241379310344827,0.017241379310344827,0.017241379310344827,0.017241379310344827,0.017241379310344827,0.017241379310344827,0.017241379310344827,0.017241379310344827,0.017241379310344827,0.017241379310344827,0.017241379310344827,0.017241379310344827,0.017241379310344827,0.017241379310344827,0.017241379310344827,0.017241379310344827,0.017241379310344827,0.017241379310344827,0.017241379310344827,0.017241379310344827,0.017241379310344827,0.017241379310344827,0.017241379310344827,0.017241379310344827,0.017241379310344827,0.017241379310344827,0.017241379310344827,0.017241379310344827,0.017241379310344827,0.017241379310344827,0.017241379310344827,0.017241379310344827,0.017241379310344827,0.017241379310344827,0.017241379310344827,0.017241379310344827,0.017241379310344827,0.017241379310344827,0.017241379310344827,0.017241379310344827,0.017241379310344827,0.017241379310344827,0.017241379310344827,0.017241379310344827,0.017241379310344827,0.017241379310344827,0.017241379310344827,0.017241379310344827,0.017241379310344827,0.017241379310344827,0.017241379310344827,0.017241379310344827,0.017241379310344827,0.017241379310344827,0.017241379310344827,0.017241379310344827,0.017241379310344827,0.017241379310344827,0.017241379310344827,0.017241379310344827,0.017241379310344827,0.017241379310344827,0.017241379310344827,0.017241379310344827,0.017241379310344827,0.017241379310344827,0.017241379310344827,0.017241379310344827,0.017241379310344827,0.017241379310344827,0.017241379310344827,0.017241379310344827,0.017241379310344827,0.017241379310344827,0.017241379310344827,0.017241379310344827,0.017241379310344827,0.017241379310344827,0.017241379310344827,0.017241379310344827,0.017241379310344827,0.017241379310344827,0.017241379310344827,0.017241379310344827,0.017241379310344827,0.017241379310344827,0.017241379310344827,0.017241379310344827,0.017241379310344827,0.017241379310344827,0.017241379310344827,0.017241379310344827,0.017241379310344827,0.017241379310344827,0.017241379310344827,0.017241379310344827,0.017241379310344827,0.017241379310344827,0.017241379310344827,0.017241379310344827,0.017241379310344827,0.017241379310344827,0.017241379310344827,0.017241379310344827,0.017241379310344827,0.017241379310344827,0.017241379310344827,0.017241379310344827,0.017241379310344827,0.017241379310344827,0.017241379310344827,0.017241379310344827,0.017241379310344827,0.017241379310344827,0.017241379310344827,0.017241379310344827,0.017241379310344827,0.017241379310344827,0.017241379310344827,0.017241379310344827,0.017241379310344827,0.017241379310344827,0.017241379310344827,0.017241379310344827,0.017241379310344827,0.017241379310344827,0.017241379310344827,0.017241379310344827,0.017241379310344827,0.017241379310344827,0.017241379310344827,0.017241379310344827,0.017241379310344827,0.017241379310344827,0.017241379310344827,0.017241379310344827,0.017241379310344827,0.017241379310344827,0.017241379310344827,0.017241379310344827,0.017241379310344827,0.017241379310344827,0.017241379310344827,0.017241379310344827,0.017241379310344827,0.017241379310344827,0.017241379310344827,0.017241379310344827,0.017241379310344827,0.017241379310344827,0.017241379310344827,0.017241379310344827,0.017241379310344827,0.017241379310344827,0.017241379310344827,0.017241379310344827,0.017241379310344827,0.017241379310344827,0.017241379310344827,0.017241379310344827,0.017241379310344827,0.017241379310344827,0.017241379310344827,0.017241379310344827,0.017241379310344827,0.017241379310344827,0.017241379310344827,0.017241379310344827,0.017241379310344827,0.017241379310344827,0.017241379310344827,0.017241379310344827,0.017241379310344827,0.017241379310344827,0.017241379310344827,0.017241379310344827,0.017241379310344827,0.017241379310344827,0.017241379310344827,0.017241379310344827,0.017241379310344827,0.017241379310344827,0.017241379310344827,0.017241379310344827,0.017241379310344827,0.017241379310344827,0.017241379310344827,0.017241379310344827,0.017241379310344827,0.017241379310344827,0.017241379310344827,0.017241379310344827,0.017241379310344827,0.017241379310344827,0.017241379310344827,0.017241379310344827,0.017241379310344827,0.017241379310344827,0.017241379310344827,0.017241379310344827,0.017241379310344827,0.017241379310344827,0.017241379310344827,0.017241379310344827,0.017241379310344827,0.017241379310344827,0.017241379310344827,0.017241379310344827,0.017241379310344827,0.017241379310344827,0.017241379310344827,0.017241379310344827,0.017241379310344827,0.017241379310344827,0.017241379310344827,0.017241379310344827,0.017241379310344827,0.017241379310344827,0.017241379310344827,0.017241379310344827,0.017241379310344827,0.017241379310344827,0.017241379310344827,0.017241379310344827,0.017241379310344827,0.017241379310344827,0.017241379310344827,0.017241379310344827,0.017241379310344827,0.017241379310344827,0.017241379310344827,0.017241379310344827,0.017241379310344827,0.017241379310344827,0.017241379310344827,0.017241379310344827,0.017241379310344827,0.017241379310344827,0.017241379310344827,0.017241379310344827,0.017241379310344827,0.017241379310344827,0.017241379310344827,0.017241379310344827,0.017241379310344827,0.017241379310344827,0.017241379310344827,0.017241379310344827,0.017241379310344827,0.017241379310344827,0.017241379310344827,0.017241379310344827,0.017241379310344827,0.017241379310344827,0.017241379310344827,0.017241379310344827,0.017241379310344827,0.017241379310344827,0.017241379310344827,0.017241379310344827,0.017241379310344827,0.017241379310344827,0.017241379310344827,0.017241379310344827,0.017241379310344827,0.017241379310344827,0.017241379310344827,0.017241379310344827,0.017241379310344827,0.017241379310344827,0.017241379310344827,0.017241379310344827,0.017241379310344827,0.017241379310344827,0.017241379310344827,0.017241379310344827,0.017241379310344827,0.017241379310344827,0.017241379310344827,0.017241379310344827,0.017241379310344827,0.017241379310344827,0.017241379310344827,0.017241379310344827,0.017241379310344827,0.017241379310344827,0.017241379310344827,0.017241379310344827,0.017241379310344827,0.017241379310344827,0.017241379310344827,0.017241379310344827,0.017241379310344827,0.017241379310344827,0.017241379310344827,0.017241379310344827,0.017241379310344827,0.017241379310344827,0.017241379310344827,0.017241379310344827,0.017241379310344827,0.017241379310344827,0.017241379310344827,0.017241379310344827,0.017241379310344827,0.017241379310344827,0.017241379310344827,0.017241379310344827,0.017241379310344827,0.017241379310344827,0.017241379310344827,0.017241379310344827,0.017241379310344827,0.017241379310344827,0.017241379310344827,0.017241379310344827,0.017241379310344827,0.017241379310344827,0.017241379310344827,0.017241379310344827,0.017241379310344827,0.017241379310344827,0.017241379310344827,0.017241379310344827,0.017241379310344827,0.017241379310344827,0.017241379310344827,0.017241379310344827,0.017241379310344827,0.017241379310344827,0.017241379310344827,0.017241379310344827,0.017241379310344827,0.0,0.0,0.0,0.0,0.0,0.0,0.0,0.0,0.0,0.0,0.0,0.0,0.0,0.0,0.0,0.0,0.0,0.0,0.0,0.0,0.0,0.0,0.0,0.0,0.0,0.0,0.0,0.0,0.0,0.0,0.0,0.0,0.0,0.0,0.0,0.0,0.0,0.0,0.0,0.0,0.0,0.0,0.0,0.0,0.0,0.0,0.0,0.0,0.0,0.0,0.0,0.0,0.0,0.0,0.0,0.0,0.0,0.0,0.0,0.0,0.0,0.0,0.0,0.0,0.0,0.0,0.0,0.0,0.0,0.0,0.0,0.0,0.0,0.0,0.0,0.0,0.0,0.0,0.0,0.0,0.0,0.0,0.0,0.0,0.0,0.0,0.0,0.0,0.0,0.0,0.0,0.0,0.0,0.0,0.0,0.0,0.0,0.0,0.0,0.0,0.0,0.0,0.0,0.0,0.0,0.0,0.0,0.0,0.0,0.0,0.0,0.0,0.0,0.0,0.0,0.0,0.0,0.0,0.0,0.0,0.0,0.0,0.0,0.0,0.0,0.0,0.0,0.0,0.0,0.0,0.0,0.0,0.0,0.0,0.0,0.0,0.0,0.0,0.0,0.0,0.0,0.0,0.0,0.0,0.0,0.0,0.0,0.0,0.0,0.0,0.0,0.0,0.0,0.0,0.0,0.0,0.0,0.0,0.0,0.0,0.0,0.0,0.0,0.0,0.0,0.0,0.0,0.0,0.0,0.0,0.0,0.0,0.0,0.0,0.0,0.0,0.0,0.0,0.0,0.0,0.0,0.0,0.0,0.0,0.0,0.0,0.0,0.0,0.0,0.0,0.0,0.0,0.0,0.0,0.0,0.0,0.0,0.0,0.0,0.0,0.0,0.0,0.0,0.0,0.0,0.0,0.0,0.0,0.0,0.0,0.0,0.0,0.0,0.0,0.0,0.0,0.0,0.0,0.0,0.0,0.0,0.0,0.0,0.0,0.0,0.0,0.0,0.0,0.0,0.0,0.0,0.0,0.0,0.0,0.0,0.0,0.0,0.0,0.0,0.0,0.0,0.0,0.0,0.0,0.0,0.0,0.0,0.0,0.0,0.0,0.0,0.0,0.0,0.0,0.0,0.0,0.0,0.0,0.0,0.0,0.0,0.0,0.0,0.0,0.0,0.0,0.0,0.0,0.0,0.0,0.0,0.0,0.0,0.0,0.0,0.0,0.0,0.0,0.0,0.0,0.0,0.0,0.0,0.0,0.0,0.0,0.0,0.0,0.0,0.0,0.0,0.0,0.0,0.0,0.0,0.0,0.0,0.0,0.0,0.0,0.0,0.0,0.0,0.0,0.0,0.0,0.0,0.0,0.0,0.0,0.0,0.0,0.0,0.0,0.0,0.0,0.0,0.0,0.0,0.0,0.0,0.0,0.0,0.0,0.0,0.0,0.0,0.0,0.0,0.0,0.0,0.0,0.0,0.0,0.0,0.0,0.0,0.0,0.0,0.0,0.0,0.0,0.0,0.0,0.0,0.0,0.0,0.0,0.0,0.0,0.0,0.0,0.0,0.0,0.0,0.0,0.0,0.0,0.0,0.0,0.0,0.0,0.0,0.0,0.0,0.0,0.0,0.0,0.0,0.0,0.0,0.0,0.0,0.0,0.0,0.0,0.0,0.0,0.0,0.0,0.0,0.0,0.0,0.0,0.0,0.0,0.0,0.0,0.0,0.0,0.0,0.0,0.0,0.0,0.0,0.0,0.0,0.0,0.0,0.0,0.0,0.0,0.0,0.0,0.0,0.0,0.0,0.0,0.0,0.0,0.0,0.0,0.0,0.0,0.0,0.0,0.0,0.0,0.0,0.0,0.0,0.0,0.0,0.0,0.0,0.0,0.0,0.0,0.0,0.0,0.0,0.0,0.0,0.0,0.0,0.0,0.0,0.0,0.0,0.0,0.0,0.0,0.0,0.0,0.0,0.0,0.0,0.0,0.0,0.0,0.0,0.0,0.0,0.0,0.0,0.0,0.0,0.0,0.0,0.0,0.0,0.0,0.0,0.0,0.0,0.0,0.0,0.0,0.0,0.0,0.0,0.0,0.0,0.0,0.0,0.0,0.0,0.0,0.0,0.0,0.0,0.0,0.0,0.0,0.0,0.0,0.0,0.0,0.0,0.0,0.0,0.0,0.0,0.0,0.0,0.0,0.0,0.0,0.0,0.0,0.0,0.0,0.0,0.0,0.0,0.0,0.0,0.0,0.0,0.0,0.0,0.0,0.0,0.0,0.0,0.0,0.0,0.0,0.0,0.0,0.0,0.0,0.0,0.0,0.0,0.0,0.0,0.0,0.0,0.0,0.0,0.0,0.0,0.0,0.0,0.0,0.0,0.0,0.0,0.0,0.0,0.0,0.0,0.0,0.0,0.0,0.0,0.0,0.0,0.0,0.0,0.0,0.0,0.0,0.0,0.0,0.0,0.0,0.0,0.0,0.0,0.0,0.0,0.0,0.0,0.0,0.0,0.0,0.0,0.0,0.0,0.0,0.0,0.0,0.0,0.0,0.0,0.0,0.0,0.0,0.0,0.0,0.0,0.0,0.0,0.0,0.0,0.0,0.0,0.0,0.0,0.0,0.0,0.0,0.0,0.0,0.0,0.0,0.0,0.0,0.0,0.0,0.0,0.0,0.0,0.0,0.0,0.0,0.0,0.0,0.0,0.0,0.0,0.0,0.0,0.0,0.0,0.0,0.0,0.0,0.0,0.0,0.0,0.0,0.0,0.0,0.0,0.0,0.0,0.0,0.0,0.0,0.0,0.0,0.0,0.0,0.0,0.0,0.0,0.0,0.0,0.0,0.0,0.0,0.0,0.0,0.0,0.0,0.0,0.0,0.0,0.0,0.0,0.0,0.0,0.0,0.0,0.0,0.0,0.0,0.0,0.0,0.0,0.0,0.0,0.0,0.0,0.0,0.0,0.0,0.0,0.0,0.0,0.0,0.0,0.0,0.0,0.0,0.0,0.0,0.0,0.0,0.0,0.0,0.0,0.0,0.0,0.0,0.0,0.0,0.0,0.0,0.0,0.0,0.0,0.0,0.0,0.0,0.0,0.0,0.0,0.0,0.0,0.0,0.0,0.0,0.0,0.0,0.0,0.0,0.0,0.0,0.0,0.0,0.0,0.0,0.0,0.0,0.0,0.0,0.0,0.0,0.0,0.0,0.0,0.0,0.0,0.0,0.0,0.0,0.0,0.0,0.0,0.0,0.0,0.0,0.0,0.0,0.0,0.0,0.0,0.0,0.0,0.0,0.0,0.0,0.0,0.0,0.0,0.0,0.0,0.0,0.0,0.0,0.0,0.0,0.0,0.0,0.0,0.0,0.0,0.0,0.0,0.0,0.0,0.0,0.0,0.0,0.0,0.0,0.0,0.0,0.0,0.0,0.0,0.0,0.0,0.0,0.0,0.0,0.0,0.0,0.0,0.0,0.0,0.0,0.0,0.0,0.0,0.0,0.0,0.0,0.0,0.0,0.0,0.0,0.0,0.0,0.0,0.0],\"xaxis\":\"x\",\"y\":[1.0,1.0,1.0,1.0,1.0,1.0,1.0,1.0,1.0,1.0,1.0,1.0,1.0,1.0,1.0,1.0,1.0,1.0,1.0,1.0,1.0,1.0,1.0,1.0,1.0,1.0,1.0,1.0,1.0,1.0,1.0,1.0,1.0,1.0,1.0,1.0,1.0,1.0,1.0,1.0,1.0,1.0,1.0,1.0,1.0,1.0,1.0,1.0,1.0,1.0,1.0,1.0,1.0,1.0,1.0,1.0,1.0,1.0,1.0,1.0,1.0,1.0,1.0,1.0,1.0,1.0,1.0,1.0,1.0,1.0,1.0,1.0,1.0,1.0,1.0,1.0,1.0,1.0,1.0,1.0,1.0,1.0,1.0,1.0,1.0,1.0,1.0,1.0,1.0,1.0,1.0,1.0,1.0,1.0,1.0,1.0,1.0,1.0,1.0,1.0,1.0,1.0,1.0,1.0,1.0,1.0,1.0,1.0,1.0,1.0,1.0,1.0,1.0,1.0,1.0,1.0,1.0,1.0,1.0,1.0,1.0,1.0,1.0,1.0,1.0,1.0,1.0,1.0,1.0,1.0,1.0,1.0,1.0,1.0,1.0,1.0,1.0,1.0,1.0,1.0,1.0,1.0,1.0,1.0,1.0,1.0,1.0,1.0,1.0,1.0,1.0,1.0,1.0,1.0,1.0,1.0,1.0,1.0,1.0,1.0,1.0,1.0,1.0,1.0,1.0,1.0,1.0,1.0,1.0,1.0,1.0,1.0,1.0,1.0,1.0,1.0,1.0,1.0,1.0,1.0,1.0,1.0,1.0,1.0,1.0,1.0,1.0,1.0,1.0,1.0,1.0,1.0,1.0,1.0,1.0,1.0,1.0,1.0,1.0,1.0,1.0,1.0,1.0,1.0,1.0,1.0,1.0,1.0,1.0,1.0,1.0,1.0,1.0,1.0,1.0,1.0,1.0,1.0,1.0,1.0,1.0,1.0,1.0,1.0,1.0,1.0,1.0,1.0,1.0,1.0,1.0,1.0,1.0,1.0,1.0,1.0,1.0,1.0,1.0,1.0,1.0,1.0,1.0,1.0,1.0,1.0,1.0,1.0,1.0,1.0,1.0,1.0,1.0,1.0,1.0,1.0,1.0,1.0,1.0,1.0,1.0,1.0,1.0,1.0,1.0,1.0,1.0,1.0,1.0,1.0,1.0,1.0,1.0,1.0,1.0,1.0,1.0,1.0,1.0,1.0,1.0,1.0,1.0,1.0,1.0,1.0,1.0,1.0,1.0,1.0,1.0,1.0,1.0,1.0,1.0,1.0,1.0,1.0,1.0,1.0,1.0,1.0,1.0,1.0,1.0,1.0,1.0,1.0,1.0,1.0,1.0,1.0,1.0,1.0,1.0,1.0,1.0,1.0,1.0,1.0,1.0,1.0,1.0,1.0,1.0,1.0,1.0,1.0,1.0,1.0,1.0,1.0,1.0,1.0,1.0,1.0,1.0,1.0,1.0,1.0,1.0,1.0,1.0,1.0,1.0,1.0,1.0,1.0,1.0,1.0,1.0,1.0,1.0,1.0,1.0,1.0,1.0,1.0,1.0,1.0,1.0,1.0,1.0,1.0,1.0,1.0,1.0,1.0,1.0,1.0,1.0,1.0,1.0,1.0,1.0,1.0,1.0,1.0,1.0,1.0,1.0,1.0,1.0,1.0,1.0,1.0,1.0,1.0,1.0,1.0,1.0,1.0,1.0,1.0,1.0,1.0,1.0,1.0,1.0,1.0,1.0,1.0,1.0,1.0,1.0,1.0,1.0,1.0,1.0,1.0,1.0,1.0,1.0,1.0,1.0,1.0,1.0,1.0,1.0,1.0,1.0,1.0,1.0,1.0,1.0,1.0,1.0,1.0,1.0,1.0,1.0,1.0,1.0,1.0,1.0,1.0,1.0,1.0,1.0,1.0,1.0,1.0,1.0,1.0,1.0,1.0,1.0,1.0,1.0,1.0,1.0,1.0,1.0,1.0,1.0,1.0,1.0,1.0,1.0,1.0,1.0,1.0,1.0,1.0,1.0,1.0,1.0,1.0,1.0,1.0,1.0,1.0,1.0,1.0,1.0,1.0,1.0,1.0,1.0,1.0,1.0,1.0,1.0,1.0,1.0,1.0,1.0,1.0,1.0,1.0,1.0,1.0,1.0,1.0,1.0,1.0,1.0,1.0,1.0,1.0,1.0,1.0,1.0,1.0,1.0,1.0,1.0,1.0,1.0,1.0,1.0,1.0,1.0,1.0,1.0,1.0,1.0,1.0,1.0,1.0,1.0,1.0,1.0,1.0,1.0,1.0,1.0,1.0,1.0,1.0,1.0,1.0,1.0,1.0,1.0,1.0,1.0,1.0,1.0,1.0,1.0,1.0,1.0,1.0,1.0,1.0,1.0,1.0,1.0,1.0,1.0,1.0,1.0,1.0,1.0,1.0,1.0,1.0,1.0,1.0,1.0,1.0,1.0,1.0,1.0,1.0,1.0,1.0,1.0,1.0,1.0,1.0,1.0,1.0,1.0,1.0,1.0,1.0,1.0,1.0,1.0,1.0,1.0,1.0,1.0,1.0,1.0,1.0,1.0,1.0,1.0,1.0,1.0,1.0,1.0,1.0,1.0,1.0,1.0,1.0,1.0,1.0,1.0,1.0,1.0,1.0,1.0,1.0,1.0,1.0,1.0,1.0,1.0,1.0,1.0,1.0,1.0,1.0,1.0,1.0,1.0,1.0,1.0,1.0,1.0,1.0,1.0,1.0,1.0,1.0,1.0,1.0,1.0,1.0,1.0,1.0,1.0,1.0,1.0,1.0,1.0,1.0,1.0,1.0,1.0,1.0,1.0,1.0,1.0,1.0,1.0,1.0,1.0,1.0,1.0,1.0,1.0,1.0,1.0,1.0,1.0,1.0,1.0,1.0,1.0,1.0,1.0,1.0,1.0,1.0,1.0,1.0,1.0,1.0,1.0,1.0,1.0,1.0,1.0,1.0,1.0,1.0,1.0,1.0,1.0,1.0,1.0,1.0,1.0,1.0,1.0,1.0,1.0,1.0,1.0,1.0,1.0,1.0,1.0,1.0,1.0,1.0,1.0,1.0,1.0,1.0,1.0,1.0,1.0,1.0,1.0,1.0,1.0,1.0,1.0,1.0,1.0,1.0,1.0,1.0,1.0,1.0,1.0,1.0,1.0,1.0,1.0,1.0,1.0,1.0,1.0,1.0,1.0,1.0,1.0,1.0,1.0,1.0,1.0,1.0,1.0,1.0,1.0,1.0,1.0,1.0,1.0,1.0,1.0,1.0,1.0,1.0,1.0,1.0,1.0,1.0,1.0,1.0,1.0,1.0,1.0,1.0,1.0,1.0,1.0,1.0,1.0,1.0,1.0,1.0,1.0,1.0,1.0,1.0,1.0,1.0,1.0,1.0,1.0,1.0,1.0,1.0,1.0,1.0,1.0,1.0,1.0,1.0,1.0,1.0,1.0,1.0,1.0,1.0,1.0,1.0,1.0,1.0,1.0,1.0,1.0,1.0,1.0,1.0,1.0,1.0,1.0,1.0,1.0,1.0,1.0,1.0,1.0,1.0,1.0,1.0,1.0,1.0,1.0,1.0,1.0,1.0,1.0,1.0,1.0,1.0,1.0,1.0,1.0,1.0,1.0,1.0,1.0,1.0,1.0,1.0,1.0,1.0,1.0,1.0,1.0,1.0,1.0,1.0,1.0,1.0,1.0,1.0,1.0,1.0,1.0,1.0,1.0,1.0,1.0,1.0,1.0,1.0,1.0,1.0,1.0,1.0,1.0,1.0,1.0,1.0,1.0,1.0,1.0,1.0,1.0,1.0,1.0,1.0,1.0,1.0,1.0,1.0,1.0,1.0,1.0,1.0,1.0,1.0,1.0,1.0,1.0,1.0,1.0,1.0,1.0,1.0,1.0,1.0,1.0,1.0,1.0,1.0,1.0,1.0,1.0,1.0,1.0,1.0,1.0,1.0,1.0,1.0,1.0,1.0,1.0,1.0,1.0,1.0,1.0,1.0,1.0,1.0,1.0,1.0,1.0,1.0,1.0,1.0,1.0,1.0,1.0,1.0,1.0,1.0,1.0,1.0,1.0,1.0,1.0,1.0,1.0,1.0,1.0,1.0,1.0,1.0,1.0,1.0,1.0,1.0,1.0,1.0,1.0,1.0,1.0,1.0,1.0,1.0,1.0,1.0,1.0,1.0,1.0,1.0,1.0,1.0,1.0,1.0,1.0,1.0,1.0,1.0,1.0,1.0,1.0,1.0,1.0,1.0,1.0,1.0,1.0,1.0,1.0,1.0,1.0,1.0,1.0,1.0,1.0,1.0,1.0,1.0,1.0,1.0,1.0,1.0,1.0,1.0,1.0,1.0,1.0,1.0,1.0,1.0,1.0,1.0,1.0,1.0,1.0,1.0,1.0,1.0,1.0,1.0,1.0,1.0,1.0,1.0,1.0,1.0,1.0,1.0,1.0,1.0,1.0,1.0,1.0,1.0,1.0,1.0,1.0,1.0,1.0,1.0,1.0,1.0,1.0,1.0,1.0,1.0,1.0,1.0,1.0,1.0,1.0,1.0,1.0,1.0,1.0,1.0,1.0,1.0,1.0,1.0,1.0,1.0,1.0,1.0,1.0,1.0,1.0,1.0,1.0,1.0,1.0,1.0,1.0,1.0,1.0,1.0,1.0,1.0,1.0,1.0,1.0,1.0,1.0,1.0,1.0,1.0,1.0,1.0,1.0,1.0,1.0,1.0,1.0,1.0,1.0,1.0,1.0,1.0,1.0,1.0,1.0,1.0,1.0,1.0,1.0,1.0,1.0,1.0,1.0,1.0,1.0,1.0,1.0,1.0,1.0,1.0,1.0,1.0,1.0,1.0,1.0,1.0,1.0,1.0,1.0,1.0,1.0,1.0,1.0,1.0,1.0,1.0,1.0,1.0,1.0,1.0,1.0,1.0,1.0,1.0,1.0,1.0,1.0,1.0,1.0,1.0,1.0,1.0,1.0,1.0,1.0,1.0,1.0,1.0,1.0,1.0,1.0,1.0,1.0,1.0,1.0,1.0,1.0,1.0,1.0,1.0,1.0,1.0,1.0,1.0,1.0,1.0,1.0,1.0,1.0,1.0,1.0,1.0,1.0,1.0,1.0,1.0,1.0,1.0,1.0,1.0,1.0,1.0,1.0,1.0,1.0,1.0,1.0,1.0,1.0,1.0,1.0,1.0,1.0,1.0,1.0,1.0,1.0,1.0,1.0,1.0,1.0,1.0,1.0,1.0,0.9838709677419355,0.9838709677419355,0.9838709677419355,0.9838709677419355,0.9838709677419355,0.9838709677419355,0.9838709677419355,0.9838709677419355,0.9838709677419355,0.9838709677419355,0.9838709677419355,0.9838709677419355,0.9838709677419355,0.9838709677419355,0.9838709677419355,0.9838709677419355,0.9838709677419355,0.9838709677419355,0.9838709677419355,0.9838709677419355,0.9838709677419355,0.9838709677419355,0.9838709677419355,0.9838709677419355,0.9838709677419355,0.9838709677419355,0.9838709677419355,0.9838709677419355,0.9838709677419355,0.9838709677419355,0.9838709677419355,0.9838709677419355,0.9838709677419355,0.9838709677419355,0.9838709677419355,0.9838709677419355,0.9838709677419355,0.9838709677419355,0.9838709677419355,0.9838709677419355,0.9838709677419355,0.9838709677419355,0.9838709677419355,0.9838709677419355,0.9838709677419355,0.9838709677419355,0.9838709677419355,0.9838709677419355,0.9838709677419355,0.9838709677419355,0.9838709677419355,0.9838709677419355,0.9838709677419355,0.9838709677419355,0.9838709677419355,0.9838709677419355,0.9838709677419355,0.9838709677419355,0.9838709677419355,0.9838709677419355,0.9838709677419355,0.9838709677419355,0.9838709677419355,0.9838709677419355,0.9838709677419355,0.9838709677419355,0.9838709677419355,0.9838709677419355,0.9838709677419355,0.9838709677419355,0.9838709677419355,0.9838709677419355,0.9838709677419355,0.9838709677419355,0.9838709677419355,0.9838709677419355,0.9838709677419355,0.9838709677419355,0.9838709677419355,0.9838709677419355,0.9838709677419355,0.9838709677419355,0.9838709677419355,0.9838709677419355,0.9838709677419355,0.9838709677419355,0.9838709677419355,0.9838709677419355,0.9838709677419355,0.9838709677419355,0.9838709677419355,0.9838709677419355,0.9838709677419355,0.9838709677419355,0.9838709677419355,0.9838709677419355,0.9838709677419355,0.9838709677419355,0.9838709677419355,0.9838709677419355,0.9838709677419355,0.9838709677419355,0.9838709677419355,0.9838709677419355,0.9838709677419355,0.9838709677419355,0.9838709677419355,0.9838709677419355,0.9838709677419355,0.9838709677419355,0.9838709677419355,0.9838709677419355,0.9838709677419355,0.9838709677419355,0.9838709677419355,0.9838709677419355,0.9838709677419355,0.9838709677419355,0.9838709677419355,0.9838709677419355,0.9838709677419355,0.9838709677419355,0.9838709677419355,0.9838709677419355,0.9838709677419355,0.9838709677419355,0.9838709677419355,0.9838709677419355,0.9838709677419355,0.9838709677419355,0.9838709677419355,0.9838709677419355,0.9838709677419355,0.9838709677419355,0.9838709677419355,0.9838709677419355,0.9838709677419355,0.9838709677419355,0.9838709677419355,0.9838709677419355,0.9838709677419355,0.9838709677419355,0.9838709677419355,0.9838709677419355,0.9838709677419355,0.9838709677419355,0.9838709677419355,0.9838709677419355,0.9838709677419355,0.9838709677419355,0.9838709677419355,0.9838709677419355,0.9838709677419355,0.9838709677419355,0.9838709677419355,0.9838709677419355,0.9838709677419355,0.9838709677419355,0.9838709677419355,0.9838709677419355,0.9838709677419355,0.9838709677419355,0.9838709677419355,0.9838709677419355,0.9838709677419355,0.9838709677419355,0.9838709677419355,0.9838709677419355,0.9838709677419355,0.9838709677419355,0.9838709677419355,0.9838709677419355,0.9838709677419355,0.9838709677419355,0.9838709677419355,0.9838709677419355,0.9838709677419355,0.9838709677419355,0.9838709677419355,0.9838709677419355,0.9838709677419355,0.9838709677419355,0.9838709677419355,0.9838709677419355,0.9838709677419355,0.9838709677419355,0.9838709677419355,0.9838709677419355,0.9838709677419355,0.9838709677419355,0.9838709677419355,0.9838709677419355,0.9838709677419355,0.9838709677419355,0.9838709677419355,0.9838709677419355,0.9838709677419355,0.9838709677419355,0.9838709677419355,0.9838709677419355,0.9838709677419355,0.9838709677419355,0.9838709677419355,0.9838709677419355,0.9838709677419355,0.9838709677419355,0.9838709677419355,0.9838709677419355,0.9838709677419355,0.9838709677419355,0.9838709677419355,0.9838709677419355,0.9838709677419355,0.9838709677419355,0.9838709677419355,0.9838709677419355,0.9838709677419355,0.9838709677419355,0.9838709677419355,0.9838709677419355,0.9838709677419355,0.9838709677419355,0.9838709677419355,0.9838709677419355,0.9838709677419355,0.9838709677419355,0.9838709677419355,0.9838709677419355,0.9838709677419355,0.9838709677419355,0.9838709677419355,0.9838709677419355,0.9838709677419355,0.9838709677419355,0.9838709677419355,0.9838709677419355,0.9838709677419355,0.9838709677419355,0.9838709677419355,0.9838709677419355,0.9838709677419355,0.9838709677419355,0.9838709677419355,0.9838709677419355,0.9838709677419355,0.9838709677419355,0.9838709677419355,0.9838709677419355,0.9838709677419355,0.9838709677419355,0.9838709677419355,0.9838709677419355,0.9838709677419355,0.9838709677419355,0.9838709677419355,0.9838709677419355,0.9838709677419355,0.9838709677419355,0.9838709677419355,0.9838709677419355,0.9838709677419355,0.9838709677419355,0.9838709677419355,0.9838709677419355,0.9838709677419355,0.9838709677419355,0.9838709677419355,0.9838709677419355,0.9838709677419355,0.9838709677419355,0.9838709677419355,0.9838709677419355,0.9838709677419355,0.9838709677419355,0.9838709677419355,0.9838709677419355,0.9838709677419355,0.9838709677419355,0.9838709677419355,0.9838709677419355,0.9838709677419355,0.9838709677419355,0.9838709677419355,0.9838709677419355,0.9838709677419355,0.9838709677419355,0.9838709677419355,0.9838709677419355,0.9838709677419355,0.9838709677419355,0.9838709677419355,0.9838709677419355,0.9838709677419355,0.9838709677419355,0.9838709677419355,0.9838709677419355,0.9838709677419355,0.9838709677419355,0.9838709677419355,0.9838709677419355,0.9838709677419355,0.9838709677419355,0.9838709677419355,0.9838709677419355,0.9838709677419355,0.9838709677419355,0.9838709677419355,0.9838709677419355,0.9838709677419355,0.9838709677419355,0.9838709677419355,0.9838709677419355,0.9838709677419355,0.9838709677419355,0.9838709677419355,0.9838709677419355,0.9838709677419355,0.9838709677419355,0.9838709677419355,0.9838709677419355,0.9838709677419355,0.9838709677419355,0.9838709677419355,0.9838709677419355,0.9838709677419355,0.9838709677419355,0.9838709677419355,0.9838709677419355,0.9838709677419355,0.9838709677419355,0.9838709677419355,0.9838709677419355,0.9838709677419355,0.9838709677419355,0.9838709677419355,0.9838709677419355,0.9838709677419355,0.9838709677419355,0.9838709677419355,0.9838709677419355,0.9838709677419355,0.9838709677419355,0.9838709677419355,0.9838709677419355,0.9838709677419355,0.9838709677419355,0.9838709677419355,0.9838709677419355,0.9838709677419355,0.9838709677419355,0.9838709677419355,0.9838709677419355,0.9838709677419355,0.9838709677419355,0.9838709677419355,0.9838709677419355,0.9838709677419355,0.9838709677419355,0.9838709677419355,0.9838709677419355,0.9838709677419355,0.9838709677419355,0.9838709677419355,0.9838709677419355,0.9838709677419355,0.9838709677419355,0.9838709677419355,0.9838709677419355,0.9838709677419355,0.9838709677419355,0.9838709677419355,0.9838709677419355,0.9838709677419355,0.9838709677419355,0.9838709677419355,0.9838709677419355,0.9838709677419355,0.9838709677419355,0.9838709677419355,0.9838709677419355,0.9838709677419355,0.9838709677419355,0.9838709677419355,0.9838709677419355,0.9838709677419355,0.9838709677419355,0.9838709677419355,0.9838709677419355,0.9838709677419355,0.9838709677419355,0.9838709677419355,0.9838709677419355,0.9838709677419355,0.9838709677419355,0.9838709677419355,0.9838709677419355,0.9838709677419355,0.9838709677419355,0.9838709677419355,0.9838709677419355,0.9516129032258065,0.9516129032258065,0.9516129032258065,0.9516129032258065,0.9516129032258065,0.9516129032258065,0.9516129032258065,0.9516129032258065,0.9516129032258065,0.9516129032258065,0.9516129032258065,0.9516129032258065,0.9516129032258065,0.9516129032258065,0.9516129032258065,0.9516129032258065,0.9516129032258065,0.9516129032258065,0.9516129032258065,0.9516129032258065,0.9516129032258065,0.9516129032258065,0.9516129032258065,0.9516129032258065,0.9516129032258065,0.9516129032258065,0.9516129032258065,0.9516129032258065,0.9516129032258065,0.9516129032258065,0.9516129032258065,0.9516129032258065,0.9516129032258065,0.9516129032258065,0.9516129032258065,0.9516129032258065,0.9516129032258065,0.9516129032258065,0.9516129032258065,0.9516129032258065,0.9516129032258065,0.9516129032258065,0.9516129032258065,0.9516129032258065,0.9516129032258065,0.9516129032258065,0.9516129032258065,0.9516129032258065,0.9516129032258065,0.9516129032258065,0.9516129032258065,0.9516129032258065,0.9516129032258065,0.9516129032258065,0.9516129032258065,0.9516129032258065,0.9516129032258065,0.9516129032258065,0.9516129032258065,0.9516129032258065,0.9516129032258065,0.9516129032258065,0.9516129032258065,0.9516129032258065,0.9516129032258065,0.9516129032258065,0.9516129032258065,0.9516129032258065,0.9516129032258065,0.9516129032258065,0.9516129032258065,0.9516129032258065,0.9516129032258065,0.9516129032258065,0.9516129032258065,0.9516129032258065,0.9516129032258065,0.9516129032258065,0.9516129032258065,0.9516129032258065,0.9516129032258065,0.9516129032258065,0.9516129032258065,0.9516129032258065,0.9516129032258065,0.9516129032258065,0.9516129032258065,0.9516129032258065,0.9516129032258065,0.9516129032258065,0.9516129032258065,0.9516129032258065,0.9516129032258065,0.9516129032258065,0.9516129032258065,0.9516129032258065,0.9516129032258065,0.9516129032258065,0.9516129032258065,0.9516129032258065,0.9516129032258065,0.9516129032258065,0.9516129032258065,0.9516129032258065,0.9516129032258065,0.9516129032258065,0.9516129032258065,0.9516129032258065,0.9516129032258065,0.9516129032258065,0.9516129032258065,0.9516129032258065,0.9516129032258065,0.9516129032258065,0.9516129032258065,0.9516129032258065,0.9516129032258065,0.9516129032258065,0.9516129032258065,0.9516129032258065,0.9516129032258065,0.9516129032258065,0.9516129032258065,0.9516129032258065,0.9516129032258065,0.9516129032258065,0.9516129032258065,0.9516129032258065,0.9516129032258065,0.9516129032258065,0.9516129032258065,0.9516129032258065,0.9516129032258065,0.9516129032258065,0.9516129032258065,0.9516129032258065,0.9516129032258065,0.9516129032258065,0.9516129032258065,0.9516129032258065,0.9516129032258065,0.9516129032258065,0.9516129032258065,0.9516129032258065,0.9516129032258065,0.9516129032258065,0.9516129032258065,0.9516129032258065,0.9516129032258065,0.9516129032258065,0.9516129032258065,0.9516129032258065,0.9516129032258065,0.9516129032258065,0.9516129032258065,0.9516129032258065,0.9516129032258065,0.9516129032258065,0.9516129032258065,0.9516129032258065,0.9516129032258065,0.9516129032258065,0.9516129032258065,0.9516129032258065,0.9516129032258065,0.9516129032258065,0.9516129032258065,0.9516129032258065,0.9516129032258065,0.9516129032258065,0.9516129032258065,0.9516129032258065,0.9516129032258065,0.9516129032258065,0.9516129032258065,0.9516129032258065,0.9516129032258065,0.9516129032258065,0.9516129032258065,0.9516129032258065,0.9516129032258065,0.9516129032258065,0.9516129032258065,0.9516129032258065,0.9516129032258065,0.9516129032258065,0.9516129032258065,0.9516129032258065,0.9516129032258065,0.9516129032258065,0.9516129032258065,0.9516129032258065,0.9516129032258065,0.9516129032258065,0.9516129032258065,0.9516129032258065,0.9516129032258065,0.9516129032258065,0.9516129032258065,0.9516129032258065,0.9516129032258065,0.9516129032258065,0.9516129032258065,0.9516129032258065,0.9516129032258065,0.9516129032258065,0.9516129032258065,0.9516129032258065,0.9516129032258065,0.9516129032258065,0.9516129032258065,0.9516129032258065,0.9516129032258065,0.9516129032258065,0.9516129032258065,0.9516129032258065,0.9516129032258065,0.9516129032258065,0.9516129032258065,0.9516129032258065,0.9516129032258065,0.9516129032258065,0.9516129032258065,0.9516129032258065,0.9516129032258065,0.9516129032258065,0.9516129032258065,0.9516129032258065,0.9516129032258065,0.9516129032258065,0.9516129032258065,0.9516129032258065,0.9516129032258065,0.9516129032258065,0.9516129032258065,0.9516129032258065,0.9516129032258065,0.9516129032258065,0.9516129032258065,0.9516129032258065,0.9516129032258065,0.9516129032258065,0.9516129032258065,0.9516129032258065,0.9516129032258065,0.9516129032258065,0.9516129032258065,0.9516129032258065,0.9516129032258065,0.9516129032258065,0.9516129032258065,0.9516129032258065,0.9516129032258065,0.9516129032258065,0.9516129032258065,0.9516129032258065,0.9516129032258065,0.9516129032258065,0.9516129032258065,0.9516129032258065,0.9516129032258065,0.9516129032258065,0.9516129032258065,0.9516129032258065,0.9516129032258065,0.9516129032258065,0.9516129032258065,0.9516129032258065,0.9516129032258065,0.9516129032258065,0.9516129032258065,0.9516129032258065,0.9516129032258065,0.9516129032258065,0.9516129032258065,0.9516129032258065,0.9516129032258065,0.9516129032258065,0.9516129032258065,0.9516129032258065,0.9516129032258065,0.9516129032258065,0.9516129032258065,0.9516129032258065,0.9516129032258065,0.9516129032258065,0.9516129032258065,0.9516129032258065,0.9516129032258065,0.9516129032258065,0.9516129032258065,0.9516129032258065,0.9516129032258065,0.9516129032258065,0.9516129032258065,0.9516129032258065,0.9516129032258065,0.9516129032258065,0.9516129032258065,0.9516129032258065,0.9516129032258065,0.9516129032258065,0.9516129032258065,0.9516129032258065,0.9516129032258065,0.9516129032258065,0.9516129032258065,0.9516129032258065,0.9516129032258065,0.9516129032258065,0.9516129032258065,0.9516129032258065,0.9516129032258065,0.9516129032258065,0.9516129032258065,0.9516129032258065,0.9516129032258065,0.9516129032258065,0.9516129032258065,0.9516129032258065,0.9516129032258065,0.9516129032258065,0.9516129032258065,0.9516129032258065,0.9516129032258065,0.9516129032258065,0.9516129032258065,0.9516129032258065,0.9516129032258065,0.9516129032258065,0.9516129032258065,0.9516129032258065,0.9516129032258065,0.9516129032258065,0.9516129032258065,0.9516129032258065,0.9516129032258065,0.9516129032258065,0.9516129032258065,0.9516129032258065,0.9516129032258065,0.9516129032258065,0.9516129032258065,0.9516129032258065,0.9516129032258065,0.9516129032258065,0.9516129032258065,0.9516129032258065,0.9516129032258065,0.9516129032258065,0.9516129032258065,0.9516129032258065,0.9516129032258065,0.9516129032258065,0.9516129032258065,0.9516129032258065,0.9516129032258065,0.9516129032258065,0.9516129032258065,0.9516129032258065,0.9516129032258065,0.9516129032258065,0.9516129032258065,0.9516129032258065,0.9516129032258065,0.9516129032258065,0.9516129032258065,0.9516129032258065,0.9516129032258065,0.9516129032258065,0.9516129032258065,0.9516129032258065,0.9516129032258065,0.9516129032258065,0.9516129032258065,0.9516129032258065,0.9516129032258065,0.9516129032258065,0.9516129032258065,0.9516129032258065,0.9516129032258065,0.9516129032258065,0.9516129032258065,0.9516129032258065,0.9516129032258065,0.9516129032258065,0.9516129032258065,0.9516129032258065,0.9516129032258065,0.9516129032258065,0.9516129032258065,0.9516129032258065,0.9516129032258065,0.9516129032258065,0.9516129032258065,0.9516129032258065,0.9516129032258065,0.9516129032258065,0.9516129032258065,0.0],\"yaxis\":\"y\",\"type\":\"scattergl\"}],                        {\"template\":{\"data\":{\"bar\":[{\"error_x\":{\"color\":\"#2a3f5f\"},\"error_y\":{\"color\":\"#2a3f5f\"},\"marker\":{\"line\":{\"color\":\"#E5ECF6\",\"width\":0.5},\"pattern\":{\"fillmode\":\"overlay\",\"size\":10,\"solidity\":0.2}},\"type\":\"bar\"}],\"barpolar\":[{\"marker\":{\"line\":{\"color\":\"#E5ECF6\",\"width\":0.5},\"pattern\":{\"fillmode\":\"overlay\",\"size\":10,\"solidity\":0.2}},\"type\":\"barpolar\"}],\"carpet\":[{\"aaxis\":{\"endlinecolor\":\"#2a3f5f\",\"gridcolor\":\"white\",\"linecolor\":\"white\",\"minorgridcolor\":\"white\",\"startlinecolor\":\"#2a3f5f\"},\"baxis\":{\"endlinecolor\":\"#2a3f5f\",\"gridcolor\":\"white\",\"linecolor\":\"white\",\"minorgridcolor\":\"white\",\"startlinecolor\":\"#2a3f5f\"},\"type\":\"carpet\"}],\"choropleth\":[{\"colorbar\":{\"outlinewidth\":0,\"ticks\":\"\"},\"type\":\"choropleth\"}],\"contour\":[{\"colorbar\":{\"outlinewidth\":0,\"ticks\":\"\"},\"colorscale\":[[0.0,\"#0d0887\"],[0.1111111111111111,\"#46039f\"],[0.2222222222222222,\"#7201a8\"],[0.3333333333333333,\"#9c179e\"],[0.4444444444444444,\"#bd3786\"],[0.5555555555555556,\"#d8576b\"],[0.6666666666666666,\"#ed7953\"],[0.7777777777777778,\"#fb9f3a\"],[0.8888888888888888,\"#fdca26\"],[1.0,\"#f0f921\"]],\"type\":\"contour\"}],\"contourcarpet\":[{\"colorbar\":{\"outlinewidth\":0,\"ticks\":\"\"},\"type\":\"contourcarpet\"}],\"heatmap\":[{\"colorbar\":{\"outlinewidth\":0,\"ticks\":\"\"},\"colorscale\":[[0.0,\"#0d0887\"],[0.1111111111111111,\"#46039f\"],[0.2222222222222222,\"#7201a8\"],[0.3333333333333333,\"#9c179e\"],[0.4444444444444444,\"#bd3786\"],[0.5555555555555556,\"#d8576b\"],[0.6666666666666666,\"#ed7953\"],[0.7777777777777778,\"#fb9f3a\"],[0.8888888888888888,\"#fdca26\"],[1.0,\"#f0f921\"]],\"type\":\"heatmap\"}],\"heatmapgl\":[{\"colorbar\":{\"outlinewidth\":0,\"ticks\":\"\"},\"colorscale\":[[0.0,\"#0d0887\"],[0.1111111111111111,\"#46039f\"],[0.2222222222222222,\"#7201a8\"],[0.3333333333333333,\"#9c179e\"],[0.4444444444444444,\"#bd3786\"],[0.5555555555555556,\"#d8576b\"],[0.6666666666666666,\"#ed7953\"],[0.7777777777777778,\"#fb9f3a\"],[0.8888888888888888,\"#fdca26\"],[1.0,\"#f0f921\"]],\"type\":\"heatmapgl\"}],\"histogram\":[{\"marker\":{\"pattern\":{\"fillmode\":\"overlay\",\"size\":10,\"solidity\":0.2}},\"type\":\"histogram\"}],\"histogram2d\":[{\"colorbar\":{\"outlinewidth\":0,\"ticks\":\"\"},\"colorscale\":[[0.0,\"#0d0887\"],[0.1111111111111111,\"#46039f\"],[0.2222222222222222,\"#7201a8\"],[0.3333333333333333,\"#9c179e\"],[0.4444444444444444,\"#bd3786\"],[0.5555555555555556,\"#d8576b\"],[0.6666666666666666,\"#ed7953\"],[0.7777777777777778,\"#fb9f3a\"],[0.8888888888888888,\"#fdca26\"],[1.0,\"#f0f921\"]],\"type\":\"histogram2d\"}],\"histogram2dcontour\":[{\"colorbar\":{\"outlinewidth\":0,\"ticks\":\"\"},\"colorscale\":[[0.0,\"#0d0887\"],[0.1111111111111111,\"#46039f\"],[0.2222222222222222,\"#7201a8\"],[0.3333333333333333,\"#9c179e\"],[0.4444444444444444,\"#bd3786\"],[0.5555555555555556,\"#d8576b\"],[0.6666666666666666,\"#ed7953\"],[0.7777777777777778,\"#fb9f3a\"],[0.8888888888888888,\"#fdca26\"],[1.0,\"#f0f921\"]],\"type\":\"histogram2dcontour\"}],\"mesh3d\":[{\"colorbar\":{\"outlinewidth\":0,\"ticks\":\"\"},\"type\":\"mesh3d\"}],\"parcoords\":[{\"line\":{\"colorbar\":{\"outlinewidth\":0,\"ticks\":\"\"}},\"type\":\"parcoords\"}],\"pie\":[{\"automargin\":true,\"type\":\"pie\"}],\"scatter\":[{\"marker\":{\"colorbar\":{\"outlinewidth\":0,\"ticks\":\"\"}},\"type\":\"scatter\"}],\"scatter3d\":[{\"line\":{\"colorbar\":{\"outlinewidth\":0,\"ticks\":\"\"}},\"marker\":{\"colorbar\":{\"outlinewidth\":0,\"ticks\":\"\"}},\"type\":\"scatter3d\"}],\"scattercarpet\":[{\"marker\":{\"colorbar\":{\"outlinewidth\":0,\"ticks\":\"\"}},\"type\":\"scattercarpet\"}],\"scattergeo\":[{\"marker\":{\"colorbar\":{\"outlinewidth\":0,\"ticks\":\"\"}},\"type\":\"scattergeo\"}],\"scattergl\":[{\"marker\":{\"colorbar\":{\"outlinewidth\":0,\"ticks\":\"\"}},\"type\":\"scattergl\"}],\"scattermapbox\":[{\"marker\":{\"colorbar\":{\"outlinewidth\":0,\"ticks\":\"\"}},\"type\":\"scattermapbox\"}],\"scatterpolar\":[{\"marker\":{\"colorbar\":{\"outlinewidth\":0,\"ticks\":\"\"}},\"type\":\"scatterpolar\"}],\"scatterpolargl\":[{\"marker\":{\"colorbar\":{\"outlinewidth\":0,\"ticks\":\"\"}},\"type\":\"scatterpolargl\"}],\"scatterternary\":[{\"marker\":{\"colorbar\":{\"outlinewidth\":0,\"ticks\":\"\"}},\"type\":\"scatterternary\"}],\"surface\":[{\"colorbar\":{\"outlinewidth\":0,\"ticks\":\"\"},\"colorscale\":[[0.0,\"#0d0887\"],[0.1111111111111111,\"#46039f\"],[0.2222222222222222,\"#7201a8\"],[0.3333333333333333,\"#9c179e\"],[0.4444444444444444,\"#bd3786\"],[0.5555555555555556,\"#d8576b\"],[0.6666666666666666,\"#ed7953\"],[0.7777777777777778,\"#fb9f3a\"],[0.8888888888888888,\"#fdca26\"],[1.0,\"#f0f921\"]],\"type\":\"surface\"}],\"table\":[{\"cells\":{\"fill\":{\"color\":\"#EBF0F8\"},\"line\":{\"color\":\"white\"}},\"header\":{\"fill\":{\"color\":\"#C8D4E3\"},\"line\":{\"color\":\"white\"}},\"type\":\"table\"}]},\"layout\":{\"annotationdefaults\":{\"arrowcolor\":\"#2a3f5f\",\"arrowhead\":0,\"arrowwidth\":1},\"autotypenumbers\":\"strict\",\"coloraxis\":{\"colorbar\":{\"outlinewidth\":0,\"ticks\":\"\"}},\"colorscale\":{\"diverging\":[[0,\"#8e0152\"],[0.1,\"#c51b7d\"],[0.2,\"#de77ae\"],[0.3,\"#f1b6da\"],[0.4,\"#fde0ef\"],[0.5,\"#f7f7f7\"],[0.6,\"#e6f5d0\"],[0.7,\"#b8e186\"],[0.8,\"#7fbc41\"],[0.9,\"#4d9221\"],[1,\"#276419\"]],\"sequential\":[[0.0,\"#0d0887\"],[0.1111111111111111,\"#46039f\"],[0.2222222222222222,\"#7201a8\"],[0.3333333333333333,\"#9c179e\"],[0.4444444444444444,\"#bd3786\"],[0.5555555555555556,\"#d8576b\"],[0.6666666666666666,\"#ed7953\"],[0.7777777777777778,\"#fb9f3a\"],[0.8888888888888888,\"#fdca26\"],[1.0,\"#f0f921\"]],\"sequentialminus\":[[0.0,\"#0d0887\"],[0.1111111111111111,\"#46039f\"],[0.2222222222222222,\"#7201a8\"],[0.3333333333333333,\"#9c179e\"],[0.4444444444444444,\"#bd3786\"],[0.5555555555555556,\"#d8576b\"],[0.6666666666666666,\"#ed7953\"],[0.7777777777777778,\"#fb9f3a\"],[0.8888888888888888,\"#fdca26\"],[1.0,\"#f0f921\"]]},\"colorway\":[\"#636efa\",\"#EF553B\",\"#00cc96\",\"#ab63fa\",\"#FFA15A\",\"#19d3f3\",\"#FF6692\",\"#B6E880\",\"#FF97FF\",\"#FECB52\"],\"font\":{\"color\":\"#2a3f5f\"},\"geo\":{\"bgcolor\":\"white\",\"lakecolor\":\"white\",\"landcolor\":\"#E5ECF6\",\"showlakes\":true,\"showland\":true,\"subunitcolor\":\"white\"},\"hoverlabel\":{\"align\":\"left\"},\"hovermode\":\"closest\",\"mapbox\":{\"style\":\"light\"},\"paper_bgcolor\":\"white\",\"plot_bgcolor\":\"#E5ECF6\",\"polar\":{\"angularaxis\":{\"gridcolor\":\"white\",\"linecolor\":\"white\",\"ticks\":\"\"},\"bgcolor\":\"#E5ECF6\",\"radialaxis\":{\"gridcolor\":\"white\",\"linecolor\":\"white\",\"ticks\":\"\"}},\"scene\":{\"xaxis\":{\"backgroundcolor\":\"#E5ECF6\",\"gridcolor\":\"white\",\"gridwidth\":2,\"linecolor\":\"white\",\"showbackground\":true,\"ticks\":\"\",\"zerolinecolor\":\"white\"},\"yaxis\":{\"backgroundcolor\":\"#E5ECF6\",\"gridcolor\":\"white\",\"gridwidth\":2,\"linecolor\":\"white\",\"showbackground\":true,\"ticks\":\"\",\"zerolinecolor\":\"white\"},\"zaxis\":{\"backgroundcolor\":\"#E5ECF6\",\"gridcolor\":\"white\",\"gridwidth\":2,\"linecolor\":\"white\",\"showbackground\":true,\"ticks\":\"\",\"zerolinecolor\":\"white\"}},\"shapedefaults\":{\"line\":{\"color\":\"#2a3f5f\"}},\"ternary\":{\"aaxis\":{\"gridcolor\":\"white\",\"linecolor\":\"white\",\"ticks\":\"\"},\"baxis\":{\"gridcolor\":\"white\",\"linecolor\":\"white\",\"ticks\":\"\"},\"bgcolor\":\"#E5ECF6\",\"caxis\":{\"gridcolor\":\"white\",\"linecolor\":\"white\",\"ticks\":\"\"}},\"title\":{\"x\":0.05},\"xaxis\":{\"automargin\":true,\"gridcolor\":\"white\",\"linecolor\":\"white\",\"ticks\":\"\",\"title\":{\"standoff\":15},\"zerolinecolor\":\"white\",\"zerolinewidth\":2},\"yaxis\":{\"automargin\":true,\"gridcolor\":\"white\",\"linecolor\":\"white\",\"ticks\":\"\",\"title\":{\"standoff\":15},\"zerolinecolor\":\"white\",\"zerolinewidth\":2}}},\"xaxis\":{\"anchor\":\"y\",\"domain\":[0.0,1.0],\"title\":{\"text\":\"False Positive Rate\"}},\"yaxis\":{\"anchor\":\"x\",\"domain\":[0.0,1.0],\"title\":{\"text\":\"True Positive Rate\"}},\"coloraxis\":{\"colorbar\":{\"title\":{\"text\":\"Threshold\"}},\"colorscale\":[[0.0,\"#0d0887\"],[0.1111111111111111,\"#46039f\"],[0.2222222222222222,\"#7201a8\"],[0.3333333333333333,\"#9c179e\"],[0.4444444444444444,\"#bd3786\"],[0.5555555555555556,\"#d8576b\"],[0.6666666666666666,\"#ed7953\"],[0.7777777777777778,\"#fb9f3a\"],[0.8888888888888888,\"#fdca26\"],[1.0,\"#f0f921\"]]},\"legend\":{\"tracegroupgap\":0},\"title\":{\"text\":\"ROC Curve\"}},                        {\"responsive\": true}                    ).then(function(){\n",
              "                            \n",
              "var gd = document.getElementById('0d24302b-413c-42fd-a0a5-5761cfb238f2');\n",
              "var x = new MutationObserver(function (mutations, observer) {{\n",
              "        var display = window.getComputedStyle(gd).display;\n",
              "        if (!display || display === 'none') {{\n",
              "            console.log([gd, 'removed!']);\n",
              "            Plotly.purge(gd);\n",
              "            observer.disconnect();\n",
              "        }}\n",
              "}});\n",
              "\n",
              "// Listen for the removal of the full notebook cells\n",
              "var notebookContainer = gd.closest('#notebook-container');\n",
              "if (notebookContainer) {{\n",
              "    x.observe(notebookContainer, {childList: true});\n",
              "}}\n",
              "\n",
              "// Listen for the clearing of the current output cell\n",
              "var outputEl = gd.closest('.output');\n",
              "if (outputEl) {{\n",
              "    x.observe(outputEl, {childList: true});\n",
              "}}\n",
              "\n",
              "                        })                };                            </script>        </div>\n",
              "</body>\n",
              "</html>"
            ]
          },
          "metadata": {}
        }
      ]
    },
    {
      "cell_type": "markdown",
      "source": [
        "**KNN**"
      ],
      "metadata": {
        "id": "8ujXKbEukO47"
      }
    },
    {
      "cell_type": "code",
      "source": [
        "from sklearn.neighbors import KNeighborsClassifier\n",
        "\n",
        "model = KNeighborsClassifier().fit(X_train, y_train)\n",
        "test_predictions = model.predict(X_test)\n",
        "test_predictions"
      ],
      "metadata": {
        "colab": {
          "base_uri": "https://localhost:8080/"
        },
        "id": "RlVcCkwLRv1V",
        "outputId": "ca0fb7b9-8601-4f16-f432-b2f373e1b52e"
      },
      "execution_count": null,
      "outputs": [
        {
          "output_type": "execute_result",
          "data": {
            "text/plain": [
              "array([1, 0, 0, 1, 1, 1, 1, 0, 1, 0, 1, 1, 1, 0, 0, 1, 1, 1, 1, 1, 1, 0,\n",
              "       0, 0, 0, 0, 1, 1, 0, 0, 0, 1, 1, 1, 1, 0, 1, 0, 0, 1, 0, 1, 0, 0,\n",
              "       1, 1, 0, 1, 1, 0, 1, 1, 1, 0, 0, 0, 1, 1, 1, 1, 1, 1, 0, 0, 0, 1,\n",
              "       0, 0, 1, 0, 0, 1, 0, 0, 0, 0, 0, 1, 0, 0, 1, 0, 0, 0, 1, 1, 1, 1,\n",
              "       0, 1, 1, 0, 1, 1, 1, 1, 1, 1, 0, 1, 1, 1, 0, 0, 1, 0, 1, 1, 1, 0,\n",
              "       1, 0, 0, 0, 0, 0, 0, 1, 0, 0])"
            ]
          },
          "metadata": {},
          "execution_count": 56
        }
      ]
    },
    {
      "cell_type": "code",
      "source": [
        "cm = confusion_matrix(y_test, test_predictions, labels=[0, 1])\n",
        "disp = ConfusionMatrixDisplay(confusion_matrix=cm,\n",
        "                              display_labels=['Non Sepsis', 'Sepsis'])\n",
        "disp.plot()"
      ],
      "metadata": {
        "colab": {
          "base_uri": "https://localhost:8080/",
          "height": 296
        },
        "id": "lIlVNALrk9-u",
        "outputId": "1688bfa9-9bc0-429a-9aa9-36729efdb0b8"
      },
      "execution_count": null,
      "outputs": [
        {
          "output_type": "execute_result",
          "data": {
            "text/plain": [
              "<sklearn.metrics._plot.confusion_matrix.ConfusionMatrixDisplay at 0x7f9647954510>"
            ]
          },
          "metadata": {},
          "execution_count": 57
        },
        {
          "output_type": "display_data",
          "data": {
            "text/plain": [
              "<Figure size 432x288 with 2 Axes>"
            ],
            "image/png": "[encoded data removed]"
          },
          "metadata": {
            "needs_background": "light"
          }
        }
      ]
    },
    {
      "cell_type": "code",
      "source": [
        "tn, fp, fn, tp = cm.ravel()\n",
        "\n",
        "s = \"\"\"\n",
        "True Negatives: {0}\n",
        "False Positives: {1}\n",
        "False Negatives: {2}\n",
        "True Positives: {3}\n",
        "\"\"\".format(tn, fp, fn, tp)\n",
        "\n",
        "print(s)"
      ],
      "metadata": {
        "colab": {
          "base_uri": "https://localhost:8080/"
        },
        "id": "mGHUDDnnlLc6",
        "outputId": "8bcc7a64-32d5-4331-8e21-96e24929edd5"
      },
      "execution_count": null,
      "outputs": [
        {
          "output_type": "stream",
          "name": "stdout",
          "text": [
            "\n",
            "True Negatives: 57\n",
            "False Positives: 1\n",
            "False Negatives: 0\n",
            "True Positives: 62\n",
            "\n"
          ]
        }
      ]
    },
    {
      "cell_type": "markdown",
      "source": [
        "**Accuracy**"
      ],
      "metadata": {
        "id": "h2kr-SbmldVI"
      }
    },
    {
      "cell_type": "code",
      "source": [
        "def accuracy(tn, fp, fn, tp):\n",
        "  return (tp + tn) / (tp + tn + fp + fn)\n",
        "\n",
        "\"Accuracy: {0}\".format(accuracy(tn, fp, fn, tp))"
      ],
      "metadata": {
        "colab": {
          "base_uri": "https://localhost:8080/",
          "height": 35
        },
        "outputId": "a2f93dcc-b3c3-4130-c578-35eda6fd885f",
        "id": "zYMfvWTnldVI"
      },
      "execution_count": null,
      "outputs": [
        {
          "output_type": "execute_result",
          "data": {
            "text/plain": [
              "'Accuracy: 0.9916666666666667'"
            ],
            "application/vnd.google.colaboratory.intrinsic+json": {
              "type": "string"
            }
          },
          "metadata": {},
          "execution_count": 59
        }
      ]
    },
    {
      "cell_type": "markdown",
      "source": [
        "**Sensitivity**"
      ],
      "metadata": {
        "id": "YnwIBfitldVI"
      }
    },
    {
      "cell_type": "code",
      "source": [
        "def tpr(tn, fp, fn, tp):\n",
        "  return tp / (tp + fn)\n",
        "\n",
        "\"True Positive Rate: {0}\".format(tpr(tn, fp, fn, tp))"
      ],
      "metadata": {
        "colab": {
          "base_uri": "https://localhost:8080/",
          "height": 35
        },
        "outputId": "5a68be17-8b5e-49c6-f3ca-8a8d6b42d5cd",
        "id": "IW3ivnZAldVJ"
      },
      "execution_count": null,
      "outputs": [
        {
          "output_type": "execute_result",
          "data": {
            "text/plain": [
              "'True Positive Rate: 1.0'"
            ],
            "application/vnd.google.colaboratory.intrinsic+json": {
              "type": "string"
            }
          },
          "metadata": {},
          "execution_count": 60
        }
      ]
    },
    {
      "cell_type": "markdown",
      "source": [
        "**False Negative Rate**"
      ],
      "metadata": {
        "id": "S_cTY69CldVJ"
      }
    },
    {
      "cell_type": "code",
      "source": [
        "def fnr(tn, fp, fn, tp):\n",
        "  return fn / (tp + fn)\n",
        "\n",
        "\"False Negative Rate: {0}\".format(fnr(tn, fp, fn, tp))"
      ],
      "metadata": {
        "colab": {
          "base_uri": "https://localhost:8080/",
          "height": 35
        },
        "outputId": "d16a7470-0fb9-4a05-e916-8322f6d1006d",
        "id": "8jVXSyfBldVJ"
      },
      "execution_count": null,
      "outputs": [
        {
          "output_type": "execute_result",
          "data": {
            "text/plain": [
              "'False Negative Rate: 0.0'"
            ],
            "application/vnd.google.colaboratory.intrinsic+json": {
              "type": "string"
            }
          },
          "metadata": {},
          "execution_count": 61
        }
      ]
    },
    {
      "cell_type": "markdown",
      "source": [
        "**Specificity**"
      ],
      "metadata": {
        "id": "Cxz5OKD4ldVJ"
      }
    },
    {
      "cell_type": "code",
      "source": [
        "def tnr(tn, fp, fn, tp):\n",
        "  return tn / (tn + fp)\n",
        "\n",
        "\"Specificity: {0}\".format(tnr(tn, fp, fn, tp))"
      ],
      "metadata": {
        "colab": {
          "base_uri": "https://localhost:8080/",
          "height": 35
        },
        "outputId": "3613bd5c-776e-42e2-d948-97b529babdaa",
        "id": "0axUglUlldVJ"
      },
      "execution_count": null,
      "outputs": [
        {
          "output_type": "execute_result",
          "data": {
            "text/plain": [
              "'Specificity: 0.9827586206896551'"
            ],
            "application/vnd.google.colaboratory.intrinsic+json": {
              "type": "string"
            }
          },
          "metadata": {},
          "execution_count": 62
        }
      ]
    },
    {
      "cell_type": "markdown",
      "source": [
        "**False Positive Rate**"
      ],
      "metadata": {
        "id": "1xaXTElJldVJ"
      }
    },
    {
      "cell_type": "code",
      "source": [
        "def fpr(tn, fp, fn, tp):\n",
        "  return fp / (tn + fp)\n",
        "\n",
        "\"False Positive Rate: {0}\".format(fpr(tn, fp, fn, tp))"
      ],
      "metadata": {
        "colab": {
          "base_uri": "https://localhost:8080/",
          "height": 35
        },
        "outputId": "2bedc172-b004-4e58-fa87-2692ae13d122",
        "id": "SSjxImT4ldVK"
      },
      "execution_count": null,
      "outputs": [
        {
          "output_type": "execute_result",
          "data": {
            "text/plain": [
              "'False Positive Rate: 0.017241379310344827'"
            ],
            "application/vnd.google.colaboratory.intrinsic+json": {
              "type": "string"
            }
          },
          "metadata": {},
          "execution_count": 63
        }
      ]
    },
    {
      "cell_type": "markdown",
      "source": [
        "**Negative Predictive Value**"
      ],
      "metadata": {
        "id": "qi6OStrQldVK"
      }
    },
    {
      "cell_type": "code",
      "source": [
        "def npv(tn, fp, fn, tp):\n",
        "  return tn / (tn + fn)\n",
        "\n",
        "\"Negative Predictive Value: {0}\".format(npv(tn, fp, fn, tp))"
      ],
      "metadata": {
        "colab": {
          "base_uri": "https://localhost:8080/",
          "height": 35
        },
        "outputId": "446e97b9-ad31-435c-8178-87e3ceffe0db",
        "id": "YKtm0hb5ldVK"
      },
      "execution_count": null,
      "outputs": [
        {
          "output_type": "execute_result",
          "data": {
            "text/plain": [
              "'Negative Predictive Value: 1.0'"
            ],
            "application/vnd.google.colaboratory.intrinsic+json": {
              "type": "string"
            }
          },
          "metadata": {},
          "execution_count": 64
        }
      ]
    },
    {
      "cell_type": "markdown",
      "source": [
        "**Precision**"
      ],
      "metadata": {
        "id": "tm6NcBR0ldVK"
      }
    },
    {
      "cell_type": "code",
      "source": [
        "def ppv(tn, fp, fn, tp):\n",
        "  return tp / (tp + fp)\n",
        "\n",
        "\"Positive Predictive Value: {0}\".format(ppv(tn, fp, fn, tp))"
      ],
      "metadata": {
        "colab": {
          "base_uri": "https://localhost:8080/",
          "height": 35
        },
        "outputId": "f380c74a-3528-4f72-89b7-6803a8ea2181",
        "id": "3UefZIYQldVK"
      },
      "execution_count": null,
      "outputs": [
        {
          "output_type": "execute_result",
          "data": {
            "text/plain": [
              "'Positive Predictive Value: 0.9841269841269841'"
            ],
            "application/vnd.google.colaboratory.intrinsic+json": {
              "type": "string"
            }
          },
          "metadata": {},
          "execution_count": 65
        }
      ]
    },
    {
      "cell_type": "markdown",
      "source": [
        "**Balanced Accuracy**"
      ],
      "metadata": {
        "id": "-Bc4LRBIldVK"
      }
    },
    {
      "cell_type": "code",
      "source": [
        "def balanced_accuracy(tn, fp, fn, tp):\n",
        "  tprr = tpr(tn, fp, fn, tp)\n",
        "  tnrr = tnr(tn, fp, fn, tp)\n",
        "  return (tprr + tnrr) / 2\n",
        "\n",
        "\"Balanced Accuracy: {0}\".format(balanced_accuracy(tn, fp, fn, tp))"
      ],
      "metadata": {
        "colab": {
          "base_uri": "https://localhost:8080/",
          "height": 35
        },
        "outputId": "2b770701-3cff-4b8a-857f-473fbb4311f8",
        "id": "ramVta-oldVL"
      },
      "execution_count": null,
      "outputs": [
        {
          "output_type": "execute_result",
          "data": {
            "text/plain": [
              "'Balanced Accuracy: 0.9913793103448276'"
            ],
            "application/vnd.google.colaboratory.intrinsic+json": {
              "type": "string"
            }
          },
          "metadata": {},
          "execution_count": 66
        }
      ]
    },
    {
      "cell_type": "markdown",
      "source": [
        "**F1**"
      ],
      "metadata": {
        "id": "fl5kC-xpldVL"
      }
    },
    {
      "cell_type": "code",
      "source": [
        "def f1(tn, fp, fn, tp):\n",
        "  p = ppv(tn, fp, fn, tp)\n",
        "  r = tpr(tn, fp, fn, tp)\n",
        "  \n",
        "  return (2*p*r) / (p + r)\n",
        "\n",
        "\"F1 Score: {0}\".format(f1(tn, fp, fn, tp))"
      ],
      "metadata": {
        "colab": {
          "base_uri": "https://localhost:8080/",
          "height": 35
        },
        "outputId": "ff3ba2e7-9d34-4630-df28-2dc62bb3b90e",
        "id": "jyzUtbjmldVL"
      },
      "execution_count": null,
      "outputs": [
        {
          "output_type": "execute_result",
          "data": {
            "text/plain": [
              "'F1 Score: 0.9919999999999999'"
            ],
            "application/vnd.google.colaboratory.intrinsic+json": {
              "type": "string"
            }
          },
          "metadata": {},
          "execution_count": 67
        }
      ]
    },
    {
      "cell_type": "markdown",
      "source": [
        "**Random Forest**"
      ],
      "metadata": {
        "id": "EfwOdXcpl6Oe"
      }
    },
    {
      "cell_type": "code",
      "source": [
        "model = RandomForestClassifier().fit(X_train, y_train)\n",
        "test_predictions = model.predict(X_test)\n",
        "test_predictions"
      ],
      "metadata": {
        "colab": {
          "base_uri": "https://localhost:8080/"
        },
        "id": "6AivVtTbR9Xo",
        "outputId": "af58d24f-f6ba-45b6-dc85-148b6955897a"
      },
      "execution_count": null,
      "outputs": [
        {
          "output_type": "execute_result",
          "data": {
            "text/plain": [
              "array([1, 0, 0, 1, 1, 1, 1, 0, 1, 0, 1, 1, 1, 0, 0, 1, 1, 1, 1, 1, 1, 0,\n",
              "       0, 0, 0, 0, 1, 1, 0, 0, 0, 1, 1, 1, 1, 0, 1, 0, 0, 1, 0, 1, 0, 0,\n",
              "       1, 1, 0, 1, 1, 0, 1, 1, 1, 0, 0, 0, 1, 1, 1, 1, 1, 1, 0, 0, 0, 1,\n",
              "       0, 0, 1, 0, 0, 1, 0, 0, 0, 0, 0, 1, 0, 0, 1, 0, 0, 0, 1, 1, 1, 1,\n",
              "       0, 1, 1, 0, 1, 0, 1, 1, 1, 1, 0, 1, 1, 1, 0, 0, 1, 0, 1, 1, 1, 0,\n",
              "       1, 0, 0, 0, 0, 0, 0, 1, 0, 0])"
            ]
          },
          "metadata": {},
          "execution_count": 69
        }
      ]
    },
    {
      "cell_type": "code",
      "source": [
        "cm = confusion_matrix(y_test, test_predictions, labels=[0, 1])\n",
        "disp = ConfusionMatrixDisplay(confusion_matrix=cm,\n",
        "                              display_labels=['Not Sepsis', 'Sepsis'])\n",
        "disp.plot()"
      ],
      "metadata": {
        "colab": {
          "base_uri": "https://localhost:8080/",
          "height": 296
        },
        "id": "qNCAC2k5mRsK",
        "outputId": "0089c4f9-ca65-4757-8f92-83f2a19de8ae"
      },
      "execution_count": null,
      "outputs": [
        {
          "output_type": "execute_result",
          "data": {
            "text/plain": [
              "<sklearn.metrics._plot.confusion_matrix.ConfusionMatrixDisplay at 0x7f963eef2190>"
            ]
          },
          "metadata": {},
          "execution_count": 70
        },
        {
          "output_type": "display_data",
          "data": {
            "text/plain": [
              "<Figure size 432x288 with 2 Axes>"
            ],
            "image/png": "[encoded data removed]"
          },
          "metadata": {
            "needs_background": "light"
          }
        }
      ]
    },
    {
      "cell_type": "code",
      "source": [
        "tn, fp, fn, tp = cm.ravel()\n",
        "\n",
        "s = \"\"\"\n",
        "True Negatives: {0}\n",
        "False Positives: {1}\n",
        "False Negatives: {2}\n",
        "True Positives: {3}\n",
        "\"\"\".format(tn, fp, fn, tp)\n",
        "\n",
        "print(s)"
      ],
      "metadata": {
        "colab": {
          "base_uri": "https://localhost:8080/"
        },
        "id": "pJwqen59mZW2",
        "outputId": "27a01ab5-a78e-4a39-bddb-53871c469b36"
      },
      "execution_count": null,
      "outputs": [
        {
          "output_type": "stream",
          "name": "stdout",
          "text": [
            "\n",
            "True Negatives: 58\n",
            "False Positives: 0\n",
            "False Negatives: 0\n",
            "True Positives: 62\n",
            "\n"
          ]
        }
      ]
    },
    {
      "cell_type": "markdown",
      "source": [
        "**Accuracy**"
      ],
      "metadata": {
        "id": "q6NbrFcSlzvX"
      }
    },
    {
      "cell_type": "code",
      "source": [
        "def accuracy(tn, fp, fn, tp):\n",
        "  return (tp + tn) / (tp + tn + fp + fn)\n",
        "\n",
        "\"Accuracy: {0}\".format(accuracy(tn, fp, fn, tp))"
      ],
      "metadata": {
        "colab": {
          "base_uri": "https://localhost:8080/",
          "height": 35
        },
        "outputId": "3ef09454-ab2e-4820-fba3-dc553eae2a47",
        "id": "AlE4-_S9lzvX"
      },
      "execution_count": null,
      "outputs": [
        {
          "output_type": "execute_result",
          "data": {
            "text/plain": [
              "'Accuracy: 1.0'"
            ],
            "application/vnd.google.colaboratory.intrinsic+json": {
              "type": "string"
            }
          },
          "metadata": {},
          "execution_count": 72
        }
      ]
    },
    {
      "cell_type": "markdown",
      "source": [
        "**Sensitivity**"
      ],
      "metadata": {
        "id": "ILKeqI7blzvX"
      }
    },
    {
      "cell_type": "code",
      "source": [
        "def tpr(tn, fp, fn, tp):\n",
        "  return tp / (tp + fn)\n",
        "\n",
        "\"True Positive Rate: {0}\".format(tpr(tn, fp, fn, tp))"
      ],
      "metadata": {
        "colab": {
          "base_uri": "https://localhost:8080/",
          "height": 35
        },
        "outputId": "ee5893a8-61a2-41c9-b586-10013ebc2363",
        "id": "9pLBTJpvlzvY"
      },
      "execution_count": null,
      "outputs": [
        {
          "output_type": "execute_result",
          "data": {
            "text/plain": [
              "'True Positive Rate: 1.0'"
            ],
            "application/vnd.google.colaboratory.intrinsic+json": {
              "type": "string"
            }
          },
          "metadata": {},
          "execution_count": 73
        }
      ]
    },
    {
      "cell_type": "markdown",
      "source": [
        "**False Negative Rate**"
      ],
      "metadata": {
        "id": "gy8D9yeelzvY"
      }
    },
    {
      "cell_type": "code",
      "source": [
        "def fnr(tn, fp, fn, tp):\n",
        "  return fn / (tp + fn)\n",
        "\n",
        "\"False Negative Rate: {0}\".format(fnr(tn, fp, fn, tp))"
      ],
      "metadata": {
        "colab": {
          "base_uri": "https://localhost:8080/",
          "height": 35
        },
        "outputId": "b53e0eca-9db9-410c-c12b-c625269711ce",
        "id": "Ul2S2kVGlzvY"
      },
      "execution_count": null,
      "outputs": [
        {
          "output_type": "execute_result",
          "data": {
            "text/plain": [
              "'False Negative Rate: 0.0'"
            ],
            "application/vnd.google.colaboratory.intrinsic+json": {
              "type": "string"
            }
          },
          "metadata": {},
          "execution_count": 74
        }
      ]
    },
    {
      "cell_type": "markdown",
      "source": [
        "**Specificity**"
      ],
      "metadata": {
        "id": "HoYktEhZlzvY"
      }
    },
    {
      "cell_type": "code",
      "source": [
        "def tnr(tn, fp, fn, tp):\n",
        "  return tn / (tn + fp)\n",
        "\n",
        "\"Specificity: {0}\".format(tnr(tn, fp, fn, tp))"
      ],
      "metadata": {
        "colab": {
          "base_uri": "https://localhost:8080/",
          "height": 35
        },
        "outputId": "a7190db7-d42e-4615-aeca-fd49f7b36ff3",
        "id": "b4cPIcEJlzvY"
      },
      "execution_count": null,
      "outputs": [
        {
          "output_type": "execute_result",
          "data": {
            "text/plain": [
              "'Specificity: 1.0'"
            ],
            "application/vnd.google.colaboratory.intrinsic+json": {
              "type": "string"
            }
          },
          "metadata": {},
          "execution_count": 75
        }
      ]
    },
    {
      "cell_type": "markdown",
      "source": [
        "**False Positive Rate**"
      ],
      "metadata": {
        "id": "tXFxk8UwlzvZ"
      }
    },
    {
      "cell_type": "code",
      "source": [
        "def fpr(tn, fp, fn, tp):\n",
        "  return fp / (tn + fp)\n",
        "\n",
        "\"False Positive Rate: {0}\".format(fpr(tn, fp, fn, tp))"
      ],
      "metadata": {
        "colab": {
          "base_uri": "https://localhost:8080/",
          "height": 35
        },
        "outputId": "6d677405-5737-4513-bde6-a4c565d72a26",
        "id": "3l-unM_PlzvZ"
      },
      "execution_count": null,
      "outputs": [
        {
          "output_type": "execute_result",
          "data": {
            "text/plain": [
              "'False Positive Rate: 0.0'"
            ],
            "application/vnd.google.colaboratory.intrinsic+json": {
              "type": "string"
            }
          },
          "metadata": {},
          "execution_count": 76
        }
      ]
    },
    {
      "cell_type": "markdown",
      "source": [
        "**Negative Predictive Value**"
      ],
      "metadata": {
        "id": "lwxaHW_KlzvZ"
      }
    },
    {
      "cell_type": "code",
      "source": [
        "def npv(tn, fp, fn, tp):\n",
        "  return tn / (tn + fn)\n",
        "\n",
        "\"Negative Predictive Value: {0}\".format(npv(tn, fp, fn, tp))"
      ],
      "metadata": {
        "colab": {
          "base_uri": "https://localhost:8080/",
          "height": 35
        },
        "outputId": "3edebf0c-67b5-4e8b-8c66-4f30073430f9",
        "id": "ydvxFER5lzvZ"
      },
      "execution_count": null,
      "outputs": [
        {
          "output_type": "execute_result",
          "data": {
            "text/plain": [
              "'Negative Predictive Value: 1.0'"
            ],
            "application/vnd.google.colaboratory.intrinsic+json": {
              "type": "string"
            }
          },
          "metadata": {},
          "execution_count": 77
        }
      ]
    },
    {
      "cell_type": "markdown",
      "source": [
        "**Precision**"
      ],
      "metadata": {
        "id": "qjGVaA_YlzvZ"
      }
    },
    {
      "cell_type": "code",
      "source": [
        "def ppv(tn, fp, fn, tp):\n",
        "  return tp / (tp + fp)\n",
        "\n",
        "\"Positive Predictive Value: {0}\".format(ppv(tn, fp, fn, tp))"
      ],
      "metadata": {
        "colab": {
          "base_uri": "https://localhost:8080/",
          "height": 35
        },
        "outputId": "359adddd-959a-446c-f034-cab51c96a300",
        "id": "ItTy2lzLlzvZ"
      },
      "execution_count": null,
      "outputs": [
        {
          "output_type": "execute_result",
          "data": {
            "text/plain": [
              "'Positive Predictive Value: 1.0'"
            ],
            "application/vnd.google.colaboratory.intrinsic+json": {
              "type": "string"
            }
          },
          "metadata": {},
          "execution_count": 78
        }
      ]
    },
    {
      "cell_type": "markdown",
      "source": [
        "**Balanced Accuracy**"
      ],
      "metadata": {
        "id": "k1njco0UlzvZ"
      }
    },
    {
      "cell_type": "code",
      "source": [
        "def balanced_accuracy(tn, fp, fn, tp):\n",
        "  tprr = tpr(tn, fp, fn, tp)\n",
        "  tnrr = tnr(tn, fp, fn, tp)\n",
        "  return (tprr + tnrr) / 2\n",
        "\n",
        "\"Balanced Accuracy: {0}\".format(balanced_accuracy(tn, fp, fn, tp))"
      ],
      "metadata": {
        "colab": {
          "base_uri": "https://localhost:8080/",
          "height": 35
        },
        "outputId": "6c0c528b-02ac-4fb3-e476-4e2af4c84d52",
        "id": "cjP__n11lzva"
      },
      "execution_count": null,
      "outputs": [
        {
          "output_type": "execute_result",
          "data": {
            "text/plain": [
              "'Balanced Accuracy: 1.0'"
            ],
            "application/vnd.google.colaboratory.intrinsic+json": {
              "type": "string"
            }
          },
          "metadata": {},
          "execution_count": 79
        }
      ]
    },
    {
      "cell_type": "markdown",
      "source": [
        "**F1**"
      ],
      "metadata": {
        "id": "Raw9N1i9lzva"
      }
    },
    {
      "cell_type": "code",
      "source": [
        "def f1(tn, fp, fn, tp):\n",
        "  p = ppv(tn, fp, fn, tp)\n",
        "  r = tpr(tn, fp, fn, tp)\n",
        "  \n",
        "  return (2*p*r) / (p + r)\n",
        "\n",
        "\"F1 Score: {0}\".format(f1(tn, fp, fn, tp))"
      ],
      "metadata": {
        "colab": {
          "base_uri": "https://localhost:8080/",
          "height": 35
        },
        "outputId": "6abbd16e-4961-4ef5-ec86-8a266108fd32",
        "id": "IXA55_7Nlzva"
      },
      "execution_count": null,
      "outputs": [
        {
          "output_type": "execute_result",
          "data": {
            "text/plain": [
              "'F1 Score: 1.0'"
            ],
            "application/vnd.google.colaboratory.intrinsic+json": {
              "type": "string"
            }
          },
          "metadata": {},
          "execution_count": 80
        }
      ]
    },
    {
      "cell_type": "markdown",
      "source": [
        "**MLP**"
      ],
      "metadata": {
        "id": "BbGq9HZAniZt"
      }
    },
    {
      "cell_type": "code",
      "source": [
        "model = MLPClassifier().fit(X_train, y_train)\n",
        "test_predictions = model.predict(X_test)\n",
        "test_predictions"
      ],
      "metadata": {
        "colab": {
          "base_uri": "https://localhost:8080/"
        },
        "id": "-SEuvFxynk59",
        "outputId": "f21dd07f-c75c-4358-e05f-a0fdde678497"
      },
      "execution_count": null,
      "outputs": [
        {
          "output_type": "execute_result",
          "data": {
            "text/plain": [
              "array([1, 0, 0, 1, 1, 1, 1, 0, 1, 0, 1, 1, 1, 0, 0, 1, 1, 1, 1, 1, 1, 0,\n",
              "       0, 0, 0, 0, 1, 1, 0, 0, 0, 1, 1, 1, 1, 0, 1, 0, 0, 1, 0, 1, 0, 0,\n",
              "       1, 1, 0, 1, 1, 0, 1, 1, 1, 0, 0, 0, 1, 1, 1, 1, 1, 1, 1, 0, 0, 1,\n",
              "       0, 0, 1, 0, 0, 1, 0, 0, 0, 0, 0, 1, 0, 0, 1, 0, 0, 0, 1, 1, 1, 1,\n",
              "       0, 1, 1, 0, 1, 0, 1, 0, 1, 1, 0, 1, 1, 1, 0, 0, 1, 0, 1, 1, 1, 0,\n",
              "       1, 0, 0, 0, 0, 0, 0, 1, 0, 0])"
            ]
          },
          "metadata": {},
          "execution_count": 81
        }
      ]
    },
    {
      "cell_type": "code",
      "source": [
        "cm = confusion_matrix(y_test, test_predictions, labels=[0, 1])\n",
        "disp = ConfusionMatrixDisplay(confusion_matrix=cm,\n",
        "                              display_labels=['Non Sepsis', 'Sepsis'])\n",
        "disp.plot()"
      ],
      "metadata": {
        "colab": {
          "base_uri": "https://localhost:8080/",
          "height": 297
        },
        "id": "YdcZfZ0dnzpJ",
        "outputId": "efbe6e91-1325-4300-e0d9-f18196b42348"
      },
      "execution_count": null,
      "outputs": [
        {
          "output_type": "execute_result",
          "data": {
            "text/plain": [
              "<sklearn.metrics._plot.confusion_matrix.ConfusionMatrixDisplay at 0x7f963ee9d5d0>"
            ]
          },
          "metadata": {},
          "execution_count": 83
        },
        {
          "output_type": "display_data",
          "data": {
            "text/plain": [
              "<Figure size 432x288 with 2 Axes>"
            ],
            "image/png": "[encoded data removed]"
          },
          "metadata": {
            "needs_background": "light"
          }
        }
      ]
    },
    {
      "cell_type": "code",
      "source": [
        "tn, fp, fn, tp = cm.ravel()\n",
        "\n",
        "s = \"\"\"\n",
        "True Negatives: {0}\n",
        "False Positives: {1}\n",
        "False Negatives: {2}\n",
        "True Positives: {3}\n",
        "\"\"\".format(tn, fp, fn, tp)\n",
        "\n",
        "print(s)"
      ],
      "metadata": {
        "colab": {
          "base_uri": "https://localhost:8080/"
        },
        "outputId": "e4939742-3193-4230-e4ab-a3416965aa76",
        "id": "MbSudc1ToFwa"
      },
      "execution_count": null,
      "outputs": [
        {
          "output_type": "stream",
          "name": "stdout",
          "text": [
            "\n",
            "True Negatives: 57\n",
            "False Positives: 1\n",
            "False Negatives: 1\n",
            "True Positives: 61\n",
            "\n"
          ]
        }
      ]
    },
    {
      "cell_type": "markdown",
      "source": [
        "**Accuracy**"
      ],
      "metadata": {
        "id": "MTpNpY2KoFwb"
      }
    },
    {
      "cell_type": "code",
      "source": [
        "def accuracy(tn, fp, fn, tp):\n",
        "  return (tp + tn) / (tp + tn + fp + fn)\n",
        "\n",
        "\"Accuracy: {0}\".format(accuracy(tn, fp, fn, tp))"
      ],
      "metadata": {
        "colab": {
          "base_uri": "https://localhost:8080/",
          "height": 35
        },
        "outputId": "8cf62411-479a-48d4-c446-83bbe8a3deb5",
        "id": "L40QFTaHoFwb"
      },
      "execution_count": null,
      "outputs": [
        {
          "output_type": "execute_result",
          "data": {
            "text/plain": [
              "'Accuracy: 0.9833333333333333'"
            ],
            "application/vnd.google.colaboratory.intrinsic+json": {
              "type": "string"
            }
          },
          "metadata": {},
          "execution_count": 85
        }
      ]
    },
    {
      "cell_type": "markdown",
      "source": [
        "**Sensitivity**"
      ],
      "metadata": {
        "id": "CL_Xw9NcoFwb"
      }
    },
    {
      "cell_type": "code",
      "source": [
        "def tpr(tn, fp, fn, tp):\n",
        "  return tp / (tp + fn)\n",
        "\n",
        "\"True Positive Rate: {0}\".format(tpr(tn, fp, fn, tp))"
      ],
      "metadata": {
        "colab": {
          "base_uri": "https://localhost:8080/",
          "height": 35
        },
        "outputId": "b35d2e34-2e02-4abd-8695-a1ee82a0438f",
        "id": "nkf8wTPAoFwc"
      },
      "execution_count": null,
      "outputs": [
        {
          "output_type": "execute_result",
          "data": {
            "text/plain": [
              "'True Positive Rate: 0.9838709677419355'"
            ],
            "application/vnd.google.colaboratory.intrinsic+json": {
              "type": "string"
            }
          },
          "metadata": {},
          "execution_count": 86
        }
      ]
    },
    {
      "cell_type": "markdown",
      "source": [
        "**False Negative Rate**"
      ],
      "metadata": {
        "id": "aWFp4TWhoFwc"
      }
    },
    {
      "cell_type": "code",
      "source": [
        "def fnr(tn, fp, fn, tp):\n",
        "  return fn / (tp + fn)\n",
        "\n",
        "\"False Negative Rate: {0}\".format(fnr(tn, fp, fn, tp))"
      ],
      "metadata": {
        "colab": {
          "base_uri": "https://localhost:8080/",
          "height": 35
        },
        "outputId": "69b16101-9587-421a-b864-71e2b4a6c414",
        "id": "Z3hrfZ17oFwc"
      },
      "execution_count": null,
      "outputs": [
        {
          "output_type": "execute_result",
          "data": {
            "text/plain": [
              "'False Negative Rate: 0.016129032258064516'"
            ],
            "application/vnd.google.colaboratory.intrinsic+json": {
              "type": "string"
            }
          },
          "metadata": {},
          "execution_count": 87
        }
      ]
    },
    {
      "cell_type": "markdown",
      "source": [
        "**Specificity**"
      ],
      "metadata": {
        "id": "FJNWwQ8CoFwc"
      }
    },
    {
      "cell_type": "code",
      "source": [
        "def tnr(tn, fp, fn, tp):\n",
        "  return tn / (tn + fp)\n",
        "\n",
        "\"Specificity: {0}\".format(tnr(tn, fp, fn, tp))"
      ],
      "metadata": {
        "colab": {
          "base_uri": "https://localhost:8080/",
          "height": 35
        },
        "outputId": "033b37d8-f0de-4036-e41e-4f6956f777cd",
        "id": "S-MFq3OcoFwc"
      },
      "execution_count": null,
      "outputs": [
        {
          "output_type": "execute_result",
          "data": {
            "text/plain": [
              "'Specificity: 0.9827586206896551'"
            ],
            "application/vnd.google.colaboratory.intrinsic+json": {
              "type": "string"
            }
          },
          "metadata": {},
          "execution_count": 88
        }
      ]
    },
    {
      "cell_type": "markdown",
      "source": [
        "**False Positive Rate**"
      ],
      "metadata": {
        "id": "4g7fgbxFoFwd"
      }
    },
    {
      "cell_type": "code",
      "source": [
        "def fpr(tn, fp, fn, tp):\n",
        "  return fp / (tn + fp)\n",
        "\n",
        "\"False Positive Rate: {0}\".format(fpr(tn, fp, fn, tp))"
      ],
      "metadata": {
        "colab": {
          "base_uri": "https://localhost:8080/",
          "height": 35
        },
        "outputId": "8bfe4a6d-5f39-450b-ac55-4eb7a4683b5d",
        "id": "Bs4iZc8poFwd"
      },
      "execution_count": null,
      "outputs": [
        {
          "output_type": "execute_result",
          "data": {
            "text/plain": [
              "'False Positive Rate: 0.017241379310344827'"
            ],
            "application/vnd.google.colaboratory.intrinsic+json": {
              "type": "string"
            }
          },
          "metadata": {},
          "execution_count": 89
        }
      ]
    },
    {
      "cell_type": "markdown",
      "source": [
        "**Negative Predictive Value**"
      ],
      "metadata": {
        "id": "why2LvWDoFwd"
      }
    },
    {
      "cell_type": "code",
      "source": [
        "def npv(tn, fp, fn, tp):\n",
        "  return tn / (tn + fn)\n",
        "\n",
        "\"Negative Predictive Value: {0}\".format(npv(tn, fp, fn, tp))"
      ],
      "metadata": {
        "colab": {
          "base_uri": "https://localhost:8080/",
          "height": 35
        },
        "outputId": "2eb69a74-7b68-4c83-abd5-593b68c76a2b",
        "id": "Ltbl8UP-oFwd"
      },
      "execution_count": null,
      "outputs": [
        {
          "output_type": "execute_result",
          "data": {
            "text/plain": [
              "'Negative Predictive Value: 0.9827586206896551'"
            ],
            "application/vnd.google.colaboratory.intrinsic+json": {
              "type": "string"
            }
          },
          "metadata": {},
          "execution_count": 90
        }
      ]
    },
    {
      "cell_type": "markdown",
      "source": [
        "**Precision**"
      ],
      "metadata": {
        "id": "VBTND3pXoFwe"
      }
    },
    {
      "cell_type": "code",
      "source": [
        "def ppv(tn, fp, fn, tp):\n",
        "  return tp / (tp + fp)\n",
        "\n",
        "\"Positive Predictive Value: {0}\".format(ppv(tn, fp, fn, tp))"
      ],
      "metadata": {
        "colab": {
          "base_uri": "https://localhost:8080/",
          "height": 35
        },
        "outputId": "5c1c8555-79a2-49a5-c4e1-5596428e416e",
        "id": "zxm5BBY3oFwe"
      },
      "execution_count": null,
      "outputs": [
        {
          "output_type": "execute_result",
          "data": {
            "text/plain": [
              "'Positive Predictive Value: 0.9838709677419355'"
            ],
            "application/vnd.google.colaboratory.intrinsic+json": {
              "type": "string"
            }
          },
          "metadata": {},
          "execution_count": 91
        }
      ]
    },
    {
      "cell_type": "markdown",
      "source": [
        "**Balanced Accuracy**"
      ],
      "metadata": {
        "id": "I2R_G9J0oFwe"
      }
    },
    {
      "cell_type": "code",
      "source": [
        "def balanced_accuracy(tn, fp, fn, tp):\n",
        "  tprr = tpr(tn, fp, fn, tp)\n",
        "  tnrr = tnr(tn, fp, fn, tp)\n",
        "  return (tprr + tnrr) / 2\n",
        "\n",
        "\"Balanced Accuracy: {0}\".format(balanced_accuracy(tn, fp, fn, tp))"
      ],
      "metadata": {
        "colab": {
          "base_uri": "https://localhost:8080/",
          "height": 35
        },
        "outputId": "914287d1-45a0-49a5-af5c-03c7d0a73d6a",
        "id": "gIIYRvaSoFwe"
      },
      "execution_count": null,
      "outputs": [
        {
          "output_type": "execute_result",
          "data": {
            "text/plain": [
              "'Balanced Accuracy: 0.9833147942157954'"
            ],
            "application/vnd.google.colaboratory.intrinsic+json": {
              "type": "string"
            }
          },
          "metadata": {},
          "execution_count": 92
        }
      ]
    },
    {
      "cell_type": "markdown",
      "source": [
        "**F1**"
      ],
      "metadata": {
        "id": "LFaz_KyuoFwe"
      }
    },
    {
      "cell_type": "code",
      "source": [
        "def f1(tn, fp, fn, tp):\n",
        "  p = ppv(tn, fp, fn, tp)\n",
        "  r = tpr(tn, fp, fn, tp)\n",
        "  \n",
        "  return (2*p*r) / (p + r)\n",
        "\n",
        "\"F1 Score: {0}\".format(f1(tn, fp, fn, tp))"
      ],
      "metadata": {
        "colab": {
          "base_uri": "https://localhost:8080/",
          "height": 35
        },
        "outputId": "2c98f19e-bd00-427a-bff3-84f0cc36e34e",
        "id": "ohVr4y3PoFwf"
      },
      "execution_count": null,
      "outputs": [
        {
          "output_type": "execute_result",
          "data": {
            "text/plain": [
              "'F1 Score: 0.9838709677419355'"
            ],
            "application/vnd.google.colaboratory.intrinsic+json": {
              "type": "string"
            }
          },
          "metadata": {},
          "execution_count": 93
        }
      ]
    },
    {
      "cell_type": "markdown",
      "source": [
        "**Temporal Training and Testing**\n"
      ],
      "metadata": {
        "id": "Z3OWIXxEUTvC"
      }
    },
    {
      "cell_type": "code",
      "source": [
        "import pandas as pd"
      ],
      "metadata": {
        "id": "2-haxzbeiqz7"
      },
      "execution_count": 3,
      "outputs": []
    },
    {
      "cell_type": "code",
      "source": [
        "# df['offset'] = df ['offset']*-1"
      ],
      "metadata": {
        "id": "OXC-XzgwM7og"
      },
      "execution_count": null,
      "outputs": []
    },
    {
      "cell_type": "code",
      "source": [
        "print (df['offset'])"
      ],
      "metadata": {
        "id": "82b6ZJuXWgaW",
        "outputId": "00aa53d0-0c2a-4bd4-a9bb-6a4e2d32614f",
        "colab": {
          "base_uri": "https://localhost:8080/"
        }
      },
      "execution_count": 4,
      "outputs": [
        {
          "output_type": "stream",
          "name": "stdout",
          "text": [
            "0       -660\n",
            "1       -655\n",
            "2       -650\n",
            "3       -645\n",
            "4       -640\n",
            "        ... \n",
            "79795    -20\n",
            "79796    -15\n",
            "79797    -10\n",
            "79798     -5\n",
            "79799      0\n",
            "Name: offset, Length: 79800, dtype: int64\n"
          ]
        }
      ]
    },
    {
      "cell_type": "code",
      "source": [
        "offset = df['offset']"
      ],
      "metadata": {
        "id": "-wt1IDEpXrVd"
      },
      "execution_count": 5,
      "outputs": []
    },
    {
      "cell_type": "code",
      "source": [
        "# def convert(offset):\n",
        "   \n",
        "#     hour = offset // 60\n",
        "    \n",
        "#     return \"%d\" % (hour)\n",
        "     \n",
        "# # Driver program\n",
        "# n = 660\n",
        "# print(convert(n))"
      ],
      "metadata": {
        "id": "NpCSu1S_kCX-"
      },
      "execution_count": null,
      "outputs": []
    },
    {
      "cell_type": "code",
      "source": [
        "def df_to_X_y(df, window_size=12):\n",
        "  df_as_np = df.to_numpy()\n",
        "  X = []\n",
        "  y = []\n",
        "  for i in range(len(df_as_np)-window_size):\n",
        "    row = [[a] for a in df_as_np[i:i+window_size]]\n",
        "    X.append(row)\n",
        "    label = df_as_np[i+window_size]\n",
        "    y.append(label)\n",
        "  return np.array(X), np.array(y)"
      ],
      "metadata": {
        "id": "WGk6Qj42pYdD"
      },
      "execution_count": null,
      "outputs": []
    },
    {
      "cell_type": "code",
      "source": [
        "WINDOW_SIZE = 12\n",
        "X1, y1 = df_to_X_y(offset, WINDOW_SIZE)\n",
        "X1.shape, y1.shape"
      ],
      "metadata": {
        "id": "1QBADqikqYme",
        "outputId": "04643b36-f8e0-4f47-be00-e106d6cf1408",
        "colab": {
          "base_uri": "https://localhost:8080/"
        }
      },
      "execution_count": null,
      "outputs": [
        {
          "output_type": "execute_result",
          "data": {
            "text/plain": [
              "((79788, 12, 1), (79788,))"
            ]
          },
          "metadata": {},
          "execution_count": 40
        }
      ]
    },
    {
      "cell_type": "code",
      "source": [
        "X_train1, y_train1 = X1[:63000], y1[:63000]\n",
        "X_val1, y_val1 = X1[63000:75000], y1[63000:75000]\n",
        "X_test1, y_test1 = X1[75000:], y1[75000:]\n",
        "X_train1.shape, y_train1.shape, X_val1.shape, y_val1.shape, X_test1.shape, y_test1.shape"
      ],
      "metadata": {
        "id": "992ibpnRrGrM",
        "outputId": "7aa70b1a-9dc7-4621-acd4-762510308f2a",
        "colab": {
          "base_uri": "https://localhost:8080/"
        }
      },
      "execution_count": null,
      "outputs": [
        {
          "output_type": "execute_result",
          "data": {
            "text/plain": [
              "((63000, 12, 1), (63000,), (12000, 12, 1), (12000,), (4788, 12, 1), (4788,))"
            ]
          },
          "metadata": {},
          "execution_count": 41
        }
      ]
    },
    {
      "cell_type": "code",
      "source": [
        "from tensorflow.keras.models import Sequential\n",
        "from tensorflow.keras.layers import *\n",
        "from tensorflow.keras.callbacks import ModelCheckpoint\n",
        "from tensorflow.keras.losses import MeanSquaredError\n",
        "from tensorflow.keras.metrics import RootMeanSquaredError\n",
        "from tensorflow.keras.optimizers import Adam\n",
        "\n",
        "model1 = Sequential()\n",
        "model1.add(InputLayer((12, 1)))\n",
        "model1.add(LSTM(64))\n",
        "model1.add(Dense(8, 'relu'))\n",
        "model1.add(Dense(1, 'linear'))\n",
        "\n",
        "model1.summary()"
      ],
      "metadata": {
        "id": "JqBItBMtuDUX",
        "outputId": "f3a82ca8-ad9b-4e62-db15-60f2e481a3b2",
        "colab": {
          "base_uri": "https://localhost:8080/"
        }
      },
      "execution_count": 15,
      "outputs": [
        {
          "output_type": "stream",
          "name": "stdout",
          "text": [
            "Model: \"sequential\"\n",
            "_________________________________________________________________\n",
            " Layer (type)                Output Shape              Param #   \n",
            "=================================================================\n",
            " lstm (LSTM)                 (None, 64)                16896     \n",
            "                                                                 \n",
            " dense (Dense)               (None, 8)                 520       \n",
            "                                                                 \n",
            " dense_1 (Dense)             (None, 1)                 9         \n",
            "                                                                 \n",
            "=================================================================\n",
            "Total params: 17,425\n",
            "Trainable params: 17,425\n",
            "Non-trainable params: 0\n",
            "_________________________________________________________________\n"
          ]
        }
      ]
    },
    {
      "cell_type": "code",
      "source": [
        "cp1 = ModelCheckpoint('model1/', save_best_only=True)\n",
        "model1.compile(loss=MeanSquaredError(), optimizer=Adam(learning_rate=0.0001), metrics=[RootMeanSquaredError()])"
      ],
      "metadata": {
        "id": "LW79g50YvsY3"
      },
      "execution_count": null,
      "outputs": []
    },
    {
      "cell_type": "code",
      "source": [
        "model1.fit(X_train1, y_train1, validation_data=(X_val1, y_val1), epochs=10, callbacks=[cp1])"
      ],
      "metadata": {
        "id": "f8zh6fzBv34Y",
        "outputId": "139c8ea6-f761-4e39-ddec-ccff43fd5cb5",
        "colab": {
          "base_uri": "https://localhost:8080/"
        }
      },
      "execution_count": null,
      "outputs": [
        {
          "output_type": "stream",
          "name": "stdout",
          "text": [
            "Epoch 1/10\n",
            "1965/1969 [============================>.] - ETA: 0s - loss: 132251.7656 - root_mean_squared_error: 363.6644"
          ]
        },
        {
          "output_type": "stream",
          "name": "stderr",
          "text": [
            "WARNING:absl:Found untraced functions such as lstm_cell_4_layer_call_fn, lstm_cell_4_layer_call_and_return_conditional_losses while saving (showing 2 of 2). These functions will not be directly callable after loading.\n",
            "WARNING:absl:<keras.layers.recurrent.LSTMCell object at 0x7f3a7666b910> has the same name 'LSTMCell' as a built-in Keras object. Consider renaming <class 'keras.layers.recurrent.LSTMCell'> to avoid naming conflicts when loading with `tf.keras.models.load_model`. If renaming is not possible, pass the object in the `custom_objects` parameter of the load function.\n"
          ]
        },
        {
          "output_type": "stream",
          "name": "stdout",
          "text": [
            "\b\b\b\b\b\b\b\b\b\b\b\b\b\b\b\b\b\b\b\b\b\b\b\b\b\b\b\b\b\b\b\b\b\b\b\b\b\b\b\b\b\b\b\b\b\b\b\b\b\b\b\b\b\b\b\b\b\b\b\b\b\b\b\b\b\b\b\b\b\b\b\b\b\b\b\b\b\b\b\b\b\b\b\b\b\b\b\b\b\b\b\b\b\b\b\b\b\b\b\b\b\b\b\b\b\b\b\b\r1969/1969 [==============================] - 22s 10ms/step - loss: 132179.5625 - root_mean_squared_error: 363.5651 - val_loss: 113135.4688 - val_root_mean_squared_error: 336.3562\n",
            "Epoch 2/10\n",
            "1967/1969 [============================>.] - ETA: 0s - loss: 93156.2422 - root_mean_squared_error: 305.2151"
          ]
        },
        {
          "output_type": "stream",
          "name": "stderr",
          "text": [
            "WARNING:absl:Found untraced functions such as lstm_cell_4_layer_call_fn, lstm_cell_4_layer_call_and_return_conditional_losses while saving (showing 2 of 2). These functions will not be directly callable after loading.\n",
            "WARNING:absl:<keras.layers.recurrent.LSTMCell object at 0x7f3a7666b910> has the same name 'LSTMCell' as a built-in Keras object. Consider renaming <class 'keras.layers.recurrent.LSTMCell'> to avoid naming conflicts when loading with `tf.keras.models.load_model`. If renaming is not possible, pass the object in the `custom_objects` parameter of the load function.\n"
          ]
        },
        {
          "output_type": "stream",
          "name": "stdout",
          "text": [
            "\b\b\b\b\b\b\b\b\b\b\b\b\b\b\b\b\b\b\b\b\b\b\b\b\b\b\b\b\b\b\b\b\b\b\b\b\b\b\b\b\b\b\b\b\b\b\b\b\b\b\b\b\b\b\b\b\b\b\b\b\b\b\b\b\b\b\b\b\b\b\b\b\b\b\b\b\b\b\b\b\b\b\b\b\b\b\b\b\b\b\b\b\b\b\b\b\b\b\b\b\b\b\b\b\b\b\b\r1969/1969 [==============================] - 20s 10ms/step - loss: 93125.3594 - root_mean_squared_error: 305.1645 - val_loss: 72748.1641 - val_root_mean_squared_error: 269.7187\n",
            "Epoch 3/10\n",
            "1968/1969 [============================>.] - ETA: 0s - loss: 54692.7578 - root_mean_squared_error: 233.8648"
          ]
        },
        {
          "output_type": "stream",
          "name": "stderr",
          "text": [
            "WARNING:absl:Found untraced functions such as lstm_cell_4_layer_call_fn, lstm_cell_4_layer_call_and_return_conditional_losses while saving (showing 2 of 2). These functions will not be directly callable after loading.\n",
            "WARNING:absl:<keras.layers.recurrent.LSTMCell object at 0x7f3a7666b910> has the same name 'LSTMCell' as a built-in Keras object. Consider renaming <class 'keras.layers.recurrent.LSTMCell'> to avoid naming conflicts when loading with `tf.keras.models.load_model`. If renaming is not possible, pass the object in the `custom_objects` parameter of the load function.\n"
          ]
        },
        {
          "output_type": "stream",
          "name": "stdout",
          "text": [
            "\b\b\b\b\b\b\b\b\b\b\b\b\b\b\b\b\b\b\b\b\b\b\b\b\b\b\b\b\b\b\b\b\b\b\b\b\b\b\b\b\b\b\b\b\b\b\b\b\b\b\b\b\b\b\b\b\b\b\b\b\b\b\b\b\b\b\b\b\b\b\b\b\b\b\b\b\b\b\b\b\b\b\b\b\b\b\b\b\b\b\b\b\b\b\b\b\b\b\b\b\b\b\b\b\b\b\b\r1969/1969 [==============================] - 19s 10ms/step - loss: 54692.2031 - root_mean_squared_error: 233.8636 - val_loss: 38102.7617 - val_root_mean_squared_error: 195.1993\n",
            "Epoch 4/10\n",
            "1964/1969 [============================>.] - ETA: 0s - loss: 25770.2227 - root_mean_squared_error: 160.5311"
          ]
        },
        {
          "output_type": "stream",
          "name": "stderr",
          "text": [
            "WARNING:absl:Found untraced functions such as lstm_cell_4_layer_call_fn, lstm_cell_4_layer_call_and_return_conditional_losses while saving (showing 2 of 2). These functions will not be directly callable after loading.\n",
            "WARNING:absl:<keras.layers.recurrent.LSTMCell object at 0x7f3a7666b910> has the same name 'LSTMCell' as a built-in Keras object. Consider renaming <class 'keras.layers.recurrent.LSTMCell'> to avoid naming conflicts when loading with `tf.keras.models.load_model`. If renaming is not possible, pass the object in the `custom_objects` parameter of the load function.\n"
          ]
        },
        {
          "output_type": "stream",
          "name": "stdout",
          "text": [
            "\b\b\b\b\b\b\b\b\b\b\b\b\b\b\b\b\b\b\b\b\b\b\b\b\b\b\b\b\b\b\b\b\b\b\b\b\b\b\b\b\b\b\b\b\b\b\b\b\b\b\b\b\b\b\b\b\b\b\b\b\b\b\b\b\b\b\b\b\b\b\b\b\b\b\b\b\b\b\b\b\b\b\b\b\b\b\b\b\b\b\b\b\b\b\b\b\b\b\b\b\b\b\b\b\b\b\b\r1969/1969 [==============================] - 20s 10ms/step - loss: 25744.5391 - root_mean_squared_error: 160.4510 - val_loss: 15358.9590 - val_root_mean_squared_error: 123.9313\n",
            "Epoch 5/10\n",
            "1962/1969 [============================>.] - ETA: 0s - loss: 8979.0938 - root_mean_squared_error: 94.7581"
          ]
        },
        {
          "output_type": "stream",
          "name": "stderr",
          "text": [
            "WARNING:absl:Found untraced functions such as lstm_cell_4_layer_call_fn, lstm_cell_4_layer_call_and_return_conditional_losses while saving (showing 2 of 2). These functions will not be directly callable after loading.\n",
            "WARNING:absl:<keras.layers.recurrent.LSTMCell object at 0x7f3a7666b910> has the same name 'LSTMCell' as a built-in Keras object. Consider renaming <class 'keras.layers.recurrent.LSTMCell'> to avoid naming conflicts when loading with `tf.keras.models.load_model`. If renaming is not possible, pass the object in the `custom_objects` parameter of the load function.\n"
          ]
        },
        {
          "output_type": "stream",
          "name": "stdout",
          "text": [
            "\b\b\b\b\b\b\b\b\b\b\b\b\b\b\b\b\b\b\b\b\b\b\b\b\b\b\b\b\b\b\b\b\b\b\b\b\b\b\b\b\b\b\b\b\b\b\b\b\b\b\b\b\b\b\b\b\b\b\b\b\b\b\b\b\b\b\b\b\b\b\b\b\b\b\b\b\b\b\b\b\b\b\b\b\b\b\b\b\b\b\b\b\b\b\b\b\b\b\b\b\b\b\b\b\b\r1969/1969 [==============================] - 20s 10ms/step - loss: 8964.9434 - root_mean_squared_error: 94.6834 - val_loss: 4186.9658 - val_root_mean_squared_error: 64.7068\n",
            "Epoch 6/10\n",
            "1968/1969 [============================>.] - ETA: 0s - loss: 1965.7761 - root_mean_squared_error: 44.3371"
          ]
        },
        {
          "output_type": "stream",
          "name": "stderr",
          "text": [
            "WARNING:absl:Found untraced functions such as lstm_cell_4_layer_call_fn, lstm_cell_4_layer_call_and_return_conditional_losses while saving (showing 2 of 2). These functions will not be directly callable after loading.\n",
            "WARNING:absl:<keras.layers.recurrent.LSTMCell object at 0x7f3a7666b910> has the same name 'LSTMCell' as a built-in Keras object. Consider renaming <class 'keras.layers.recurrent.LSTMCell'> to avoid naming conflicts when loading with `tf.keras.models.load_model`. If renaming is not possible, pass the object in the `custom_objects` parameter of the load function.\n"
          ]
        },
        {
          "output_type": "stream",
          "name": "stdout",
          "text": [
            "\b\b\b\b\b\b\b\b\b\b\b\b\b\b\b\b\b\b\b\b\b\b\b\b\b\b\b\b\b\b\b\b\b\b\b\b\b\b\b\b\b\b\b\b\b\b\b\b\b\b\b\b\b\b\b\b\b\b\b\b\b\b\b\b\b\b\b\b\b\b\b\b\b\b\b\b\b\b\b\b\b\b\b\b\b\b\b\b\b\b\b\b\b\b\b\b\b\b\b\b\b\b\b\b\b\r1969/1969 [==============================] - 20s 10ms/step - loss: 1965.2158 - root_mean_squared_error: 44.3308 - val_loss: 586.8346 - val_root_mean_squared_error: 24.2247\n",
            "Epoch 7/10\n",
            "1963/1969 [============================>.] - ETA: 0s - loss: 204.0631 - root_mean_squared_error: 14.2851"
          ]
        },
        {
          "output_type": "stream",
          "name": "stderr",
          "text": [
            "WARNING:absl:Found untraced functions such as lstm_cell_4_layer_call_fn, lstm_cell_4_layer_call_and_return_conditional_losses while saving (showing 2 of 2). These functions will not be directly callable after loading.\n",
            "WARNING:absl:<keras.layers.recurrent.LSTMCell object at 0x7f3a7666b910> has the same name 'LSTMCell' as a built-in Keras object. Consider renaming <class 'keras.layers.recurrent.LSTMCell'> to avoid naming conflicts when loading with `tf.keras.models.load_model`. If renaming is not possible, pass the object in the `custom_objects` parameter of the load function.\n"
          ]
        },
        {
          "output_type": "stream",
          "name": "stdout",
          "text": [
            "\b\b\b\b\b\b\b\b\b\b\b\b\b\b\b\b\b\b\b\b\b\b\b\b\b\b\b\b\b\b\b\b\b\b\b\b\b\b\b\b\b\b\b\b\b\b\b\b\b\b\b\b\b\b\b\b\b\b\b\b\b\b\b\b\b\b\b\b\b\b\b\b\b\b\b\b\b\b\b\b\b\b\b\b\b\b\b\b\b\b\b\b\b\b\b\b\b\b\b\b\b\b\b\b\r1969/1969 [==============================] - 20s 10ms/step - loss: 203.6098 - root_mean_squared_error: 14.2692 - val_loss: 36.2141 - val_root_mean_squared_error: 6.0178\n",
            "Epoch 8/10\n",
            "1969/1969 [==============================] - ETA: 0s - loss: 21.3735 - root_mean_squared_error: 4.6231"
          ]
        },
        {
          "output_type": "stream",
          "name": "stderr",
          "text": [
            "WARNING:absl:Found untraced functions such as lstm_cell_4_layer_call_fn, lstm_cell_4_layer_call_and_return_conditional_losses while saving (showing 2 of 2). These functions will not be directly callable after loading.\n",
            "WARNING:absl:<keras.layers.recurrent.LSTMCell object at 0x7f3a7666b910> has the same name 'LSTMCell' as a built-in Keras object. Consider renaming <class 'keras.layers.recurrent.LSTMCell'> to avoid naming conflicts when loading with `tf.keras.models.load_model`. If renaming is not possible, pass the object in the `custom_objects` parameter of the load function.\n"
          ]
        },
        {
          "output_type": "stream",
          "name": "stdout",
          "text": [
            "\b\b\b\b\b\b\b\b\b\b\b\b\b\b\b\b\b\b\b\b\b\b\b\b\b\b\b\b\b\b\b\b\b\b\b\b\b\b\b\b\b\b\b\b\b\b\b\b\b\b\b\b\b\b\b\b\b\b\b\b\b\b\b\b\b\b\b\b\b\b\b\b\b\b\b\b\b\b\b\b\b\b\b\b\b\b\b\b\b\b\b\b\b\b\b\b\b\b\b\b\b\b\r1969/1969 [==============================] - 19s 10ms/step - loss: 21.3735 - root_mean_squared_error: 4.6231 - val_loss: 17.6317 - val_root_mean_squared_error: 4.1990\n",
            "Epoch 9/10\n",
            "1964/1969 [============================>.] - ETA: 0s - loss: 11.6486 - root_mean_squared_error: 3.4130"
          ]
        },
        {
          "output_type": "stream",
          "name": "stderr",
          "text": [
            "WARNING:absl:Found untraced functions such as lstm_cell_4_layer_call_fn, lstm_cell_4_layer_call_and_return_conditional_losses while saving (showing 2 of 2). These functions will not be directly callable after loading.\n",
            "WARNING:absl:<keras.layers.recurrent.LSTMCell object at 0x7f3a7666b910> has the same name 'LSTMCell' as a built-in Keras object. Consider renaming <class 'keras.layers.recurrent.LSTMCell'> to avoid naming conflicts when loading with `tf.keras.models.load_model`. If renaming is not possible, pass the object in the `custom_objects` parameter of the load function.\n"
          ]
        },
        {
          "output_type": "stream",
          "name": "stdout",
          "text": [
            "\b\b\b\b\b\b\b\b\b\b\b\b\b\b\b\b\b\b\b\b\b\b\b\b\b\b\b\b\b\b\b\b\b\b\b\b\b\b\b\b\b\b\b\b\b\b\b\b\b\b\b\b\b\b\b\b\b\b\b\b\b\b\b\b\b\b\b\b\b\b\b\b\b\b\b\b\b\b\b\b\b\b\b\b\b\b\b\b\b\b\b\b\b\b\b\b\b\b\b\b\b\b\r1969/1969 [==============================] - 19s 10ms/step - loss: 11.6265 - root_mean_squared_error: 3.4098 - val_loss: 2.8644 - val_root_mean_squared_error: 1.6924\n",
            "Epoch 10/10\n",
            "1967/1969 [============================>.] - ETA: 0s - loss: 0.9876 - root_mean_squared_error: 0.9938"
          ]
        },
        {
          "output_type": "stream",
          "name": "stderr",
          "text": [
            "WARNING:absl:Found untraced functions such as lstm_cell_4_layer_call_fn, lstm_cell_4_layer_call_and_return_conditional_losses while saving (showing 2 of 2). These functions will not be directly callable after loading.\n",
            "WARNING:absl:<keras.layers.recurrent.LSTMCell object at 0x7f3a7666b910> has the same name 'LSTMCell' as a built-in Keras object. Consider renaming <class 'keras.layers.recurrent.LSTMCell'> to avoid naming conflicts when loading with `tf.keras.models.load_model`. If renaming is not possible, pass the object in the `custom_objects` parameter of the load function.\n"
          ]
        },
        {
          "output_type": "stream",
          "name": "stdout",
          "text": [
            "\b\b\b\b\b\b\b\b\b\b\b\b\b\b\b\b\b\b\b\b\b\b\b\b\b\b\b\b\b\b\b\b\b\b\b\b\b\b\b\b\b\b\b\b\b\b\b\b\b\b\b\b\b\b\b\b\b\b\b\b\b\b\b\b\b\b\b\b\b\b\b\b\b\b\b\b\b\b\b\b\b\b\b\b\b\b\b\b\b\b\b\b\b\b\b\b\b\b\b\b\b\r1969/1969 [==============================] - 19s 10ms/step - loss: 0.9875 - root_mean_squared_error: 0.9938 - val_loss: 0.5424 - val_root_mean_squared_error: 0.7365\n"
          ]
        },
        {
          "output_type": "execute_result",
          "data": {
            "text/plain": [
              "<keras.callbacks.History at 0x7f3a7669bd90>"
            ]
          },
          "metadata": {},
          "execution_count": 44
        }
      ]
    },
    {
      "cell_type": "code",
      "source": [
        "from tensorflow.keras.models import load_model\n",
        "model1 = load_model('model1/')"
      ],
      "metadata": {
        "id": "MgmlyrQiv9KT"
      },
      "execution_count": null,
      "outputs": []
    },
    {
      "cell_type": "code",
      "source": [
        "train_predictions = model1.predict(X_train1).flatten()\n",
        "train_results = pd.DataFrame(data={'Train Predictions':train_predictions, 'Actuals':y_train1})\n",
        "train_results"
      ],
      "metadata": {
        "id": "jKirzmQRwTMp",
        "outputId": "c809e1e8-12b1-4af5-a059-e4ead7725ae6",
        "colab": {
          "base_uri": "https://localhost:8080/",
          "height": 424
        }
      },
      "execution_count": null,
      "outputs": [
        {
          "output_type": "execute_result",
          "data": {
            "text/plain": [
              "       Train Predictions  Actuals\n",
              "0            -597.663269     -600\n",
              "1            -595.066650     -595\n",
              "2            -590.380249     -590\n",
              "3            -584.609131     -585\n",
              "4            -579.283081     -580\n",
              "...                  ...      ...\n",
              "62995        -169.943344     -170\n",
              "62996        -164.938690     -165\n",
              "62997        -159.934464     -160\n",
              "62998        -154.931396     -155\n",
              "62999        -149.930191     -150\n",
              "\n",
              "[63000 rows x 2 columns]"
            ],
            "text/html": [
              "\n",
              "  <div id=\"df-d361d928-64ff-4f4a-b4aa-09a6b35b34d7\">\n",
              "    <div class=\"colab-df-container\">\n",
              "      <div>\n",
              "<style scoped>\n",
              "    .dataframe tbody tr th:only-of-type {\n",
              "        vertical-align: middle;\n",
              "    }\n",
              "\n",
              "    .dataframe tbody tr th {\n",
              "        vertical-align: top;\n",
              "    }\n",
              "\n",
              "    .dataframe thead th {\n",
              "        text-align: right;\n",
              "    }\n",
              "</style>\n",
              "<table border=\"1\" class=\"dataframe\">\n",
              "  <thead>\n",
              "    <tr style=\"text-align: right;\">\n",
              "      <th></th>\n",
              "      <th>Train Predictions</th>\n",
              "      <th>Actuals</th>\n",
              "    </tr>\n",
              "  </thead>\n",
              "  <tbody>\n",
              "    <tr>\n",
              "      <th>0</th>\n",
              "      <td>-597.663269</td>\n",
              "      <td>-600</td>\n",
              "    </tr>\n",
              "    <tr>\n",
              "      <th>1</th>\n",
              "      <td>-595.066650</td>\n",
              "      <td>-595</td>\n",
              "    </tr>\n",
              "    <tr>\n",
              "      <th>2</th>\n",
              "      <td>-590.380249</td>\n",
              "      <td>-590</td>\n",
              "    </tr>\n",
              "    <tr>\n",
              "      <th>3</th>\n",
              "      <td>-584.609131</td>\n",
              "      <td>-585</td>\n",
              "    </tr>\n",
              "    <tr>\n",
              "      <th>4</th>\n",
              "      <td>-579.283081</td>\n",
              "      <td>-580</td>\n",
              "    </tr>\n",
              "    <tr>\n",
              "      <th>...</th>\n",
              "      <td>...</td>\n",
              "      <td>...</td>\n",
              "    </tr>\n",
              "    <tr>\n",
              "      <th>62995</th>\n",
              "      <td>-169.943344</td>\n",
              "      <td>-170</td>\n",
              "    </tr>\n",
              "    <tr>\n",
              "      <th>62996</th>\n",
              "      <td>-164.938690</td>\n",
              "      <td>-165</td>\n",
              "    </tr>\n",
              "    <tr>\n",
              "      <th>62997</th>\n",
              "      <td>-159.934464</td>\n",
              "      <td>-160</td>\n",
              "    </tr>\n",
              "    <tr>\n",
              "      <th>62998</th>\n",
              "      <td>-154.931396</td>\n",
              "      <td>-155</td>\n",
              "    </tr>\n",
              "    <tr>\n",
              "      <th>62999</th>\n",
              "      <td>-149.930191</td>\n",
              "      <td>-150</td>\n",
              "    </tr>\n",
              "  </tbody>\n",
              "</table>\n",
              "<p>63000 rows × 2 columns</p>\n",
              "</div>\n",
              "      <button class=\"colab-df-convert\" onclick=\"convertToInteractive('df-d361d928-64ff-4f4a-b4aa-09a6b35b34d7')\"\n",
              "              title=\"Convert this dataframe to an interactive table.\"\n",
              "              style=\"display:none;\">\n",
              "        \n",
              "  <svg xmlns=\"http://www.w3.org/2000/svg\" height=\"24px\"viewBox=\"0 0 24 24\"\n",
              "       width=\"24px\">\n",
              "    <path d=\"M0 0h24v24H0V0z\" fill=\"none\"/>\n",
              "    <path d=\"M18.56 5.44l.94 2.06.94-2.06 2.06-.94-2.06-.94-.94-2.06-.94 2.06-2.06.94zm-11 1L8.5 8.5l.94-2.06 2.06-.94-2.06-.94L8.5 2.5l-.94 2.06-2.06.94zm10 10l.94 2.06.94-2.06 2.06-.94-2.06-.94-.94-2.06-.94 2.06-2.06.94z\"/><path d=\"M17.41 7.96l-1.37-1.37c-.4-.4-.92-.59-1.43-.59-.52 0-1.04.2-1.43.59L10.3 9.45l-7.72 7.72c-.78.78-.78 2.05 0 2.83L4 21.41c.39.39.9.59 1.41.59.51 0 1.02-.2 1.41-.59l7.78-7.78 2.81-2.81c.8-.78.8-2.07 0-2.86zM5.41 20L4 18.59l7.72-7.72 1.47 1.35L5.41 20z\"/>\n",
              "  </svg>\n",
              "      </button>\n",
              "      \n",
              "  <style>\n",
              "    .colab-df-container {\n",
              "      display:flex;\n",
              "      flex-wrap:wrap;\n",
              "      gap: 12px;\n",
              "    }\n",
              "\n",
              "    .colab-df-convert {\n",
              "      background-color: #E8F0FE;\n",
              "      border: none;\n",
              "      border-radius: 50%;\n",
              "      cursor: pointer;\n",
              "      display: none;\n",
              "      fill: #1967D2;\n",
              "      height: 32px;\n",
              "      padding: 0 0 0 0;\n",
              "      width: 32px;\n",
              "    }\n",
              "\n",
              "    .colab-df-convert:hover {\n",
              "      background-color: #E2EBFA;\n",
              "      box-shadow: 0px 1px 2px rgba(60, 64, 67, 0.3), 0px 1px 3px 1px rgba(60, 64, 67, 0.15);\n",
              "      fill: #174EA6;\n",
              "    }\n",
              "\n",
              "    [theme=dark] .colab-df-convert {\n",
              "      background-color: #3B4455;\n",
              "      fill: #D2E3FC;\n",
              "    }\n",
              "\n",
              "    [theme=dark] .colab-df-convert:hover {\n",
              "      background-color: #434B5C;\n",
              "      box-shadow: 0px 1px 3px 1px rgba(0, 0, 0, 0.15);\n",
              "      filter: drop-shadow(0px 1px 2px rgba(0, 0, 0, 0.3));\n",
              "      fill: #FFFFFF;\n",
              "    }\n",
              "  </style>\n",
              "\n",
              "      <script>\n",
              "        const buttonEl =\n",
              "          document.querySelector('#df-d361d928-64ff-4f4a-b4aa-09a6b35b34d7 button.colab-df-convert');\n",
              "        buttonEl.style.display =\n",
              "          google.colab.kernel.accessAllowed ? 'block' : 'none';\n",
              "\n",
              "        async function convertToInteractive(key) {\n",
              "          const element = document.querySelector('#df-d361d928-64ff-4f4a-b4aa-09a6b35b34d7');\n",
              "          const dataTable =\n",
              "            await google.colab.kernel.invokeFunction('convertToInteractive',\n",
              "                                                     [key], {});\n",
              "          if (!dataTable) return;\n",
              "\n",
              "          const docLinkHtml = 'Like what you see? Visit the ' +\n",
              "            '<a target=\"_blank\" href=https://colab.research.google.com/notebooks/data_table.ipynb>data table notebook</a>'\n",
              "            + ' to learn more about interactive tables.';\n",
              "          element.innerHTML = '';\n",
              "          dataTable['output_type'] = 'display_data';\n",
              "          await google.colab.output.renderOutput(dataTable, element);\n",
              "          const docLink = document.createElement('div');\n",
              "          docLink.innerHTML = docLinkHtml;\n",
              "          element.appendChild(docLink);\n",
              "        }\n",
              "      </script>\n",
              "    </div>\n",
              "  </div>\n",
              "  "
            ]
          },
          "metadata": {},
          "execution_count": 47
        }
      ]
    },
    {
      "cell_type": "code",
      "source": [
        "import matplotlib.pyplot as plt\n",
        "plt.plot(train_results['Train Predictions'][50:100])\n",
        "plt.plot(train_results['Actuals'][50:100])"
      ],
      "metadata": {
        "id": "hWGGDPjyxL62",
        "outputId": "96523c77-811b-4129-d1e8-a0d50cbc7474",
        "colab": {
          "base_uri": "https://localhost:8080/",
          "height": 282
        }
      },
      "execution_count": null,
      "outputs": [
        {
          "output_type": "execute_result",
          "data": {
            "text/plain": [
              "[<matplotlib.lines.Line2D at 0x7f3a4e5e1590>]"
            ]
          },
          "metadata": {},
          "execution_count": 48
        },
        {
          "output_type": "display_data",
          "data": {
            "text/plain": [
              "<Figure size 432x288 with 1 Axes>"
            ],
            "image/png": "[encoded data removed]"
          },
          "metadata": {
            "needs_background": "light"
          }
        }
      ]
    },
    {
      "cell_type": "code",
      "source": [
        "val_predictions = model1.predict(X_val1).flatten()\n",
        "val_results = pd.DataFrame(data={'Val Predictions':val_predictions, 'Actuals':y_val1})\n",
        "val_results"
      ],
      "metadata": {
        "id": "bQJLmVyPxRYI",
        "outputId": "34d8bb7f-351d-4249-b6c1-081993cd1e24",
        "colab": {
          "base_uri": "https://localhost:8080/",
          "height": 424
        }
      },
      "execution_count": null,
      "outputs": [
        {
          "output_type": "execute_result",
          "data": {
            "text/plain": [
              "       Val Predictions  Actuals\n",
              "0          -144.931412     -145\n",
              "1          -139.935364     -140\n",
              "2          -134.941971     -135\n",
              "3          -129.950821     -130\n",
              "4          -124.960968     -125\n",
              "...                ...      ...\n",
              "11995       -19.925104      -20\n",
              "11996       -14.936136      -15\n",
              "11997       -10.089911      -10\n",
              "11998        -4.892161       -5\n",
              "11999         0.030525        0\n",
              "\n",
              "[12000 rows x 2 columns]"
            ],
            "text/html": [
              "\n",
              "  <div id=\"df-ee16db69-ec3c-4824-9748-428fc82e30fe\">\n",
              "    <div class=\"colab-df-container\">\n",
              "      <div>\n",
              "<style scoped>\n",
              "    .dataframe tbody tr th:only-of-type {\n",
              "        vertical-align: middle;\n",
              "    }\n",
              "\n",
              "    .dataframe tbody tr th {\n",
              "        vertical-align: top;\n",
              "    }\n",
              "\n",
              "    .dataframe thead th {\n",
              "        text-align: right;\n",
              "    }\n",
              "</style>\n",
              "<table border=\"1\" class=\"dataframe\">\n",
              "  <thead>\n",
              "    <tr style=\"text-align: right;\">\n",
              "      <th></th>\n",
              "      <th>Val Predictions</th>\n",
              "      <th>Actuals</th>\n",
              "    </tr>\n",
              "  </thead>\n",
              "  <tbody>\n",
              "    <tr>\n",
              "      <th>0</th>\n",
              "      <td>-144.931412</td>\n",
              "      <td>-145</td>\n",
              "    </tr>\n",
              "    <tr>\n",
              "      <th>1</th>\n",
              "      <td>-139.935364</td>\n",
              "      <td>-140</td>\n",
              "    </tr>\n",
              "    <tr>\n",
              "      <th>2</th>\n",
              "      <td>-134.941971</td>\n",
              "      <td>-135</td>\n",
              "    </tr>\n",
              "    <tr>\n",
              "      <th>3</th>\n",
              "      <td>-129.950821</td>\n",
              "      <td>-130</td>\n",
              "    </tr>\n",
              "    <tr>\n",
              "      <th>4</th>\n",
              "      <td>-124.960968</td>\n",
              "      <td>-125</td>\n",
              "    </tr>\n",
              "    <tr>\n",
              "      <th>...</th>\n",
              "      <td>...</td>\n",
              "      <td>...</td>\n",
              "    </tr>\n",
              "    <tr>\n",
              "      <th>11995</th>\n",
              "      <td>-19.925104</td>\n",
              "      <td>-20</td>\n",
              "    </tr>\n",
              "    <tr>\n",
              "      <th>11996</th>\n",
              "      <td>-14.936136</td>\n",
              "      <td>-15</td>\n",
              "    </tr>\n",
              "    <tr>\n",
              "      <th>11997</th>\n",
              "      <td>-10.089911</td>\n",
              "      <td>-10</td>\n",
              "    </tr>\n",
              "    <tr>\n",
              "      <th>11998</th>\n",
              "      <td>-4.892161</td>\n",
              "      <td>-5</td>\n",
              "    </tr>\n",
              "    <tr>\n",
              "      <th>11999</th>\n",
              "      <td>0.030525</td>\n",
              "      <td>0</td>\n",
              "    </tr>\n",
              "  </tbody>\n",
              "</table>\n",
              "<p>12000 rows × 2 columns</p>\n",
              "</div>\n",
              "      <button class=\"colab-df-convert\" onclick=\"convertToInteractive('df-ee16db69-ec3c-4824-9748-428fc82e30fe')\"\n",
              "              title=\"Convert this dataframe to an interactive table.\"\n",
              "              style=\"display:none;\">\n",
              "        \n",
              "  <svg xmlns=\"http://www.w3.org/2000/svg\" height=\"24px\"viewBox=\"0 0 24 24\"\n",
              "       width=\"24px\">\n",
              "    <path d=\"M0 0h24v24H0V0z\" fill=\"none\"/>\n",
              "    <path d=\"M18.56 5.44l.94 2.06.94-2.06 2.06-.94-2.06-.94-.94-2.06-.94 2.06-2.06.94zm-11 1L8.5 8.5l.94-2.06 2.06-.94-2.06-.94L8.5 2.5l-.94 2.06-2.06.94zm10 10l.94 2.06.94-2.06 2.06-.94-2.06-.94-.94-2.06-.94 2.06-2.06.94z\"/><path d=\"M17.41 7.96l-1.37-1.37c-.4-.4-.92-.59-1.43-.59-.52 0-1.04.2-1.43.59L10.3 9.45l-7.72 7.72c-.78.78-.78 2.05 0 2.83L4 21.41c.39.39.9.59 1.41.59.51 0 1.02-.2 1.41-.59l7.78-7.78 2.81-2.81c.8-.78.8-2.07 0-2.86zM5.41 20L4 18.59l7.72-7.72 1.47 1.35L5.41 20z\"/>\n",
              "  </svg>\n",
              "      </button>\n",
              "      \n",
              "  <style>\n",
              "    .colab-df-container {\n",
              "      display:flex;\n",
              "      flex-wrap:wrap;\n",
              "      gap: 12px;\n",
              "    }\n",
              "\n",
              "    .colab-df-convert {\n",
              "      background-color: #E8F0FE;\n",
              "      border: none;\n",
              "      border-radius: 50%;\n",
              "      cursor: pointer;\n",
              "      display: none;\n",
              "      fill: #1967D2;\n",
              "      height: 32px;\n",
              "      padding: 0 0 0 0;\n",
              "      width: 32px;\n",
              "    }\n",
              "\n",
              "    .colab-df-convert:hover {\n",
              "      background-color: #E2EBFA;\n",
              "      box-shadow: 0px 1px 2px rgba(60, 64, 67, 0.3), 0px 1px 3px 1px rgba(60, 64, 67, 0.15);\n",
              "      fill: #174EA6;\n",
              "    }\n",
              "\n",
              "    [theme=dark] .colab-df-convert {\n",
              "      background-color: #3B4455;\n",
              "      fill: #D2E3FC;\n",
              "    }\n",
              "\n",
              "    [theme=dark] .colab-df-convert:hover {\n",
              "      background-color: #434B5C;\n",
              "      box-shadow: 0px 1px 3px 1px rgba(0, 0, 0, 0.15);\n",
              "      filter: drop-shadow(0px 1px 2px rgba(0, 0, 0, 0.3));\n",
              "      fill: #FFFFFF;\n",
              "    }\n",
              "  </style>\n",
              "\n",
              "      <script>\n",
              "        const buttonEl =\n",
              "          document.querySelector('#df-ee16db69-ec3c-4824-9748-428fc82e30fe button.colab-df-convert');\n",
              "        buttonEl.style.display =\n",
              "          google.colab.kernel.accessAllowed ? 'block' : 'none';\n",
              "\n",
              "        async function convertToInteractive(key) {\n",
              "          const element = document.querySelector('#df-ee16db69-ec3c-4824-9748-428fc82e30fe');\n",
              "          const dataTable =\n",
              "            await google.colab.kernel.invokeFunction('convertToInteractive',\n",
              "                                                     [key], {});\n",
              "          if (!dataTable) return;\n",
              "\n",
              "          const docLinkHtml = 'Like what you see? Visit the ' +\n",
              "            '<a target=\"_blank\" href=https://colab.research.google.com/notebooks/data_table.ipynb>data table notebook</a>'\n",
              "            + ' to learn more about interactive tables.';\n",
              "          element.innerHTML = '';\n",
              "          dataTable['output_type'] = 'display_data';\n",
              "          await google.colab.output.renderOutput(dataTable, element);\n",
              "          const docLink = document.createElement('div');\n",
              "          docLink.innerHTML = docLinkHtml;\n",
              "          element.appendChild(docLink);\n",
              "        }\n",
              "      </script>\n",
              "    </div>\n",
              "  </div>\n",
              "  "
            ]
          },
          "metadata": {},
          "execution_count": 49
        }
      ]
    },
    {
      "cell_type": "code",
      "source": [
        "plt.plot(val_results['Val Predictions'][:100])\n",
        "plt.plot(val_results['Actuals'][:100])"
      ],
      "metadata": {
        "id": "HpRKvLzwxXP6",
        "outputId": "4b7a5122-7ca7-4e9b-c356-36070b06c57f",
        "colab": {
          "base_uri": "https://localhost:8080/",
          "height": 282
        }
      },
      "execution_count": null,
      "outputs": [
        {
          "output_type": "execute_result",
          "data": {
            "text/plain": [
              "[<matplotlib.lines.Line2D at 0x7f3a4dfb9550>]"
            ]
          },
          "metadata": {},
          "execution_count": 50
        },
        {
          "output_type": "display_data",
          "data": {
            "text/plain": [
              "<Figure size 432x288 with 1 Axes>"
            ],
            "image/png": "[encoded data removed]"
          },
          "metadata": {
            "needs_background": "light"
          }
        }
      ]
    },
    {
      "cell_type": "code",
      "source": [
        "test_predictions = model1.predict(X_test1).flatten()\n",
        "test_results = pd.DataFrame(data={'Test Predictions':test_predictions, 'Actuals':y_test1})\n",
        "test_results"
      ],
      "metadata": {
        "id": "fM-t21b7iNvA",
        "outputId": "3f4e1353-4254-479a-ff71-9c4244bac939",
        "colab": {
          "base_uri": "https://localhost:8080/",
          "height": 424
        }
      },
      "execution_count": null,
      "outputs": [
        {
          "output_type": "execute_result",
          "data": {
            "text/plain": [
              "      Test Predictions  Actuals\n",
              "0          -659.502563     -660\n",
              "1          -650.375183     -655\n",
              "2          -649.257446     -650\n",
              "3          -645.860779     -645\n",
              "4          -643.001892     -640\n",
              "...                ...      ...\n",
              "4783        -19.925104      -20\n",
              "4784        -14.936136      -15\n",
              "4785        -10.089911      -10\n",
              "4786         -4.892161       -5\n",
              "4787          0.030525        0\n",
              "\n",
              "[4788 rows x 2 columns]"
            ],
            "text/html": [
              "\n",
              "  <div id=\"df-792f4ce3-d174-4278-b66f-d67ed22abe31\">\n",
              "    <div class=\"colab-df-container\">\n",
              "      <div>\n",
              "<style scoped>\n",
              "    .dataframe tbody tr th:only-of-type {\n",
              "        vertical-align: middle;\n",
              "    }\n",
              "\n",
              "    .dataframe tbody tr th {\n",
              "        vertical-align: top;\n",
              "    }\n",
              "\n",
              "    .dataframe thead th {\n",
              "        text-align: right;\n",
              "    }\n",
              "</style>\n",
              "<table border=\"1\" class=\"dataframe\">\n",
              "  <thead>\n",
              "    <tr style=\"text-align: right;\">\n",
              "      <th></th>\n",
              "      <th>Test Predictions</th>\n",
              "      <th>Actuals</th>\n",
              "    </tr>\n",
              "  </thead>\n",
              "  <tbody>\n",
              "    <tr>\n",
              "      <th>0</th>\n",
              "      <td>-659.502563</td>\n",
              "      <td>-660</td>\n",
              "    </tr>\n",
              "    <tr>\n",
              "      <th>1</th>\n",
              "      <td>-650.375183</td>\n",
              "      <td>-655</td>\n",
              "    </tr>\n",
              "    <tr>\n",
              "      <th>2</th>\n",
              "      <td>-649.257446</td>\n",
              "      <td>-650</td>\n",
              "    </tr>\n",
              "    <tr>\n",
              "      <th>3</th>\n",
              "      <td>-645.860779</td>\n",
              "      <td>-645</td>\n",
              "    </tr>\n",
              "    <tr>\n",
              "      <th>4</th>\n",
              "      <td>-643.001892</td>\n",
              "      <td>-640</td>\n",
              "    </tr>\n",
              "    <tr>\n",
              "      <th>...</th>\n",
              "      <td>...</td>\n",
              "      <td>...</td>\n",
              "    </tr>\n",
              "    <tr>\n",
              "      <th>4783</th>\n",
              "      <td>-19.925104</td>\n",
              "      <td>-20</td>\n",
              "    </tr>\n",
              "    <tr>\n",
              "      <th>4784</th>\n",
              "      <td>-14.936136</td>\n",
              "      <td>-15</td>\n",
              "    </tr>\n",
              "    <tr>\n",
              "      <th>4785</th>\n",
              "      <td>-10.089911</td>\n",
              "      <td>-10</td>\n",
              "    </tr>\n",
              "    <tr>\n",
              "      <th>4786</th>\n",
              "      <td>-4.892161</td>\n",
              "      <td>-5</td>\n",
              "    </tr>\n",
              "    <tr>\n",
              "      <th>4787</th>\n",
              "      <td>0.030525</td>\n",
              "      <td>0</td>\n",
              "    </tr>\n",
              "  </tbody>\n",
              "</table>\n",
              "<p>4788 rows × 2 columns</p>\n",
              "</div>\n",
              "      <button class=\"colab-df-convert\" onclick=\"convertToInteractive('df-792f4ce3-d174-4278-b66f-d67ed22abe31')\"\n",
              "              title=\"Convert this dataframe to an interactive table.\"\n",
              "              style=\"display:none;\">\n",
              "        \n",
              "  <svg xmlns=\"http://www.w3.org/2000/svg\" height=\"24px\"viewBox=\"0 0 24 24\"\n",
              "       width=\"24px\">\n",
              "    <path d=\"M0 0h24v24H0V0z\" fill=\"none\"/>\n",
              "    <path d=\"M18.56 5.44l.94 2.06.94-2.06 2.06-.94-2.06-.94-.94-2.06-.94 2.06-2.06.94zm-11 1L8.5 8.5l.94-2.06 2.06-.94-2.06-.94L8.5 2.5l-.94 2.06-2.06.94zm10 10l.94 2.06.94-2.06 2.06-.94-2.06-.94-.94-2.06-.94 2.06-2.06.94z\"/><path d=\"M17.41 7.96l-1.37-1.37c-.4-.4-.92-.59-1.43-.59-.52 0-1.04.2-1.43.59L10.3 9.45l-7.72 7.72c-.78.78-.78 2.05 0 2.83L4 21.41c.39.39.9.59 1.41.59.51 0 1.02-.2 1.41-.59l7.78-7.78 2.81-2.81c.8-.78.8-2.07 0-2.86zM5.41 20L4 18.59l7.72-7.72 1.47 1.35L5.41 20z\"/>\n",
              "  </svg>\n",
              "      </button>\n",
              "      \n",
              "  <style>\n",
              "    .colab-df-container {\n",
              "      display:flex;\n",
              "      flex-wrap:wrap;\n",
              "      gap: 12px;\n",
              "    }\n",
              "\n",
              "    .colab-df-convert {\n",
              "      background-color: #E8F0FE;\n",
              "      border: none;\n",
              "      border-radius: 50%;\n",
              "      cursor: pointer;\n",
              "      display: none;\n",
              "      fill: #1967D2;\n",
              "      height: 32px;\n",
              "      padding: 0 0 0 0;\n",
              "      width: 32px;\n",
              "    }\n",
              "\n",
              "    .colab-df-convert:hover {\n",
              "      background-color: #E2EBFA;\n",
              "      box-shadow: 0px 1px 2px rgba(60, 64, 67, 0.3), 0px 1px 3px 1px rgba(60, 64, 67, 0.15);\n",
              "      fill: #174EA6;\n",
              "    }\n",
              "\n",
              "    [theme=dark] .colab-df-convert {\n",
              "      background-color: #3B4455;\n",
              "      fill: #D2E3FC;\n",
              "    }\n",
              "\n",
              "    [theme=dark] .colab-df-convert:hover {\n",
              "      background-color: #434B5C;\n",
              "      box-shadow: 0px 1px 3px 1px rgba(0, 0, 0, 0.15);\n",
              "      filter: drop-shadow(0px 1px 2px rgba(0, 0, 0, 0.3));\n",
              "      fill: #FFFFFF;\n",
              "    }\n",
              "  </style>\n",
              "\n",
              "      <script>\n",
              "        const buttonEl =\n",
              "          document.querySelector('#df-792f4ce3-d174-4278-b66f-d67ed22abe31 button.colab-df-convert');\n",
              "        buttonEl.style.display =\n",
              "          google.colab.kernel.accessAllowed ? 'block' : 'none';\n",
              "\n",
              "        async function convertToInteractive(key) {\n",
              "          const element = document.querySelector('#df-792f4ce3-d174-4278-b66f-d67ed22abe31');\n",
              "          const dataTable =\n",
              "            await google.colab.kernel.invokeFunction('convertToInteractive',\n",
              "                                                     [key], {});\n",
              "          if (!dataTable) return;\n",
              "\n",
              "          const docLinkHtml = 'Like what you see? Visit the ' +\n",
              "            '<a target=\"_blank\" href=https://colab.research.google.com/notebooks/data_table.ipynb>data table notebook</a>'\n",
              "            + ' to learn more about interactive tables.';\n",
              "          element.innerHTML = '';\n",
              "          dataTable['output_type'] = 'display_data';\n",
              "          await google.colab.output.renderOutput(dataTable, element);\n",
              "          const docLink = document.createElement('div');\n",
              "          docLink.innerHTML = docLinkHtml;\n",
              "          element.appendChild(docLink);\n",
              "        }\n",
              "      </script>\n",
              "    </div>\n",
              "  </div>\n",
              "  "
            ]
          },
          "metadata": {},
          "execution_count": 51
        }
      ]
    },
    {
      "cell_type": "code",
      "source": [
        "plt.plot(test_results['Test Predictions'][:100])\n",
        "plt.plot(test_results['Actuals'][:100])"
      ],
      "metadata": {
        "colab": {
          "base_uri": "https://localhost:8080/",
          "height": 282
        },
        "id": "9OZZ2gGab6hB",
        "outputId": "781f9f45-a953-4bdf-eb0a-d4c5dbf1f2a7"
      },
      "execution_count": null,
      "outputs": [
        {
          "output_type": "execute_result",
          "data": {
            "text/plain": [
              "[<matplotlib.lines.Line2D at 0x7f3a4dee90d0>]"
            ]
          },
          "metadata": {},
          "execution_count": 53
        },
        {
          "output_type": "display_data",
          "data": {
            "text/plain": [
              "<Figure size 432x288 with 1 Axes>"
            ],
            "image/png": "[encoded data removed]"
          },
          "metadata": {
            "needs_background": "light"
          }
        }
      ]
    },
    {
      "cell_type": "markdown",
      "source": [
        "2"
      ],
      "metadata": {
        "id": "evSg8FgWcIFn"
      }
    },
    {
      "cell_type": "code",
      "source": [
        "from sklearn.metrics import mean_squared_error as mse\n",
        "\n",
        "def plot_predictions1(model, X, y, start=0, end=100):\n",
        "  predictions = model.predict(X).flatten()\n",
        "  df = pd.DataFrame(data={'Predictions':predictions, 'Actuals':y})\n",
        "  plt.plot(df['Predictions'][start:end])\n",
        "  plt.plot(df['Actuals'][start:end])\n",
        "  return df, mse(y, predictions)"
      ],
      "metadata": {
        "id": "JQvVpXyFcJOL"
      },
      "execution_count": 21,
      "outputs": []
    },
    {
      "cell_type": "code",
      "source": [
        "plot_predictions1(model1, X_test1, y_test1)"
      ],
      "metadata": {
        "colab": {
          "base_uri": "https://localhost:8080/",
          "height": 508
        },
        "id": "GUDZcNPScMwQ",
        "outputId": "29cd34b3-ee78-4128-9e63-4a4cbeaf9200"
      },
      "execution_count": null,
      "outputs": [
        {
          "output_type": "execute_result",
          "data": {
            "text/plain": [
              "(      Predictions  Actuals\n",
              " 0     -659.502563     -660\n",
              " 1     -650.375183     -655\n",
              " 2     -649.257446     -650\n",
              " 3     -645.860779     -645\n",
              " 4     -643.001892     -640\n",
              " ...           ...      ...\n",
              " 4783   -19.925104      -20\n",
              " 4784   -14.936136      -15\n",
              " 4785   -10.089911      -10\n",
              " 4786    -4.892161       -5\n",
              " 4787     0.030525        0\n",
              " \n",
              " [4788 rows x 2 columns], 0.543747295852349)"
            ]
          },
          "metadata": {},
          "execution_count": 55
        },
        {
          "output_type": "display_data",
          "data": {
            "text/plain": [
              "<Figure size 432x288 with 1 Axes>"
            ],
            "image/png": "[encoded data removed]"
          },
          "metadata": {
            "needs_background": "light"
          }
        }
      ]
    },
    {
      "cell_type": "code",
      "source": [
        "dataset = pd.get_dummies(df, columns = ['label'])"
      ],
      "metadata": {
        "id": "2aaxvWHiwrvm"
      },
      "execution_count": 6,
      "outputs": []
    },
    {
      "cell_type": "code",
      "source": [
        "lab = df['label']"
      ],
      "metadata": {
        "id": "b9eg8abRxL5V"
      },
      "execution_count": 7,
      "outputs": []
    },
    {
      "cell_type": "code",
      "source": [
        "lab"
      ],
      "metadata": {
        "id": "8dmR3ioCKo2E",
        "outputId": "a862a87d-f2b5-4843-f165-a8568657067b",
        "colab": {
          "base_uri": "https://localhost:8080/"
        }
      },
      "execution_count": 8,
      "outputs": [
        {
          "output_type": "execute_result",
          "data": {
            "text/plain": [
              "0        1\n",
              "1        1\n",
              "2        1\n",
              "3        1\n",
              "4        1\n",
              "        ..\n",
              "79795    0\n",
              "79796    0\n",
              "79797    0\n",
              "79798    0\n",
              "79799    0\n",
              "Name: label, Length: 79800, dtype: int64"
            ]
          },
          "metadata": {},
          "execution_count": 8
        }
      ]
    },
    {
      "cell_type": "code",
      "source": [
        "lab_df = pd.DataFrame({'label':lab})\n",
        "lab_df['Minutes'] = lab_df.index.map(offset)\n",
        "lab_df"
      ],
      "metadata": {
        "id": "KIkECiasM55q",
        "outputId": "13aed3b0-fc0e-4ed1-82cd-69eb1a8513c9",
        "colab": {
          "base_uri": "https://localhost:8080/",
          "height": 424
        }
      },
      "execution_count": 11,
      "outputs": [
        {
          "output_type": "execute_result",
          "data": {
            "text/plain": [
              "       label  Minutes\n",
              "0          1     -660\n",
              "1          1     -655\n",
              "2          1     -650\n",
              "3          1     -645\n",
              "4          1     -640\n",
              "...      ...      ...\n",
              "79795      0      -20\n",
              "79796      0      -15\n",
              "79797      0      -10\n",
              "79798      0       -5\n",
              "79799      0        0\n",
              "\n",
              "[79800 rows x 2 columns]"
            ],
            "text/html": [
              "\n",
              "  <div id=\"df-3fc9964a-9100-42d6-a909-672b5abfee48\">\n",
              "    <div class=\"colab-df-container\">\n",
              "      <div>\n",
              "<style scoped>\n",
              "    .dataframe tbody tr th:only-of-type {\n",
              "        vertical-align: middle;\n",
              "    }\n",
              "\n",
              "    .dataframe tbody tr th {\n",
              "        vertical-align: top;\n",
              "    }\n",
              "\n",
              "    .dataframe thead th {\n",
              "        text-align: right;\n",
              "    }\n",
              "</style>\n",
              "<table border=\"1\" class=\"dataframe\">\n",
              "  <thead>\n",
              "    <tr style=\"text-align: right;\">\n",
              "      <th></th>\n",
              "      <th>label</th>\n",
              "      <th>Minutes</th>\n",
              "    </tr>\n",
              "  </thead>\n",
              "  <tbody>\n",
              "    <tr>\n",
              "      <th>0</th>\n",
              "      <td>1</td>\n",
              "      <td>-660</td>\n",
              "    </tr>\n",
              "    <tr>\n",
              "      <th>1</th>\n",
              "      <td>1</td>\n",
              "      <td>-655</td>\n",
              "    </tr>\n",
              "    <tr>\n",
              "      <th>2</th>\n",
              "      <td>1</td>\n",
              "      <td>-650</td>\n",
              "    </tr>\n",
              "    <tr>\n",
              "      <th>3</th>\n",
              "      <td>1</td>\n",
              "      <td>-645</td>\n",
              "    </tr>\n",
              "    <tr>\n",
              "      <th>4</th>\n",
              "      <td>1</td>\n",
              "      <td>-640</td>\n",
              "    </tr>\n",
              "    <tr>\n",
              "      <th>...</th>\n",
              "      <td>...</td>\n",
              "      <td>...</td>\n",
              "    </tr>\n",
              "    <tr>\n",
              "      <th>79795</th>\n",
              "      <td>0</td>\n",
              "      <td>-20</td>\n",
              "    </tr>\n",
              "    <tr>\n",
              "      <th>79796</th>\n",
              "      <td>0</td>\n",
              "      <td>-15</td>\n",
              "    </tr>\n",
              "    <tr>\n",
              "      <th>79797</th>\n",
              "      <td>0</td>\n",
              "      <td>-10</td>\n",
              "    </tr>\n",
              "    <tr>\n",
              "      <th>79798</th>\n",
              "      <td>0</td>\n",
              "      <td>-5</td>\n",
              "    </tr>\n",
              "    <tr>\n",
              "      <th>79799</th>\n",
              "      <td>0</td>\n",
              "      <td>0</td>\n",
              "    </tr>\n",
              "  </tbody>\n",
              "</table>\n",
              "<p>79800 rows × 2 columns</p>\n",
              "</div>\n",
              "      <button class=\"colab-df-convert\" onclick=\"convertToInteractive('df-3fc9964a-9100-42d6-a909-672b5abfee48')\"\n",
              "              title=\"Convert this dataframe to an interactive table.\"\n",
              "              style=\"display:none;\">\n",
              "        \n",
              "  <svg xmlns=\"http://www.w3.org/2000/svg\" height=\"24px\"viewBox=\"0 0 24 24\"\n",
              "       width=\"24px\">\n",
              "    <path d=\"M0 0h24v24H0V0z\" fill=\"none\"/>\n",
              "    <path d=\"M18.56 5.44l.94 2.06.94-2.06 2.06-.94-2.06-.94-.94-2.06-.94 2.06-2.06.94zm-11 1L8.5 8.5l.94-2.06 2.06-.94-2.06-.94L8.5 2.5l-.94 2.06-2.06.94zm10 10l.94 2.06.94-2.06 2.06-.94-2.06-.94-.94-2.06-.94 2.06-2.06.94z\"/><path d=\"M17.41 7.96l-1.37-1.37c-.4-.4-.92-.59-1.43-.59-.52 0-1.04.2-1.43.59L10.3 9.45l-7.72 7.72c-.78.78-.78 2.05 0 2.83L4 21.41c.39.39.9.59 1.41.59.51 0 1.02-.2 1.41-.59l7.78-7.78 2.81-2.81c.8-.78.8-2.07 0-2.86zM5.41 20L4 18.59l7.72-7.72 1.47 1.35L5.41 20z\"/>\n",
              "  </svg>\n",
              "      </button>\n",
              "      \n",
              "  <style>\n",
              "    .colab-df-container {\n",
              "      display:flex;\n",
              "      flex-wrap:wrap;\n",
              "      gap: 12px;\n",
              "    }\n",
              "\n",
              "    .colab-df-convert {\n",
              "      background-color: #E8F0FE;\n",
              "      border: none;\n",
              "      border-radius: 50%;\n",
              "      cursor: pointer;\n",
              "      display: none;\n",
              "      fill: #1967D2;\n",
              "      height: 32px;\n",
              "      padding: 0 0 0 0;\n",
              "      width: 32px;\n",
              "    }\n",
              "\n",
              "    .colab-df-convert:hover {\n",
              "      background-color: #E2EBFA;\n",
              "      box-shadow: 0px 1px 2px rgba(60, 64, 67, 0.3), 0px 1px 3px 1px rgba(60, 64, 67, 0.15);\n",
              "      fill: #174EA6;\n",
              "    }\n",
              "\n",
              "    [theme=dark] .colab-df-convert {\n",
              "      background-color: #3B4455;\n",
              "      fill: #D2E3FC;\n",
              "    }\n",
              "\n",
              "    [theme=dark] .colab-df-convert:hover {\n",
              "      background-color: #434B5C;\n",
              "      box-shadow: 0px 1px 3px 1px rgba(0, 0, 0, 0.15);\n",
              "      filter: drop-shadow(0px 1px 2px rgba(0, 0, 0, 0.3));\n",
              "      fill: #FFFFFF;\n",
              "    }\n",
              "  </style>\n",
              "\n",
              "      <script>\n",
              "        const buttonEl =\n",
              "          document.querySelector('#df-3fc9964a-9100-42d6-a909-672b5abfee48 button.colab-df-convert');\n",
              "        buttonEl.style.display =\n",
              "          google.colab.kernel.accessAllowed ? 'block' : 'none';\n",
              "\n",
              "        async function convertToInteractive(key) {\n",
              "          const element = document.querySelector('#df-3fc9964a-9100-42d6-a909-672b5abfee48');\n",
              "          const dataTable =\n",
              "            await google.colab.kernel.invokeFunction('convertToInteractive',\n",
              "                                                     [key], {});\n",
              "          if (!dataTable) return;\n",
              "\n",
              "          const docLinkHtml = 'Like what you see? Visit the ' +\n",
              "            '<a target=\"_blank\" href=https://colab.research.google.com/notebooks/data_table.ipynb>data table notebook</a>'\n",
              "            + ' to learn more about interactive tables.';\n",
              "          element.innerHTML = '';\n",
              "          dataTable['output_type'] = 'display_data';\n",
              "          await google.colab.output.renderOutput(dataTable, element);\n",
              "          const docLink = document.createElement('div');\n",
              "          docLink.innerHTML = docLinkHtml;\n",
              "          element.appendChild(docLink);\n",
              "        }\n",
              "      </script>\n",
              "    </div>\n",
              "  </div>\n",
              "  "
            ]
          },
          "metadata": {},
          "execution_count": 11
        }
      ]
    },
    {
      "cell_type": "code",
      "source": [
        "# lab_df['Time sin'] = np.sin(lab_df['Minutes']*(2* np.pi))\n",
        "# lab_df['Time cos'] = np.cos(lab_df['Minutes']*(2* np.pi))\n",
        "# lab_df"
      ],
      "metadata": {
        "id": "gg21aPQJT7_U"
      },
      "execution_count": null,
      "outputs": []
    },
    {
      "cell_type": "code",
      "source": [
        "# lab_df = lab_df.drop('Minutes', axis=1)\n",
        "# lab_df.head()"
      ],
      "metadata": {
        "id": "FCrJhKwaUqyX"
      },
      "execution_count": null,
      "outputs": []
    },
    {
      "cell_type": "markdown",
      "source": [
        "LSTM 1"
      ],
      "metadata": {
        "id": "U5bCvFgd1PFc"
      }
    },
    {
      "cell_type": "code",
      "source": [
        "def df_to_X_y2(df, window_size=12):\n",
        "  df_as_np = df.to_numpy()\n",
        "  X = []\n",
        "  y = []\n",
        "  for i in range(len(df_as_np)-window_size):\n",
        "    row = [r for r in df_as_np[i:i+window_size]]\n",
        "    X.append(row)\n",
        "    label = df_as_np[i+window_size][0]\n",
        "    y.append(label)\n",
        "  return np.array(X), np.array(y)"
      ],
      "metadata": {
        "id": "YevKKFY5J8N3"
      },
      "execution_count": 9,
      "outputs": []
    },
    {
      "cell_type": "code",
      "source": [
        "X2, y2 = df_to_X_y2(lab_df)\n",
        "X2.shape, y2.shape"
      ],
      "metadata": {
        "id": "zpxsZ2waKFKh",
        "outputId": "159c83d2-3bab-48cc-e017-a5ef35028c43",
        "colab": {
          "base_uri": "https://localhost:8080/"
        }
      },
      "execution_count": 12,
      "outputs": [
        {
          "output_type": "execute_result",
          "data": {
            "text/plain": [
              "((79788, 12, 2), (79788,))"
            ]
          },
          "metadata": {},
          "execution_count": 12
        }
      ]
    },
    {
      "cell_type": "code",
      "source": [
        "X2_train, y2_train = X2[:63000], y2[:63000]\n",
        "X2_val, y2_val = X2[63000:75000], y2[63000:75000]\n",
        "X2_test, y2_test = X2[75000:], y2[75000:]\n",
        "X2_train.shape, y2_train.shape, X2_val.shape, y2_val.shape, X2_test.shape, y2_test.shape"
      ],
      "metadata": {
        "id": "bmXJxulEVG_J",
        "outputId": "c9dac6f0-d457-449d-ee01-9eba1da5e3a6",
        "colab": {
          "base_uri": "https://localhost:8080/"
        }
      },
      "execution_count": 13,
      "outputs": [
        {
          "output_type": "execute_result",
          "data": {
            "text/plain": [
              "((63000, 12, 2), (63000,), (12000, 12, 2), (12000,), (4788, 12, 2), (4788,))"
            ]
          },
          "metadata": {},
          "execution_count": 13
        }
      ]
    },
    {
      "cell_type": "code",
      "source": [
        "model2 = Sequential()\n",
        "model2.add(InputLayer((12, 2)))\n",
        "model2.add(LSTM(64))\n",
        "model2.add(Dense(8, 'relu'))\n",
        "model2.add(Dense(1, 'linear'))\n",
        "\n",
        "model2.summary()"
      ],
      "metadata": {
        "id": "L7MOncWqVzU9",
        "outputId": "395d3967-2139-49ad-82b3-8dd0f889a0d4",
        "colab": {
          "base_uri": "https://localhost:8080/"
        }
      },
      "execution_count": 16,
      "outputs": [
        {
          "output_type": "stream",
          "name": "stdout",
          "text": [
            "Model: \"sequential_1\"\n",
            "_________________________________________________________________\n",
            " Layer (type)                Output Shape              Param #   \n",
            "=================================================================\n",
            " lstm_1 (LSTM)               (None, 64)                17152     \n",
            "                                                                 \n",
            " dense_2 (Dense)             (None, 8)                 520       \n",
            "                                                                 \n",
            " dense_3 (Dense)             (None, 1)                 9         \n",
            "                                                                 \n",
            "=================================================================\n",
            "Total params: 17,681\n",
            "Trainable params: 17,681\n",
            "Non-trainable params: 0\n",
            "_________________________________________________________________\n"
          ]
        }
      ]
    },
    {
      "cell_type": "code",
      "source": [
        "cp2 = ModelCheckpoint('model2/', save_best_only=True)\n",
        "model2.compile(loss=MeanSquaredError(), optimizer=Adam(learning_rate=0.0001), metrics=[RootMeanSquaredError()])"
      ],
      "metadata": {
        "id": "xOXtCiZLW31o"
      },
      "execution_count": 17,
      "outputs": []
    },
    {
      "cell_type": "code",
      "source": [
        "model2.fit(X2_train, y2_train, validation_data=(X2_val, y2_val), epochs=10, callbacks=[cp2])"
      ],
      "metadata": {
        "id": "2QgnDGZ9W8Xc",
        "outputId": "1e67b45a-181a-4425-e803-bab932ad6b4f",
        "colab": {
          "base_uri": "https://localhost:8080/"
        }
      },
      "execution_count": 18,
      "outputs": [
        {
          "output_type": "stream",
          "name": "stdout",
          "text": [
            "Epoch 1/10\n",
            "1966/1969 [============================>.] - ETA: 0s - loss: 0.0688 - root_mean_squared_error: 0.2623"
          ]
        },
        {
          "output_type": "stream",
          "name": "stderr",
          "text": [
            "WARNING:absl:Found untraced functions such as lstm_cell_1_layer_call_fn, lstm_cell_1_layer_call_and_return_conditional_losses while saving (showing 2 of 2). These functions will not be directly callable after loading.\n",
            "WARNING:absl:<keras.layers.recurrent.LSTMCell object at 0x7fd381dbc710> has the same name 'LSTMCell' as a built-in Keras object. Consider renaming <class 'keras.layers.recurrent.LSTMCell'> to avoid naming conflicts when loading with `tf.keras.models.load_model`. If renaming is not possible, pass the object in the `custom_objects` parameter of the load function.\n"
          ]
        },
        {
          "output_type": "stream",
          "name": "stdout",
          "text": [
            "\b\b\b\b\b\b\b\b\b\b\b\b\b\b\b\b\b\b\b\b\b\b\b\b\b\b\b\b\b\b\b\b\b\b\b\b\b\b\b\b\b\b\b\b\b\b\b\b\b\b\b\b\b\b\b\b\b\b\b\b\b\b\b\b\b\b\b\b\b\b\b\b\b\b\b\b\b\b\b\b\b\b\b\b\b\b\b\b\b\b\b\b\b\b\b\b\b\b\b\b\b\r1969/1969 [==============================] - 21s 10ms/step - loss: 0.0687 - root_mean_squared_error: 0.2621 - val_loss: 2.5553e-05 - val_root_mean_squared_error: 0.0051\n",
            "Epoch 2/10\n",
            "1969/1969 [==============================] - 14s 7ms/step - loss: 1.3675e-04 - root_mean_squared_error: 0.0117 - val_loss: 5.4739e-05 - val_root_mean_squared_error: 0.0074\n",
            "Epoch 3/10\n",
            "1965/1969 [============================>.] - ETA: 0s - loss: 3.1816e-04 - root_mean_squared_error: 0.0178"
          ]
        },
        {
          "output_type": "stream",
          "name": "stderr",
          "text": [
            "WARNING:absl:Found untraced functions such as lstm_cell_1_layer_call_fn, lstm_cell_1_layer_call_and_return_conditional_losses while saving (showing 2 of 2). These functions will not be directly callable after loading.\n",
            "WARNING:absl:<keras.layers.recurrent.LSTMCell object at 0x7fd381dbc710> has the same name 'LSTMCell' as a built-in Keras object. Consider renaming <class 'keras.layers.recurrent.LSTMCell'> to avoid naming conflicts when loading with `tf.keras.models.load_model`. If renaming is not possible, pass the object in the `custom_objects` parameter of the load function.\n"
          ]
        },
        {
          "output_type": "stream",
          "name": "stdout",
          "text": [
            "\b\b\b\b\b\b\b\b\b\b\b\b\b\b\b\b\b\b\b\b\b\b\b\b\b\b\b\b\b\b\b\b\b\b\b\b\b\b\b\b\b\b\b\b\b\b\b\b\b\b\b\b\b\b\b\b\b\b\b\b\b\b\b\b\b\b\b\b\b\b\b\b\b\b\b\b\b\b\b\b\b\b\b\b\b\b\b\b\b\b\b\b\b\b\b\b\b\b\b\b\b\b\b\b\b\r1969/1969 [==============================] - 18s 9ms/step - loss: 3.1757e-04 - root_mean_squared_error: 0.0178 - val_loss: 5.7208e-06 - val_root_mean_squared_error: 0.0024\n",
            "Epoch 4/10\n",
            "1963/1969 [============================>.] - ETA: 0s - loss: 9.8123e-05 - root_mean_squared_error: 0.0099"
          ]
        },
        {
          "output_type": "stream",
          "name": "stderr",
          "text": [
            "WARNING:absl:Found untraced functions such as lstm_cell_1_layer_call_fn, lstm_cell_1_layer_call_and_return_conditional_losses while saving (showing 2 of 2). These functions will not be directly callable after loading.\n",
            "WARNING:absl:<keras.layers.recurrent.LSTMCell object at 0x7fd381dbc710> has the same name 'LSTMCell' as a built-in Keras object. Consider renaming <class 'keras.layers.recurrent.LSTMCell'> to avoid naming conflicts when loading with `tf.keras.models.load_model`. If renaming is not possible, pass the object in the `custom_objects` parameter of the load function.\n"
          ]
        },
        {
          "output_type": "stream",
          "name": "stdout",
          "text": [
            "\b\b\b\b\b\b\b\b\b\b\b\b\b\b\b\b\b\b\b\b\b\b\b\b\b\b\b\b\b\b\b\b\b\b\b\b\b\b\b\b\b\b\b\b\b\b\b\b\b\b\b\b\b\b\b\b\b\b\b\b\b\b\b\b\b\b\b\b\b\b\b\b\b\b\b\b\b\b\b\b\b\b\b\b\b\b\b\b\b\b\b\b\b\b\b\b\b\b\b\b\b\b\b\b\b\r1969/1969 [==============================] - 18s 9ms/step - loss: 9.7844e-05 - root_mean_squared_error: 0.0099 - val_loss: 3.8743e-06 - val_root_mean_squared_error: 0.0020\n",
            "Epoch 5/10\n",
            "1964/1969 [============================>.] - ETA: 0s - loss: 1.0795e-04 - root_mean_squared_error: 0.0104"
          ]
        },
        {
          "output_type": "stream",
          "name": "stderr",
          "text": [
            "WARNING:absl:Found untraced functions such as lstm_cell_1_layer_call_fn, lstm_cell_1_layer_call_and_return_conditional_losses while saving (showing 2 of 2). These functions will not be directly callable after loading.\n",
            "WARNING:absl:<keras.layers.recurrent.LSTMCell object at 0x7fd381dbc710> has the same name 'LSTMCell' as a built-in Keras object. Consider renaming <class 'keras.layers.recurrent.LSTMCell'> to avoid naming conflicts when loading with `tf.keras.models.load_model`. If renaming is not possible, pass the object in the `custom_objects` parameter of the load function.\n"
          ]
        },
        {
          "output_type": "stream",
          "name": "stdout",
          "text": [
            "\b\b\b\b\b\b\b\b\b\b\b\b\b\b\b\b\b\b\b\b\b\b\b\b\b\b\b\b\b\b\b\b\b\b\b\b\b\b\b\b\b\b\b\b\b\b\b\b\b\b\b\b\b\b\b\b\b\b\b\b\b\b\b\b\b\b\b\b\b\b\b\b\b\b\b\b\b\b\b\b\b\b\b\b\b\b\b\b\b\b\b\b\b\b\b\b\b\b\b\b\b\b\b\b\b\r1969/1969 [==============================] - 18s 9ms/step - loss: 1.0770e-04 - root_mean_squared_error: 0.0104 - val_loss: 2.2559e-06 - val_root_mean_squared_error: 0.0015\n",
            "Epoch 6/10\n",
            "1969/1969 [==============================] - 14s 7ms/step - loss: 0.0049 - root_mean_squared_error: 0.0701 - val_loss: 1.5978e-05 - val_root_mean_squared_error: 0.0040\n",
            "Epoch 7/10\n",
            "1969/1969 [==============================] - 13s 7ms/step - loss: 8.7566e-05 - root_mean_squared_error: 0.0094 - val_loss: 7.3827e-06 - val_root_mean_squared_error: 0.0027\n",
            "Epoch 8/10\n",
            "1969/1969 [==============================] - 14s 7ms/step - loss: 9.6033e-05 - root_mean_squared_error: 0.0098 - val_loss: 4.4229e-06 - val_root_mean_squared_error: 0.0021\n",
            "Epoch 9/10\n",
            "1969/1969 [==============================] - 14s 7ms/step - loss: 0.0052 - root_mean_squared_error: 0.0722 - val_loss: 3.2937e-05 - val_root_mean_squared_error: 0.0057\n",
            "Epoch 10/10\n",
            "1969/1969 [==============================] - 14s 7ms/step - loss: 8.4709e-05 - root_mean_squared_error: 0.0092 - val_loss: 1.0685e-05 - val_root_mean_squared_error: 0.0033\n"
          ]
        },
        {
          "output_type": "execute_result",
          "data": {
            "text/plain": [
              "<keras.callbacks.History at 0x7fd381c68890>"
            ]
          },
          "metadata": {},
          "execution_count": 18
        }
      ]
    },
    {
      "cell_type": "code",
      "source": [
        "plot_predictions1(model2, X2_test, y2_test)"
      ],
      "metadata": {
        "id": "KWd_NvkPfcBd",
        "outputId": "ed5fc6a2-973a-4e10-f82a-06c47c329f61",
        "colab": {
          "base_uri": "https://localhost:8080/",
          "height": 508
        }
      },
      "execution_count": 22,
      "outputs": [
        {
          "output_type": "execute_result",
          "data": {
            "text/plain": [
              "(      Predictions  Actuals\n",
              " 0        0.002936        0\n",
              " 1        0.002458        0\n",
              " 2        0.000530        0\n",
              " 3       -0.000395        0\n",
              " 4       -0.001040        0\n",
              " ...           ...      ...\n",
              " 4783    -0.002900        0\n",
              " 4784    -0.000056        0\n",
              " 4785     0.005292        0\n",
              " 4786     0.000494        0\n",
              " 4787    -0.003197        0\n",
              " \n",
              " [4788 rows x 2 columns], 1.068120996096647e-05)"
            ]
          },
          "metadata": {},
          "execution_count": 22
        },
        {
          "output_type": "display_data",
          "data": {
            "text/plain": [
              "<Figure size 432x288 with 1 Axes>"
            ],
            "image/png": "[encoded data removed]"
          },
          "metadata": {
            "needs_background": "light"
          }
        }
      ]
    },
    {
      "cell_type": "markdown",
      "source": [
        "LSTM 2"
      ],
      "metadata": {
        "id": "aN46YSgZxVxr"
      }
    },
    {
      "cell_type": "code",
      "source": [
        "def df_to_X_y3(df, window_size=24):\n",
        "  df_as_np = df.to_numpy()\n",
        "  X = []\n",
        "  y = []\n",
        "  for i in range(len(df_as_np)-window_size):\n",
        "    row = [r for r in df_as_np[i:i+window_size]]\n",
        "    X.append(row)\n",
        "    label = df_as_np[i+window_size][0]\n",
        "    y.append(label)\n",
        "  return np.array(X), np.array(y)"
      ],
      "metadata": {
        "id": "RbJ7gcN8xTaV"
      },
      "execution_count": 23,
      "outputs": []
    },
    {
      "cell_type": "code",
      "source": [
        "X3, y3 = df_to_X_y3(lab_df)\n",
        "X3.shape, y3.shape"
      ],
      "metadata": {
        "id": "MSUbXWPGxmG7",
        "outputId": "8cce145a-5413-4782-c3c0-769ea6c4beaa",
        "colab": {
          "base_uri": "https://localhost:8080/"
        }
      },
      "execution_count": 24,
      "outputs": [
        {
          "output_type": "execute_result",
          "data": {
            "text/plain": [
              "((79776, 24, 2), (79776,))"
            ]
          },
          "metadata": {},
          "execution_count": 24
        }
      ]
    },
    {
      "cell_type": "code",
      "source": [
        "X3_train, y3_train = X3[:63000], y3[:63000]\n",
        "X3_val, y3_val = X3[63000:75000], y3[63000:75000]\n",
        "X3_test, y3_test = X3[75000:], y3[75000:]\n",
        "X3_train.shape, y3_train.shape, X3_val.shape, y3_val.shape, X3_test.shape, y3_test.shape"
      ],
      "metadata": {
        "id": "OXPqFCAzxq2T",
        "outputId": "74a88e51-000d-4cfd-dac6-6eaf57886d25",
        "colab": {
          "base_uri": "https://localhost:8080/"
        }
      },
      "execution_count": 25,
      "outputs": [
        {
          "output_type": "execute_result",
          "data": {
            "text/plain": [
              "((63000, 24, 2), (63000,), (12000, 24, 2), (12000,), (4776, 24, 2), (4776,))"
            ]
          },
          "metadata": {},
          "execution_count": 25
        }
      ]
    },
    {
      "cell_type": "code",
      "source": [
        "model3 = Sequential()\n",
        "model3.add(InputLayer((24, 2)))\n",
        "model3.add(LSTM(64))\n",
        "model3.add(Dense(8, 'relu'))\n",
        "model3.add(Dense(1, 'linear'))\n",
        "\n",
        "model3.summary()"
      ],
      "metadata": {
        "id": "aF60E-bHyFhL",
        "outputId": "f648f340-fd10-453c-eea0-f39144fdf3ff",
        "colab": {
          "base_uri": "https://localhost:8080/"
        }
      },
      "execution_count": 28,
      "outputs": [
        {
          "output_type": "stream",
          "name": "stdout",
          "text": [
            "Model: \"sequential_3\"\n",
            "_________________________________________________________________\n",
            " Layer (type)                Output Shape              Param #   \n",
            "=================================================================\n",
            " lstm_3 (LSTM)               (None, 64)                17152     \n",
            "                                                                 \n",
            " dense_6 (Dense)             (None, 8)                 520       \n",
            "                                                                 \n",
            " dense_7 (Dense)             (None, 1)                 9         \n",
            "                                                                 \n",
            "=================================================================\n",
            "Total params: 17,681\n",
            "Trainable params: 17,681\n",
            "Non-trainable params: 0\n",
            "_________________________________________________________________\n"
          ]
        }
      ]
    },
    {
      "cell_type": "code",
      "source": [
        "cp3 = ModelCheckpoint('model3/', save_best_only=True)\n",
        "model3.compile(loss=MeanSquaredError(), optimizer=Adam(learning_rate=0.0001), metrics=[RootMeanSquaredError()])"
      ],
      "metadata": {
        "id": "csX332MXyUuc"
      },
      "execution_count": 29,
      "outputs": []
    },
    {
      "cell_type": "code",
      "source": [
        "model3.fit(X3_train, y3_train, validation_data=(X3_val, y3_val), epochs=10, callbacks=[cp3])"
      ],
      "metadata": {
        "id": "aXS6OMzzydh6",
        "outputId": "8b437156-b02d-42ec-cd99-0d8c3ce833eb",
        "colab": {
          "base_uri": "https://localhost:8080/"
        }
      },
      "execution_count": 30,
      "outputs": [
        {
          "output_type": "stream",
          "name": "stdout",
          "text": [
            "Epoch 1/10\n",
            "1967/1969 [============================>.] - ETA: 0s - loss: 0.1960 - root_mean_squared_error: 0.4427"
          ]
        },
        {
          "output_type": "stream",
          "name": "stderr",
          "text": [
            "WARNING:absl:Found untraced functions such as lstm_cell_3_layer_call_fn, lstm_cell_3_layer_call_and_return_conditional_losses while saving (showing 2 of 2). These functions will not be directly callable after loading.\n",
            "WARNING:absl:<keras.layers.recurrent.LSTMCell object at 0x7fd37deb4ad0> has the same name 'LSTMCell' as a built-in Keras object. Consider renaming <class 'keras.layers.recurrent.LSTMCell'> to avoid naming conflicts when loading with `tf.keras.models.load_model`. If renaming is not possible, pass the object in the `custom_objects` parameter of the load function.\n"
          ]
        },
        {
          "output_type": "stream",
          "name": "stdout",
          "text": [
            "\b\b\b\b\b\b\b\b\b\b\b\b\b\b\b\b\b\b\b\b\b\b\b\b\b\b\b\b\b\b\b\b\b\b\b\b\b\b\b\b\b\b\b\b\b\b\b\b\b\b\b\b\b\b\b\b\b\b\b\b\b\b\b\b\b\b\b\b\b\b\b\b\b\b\b\b\b\b\b\b\b\b\b\b\b\b\b\b\b\b\b\b\b\b\b\b\b\b\b\b\b\r1969/1969 [==============================] - 34s 16ms/step - loss: 0.1958 - root_mean_squared_error: 0.4425 - val_loss: 5.6459e-04 - val_root_mean_squared_error: 0.0238\n",
            "Epoch 2/10\n",
            "1965/1969 [============================>.] - ETA: 0s - loss: 2.6439e-04 - root_mean_squared_error: 0.0163"
          ]
        },
        {
          "output_type": "stream",
          "name": "stderr",
          "text": [
            "WARNING:absl:Found untraced functions such as lstm_cell_3_layer_call_fn, lstm_cell_3_layer_call_and_return_conditional_losses while saving (showing 2 of 2). These functions will not be directly callable after loading.\n",
            "WARNING:absl:<keras.layers.recurrent.LSTMCell object at 0x7fd37deb4ad0> has the same name 'LSTMCell' as a built-in Keras object. Consider renaming <class 'keras.layers.recurrent.LSTMCell'> to avoid naming conflicts when loading with `tf.keras.models.load_model`. If renaming is not possible, pass the object in the `custom_objects` parameter of the load function.\n"
          ]
        },
        {
          "output_type": "stream",
          "name": "stdout",
          "text": [
            "\b\b\b\b\b\b\b\b\b\b\b\b\b\b\b\b\b\b\b\b\b\b\b\b\b\b\b\b\b\b\b\b\b\b\b\b\b\b\b\b\b\b\b\b\b\b\b\b\b\b\b\b\b\b\b\b\b\b\b\b\b\b\b\b\b\b\b\b\b\b\b\b\b\b\b\b\b\b\b\b\b\b\b\b\b\b\b\b\b\b\b\b\b\b\b\b\b\b\b\b\b\b\b\b\b\r1969/1969 [==============================] - 28s 14ms/step - loss: 2.6389e-04 - root_mean_squared_error: 0.0162 - val_loss: 8.8897e-06 - val_root_mean_squared_error: 0.0030\n",
            "Epoch 3/10\n",
            "1969/1969 [==============================] - 23s 12ms/step - loss: 8.7991e-04 - root_mean_squared_error: 0.0297 - val_loss: 1.7613e-05 - val_root_mean_squared_error: 0.0042\n",
            "Epoch 4/10\n",
            "1967/1969 [============================>.] - ETA: 0s - loss: 1.8196e-04 - root_mean_squared_error: 0.0135"
          ]
        },
        {
          "output_type": "stream",
          "name": "stderr",
          "text": [
            "WARNING:absl:Found untraced functions such as lstm_cell_3_layer_call_fn, lstm_cell_3_layer_call_and_return_conditional_losses while saving (showing 2 of 2). These functions will not be directly callable after loading.\n",
            "WARNING:absl:<keras.layers.recurrent.LSTMCell object at 0x7fd37deb4ad0> has the same name 'LSTMCell' as a built-in Keras object. Consider renaming <class 'keras.layers.recurrent.LSTMCell'> to avoid naming conflicts when loading with `tf.keras.models.load_model`. If renaming is not possible, pass the object in the `custom_objects` parameter of the load function.\n"
          ]
        },
        {
          "output_type": "stream",
          "name": "stdout",
          "text": [
            "\b\b\b\b\b\b\b\b\b\b\b\b\b\b\b\b\b\b\b\b\b\b\b\b\b\b\b\b\b\b\b\b\b\b\b\b\b\b\b\b\b\b\b\b\b\b\b\b\b\b\b\b\b\b\b\b\b\b\b\b\b\b\b\b\b\b\b\b\b\b\b\b\b\b\b\b\b\b\b\b\b\b\b\b\b\b\b\b\b\b\b\b\b\b\b\b\b\b\b\b\b\b\b\b\b\r1969/1969 [==============================] - 29s 15ms/step - loss: 1.8179e-04 - root_mean_squared_error: 0.0135 - val_loss: 3.3691e-06 - val_root_mean_squared_error: 0.0018\n",
            "Epoch 5/10\n",
            "1969/1969 [==============================] - 23s 12ms/step - loss: 0.0162 - root_mean_squared_error: 0.1273 - val_loss: 1.9169e-04 - val_root_mean_squared_error: 0.0138\n",
            "Epoch 6/10\n",
            "1969/1969 [==============================] - 25s 13ms/step - loss: 0.0011 - root_mean_squared_error: 0.0335 - val_loss: 2.2648e-05 - val_root_mean_squared_error: 0.0048\n",
            "Epoch 7/10\n",
            "1969/1969 [==============================] - 23s 12ms/step - loss: 1.0238e-04 - root_mean_squared_error: 0.0101 - val_loss: 6.8789e-06 - val_root_mean_squared_error: 0.0026\n",
            "Epoch 8/10\n",
            "1969/1969 [==============================] - 24s 12ms/step - loss: 2.6596e-04 - root_mean_squared_error: 0.0163 - val_loss: 9.5401e-05 - val_root_mean_squared_error: 0.0098\n",
            "Epoch 9/10\n",
            "1968/1969 [============================>.] - ETA: 0s - loss: 7.6595e-05 - root_mean_squared_error: 0.0088"
          ]
        },
        {
          "output_type": "stream",
          "name": "stderr",
          "text": [
            "WARNING:absl:Found untraced functions such as lstm_cell_3_layer_call_fn, lstm_cell_3_layer_call_and_return_conditional_losses while saving (showing 2 of 2). These functions will not be directly callable after loading.\n",
            "WARNING:absl:<keras.layers.recurrent.LSTMCell object at 0x7fd37deb4ad0> has the same name 'LSTMCell' as a built-in Keras object. Consider renaming <class 'keras.layers.recurrent.LSTMCell'> to avoid naming conflicts when loading with `tf.keras.models.load_model`. If renaming is not possible, pass the object in the `custom_objects` parameter of the load function.\n"
          ]
        },
        {
          "output_type": "stream",
          "name": "stdout",
          "text": [
            "\b\b\b\b\b\b\b\b\b\b\b\b\b\b\b\b\b\b\b\b\b\b\b\b\b\b\b\b\b\b\b\b\b\b\b\b\b\b\b\b\b\b\b\b\b\b\b\b\b\b\b\b\b\b\b\b\b\b\b\b\b\b\b\b\b\b\b\b\b\b\b\b\b\b\b\b\b\b\b\b\b\b\b\b\b\b\b\b\b\b\b\b\b\b\b\b\b\b\b\b\b\b\b\b\b\r1969/1969 [==============================] - 28s 14ms/step - loss: 7.6567e-05 - root_mean_squared_error: 0.0088 - val_loss: 1.9304e-06 - val_root_mean_squared_error: 0.0014\n",
            "Epoch 10/10\n",
            "1969/1969 [==============================] - 24s 12ms/step - loss: 0.0031 - root_mean_squared_error: 0.0554 - val_loss: 4.6144e-05 - val_root_mean_squared_error: 0.0068\n"
          ]
        },
        {
          "output_type": "execute_result",
          "data": {
            "text/plain": [
              "<keras.callbacks.History at 0x7fd37e0ff850>"
            ]
          },
          "metadata": {},
          "execution_count": 30
        }
      ]
    },
    {
      "cell_type": "code",
      "source": [
        "plot_predictions1(model3, X3_test, y3_test)"
      ],
      "metadata": {
        "id": "dwEoqLhT01Zn",
        "outputId": "29dda3bd-9307-46ba-b3b7-4a67761f6a4d",
        "colab": {
          "base_uri": "https://localhost:8080/",
          "height": 508
        }
      },
      "execution_count": 31,
      "outputs": [
        {
          "output_type": "execute_result",
          "data": {
            "text/plain": [
              "(      Predictions  Actuals\n",
              " 0       -0.010442        0\n",
              " 1       -0.009799        0\n",
              " 2       -0.008097        0\n",
              " 3       -0.005081        0\n",
              " 4       -0.000516        0\n",
              " ...           ...      ...\n",
              " 4771    -0.007142        0\n",
              " 4772    -0.010754        0\n",
              " 4773    -0.010157        0\n",
              " 4774    -0.002232        0\n",
              " 4775     0.007727        0\n",
              " \n",
              " [4776 rows x 2 columns], 4.601343104519662e-05)"
            ]
          },
          "metadata": {},
          "execution_count": 31
        },
        {
          "output_type": "display_data",
          "data": {
            "text/plain": [
              "<Figure size 432x288 with 1 Axes>"
            ],
            "image/png": "[encoded data removed]"
          },
          "metadata": {
            "needs_background": "light"
          }
        }
      ]
    }
  ]
}
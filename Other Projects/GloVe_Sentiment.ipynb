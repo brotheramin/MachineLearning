{
  "nbformat": 4,
  "nbformat_minor": 0,
  "metadata": {
    "colab": {
      "name": "GloVe_Sentiment.ipynb",
      "provenance": [],
      "authorship_tag": "ABX9TyP7emRuRZCtEC5rZyvK37AZ",
      "include_colab_link": true
    },
    "kernelspec": {
      "name": "python3",
      "display_name": "Python 3"
    },
    "language_info": {
      "name": "python"
    }
  },
  "cells": [
    {
      "cell_type": "markdown",
      "metadata": {
        "id": "view-in-github",
        "colab_type": "text"
      },
      "source": [
        "<a href=\"https://colab.research.google.com/github/brotheramin/MachineLearning/blob/main/GloVe_Sentiment.ipynb\" target=\"_parent\"><img src=\"https://colab.research.google.com/assets/colab-badge.svg\" alt=\"Open In Colab\"/></a>"
      ]
    },
    {
      "cell_type": "markdown",
      "source": [
        "**Sentiment Analysis with GloVe Vectors**\n",
        "\n",
        "Sentiment analysis is the process of categorizing opinions in natural language text. Several methods can be used to estimate sentiment. In this example, labeled reviews from Yelp, Amazon, and IMDB are used to train a supervised binary classification model. The model is a 1D convolutional neural network (CNN). While 2D CNNs are commonly used for image classification, their exceptional spatial capabilities can applied to text in one dimension.\n",
        "\n",
        "Words in a sentence must be encoded as vectors for training and prediction. This encoding is more commonly called embedding. A straightforward approach would assign every distinct word a unique numerical value. A better approach is use pretrained word embeddings based on a large corpus of text, such as Wikipedia. Global Vectors for Word Representation ([GloVe](https://https://nlp.stanford.edu/projects/glove/)) is a popular vector representation based on word co-occurance."
      ],
      "metadata": {
        "id": "dgKGDe0lqVp-"
      }
    },
    {
      "cell_type": "code",
      "execution_count": 1,
      "metadata": {
        "id": "jG3yO8w7qR8x"
      },
      "outputs": [],
      "source": [
        "%tensorflow_version 2.x"
      ]
    },
    {
      "cell_type": "code",
      "source": [
        "import pandas as pd\n",
        "import numpy as np\n",
        "import random\n",
        "\n",
        "from tensorflow.keras.models import Sequential\n",
        "from tensorflow.keras.layers import Dense, Dropout, Flatten\n",
        "from tensorflow.keras.layers import Conv1D, GlobalMaxPooling1D, Embedding\n",
        "from tensorflow.keras.optimizers import Adam\n",
        "from tensorflow.keras.preprocessing.sequence import pad_sequences\n",
        "from tensorflow.keras.preprocessing.text import Tokenizer\n",
        "\n",
        "import matplotlib.pyplot as plt\n",
        "\n",
        "from sklearn.model_selection import train_test_split"
      ],
      "metadata": {
        "id": "JLBR_NhBrJFF"
      },
      "execution_count": 2,
      "outputs": []
    },
    {
      "cell_type": "markdown",
      "source": [
        "**Training Data**\n",
        "\n",
        "Data is loaded into a Pandas data frame from text files. This dataset contains two columns: a natural language comment and binary positive/negative sentiment represented as 1 or 0.\n",
        "\n",
        "The data is available from the [UCI Machine Learning Repository](https://archive.ics.uci.edu/ml/datasets/Sentiment+Labelled+Sentences)"
      ],
      "metadata": {
        "id": "pxF-Z08WrPy0"
      }
    },
    {
      "cell_type": "code",
      "source": [
        "# Download data from https://archive.ics.uci.edu/ml/datasets/Sentiment+Labelled+Sentences\n",
        "\n",
        "!wget --quiet \"https://archive.ics.uci.edu/ml/machine-learning-databases/00331/sentiment%20labelled%20sentences.zip\"\n",
        "!unzip -q \"sentiment labelled sentences\"\n",
        "!mv \"sentiment labelled sentences\" data\n",
        "!ls -l data"
      ],
      "metadata": {
        "colab": {
          "base_uri": "https://localhost:8080/"
        },
        "id": "tKmGQGEjrduh",
        "outputId": "f7a199f0-7319-4932-d23e-7440f5601e02"
      },
      "execution_count": 3,
      "outputs": [
        {
          "output_type": "stream",
          "name": "stdout",
          "text": [
            "total 208\n",
            "-rw-r--r-- 1 root root 58226 Jul  5  2016 amazon_cells_labelled.txt\n",
            "-rw-r--r-- 1 root root 85285 Feb 15  2015 imdb_labelled.txt\n",
            "-rw-r--r-- 1 root root  1070 May 31  2015 readme.txt\n",
            "-rw-r--r-- 1 root root 61320 Jul  5  2016 yelp_labelled.txt\n"
          ]
        }
      ]
    },
    {
      "cell_type": "code",
      "source": [
        "files = ['data/yelp_labelled.txt', 'data/amazon_cells_labelled.txt', 'data/imdb_labelled.txt']\n",
        "\n",
        "df_list = []\n",
        "for file in files:\n",
        "    df = pd.read_csv(file, names=['comment', 'sentiment'], sep='\\t')\n",
        "    df_list.append(df)\n",
        "\n",
        "trainingData = pd.concat(df_list)\n",
        "\n",
        "print('Number of rows: %d' % len(trainingData))\n",
        "\n",
        "trainingData.head(10)"
      ],
      "metadata": {
        "colab": {
          "base_uri": "https://localhost:8080/",
          "height": 380
        },
        "id": "Ue_SuL9orlTJ",
        "outputId": "89226e4b-24d1-4a2e-ea71-f7b13b5e627e"
      },
      "execution_count": 4,
      "outputs": [
        {
          "output_type": "stream",
          "name": "stdout",
          "text": [
            "Number of rows: 2748\n"
          ]
        },
        {
          "output_type": "execute_result",
          "data": {
            "text/plain": [
              "                                             comment  sentiment\n",
              "0                           Wow... Loved this place.          1\n",
              "1                                 Crust is not good.          0\n",
              "2          Not tasty and the texture was just nasty.          0\n",
              "3  Stopped by during the late May bank holiday of...          1\n",
              "4  The selection on the menu was great and so wer...          1\n",
              "5     Now I am getting angry and I want my damn pho.          0\n",
              "6              Honeslty it didn't taste THAT fresh.)          0\n",
              "7  The potatoes were like rubber and you could te...          0\n",
              "8                          The fries were great too.          1\n",
              "9                                     A great touch.          1"
            ],
            "text/html": [
              "\n",
              "  <div id=\"df-30efdd0f-dc90-4427-a64e-5c04e7d11ed4\">\n",
              "    <div class=\"colab-df-container\">\n",
              "      <div>\n",
              "<style scoped>\n",
              "    .dataframe tbody tr th:only-of-type {\n",
              "        vertical-align: middle;\n",
              "    }\n",
              "\n",
              "    .dataframe tbody tr th {\n",
              "        vertical-align: top;\n",
              "    }\n",
              "\n",
              "    .dataframe thead th {\n",
              "        text-align: right;\n",
              "    }\n",
              "</style>\n",
              "<table border=\"1\" class=\"dataframe\">\n",
              "  <thead>\n",
              "    <tr style=\"text-align: right;\">\n",
              "      <th></th>\n",
              "      <th>comment</th>\n",
              "      <th>sentiment</th>\n",
              "    </tr>\n",
              "  </thead>\n",
              "  <tbody>\n",
              "    <tr>\n",
              "      <th>0</th>\n",
              "      <td>Wow... Loved this place.</td>\n",
              "      <td>1</td>\n",
              "    </tr>\n",
              "    <tr>\n",
              "      <th>1</th>\n",
              "      <td>Crust is not good.</td>\n",
              "      <td>0</td>\n",
              "    </tr>\n",
              "    <tr>\n",
              "      <th>2</th>\n",
              "      <td>Not tasty and the texture was just nasty.</td>\n",
              "      <td>0</td>\n",
              "    </tr>\n",
              "    <tr>\n",
              "      <th>3</th>\n",
              "      <td>Stopped by during the late May bank holiday of...</td>\n",
              "      <td>1</td>\n",
              "    </tr>\n",
              "    <tr>\n",
              "      <th>4</th>\n",
              "      <td>The selection on the menu was great and so wer...</td>\n",
              "      <td>1</td>\n",
              "    </tr>\n",
              "    <tr>\n",
              "      <th>5</th>\n",
              "      <td>Now I am getting angry and I want my damn pho.</td>\n",
              "      <td>0</td>\n",
              "    </tr>\n",
              "    <tr>\n",
              "      <th>6</th>\n",
              "      <td>Honeslty it didn't taste THAT fresh.)</td>\n",
              "      <td>0</td>\n",
              "    </tr>\n",
              "    <tr>\n",
              "      <th>7</th>\n",
              "      <td>The potatoes were like rubber and you could te...</td>\n",
              "      <td>0</td>\n",
              "    </tr>\n",
              "    <tr>\n",
              "      <th>8</th>\n",
              "      <td>The fries were great too.</td>\n",
              "      <td>1</td>\n",
              "    </tr>\n",
              "    <tr>\n",
              "      <th>9</th>\n",
              "      <td>A great touch.</td>\n",
              "      <td>1</td>\n",
              "    </tr>\n",
              "  </tbody>\n",
              "</table>\n",
              "</div>\n",
              "      <button class=\"colab-df-convert\" onclick=\"convertToInteractive('df-30efdd0f-dc90-4427-a64e-5c04e7d11ed4')\"\n",
              "              title=\"Convert this dataframe to an interactive table.\"\n",
              "              style=\"display:none;\">\n",
              "        \n",
              "  <svg xmlns=\"http://www.w3.org/2000/svg\" height=\"24px\"viewBox=\"0 0 24 24\"\n",
              "       width=\"24px\">\n",
              "    <path d=\"M0 0h24v24H0V0z\" fill=\"none\"/>\n",
              "    <path d=\"M18.56 5.44l.94 2.06.94-2.06 2.06-.94-2.06-.94-.94-2.06-.94 2.06-2.06.94zm-11 1L8.5 8.5l.94-2.06 2.06-.94-2.06-.94L8.5 2.5l-.94 2.06-2.06.94zm10 10l.94 2.06.94-2.06 2.06-.94-2.06-.94-.94-2.06-.94 2.06-2.06.94z\"/><path d=\"M17.41 7.96l-1.37-1.37c-.4-.4-.92-.59-1.43-.59-.52 0-1.04.2-1.43.59L10.3 9.45l-7.72 7.72c-.78.78-.78 2.05 0 2.83L4 21.41c.39.39.9.59 1.41.59.51 0 1.02-.2 1.41-.59l7.78-7.78 2.81-2.81c.8-.78.8-2.07 0-2.86zM5.41 20L4 18.59l7.72-7.72 1.47 1.35L5.41 20z\"/>\n",
              "  </svg>\n",
              "      </button>\n",
              "      \n",
              "  <style>\n",
              "    .colab-df-container {\n",
              "      display:flex;\n",
              "      flex-wrap:wrap;\n",
              "      gap: 12px;\n",
              "    }\n",
              "\n",
              "    .colab-df-convert {\n",
              "      background-color: #E8F0FE;\n",
              "      border: none;\n",
              "      border-radius: 50%;\n",
              "      cursor: pointer;\n",
              "      display: none;\n",
              "      fill: #1967D2;\n",
              "      height: 32px;\n",
              "      padding: 0 0 0 0;\n",
              "      width: 32px;\n",
              "    }\n",
              "\n",
              "    .colab-df-convert:hover {\n",
              "      background-color: #E2EBFA;\n",
              "      box-shadow: 0px 1px 2px rgba(60, 64, 67, 0.3), 0px 1px 3px 1px rgba(60, 64, 67, 0.15);\n",
              "      fill: #174EA6;\n",
              "    }\n",
              "\n",
              "    [theme=dark] .colab-df-convert {\n",
              "      background-color: #3B4455;\n",
              "      fill: #D2E3FC;\n",
              "    }\n",
              "\n",
              "    [theme=dark] .colab-df-convert:hover {\n",
              "      background-color: #434B5C;\n",
              "      box-shadow: 0px 1px 3px 1px rgba(0, 0, 0, 0.15);\n",
              "      filter: drop-shadow(0px 1px 2px rgba(0, 0, 0, 0.3));\n",
              "      fill: #FFFFFF;\n",
              "    }\n",
              "  </style>\n",
              "\n",
              "      <script>\n",
              "        const buttonEl =\n",
              "          document.querySelector('#df-30efdd0f-dc90-4427-a64e-5c04e7d11ed4 button.colab-df-convert');\n",
              "        buttonEl.style.display =\n",
              "          google.colab.kernel.accessAllowed ? 'block' : 'none';\n",
              "\n",
              "        async function convertToInteractive(key) {\n",
              "          const element = document.querySelector('#df-30efdd0f-dc90-4427-a64e-5c04e7d11ed4');\n",
              "          const dataTable =\n",
              "            await google.colab.kernel.invokeFunction('convertToInteractive',\n",
              "                                                     [key], {});\n",
              "          if (!dataTable) return;\n",
              "\n",
              "          const docLinkHtml = 'Like what you see? Visit the ' +\n",
              "            '<a target=\"_blank\" href=https://colab.research.google.com/notebooks/data_table.ipynb>data table notebook</a>'\n",
              "            + ' to learn more about interactive tables.';\n",
              "          element.innerHTML = '';\n",
              "          dataTable['output_type'] = 'display_data';\n",
              "          await google.colab.output.renderOutput(dataTable, element);\n",
              "          const docLink = document.createElement('div');\n",
              "          docLink.innerHTML = docLinkHtml;\n",
              "          element.appendChild(docLink);\n",
              "        }\n",
              "      </script>\n",
              "    </div>\n",
              "  </div>\n",
              "  "
            ]
          },
          "metadata": {},
          "execution_count": 4
        }
      ]
    },
    {
      "cell_type": "markdown",
      "source": [
        "**GloVE Embeddings**\n",
        "\n",
        "These are some convenience functions for loading GloVE vectors and creating an embedding matrix.\n",
        "\n",
        "The GloVe vector files are downloaded from [Stanford](https://nlp.stanford.edu/projects/glove/)."
      ],
      "metadata": {
        "id": "vihDaR7frrQj"
      }
    },
    {
      "cell_type": "code",
      "source": [
        "# Download GloVe embeddings\n",
        "\n",
        "!wget http://nlp.stanford.edu/data/glove.6B.zip\n",
        "!echo \"Unzipping glove.6B.zip\"\n",
        "!unzip -q glove.6B.zip\n",
        "!echo \"All done!\""
      ],
      "metadata": {
        "colab": {
          "base_uri": "https://localhost:8080/"
        },
        "id": "Qq6YVRi_rqTC",
        "outputId": "e1454711-3679-4a28-e2fc-c74d4e227e70"
      },
      "execution_count": 5,
      "outputs": [
        {
          "output_type": "stream",
          "name": "stdout",
          "text": [
            "--2022-07-30 10:38:26--  http://nlp.stanford.edu/data/glove.6B.zip\n",
            "Resolving nlp.stanford.edu (nlp.stanford.edu)... 171.64.67.140\n",
            "Connecting to nlp.stanford.edu (nlp.stanford.edu)|171.64.67.140|:80... connected.\n",
            "HTTP request sent, awaiting response... 302 Found\n",
            "Location: https://nlp.stanford.edu/data/glove.6B.zip [following]\n",
            "--2022-07-30 10:38:26--  https://nlp.stanford.edu/data/glove.6B.zip\n",
            "Connecting to nlp.stanford.edu (nlp.stanford.edu)|171.64.67.140|:443... connected.\n",
            "HTTP request sent, awaiting response... 301 Moved Permanently\n",
            "Location: https://downloads.cs.stanford.edu/nlp/data/glove.6B.zip [following]\n",
            "--2022-07-30 10:38:26--  https://downloads.cs.stanford.edu/nlp/data/glove.6B.zip\n",
            "Resolving downloads.cs.stanford.edu (downloads.cs.stanford.edu)... 171.64.64.22\n",
            "Connecting to downloads.cs.stanford.edu (downloads.cs.stanford.edu)|171.64.64.22|:443... connected.\n",
            "HTTP request sent, awaiting response... 200 OK\n",
            "Length: 862182613 (822M) [application/zip]\n",
            "Saving to: ‘glove.6B.zip’\n",
            "\n",
            "glove.6B.zip        100%[===================>] 822.24M  5.01MB/s    in 2m 39s  \n",
            "\n",
            "2022-07-30 10:41:05 (5.18 MB/s) - ‘glove.6B.zip’ saved [862182613/862182613]\n",
            "\n",
            "Unzipping glove.6B.zip\n",
            "All done!\n"
          ]
        }
      ]
    },
    {
      "cell_type": "code",
      "source": [
        "MAX_NB_WORDS = 20000\n",
        "MAX_SEQUENCE_LENGTH = 1000\n",
        "EMBEDDING_DIM = 50\n",
        "\n",
        "num_classes = 2\n",
        "\n",
        "def load_glove_vectors():\n",
        "    print('Loading glove vectors...')\n",
        "    glove_map = {}\n",
        "    with open('glove.6B.%dd.txt' % EMBEDDING_DIM, encoding='utf8') as file:\n",
        "        for line in file:\n",
        "            values = line.split()\n",
        "            word = values[0]\n",
        "            glove_map[word] = np.asarray(values[1:], dtype='float32')\n",
        "    return glove_map\n",
        "\n",
        "def create_embedding_matrix(word_index, num_words):\n",
        "    glove_map = load_glove_vectors()\n",
        "    embedding_matrix = np.zeros((num_words, EMBEDDING_DIM))\n",
        "    for word, i in word_index.items():\n",
        "        if i > num_words:\n",
        "            continue\n",
        "        vector = glove_map.get(word)\n",
        "        if vector is not None:\n",
        "            embedding_matrix[i] = vector\n",
        "    return embedding_matrix"
      ],
      "metadata": {
        "id": "OTrO7HVzr7D8"
      },
      "execution_count": 6,
      "outputs": []
    },
    {
      "cell_type": "markdown",
      "source": [
        "**Encode Text**"
      ],
      "metadata": {
        "id": "y4mhOkkrsDSs"
      }
    },
    {
      "cell_type": "code",
      "source": [
        "comments = trainingData.comment.astype(str).tolist()\n",
        "sentiments = trainingData.sentiment.tolist()\n",
        "labels = np.asarray(sentiments)\n",
        "\n",
        "tokenizer = Tokenizer(num_words=MAX_NB_WORDS)\n",
        "tokenizer.fit_on_texts(comments)\n",
        "sequences = tokenizer.texts_to_sequences(comments)\n",
        "padded_sequences = pad_sequences(sequences, maxlen=MAX_SEQUENCE_LENGTH)\n",
        "\n",
        "word_index = tokenizer.word_index\n",
        "\n",
        "num_words = min(MAX_NB_WORDS, len(word_index)) + 1\n",
        "\n",
        "x_train, x_test, y_train, y_test = train_test_split(padded_sequences, labels, test_size=0.2)"
      ],
      "metadata": {
        "id": "LG6uIKPPsFOl"
      },
      "execution_count": 7,
      "outputs": []
    },
    {
      "cell_type": "code",
      "source": [
        "embedding_matrix = create_embedding_matrix(word_index, num_words)"
      ],
      "metadata": {
        "colab": {
          "base_uri": "https://localhost:8080/"
        },
        "id": "zJUxhBlIsI8m",
        "outputId": "aea2bca1-9854-4adf-8f6e-8c729534a4d9"
      },
      "execution_count": 8,
      "outputs": [
        {
          "output_type": "stream",
          "name": "stdout",
          "text": [
            "Loading glove vectors...\n"
          ]
        }
      ]
    },
    {
      "cell_type": "markdown",
      "source": [
        "**Define Model**\n",
        "\n",
        "This is a 1D CNN model with a Keras embedding layer using the embedding matrix created above. The embedding layer is pre-trained, so it will not be trained here."
      ],
      "metadata": {
        "id": "FMQQdYCHsflp"
      }
    },
    {
      "cell_type": "code",
      "source": [
        "dropout = 0.4\n",
        "\n",
        "model = Sequential()\n",
        "model.add(Embedding(num_words, EMBEDDING_DIM, weights=[embedding_matrix],\n",
        "                    input_length=MAX_SEQUENCE_LENGTH, trainable=False))\n",
        "model.add(Dropout(dropout))\n",
        "\n",
        "model.add(Conv1D(128, 5, activation='relu', padding='same', strides=2))\n",
        "model.add(GlobalMaxPooling1D())\n",
        "model.add(Dropout(dropout))\n",
        "\n",
        "model.add(Dense(128, activation='relu'))\n",
        "model.add(Dropout(dropout))\n",
        "model.add(Dense(num_classes, activation='softmax'))\n",
        "model.summary()"
      ],
      "metadata": {
        "colab": {
          "base_uri": "https://localhost:8080/"
        },
        "id": "qrMr9VTwshZ8",
        "outputId": "d20c510f-d2ba-472a-ae93-c361d3e71a18"
      },
      "execution_count": 9,
      "outputs": [
        {
          "output_type": "stream",
          "name": "stdout",
          "text": [
            "Model: \"sequential\"\n",
            "_________________________________________________________________\n",
            " Layer (type)                Output Shape              Param #   \n",
            "=================================================================\n",
            " embedding (Embedding)       (None, 1000, 50)          263600    \n",
            "                                                                 \n",
            " dropout (Dropout)           (None, 1000, 50)          0         \n",
            "                                                                 \n",
            " conv1d (Conv1D)             (None, 500, 128)          32128     \n",
            "                                                                 \n",
            " global_max_pooling1d (Globa  (None, 128)              0         \n",
            " lMaxPooling1D)                                                  \n",
            "                                                                 \n",
            " dropout_1 (Dropout)         (None, 128)               0         \n",
            "                                                                 \n",
            " dense (Dense)               (None, 128)               16512     \n",
            "                                                                 \n",
            " dropout_2 (Dropout)         (None, 128)               0         \n",
            "                                                                 \n",
            " dense_1 (Dense)             (None, 2)                 258       \n",
            "                                                                 \n",
            "=================================================================\n",
            "Total params: 312,498\n",
            "Trainable params: 48,898\n",
            "Non-trainable params: 263,600\n",
            "_________________________________________________________________\n"
          ]
        }
      ]
    },
    {
      "cell_type": "code",
      "source": [
        "model.compile(loss='sparse_categorical_crossentropy', optimizer=Adam(), metrics=['acc'])\n",
        "\n",
        "# Train model for a given number of epochs\n",
        "history = model.fit(x_train, y_train, batch_size=128, epochs=40, verbose=1, validation_data=(x_test, y_test))\n",
        "\n",
        "# Evaluate model against test data\n",
        "score = model.evaluate(x_test, y_test, verbose=0)\n",
        "print('Test loss:', score[0])\n",
        "print('Test accuracy:', score[1])\n",
        "\n",
        "# summarize history for accuracy\n",
        "plt.plot(history.history['acc'])\n",
        "plt.plot(history.history['val_acc'])\n",
        "plt.title('Model accuracy')\n",
        "plt.ylabel('Accuracy')\n",
        "plt.xlabel('Epoch')\n",
        "plt.legend(['Train', 'Test'], loc='upper left')\n",
        "plt.show()"
      ],
      "metadata": {
        "colab": {
          "base_uri": "https://localhost:8080/",
          "height": 1000
        },
        "id": "y7lhzYgCsnY8",
        "outputId": "6b9c4b2a-c6e2-4b8d-a9b1-a3e78ab462be"
      },
      "execution_count": 10,
      "outputs": [
        {
          "output_type": "stream",
          "name": "stdout",
          "text": [
            "Epoch 1/40\n",
            "18/18 [==============================] - 7s 317ms/step - loss: 0.8369 - acc: 0.5173 - val_loss: 0.6740 - val_acc: 0.6273\n",
            "Epoch 2/40\n",
            "18/18 [==============================] - 7s 382ms/step - loss: 0.7137 - acc: 0.5496 - val_loss: 0.6738 - val_acc: 0.6291\n",
            "Epoch 3/40\n",
            "18/18 [==============================] - 6s 325ms/step - loss: 0.6941 - acc: 0.5555 - val_loss: 0.6705 - val_acc: 0.6745\n",
            "Epoch 4/40\n",
            "18/18 [==============================] - 6s 324ms/step - loss: 0.6669 - acc: 0.5965 - val_loss: 0.6590 - val_acc: 0.6782\n",
            "Epoch 5/40\n",
            "18/18 [==============================] - 6s 328ms/step - loss: 0.6533 - acc: 0.6183 - val_loss: 0.6361 - val_acc: 0.7036\n",
            "Epoch 6/40\n",
            "18/18 [==============================] - 6s 327ms/step - loss: 0.6319 - acc: 0.6356 - val_loss: 0.6140 - val_acc: 0.7073\n",
            "Epoch 7/40\n",
            "18/18 [==============================] - 6s 328ms/step - loss: 0.6231 - acc: 0.6592 - val_loss: 0.6001 - val_acc: 0.7055\n",
            "Epoch 8/40\n",
            "18/18 [==============================] - 6s 327ms/step - loss: 0.6188 - acc: 0.6720 - val_loss: 0.5788 - val_acc: 0.7255\n",
            "Epoch 9/40\n",
            "18/18 [==============================] - 5s 304ms/step - loss: 0.6014 - acc: 0.6824 - val_loss: 0.5636 - val_acc: 0.7345\n",
            "Epoch 10/40\n",
            "18/18 [==============================] - 6s 319ms/step - loss: 0.5887 - acc: 0.6897 - val_loss: 0.5478 - val_acc: 0.7327\n",
            "Epoch 11/40\n",
            "18/18 [==============================] - 6s 328ms/step - loss: 0.5616 - acc: 0.7093 - val_loss: 0.5305 - val_acc: 0.7309\n",
            "Epoch 12/40\n",
            "18/18 [==============================] - 6s 316ms/step - loss: 0.5697 - acc: 0.7038 - val_loss: 0.5271 - val_acc: 0.7436\n",
            "Epoch 13/40\n",
            "18/18 [==============================] - 6s 318ms/step - loss: 0.5460 - acc: 0.7275 - val_loss: 0.5175 - val_acc: 0.7509\n",
            "Epoch 14/40\n",
            "18/18 [==============================] - 6s 323ms/step - loss: 0.5279 - acc: 0.7293 - val_loss: 0.4995 - val_acc: 0.7545\n",
            "Epoch 15/40\n",
            "18/18 [==============================] - 6s 315ms/step - loss: 0.5374 - acc: 0.7266 - val_loss: 0.5019 - val_acc: 0.7436\n",
            "Epoch 16/40\n",
            "18/18 [==============================] - 7s 382ms/step - loss: 0.5262 - acc: 0.7389 - val_loss: 0.4933 - val_acc: 0.7509\n",
            "Epoch 17/40\n",
            "18/18 [==============================] - 6s 318ms/step - loss: 0.5366 - acc: 0.7188 - val_loss: 0.4857 - val_acc: 0.7655\n",
            "Epoch 18/40\n",
            "18/18 [==============================] - 6s 325ms/step - loss: 0.5162 - acc: 0.7311 - val_loss: 0.4776 - val_acc: 0.7727\n",
            "Epoch 19/40\n",
            "18/18 [==============================] - 6s 321ms/step - loss: 0.5009 - acc: 0.7507 - val_loss: 0.4729 - val_acc: 0.7582\n",
            "Epoch 20/40\n",
            "18/18 [==============================] - 6s 316ms/step - loss: 0.5143 - acc: 0.7480 - val_loss: 0.4722 - val_acc: 0.7727\n",
            "Epoch 21/40\n",
            "18/18 [==============================] - 6s 317ms/step - loss: 0.5072 - acc: 0.7439 - val_loss: 0.4806 - val_acc: 0.7836\n",
            "Epoch 22/40\n",
            "18/18 [==============================] - 6s 323ms/step - loss: 0.4930 - acc: 0.7657 - val_loss: 0.4707 - val_acc: 0.7873\n",
            "Epoch 23/40\n",
            "18/18 [==============================] - 6s 325ms/step - loss: 0.4813 - acc: 0.7698 - val_loss: 0.4576 - val_acc: 0.7873\n",
            "Epoch 24/40\n",
            "18/18 [==============================] - 6s 325ms/step - loss: 0.4762 - acc: 0.7748 - val_loss: 0.4511 - val_acc: 0.7855\n",
            "Epoch 25/40\n",
            "18/18 [==============================] - 6s 325ms/step - loss: 0.4994 - acc: 0.7511 - val_loss: 0.4599 - val_acc: 0.7836\n",
            "Epoch 26/40\n",
            "18/18 [==============================] - 6s 325ms/step - loss: 0.4629 - acc: 0.7716 - val_loss: 0.4536 - val_acc: 0.7818\n",
            "Epoch 27/40\n",
            "18/18 [==============================] - 6s 327ms/step - loss: 0.4708 - acc: 0.7712 - val_loss: 0.4508 - val_acc: 0.7764\n",
            "Epoch 28/40\n",
            "18/18 [==============================] - 6s 318ms/step - loss: 0.4721 - acc: 0.7834 - val_loss: 0.4514 - val_acc: 0.7855\n",
            "Epoch 29/40\n",
            "18/18 [==============================] - 6s 318ms/step - loss: 0.4566 - acc: 0.7871 - val_loss: 0.4392 - val_acc: 0.7873\n",
            "Epoch 30/40\n",
            "18/18 [==============================] - 6s 310ms/step - loss: 0.4563 - acc: 0.7953 - val_loss: 0.4413 - val_acc: 0.7891\n",
            "Epoch 31/40\n",
            "18/18 [==============================] - 7s 387ms/step - loss: 0.4624 - acc: 0.7693 - val_loss: 0.4410 - val_acc: 0.7982\n",
            "Epoch 32/40\n",
            "18/18 [==============================] - 6s 317ms/step - loss: 0.4623 - acc: 0.7766 - val_loss: 0.4426 - val_acc: 0.8018\n",
            "Epoch 33/40\n",
            "18/18 [==============================] - 6s 321ms/step - loss: 0.4531 - acc: 0.7748 - val_loss: 0.4388 - val_acc: 0.8000\n",
            "Epoch 34/40\n",
            "18/18 [==============================] - 6s 325ms/step - loss: 0.4530 - acc: 0.7816 - val_loss: 0.4397 - val_acc: 0.7855\n",
            "Epoch 35/40\n",
            "18/18 [==============================] - 6s 323ms/step - loss: 0.4378 - acc: 0.7980 - val_loss: 0.4353 - val_acc: 0.7945\n",
            "Epoch 36/40\n",
            "18/18 [==============================] - 6s 323ms/step - loss: 0.4407 - acc: 0.7862 - val_loss: 0.4338 - val_acc: 0.7891\n",
            "Epoch 37/40\n",
            "18/18 [==============================] - 6s 325ms/step - loss: 0.4376 - acc: 0.7875 - val_loss: 0.4355 - val_acc: 0.7964\n",
            "Epoch 38/40\n",
            "18/18 [==============================] - 6s 312ms/step - loss: 0.4329 - acc: 0.7916 - val_loss: 0.4402 - val_acc: 0.7927\n",
            "Epoch 39/40\n",
            "18/18 [==============================] - 6s 327ms/step - loss: 0.4321 - acc: 0.7889 - val_loss: 0.4352 - val_acc: 0.7818\n",
            "Epoch 40/40\n",
            "18/18 [==============================] - 6s 314ms/step - loss: 0.4261 - acc: 0.8025 - val_loss: 0.4322 - val_acc: 0.7855\n",
            "Test loss: 0.43222576379776\n",
            "Test accuracy: 0.7854545712471008\n"
          ]
        },
        {
          "output_type": "display_data",
          "data": {
            "text/plain": [
              "<Figure size 432x288 with 1 Axes>"
            ],
            "image/png": "[encoded data removed]"
          },
          "metadata": {
            "needs_background": "light"
          }
        }
      ]
    },
    {
      "cell_type": "markdown",
      "source": [
        "**Prediction**"
      ],
      "metadata": {
        "id": "z3DaQ-IfsrOC"
      }
    },
    {
      "cell_type": "code",
      "source": [
        "predictions = model.predict(padded_sequences)\n",
        "most_likely = predictions.argmax(1)"
      ],
      "metadata": {
        "id": "1ve8Ry2QstFT"
      },
      "execution_count": 12,
      "outputs": []
    },
    {
      "cell_type": "markdown",
      "source": [
        "**Error Analysis**"
      ],
      "metadata": {
        "id": "QoQv_Hebs1AE"
      }
    },
    {
      "cell_type": "code",
      "source": [
        "for i in range(10000):\n",
        "    index = random.randrange(len(predictions))\n",
        "    if most_likely[index] != sentiments[index]:\n",
        "        break\n",
        "\n",
        "print(comments[index])\n",
        "print('Prediction: %d, label: %d' % (most_likely[index], sentiments[index]))\n",
        "\n",
        "plt.bar(range(num_classes), predictions[index], tick_label=range(num_classes))\n",
        "plt.title('Prediction values')\n",
        "plt.show()"
      ],
      "metadata": {
        "id": "fAxHCKWbsxrC",
        "outputId": "8c9ca472-4c3c-4358-c91e-85c860c7ed40",
        "colab": {
          "base_uri": "https://localhost:8080/",
          "height": 316
        }
      },
      "execution_count": 13,
      "outputs": [
        {
          "output_type": "stream",
          "name": "stdout",
          "text": [
            "We have gotten a lot of compliments on it.\n",
            "Prediction: 0, label: 1\n"
          ]
        },
        {
          "output_type": "display_data",
          "data": {
            "text/plain": [
              "<Figure size 432x288 with 1 Axes>"
            ],
            "image/png": "[encoded data removed]"
          },
          "metadata": {
            "needs_background": "light"
          }
        }
      ]
    }
  ]
}
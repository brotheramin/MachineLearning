{
  "nbformat": 4,
  "nbformat_minor": 0,
  "metadata": {
    "colab": {
      "name": "Jupyter Experiment",
      "provenance": []
    },
    "kernelspec": {
      "name": "python3",
      "display_name": "Python 3"
    },
    "language_info": {
      "name": "python"
    }
  },
  "cells": [
    {
      "cell_type": "code",
      "execution_count": null,
      "metadata": {
        "id": "gccnrUOYXDh5"
      },
      "outputs": [],
      "source": [
        "##cell\n",
        "\n",
        "![alt text](https://github.com/adam-p/markdown-here/raw/master/src/common/images/icon48.png \"Logo Title Text 1\")"
      ]
    },
    {
      "cell_type": "code",
      "source": [
        "print (\"Table of squares\")\n",
        "for i in range(10):\n",
        "  print(f'{i} times {i} = {i*i}')\n",
        "  %time"
      ],
      "metadata": {
        "colab": {
          "base_uri": "https://localhost:8080/"
        },
        "id": "fuwkCZ9na6xh",
        "outputId": "eb08b999-5a17-4c4f-9820-c8634a050512"
      },
      "execution_count": 6,
      "outputs": [
        {
          "output_type": "stream",
          "name": "stdout",
          "text": [
            "Table of squares\n",
            "0 times 0 = 0\n",
            "CPU times: user 4 µs, sys: 1e+03 ns, total: 5 µs\n",
            "Wall time: 8.11 µs\n",
            "1 times 1 = 1\n",
            "CPU times: user 2 µs, sys: 1 µs, total: 3 µs\n",
            "Wall time: 6.44 µs\n",
            "2 times 2 = 4\n",
            "CPU times: user 3 µs, sys: 1 µs, total: 4 µs\n",
            "Wall time: 7.15 µs\n",
            "3 times 3 = 9\n",
            "CPU times: user 2 µs, sys: 1 µs, total: 3 µs\n",
            "Wall time: 6.44 µs\n",
            "4 times 4 = 16\n",
            "CPU times: user 4 µs, sys: 0 ns, total: 4 µs\n",
            "Wall time: 6.2 µs\n",
            "5 times 5 = 25\n",
            "CPU times: user 3 µs, sys: 0 ns, total: 3 µs\n",
            "Wall time: 5.72 µs\n",
            "6 times 6 = 36\n",
            "CPU times: user 3 µs, sys: 0 ns, total: 3 µs\n",
            "Wall time: 5.72 µs\n",
            "7 times 7 = 49\n",
            "CPU times: user 3 µs, sys: 0 ns, total: 3 µs\n",
            "Wall time: 6.2 µs\n",
            "8 times 8 = 64\n",
            "CPU times: user 3 µs, sys: 0 ns, total: 3 µs\n",
            "Wall time: 6.2 µs\n",
            "9 times 9 = 81\n",
            "CPU times: user 3 µs, sys: 0 ns, total: 3 µs\n",
            "Wall time: 6.2 µs\n"
          ]
        }
      ]
    }
  ]
}
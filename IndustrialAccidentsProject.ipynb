{
  "nbformat": 4,
  "nbformat_minor": 0,
  "metadata": {
    "colab": {
      "provenance": [],
      "authorship_tag": "ABX9TyMYjVjhr8/iyE/dY3J9cZYv",
      "include_colab_link": true
    },
    "kernelspec": {
      "name": "python3",
      "display_name": "Python 3"
    },
    "language_info": {
      "name": "python"
    }
  },
  "cells": [
    {
      "cell_type": "markdown",
      "metadata": {
        "id": "view-in-github",
        "colab_type": "text"
      },
      "source": [
        "<a href=\"https://colab.research.google.com/github/brotheramin/MachineLearning/blob/main/IndustrialAccidentsProject.ipynb\" target=\"_parent\"><img src=\"https://colab.research.google.com/assets/colab-badge.svg\" alt=\"Open In Colab\"/></a>"
      ]
    },
    {
      "cell_type": "code",
      "execution_count": 6,
      "metadata": {
        "colab": {
          "base_uri": "https://localhost:8080/"
        },
        "id": "vYo1WJcC6LLD",
        "outputId": "e6218da0-7a79-4e5f-adfb-ae14d59e0354"
      },
      "outputs": [
        {
          "output_type": "stream",
          "name": "stdout",
          "text": [
            "Columns in the dataset:\n",
            "Index(['Data', 'Countries', 'Local', 'Industry Sector', 'Accident Level',\n",
            "       'Potential Accident Level', 'Genre', 'Employee ou Terceiro',\n",
            "       'Risco Critico'],\n",
            "      dtype='object')\n",
            "Classification Report:\n",
            "              precision    recall  f1-score   support\n",
            "\n",
            "           I       0.79      0.79      0.79        66\n",
            "          II       0.14      0.12      0.13         8\n",
            "         III       0.20      0.33      0.25         6\n",
            "          IV       0.25      0.17      0.20         6\n",
            "           V       0.00      0.00      0.00         2\n",
            "\n",
            "    accuracy                           0.64        88\n",
            "   macro avg       0.28      0.28      0.27        88\n",
            "weighted avg       0.63      0.64      0.63        88\n",
            "\n",
            "\n",
            "Confusion Matrix:\n",
            "[[52  3  7  3  1]\n",
            " [ 7  1  0  0  0]\n",
            " [ 3  1  2  0  0]\n",
            " [ 3  1  1  1  0]\n",
            " [ 1  1  0  0  0]]\n"
          ]
        }
      ],
      "source": [
        "import pandas as pd\n",
        "from sklearn.model_selection import train_test_split\n",
        "from sklearn.preprocessing import LabelEncoder\n",
        "from sklearn.ensemble import RandomForestClassifier\n",
        "from sklearn.metrics import classification_report, confusion_matrix\n",
        "\n",
        "# Load the dataset\n",
        "data_path = \"/content/IHMStefanini_industrial_safety_and_health_database.csv\"  # Update this with the correct path\n",
        "merged_data = pd.read_csv(data_path)\n",
        "\n",
        "# Check column names to match them correctly\n",
        "print(\"Columns in the dataset:\")\n",
        "print(merged_data.columns)\n",
        "\n",
        "# Preprocessing: Encode categorical variables\n",
        "categorical_cols = ['Countries', 'Local', 'Industry Sector', 'Genre', 'Employee ou Terceiro', 'Risco Critico']\n",
        "label_encoders = {col: LabelEncoder() for col in categorical_cols}\n",
        "\n",
        "for col in categorical_cols:\n",
        "    if col in merged_data.columns:\n",
        "        merged_data[col] = label_encoders[col].fit_transform(merged_data[col])\n",
        "    else:\n",
        "        print(f\"Column {col} not found in the dataset.\")\n",
        "\n",
        "# Encode the \"Potential Accident Level\" column\n",
        "if 'Potential Accident Level' in merged_data.columns:\n",
        "    merged_data['Potential Accident Level'] = label_encoders['Risco Critico'].fit_transform(merged_data['Potential Accident Level'])\n",
        "else:\n",
        "    print(\"Column 'Potential Accident Level' not found in the dataset.\")\n",
        "\n",
        "# Encode the target variable (Accident Level)\n",
        "label_encoder_y = LabelEncoder()\n",
        "y = label_encoder_y.fit_transform(merged_data['Accident Level'])\n",
        "\n",
        "# Define features and target\n",
        "columns_to_drop = ['Accident Level', 'Data']\n",
        "columns_to_drop = [col for col in columns_to_drop if col in merged_data.columns]  # Only drop existing columns\n",
        "X = merged_data.drop(columns=columns_to_drop)\n",
        "\n",
        "# Split the data into training and testing sets\n",
        "X_train, X_test, y_train, y_test = train_test_split(X, y, test_size=0.2, random_state=42, stratify=y)\n",
        "\n",
        "# Train a Random Forest classifier with class weights to handle imbalance\n",
        "rf_model_weighted = RandomForestClassifier(random_state=42, n_estimators=100, class_weight='balanced')\n",
        "rf_model_weighted.fit(X_train, y_train)\n",
        "\n",
        "# Predictions and evaluation\n",
        "y_pred_weighted = rf_model_weighted.predict(X_test)\n",
        "report_weighted = classification_report(y_test, y_pred_weighted, target_names=label_encoder_y.classes_)\n",
        "conf_matrix_weighted = confusion_matrix(y_test, y_pred_weighted)\n",
        "\n",
        "# Print the results\n",
        "print(\"Classification Report:\")\n",
        "print(report_weighted)\n",
        "print(\"\\nConfusion Matrix:\")\n",
        "print(conf_matrix_weighted)\n"
      ]
    }
  ]
}
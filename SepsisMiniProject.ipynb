{
  "nbformat": 4,
  "nbformat_minor": 0,
  "metadata": {
    "colab": {
      "provenance": [],
      "collapsed_sections": [],
      "include_colab_link": true
    },
    "kernelspec": {
      "name": "python3",
      "display_name": "Python 3"
    },
    "language_info": {
      "name": "python"
    }
  },
  "cells": [
    {
      "cell_type": "markdown",
      "metadata": {
        "id": "view-in-github",
        "colab_type": "text"
      },
      "source": [
        "<a href=\"https://colab.research.google.com/github/brotheramin/MachineLearning/blob/main/SepsisMiniProject.ipynb\" target=\"_parent\"><img src=\"https://colab.research.google.com/assets/colab-badge.svg\" alt=\"Open In Colab\"/></a>"
      ]
    },
    {
      "cell_type": "code",
      "execution_count": null,
      "metadata": {
        "id": "-AT_F8-9B7vc"
      },
      "outputs": [],
      "source": [
        "# data manipulation libraries\n",
        "import numpy as np # linear algebra\n",
        "import pandas as pd # data processing\n",
        "\n",
        "# data visualization libraries\n",
        "import matplotlib.pyplot as plt\n",
        "import seaborn as sns\n",
        "\n",
        "# machine learning methods\n",
        "from sklearn.model_selection import train_test_split # data splitting into train and test\n",
        "from sklearn.preprocessing import FunctionTransformer\n",
        "\n",
        "\n",
        "from sklearn.linear_model import LogisticRegression\n",
        "from sklearn.neural_network import MLPClassifier\n",
        "from sklearn.ensemble import RandomForestClassifier\n",
        "\n",
        "from sklearn.model_selection import cross_validate\n",
        "from sklearn.metrics import f1_score"
      ]
    },
    {
      "cell_type": "code",
      "source": [
        "df = pd.read_csv('feature_combined.csv')"
      ],
      "metadata": {
        "id": "ZdwQy-_HEFYm"
      },
      "execution_count": null,
      "outputs": []
    },
    {
      "cell_type": "code",
      "source": [
        "df.head().T"
      ],
      "metadata": {
        "colab": {
          "base_uri": "https://localhost:8080/",
          "height": 488
        },
        "id": "h8LSi8A-FjdV",
        "outputId": "60bffcf6-0db2-4d13-d607-8719b56fa3b9"
      },
      "execution_count": null,
      "outputs": [
        {
          "output_type": "execute_result",
          "data": {
            "text/plain": [
              "                0           1           2           3           4   \\\n",
              "X_0       1.500000    2.227147    4.000000    0.000000    4.000000   \n",
              "X_1     140.000000  140.000000  140.000000  138.000000  140.000000   \n",
              "X_2     138.000000  138.250000  138.500000  138.000000  138.500000   \n",
              "X_3     137.000000  137.000000  138.000000  138.000000  138.000000   \n",
              "X_4       1.414214    1.129338    2.000000    0.000000    2.000000   \n",
              "...            ...         ...         ...         ...         ...   \n",
              "X_103     0.015385    0.006593   -0.001099   -0.027473   -0.037363   \n",
              "X_104     0.650444    0.650444    0.776250    1.235168    1.281025   \n",
              "offset -660.000000 -655.000000 -650.000000 -645.000000 -640.000000   \n",
              "id        1.000000    1.000000    1.000000    1.000000    1.000000   \n",
              "label     1.000000    1.000000    1.000000    1.000000    1.000000   \n",
              "\n",
              "                5           6           7           8           9   \\\n",
              "X_0      -6.000000   -6.000000   -6.000000   -6.000000   -6.000000   \n",
              "X_1     140.000000  140.000000  140.000000  140.000000  140.000000   \n",
              "X_2     139.000000  139.000000  139.000000  139.000000  139.000000   \n",
              "X_3     138.000000  138.000000  138.000000  138.000000  138.000000   \n",
              "X_4       0.000000    0.000000    0.000000    0.000000    0.000000   \n",
              "...            ...         ...         ...         ...         ...   \n",
              "X_103    -0.065934   -0.095604   -0.110989   -0.126374   -0.121978   \n",
              "X_104     1.724633    2.323238    2.544476    2.780426    2.752621   \n",
              "offset -635.000000 -630.000000 -625.000000 -620.000000 -615.000000   \n",
              "id        1.000000    1.000000    1.000000    1.000000    1.000000   \n",
              "label     1.000000    1.000000    1.000000    1.000000    1.000000   \n",
              "\n",
              "                10          11          12          13          14  \\\n",
              "X_0       2.227147    4.000000    4.000000    4.000000    0.000000   \n",
              "X_1     141.000000  141.000000  141.000000  141.000000  140.000000   \n",
              "X_2     139.750000  140.250000  140.250000  140.250000  140.000000   \n",
              "X_3     138.000000  140.000000  140.000000  140.000000  140.000000   \n",
              "X_4      -1.129338    2.000000    2.000000    2.000000    0.000000   \n",
              "...            ...         ...         ...         ...         ...   \n",
              "X_103    -0.034066    0.018681    0.094505    0.078022    0.053846   \n",
              "X_104     3.841407    4.222953    4.717670    4.838415    5.010246   \n",
              "offset -610.000000 -605.000000 -600.000000 -595.000000 -590.000000   \n",
              "id        1.000000    1.000000    1.000000    1.000000    1.000000   \n",
              "label     1.000000    1.000000    1.000000    1.000000    1.000000   \n",
              "\n",
              "                15          16          17          18          19  \n",
              "X_0       0.000000    0.000000    0.000000    0.000000    4.000000  \n",
              "X_1     140.000000  140.000000  140.000000  140.000000  141.000000  \n",
              "X_2     140.000000  140.000000  140.000000  140.000000  140.250000  \n",
              "X_3     140.000000  140.000000  140.000000  140.000000  140.000000  \n",
              "X_4       0.000000    0.000000    0.000000    0.000000    2.000000  \n",
              "...            ...         ...         ...         ...         ...  \n",
              "X_103     0.054945    0.028571    0.045055    0.024176   -0.014286  \n",
              "X_104     5.008966    5.039587    5.058631    5.010246    4.827804  \n",
              "offset -585.000000 -580.000000 -575.000000 -570.000000 -565.000000  \n",
              "id        1.000000    1.000000    1.000000    1.000000    1.000000  \n",
              "label     1.000000    1.000000    1.000000    1.000000    1.000000  \n",
              "\n",
              "[108 rows x 20 columns]"
            ],
            "text/html": [
              "\n",
              "  <div id=\"df-7c1aed7e-5c94-4ef8-b0d8-4dabc975e8fd\">\n",
              "    <div class=\"colab-df-container\">\n",
              "      <div>\n",
              "<style scoped>\n",
              "    .dataframe tbody tr th:only-of-type {\n",
              "        vertical-align: middle;\n",
              "    }\n",
              "\n",
              "    .dataframe tbody tr th {\n",
              "        vertical-align: top;\n",
              "    }\n",
              "\n",
              "    .dataframe thead th {\n",
              "        text-align: right;\n",
              "    }\n",
              "</style>\n",
              "<table border=\"1\" class=\"dataframe\">\n",
              "  <thead>\n",
              "    <tr style=\"text-align: right;\">\n",
              "      <th></th>\n",
              "      <th>0</th>\n",
              "      <th>1</th>\n",
              "      <th>2</th>\n",
              "      <th>3</th>\n",
              "      <th>4</th>\n",
              "      <th>5</th>\n",
              "      <th>6</th>\n",
              "      <th>7</th>\n",
              "      <th>8</th>\n",
              "      <th>9</th>\n",
              "      <th>10</th>\n",
              "      <th>11</th>\n",
              "      <th>12</th>\n",
              "      <th>13</th>\n",
              "      <th>14</th>\n",
              "      <th>15</th>\n",
              "      <th>16</th>\n",
              "      <th>17</th>\n",
              "      <th>18</th>\n",
              "      <th>19</th>\n",
              "    </tr>\n",
              "  </thead>\n",
              "  <tbody>\n",
              "    <tr>\n",
              "      <th>X_0</th>\n",
              "      <td>1.500000</td>\n",
              "      <td>2.227147</td>\n",
              "      <td>4.000000</td>\n",
              "      <td>0.000000</td>\n",
              "      <td>4.000000</td>\n",
              "      <td>-6.000000</td>\n",
              "      <td>-6.000000</td>\n",
              "      <td>-6.000000</td>\n",
              "      <td>-6.000000</td>\n",
              "      <td>-6.000000</td>\n",
              "      <td>2.227147</td>\n",
              "      <td>4.000000</td>\n",
              "      <td>4.000000</td>\n",
              "      <td>4.000000</td>\n",
              "      <td>0.000000</td>\n",
              "      <td>0.000000</td>\n",
              "      <td>0.000000</td>\n",
              "      <td>0.000000</td>\n",
              "      <td>0.000000</td>\n",
              "      <td>4.000000</td>\n",
              "    </tr>\n",
              "    <tr>\n",
              "      <th>X_1</th>\n",
              "      <td>140.000000</td>\n",
              "      <td>140.000000</td>\n",
              "      <td>140.000000</td>\n",
              "      <td>138.000000</td>\n",
              "      <td>140.000000</td>\n",
              "      <td>140.000000</td>\n",
              "      <td>140.000000</td>\n",
              "      <td>140.000000</td>\n",
              "      <td>140.000000</td>\n",
              "      <td>140.000000</td>\n",
              "      <td>141.000000</td>\n",
              "      <td>141.000000</td>\n",
              "      <td>141.000000</td>\n",
              "      <td>141.000000</td>\n",
              "      <td>140.000000</td>\n",
              "      <td>140.000000</td>\n",
              "      <td>140.000000</td>\n",
              "      <td>140.000000</td>\n",
              "      <td>140.000000</td>\n",
              "      <td>141.000000</td>\n",
              "    </tr>\n",
              "    <tr>\n",
              "      <th>X_2</th>\n",
              "      <td>138.000000</td>\n",
              "      <td>138.250000</td>\n",
              "      <td>138.500000</td>\n",
              "      <td>138.000000</td>\n",
              "      <td>138.500000</td>\n",
              "      <td>139.000000</td>\n",
              "      <td>139.000000</td>\n",
              "      <td>139.000000</td>\n",
              "      <td>139.000000</td>\n",
              "      <td>139.000000</td>\n",
              "      <td>139.750000</td>\n",
              "      <td>140.250000</td>\n",
              "      <td>140.250000</td>\n",
              "      <td>140.250000</td>\n",
              "      <td>140.000000</td>\n",
              "      <td>140.000000</td>\n",
              "      <td>140.000000</td>\n",
              "      <td>140.000000</td>\n",
              "      <td>140.000000</td>\n",
              "      <td>140.250000</td>\n",
              "    </tr>\n",
              "    <tr>\n",
              "      <th>X_3</th>\n",
              "      <td>137.000000</td>\n",
              "      <td>137.000000</td>\n",
              "      <td>138.000000</td>\n",
              "      <td>138.000000</td>\n",
              "      <td>138.000000</td>\n",
              "      <td>138.000000</td>\n",
              "      <td>138.000000</td>\n",
              "      <td>138.000000</td>\n",
              "      <td>138.000000</td>\n",
              "      <td>138.000000</td>\n",
              "      <td>138.000000</td>\n",
              "      <td>140.000000</td>\n",
              "      <td>140.000000</td>\n",
              "      <td>140.000000</td>\n",
              "      <td>140.000000</td>\n",
              "      <td>140.000000</td>\n",
              "      <td>140.000000</td>\n",
              "      <td>140.000000</td>\n",
              "      <td>140.000000</td>\n",
              "      <td>140.000000</td>\n",
              "    </tr>\n",
              "    <tr>\n",
              "      <th>X_4</th>\n",
              "      <td>1.414214</td>\n",
              "      <td>1.129338</td>\n",
              "      <td>2.000000</td>\n",
              "      <td>0.000000</td>\n",
              "      <td>2.000000</td>\n",
              "      <td>0.000000</td>\n",
              "      <td>0.000000</td>\n",
              "      <td>0.000000</td>\n",
              "      <td>0.000000</td>\n",
              "      <td>0.000000</td>\n",
              "      <td>-1.129338</td>\n",
              "      <td>2.000000</td>\n",
              "      <td>2.000000</td>\n",
              "      <td>2.000000</td>\n",
              "      <td>0.000000</td>\n",
              "      <td>0.000000</td>\n",
              "      <td>0.000000</td>\n",
              "      <td>0.000000</td>\n",
              "      <td>0.000000</td>\n",
              "      <td>2.000000</td>\n",
              "    </tr>\n",
              "    <tr>\n",
              "      <th>...</th>\n",
              "      <td>...</td>\n",
              "      <td>...</td>\n",
              "      <td>...</td>\n",
              "      <td>...</td>\n",
              "      <td>...</td>\n",
              "      <td>...</td>\n",
              "      <td>...</td>\n",
              "      <td>...</td>\n",
              "      <td>...</td>\n",
              "      <td>...</td>\n",
              "      <td>...</td>\n",
              "      <td>...</td>\n",
              "      <td>...</td>\n",
              "      <td>...</td>\n",
              "      <td>...</td>\n",
              "      <td>...</td>\n",
              "      <td>...</td>\n",
              "      <td>...</td>\n",
              "      <td>...</td>\n",
              "      <td>...</td>\n",
              "    </tr>\n",
              "    <tr>\n",
              "      <th>X_103</th>\n",
              "      <td>0.015385</td>\n",
              "      <td>0.006593</td>\n",
              "      <td>-0.001099</td>\n",
              "      <td>-0.027473</td>\n",
              "      <td>-0.037363</td>\n",
              "      <td>-0.065934</td>\n",
              "      <td>-0.095604</td>\n",
              "      <td>-0.110989</td>\n",
              "      <td>-0.126374</td>\n",
              "      <td>-0.121978</td>\n",
              "      <td>-0.034066</td>\n",
              "      <td>0.018681</td>\n",
              "      <td>0.094505</td>\n",
              "      <td>0.078022</td>\n",
              "      <td>0.053846</td>\n",
              "      <td>0.054945</td>\n",
              "      <td>0.028571</td>\n",
              "      <td>0.045055</td>\n",
              "      <td>0.024176</td>\n",
              "      <td>-0.014286</td>\n",
              "    </tr>\n",
              "    <tr>\n",
              "      <th>X_104</th>\n",
              "      <td>0.650444</td>\n",
              "      <td>0.650444</td>\n",
              "      <td>0.776250</td>\n",
              "      <td>1.235168</td>\n",
              "      <td>1.281025</td>\n",
              "      <td>1.724633</td>\n",
              "      <td>2.323238</td>\n",
              "      <td>2.544476</td>\n",
              "      <td>2.780426</td>\n",
              "      <td>2.752621</td>\n",
              "      <td>3.841407</td>\n",
              "      <td>4.222953</td>\n",
              "      <td>4.717670</td>\n",
              "      <td>4.838415</td>\n",
              "      <td>5.010246</td>\n",
              "      <td>5.008966</td>\n",
              "      <td>5.039587</td>\n",
              "      <td>5.058631</td>\n",
              "      <td>5.010246</td>\n",
              "      <td>4.827804</td>\n",
              "    </tr>\n",
              "    <tr>\n",
              "      <th>offset</th>\n",
              "      <td>-660.000000</td>\n",
              "      <td>-655.000000</td>\n",
              "      <td>-650.000000</td>\n",
              "      <td>-645.000000</td>\n",
              "      <td>-640.000000</td>\n",
              "      <td>-635.000000</td>\n",
              "      <td>-630.000000</td>\n",
              "      <td>-625.000000</td>\n",
              "      <td>-620.000000</td>\n",
              "      <td>-615.000000</td>\n",
              "      <td>-610.000000</td>\n",
              "      <td>-605.000000</td>\n",
              "      <td>-600.000000</td>\n",
              "      <td>-595.000000</td>\n",
              "      <td>-590.000000</td>\n",
              "      <td>-585.000000</td>\n",
              "      <td>-580.000000</td>\n",
              "      <td>-575.000000</td>\n",
              "      <td>-570.000000</td>\n",
              "      <td>-565.000000</td>\n",
              "    </tr>\n",
              "    <tr>\n",
              "      <th>id</th>\n",
              "      <td>1.000000</td>\n",
              "      <td>1.000000</td>\n",
              "      <td>1.000000</td>\n",
              "      <td>1.000000</td>\n",
              "      <td>1.000000</td>\n",
              "      <td>1.000000</td>\n",
              "      <td>1.000000</td>\n",
              "      <td>1.000000</td>\n",
              "      <td>1.000000</td>\n",
              "      <td>1.000000</td>\n",
              "      <td>1.000000</td>\n",
              "      <td>1.000000</td>\n",
              "      <td>1.000000</td>\n",
              "      <td>1.000000</td>\n",
              "      <td>1.000000</td>\n",
              "      <td>1.000000</td>\n",
              "      <td>1.000000</td>\n",
              "      <td>1.000000</td>\n",
              "      <td>1.000000</td>\n",
              "      <td>1.000000</td>\n",
              "    </tr>\n",
              "    <tr>\n",
              "      <th>label</th>\n",
              "      <td>1.000000</td>\n",
              "      <td>1.000000</td>\n",
              "      <td>1.000000</td>\n",
              "      <td>1.000000</td>\n",
              "      <td>1.000000</td>\n",
              "      <td>1.000000</td>\n",
              "      <td>1.000000</td>\n",
              "      <td>1.000000</td>\n",
              "      <td>1.000000</td>\n",
              "      <td>1.000000</td>\n",
              "      <td>1.000000</td>\n",
              "      <td>1.000000</td>\n",
              "      <td>1.000000</td>\n",
              "      <td>1.000000</td>\n",
              "      <td>1.000000</td>\n",
              "      <td>1.000000</td>\n",
              "      <td>1.000000</td>\n",
              "      <td>1.000000</td>\n",
              "      <td>1.000000</td>\n",
              "      <td>1.000000</td>\n",
              "    </tr>\n",
              "  </tbody>\n",
              "</table>\n",
              "<p>108 rows × 20 columns</p>\n",
              "</div>\n",
              "      <button class=\"colab-df-convert\" onclick=\"convertToInteractive('df-7c1aed7e-5c94-4ef8-b0d8-4dabc975e8fd')\"\n",
              "              title=\"Convert this dataframe to an interactive table.\"\n",
              "              style=\"display:none;\">\n",
              "        \n",
              "  <svg xmlns=\"http://www.w3.org/2000/svg\" height=\"24px\"viewBox=\"0 0 24 24\"\n",
              "       width=\"24px\">\n",
              "    <path d=\"M0 0h24v24H0V0z\" fill=\"none\"/>\n",
              "    <path d=\"M18.56 5.44l.94 2.06.94-2.06 2.06-.94-2.06-.94-.94-2.06-.94 2.06-2.06.94zm-11 1L8.5 8.5l.94-2.06 2.06-.94-2.06-.94L8.5 2.5l-.94 2.06-2.06.94zm10 10l.94 2.06.94-2.06 2.06-.94-2.06-.94-.94-2.06-.94 2.06-2.06.94z\"/><path d=\"M17.41 7.96l-1.37-1.37c-.4-.4-.92-.59-1.43-.59-.52 0-1.04.2-1.43.59L10.3 9.45l-7.72 7.72c-.78.78-.78 2.05 0 2.83L4 21.41c.39.39.9.59 1.41.59.51 0 1.02-.2 1.41-.59l7.78-7.78 2.81-2.81c.8-.78.8-2.07 0-2.86zM5.41 20L4 18.59l7.72-7.72 1.47 1.35L5.41 20z\"/>\n",
              "  </svg>\n",
              "      </button>\n",
              "      \n",
              "  <style>\n",
              "    .colab-df-container {\n",
              "      display:flex;\n",
              "      flex-wrap:wrap;\n",
              "      gap: 12px;\n",
              "    }\n",
              "\n",
              "    .colab-df-convert {\n",
              "      background-color: #E8F0FE;\n",
              "      border: none;\n",
              "      border-radius: 50%;\n",
              "      cursor: pointer;\n",
              "      display: none;\n",
              "      fill: #1967D2;\n",
              "      height: 32px;\n",
              "      padding: 0 0 0 0;\n",
              "      width: 32px;\n",
              "    }\n",
              "\n",
              "    .colab-df-convert:hover {\n",
              "      background-color: #E2EBFA;\n",
              "      box-shadow: 0px 1px 2px rgba(60, 64, 67, 0.3), 0px 1px 3px 1px rgba(60, 64, 67, 0.15);\n",
              "      fill: #174EA6;\n",
              "    }\n",
              "\n",
              "    [theme=dark] .colab-df-convert {\n",
              "      background-color: #3B4455;\n",
              "      fill: #D2E3FC;\n",
              "    }\n",
              "\n",
              "    [theme=dark] .colab-df-convert:hover {\n",
              "      background-color: #434B5C;\n",
              "      box-shadow: 0px 1px 3px 1px rgba(0, 0, 0, 0.15);\n",
              "      filter: drop-shadow(0px 1px 2px rgba(0, 0, 0, 0.3));\n",
              "      fill: #FFFFFF;\n",
              "    }\n",
              "  </style>\n",
              "\n",
              "      <script>\n",
              "        const buttonEl =\n",
              "          document.querySelector('#df-7c1aed7e-5c94-4ef8-b0d8-4dabc975e8fd button.colab-df-convert');\n",
              "        buttonEl.style.display =\n",
              "          google.colab.kernel.accessAllowed ? 'block' : 'none';\n",
              "\n",
              "        async function convertToInteractive(key) {\n",
              "          const element = document.querySelector('#df-7c1aed7e-5c94-4ef8-b0d8-4dabc975e8fd');\n",
              "          const dataTable =\n",
              "            await google.colab.kernel.invokeFunction('convertToInteractive',\n",
              "                                                     [key], {});\n",
              "          if (!dataTable) return;\n",
              "\n",
              "          const docLinkHtml = 'Like what you see? Visit the ' +\n",
              "            '<a target=\"_blank\" href=https://colab.research.google.com/notebooks/data_table.ipynb>data table notebook</a>'\n",
              "            + ' to learn more about interactive tables.';\n",
              "          element.innerHTML = '';\n",
              "          dataTable['output_type'] = 'display_data';\n",
              "          await google.colab.output.renderOutput(dataTable, element);\n",
              "          const docLink = document.createElement('div');\n",
              "          docLink.innerHTML = docLinkHtml;\n",
              "          element.appendChild(docLink);\n",
              "        }\n",
              "      </script>\n",
              "    </div>\n",
              "  </div>\n",
              "  "
            ]
          },
          "metadata": {},
          "execution_count": 3
        }
      ]
    },
    {
      "cell_type": "code",
      "source": [
        "df.info()"
      ],
      "metadata": {
        "colab": {
          "base_uri": "https://localhost:8080/"
        },
        "id": "A1ojDIr3GRtq",
        "outputId": "73c9bafd-2819-473a-ac60-6e14c494e85e"
      },
      "execution_count": null,
      "outputs": [
        {
          "output_type": "stream",
          "name": "stdout",
          "text": [
            "<class 'pandas.core.frame.DataFrame'>\n",
            "RangeIndex: 79800 entries, 0 to 79799\n",
            "Columns: 108 entries, X_0 to label\n",
            "dtypes: float64(93), int64(15)\n",
            "memory usage: 65.8 MB\n"
          ]
        }
      ]
    },
    {
      "cell_type": "code",
      "source": [
        "df.nunique()"
      ],
      "metadata": {
        "colab": {
          "base_uri": "https://localhost:8080/"
        },
        "id": "txCEJYbZGuPo",
        "outputId": "aabb9f00-3c71-4727-dbe6-81e22b871dc6"
      },
      "execution_count": null,
      "outputs": [
        {
          "output_type": "execute_result",
          "data": {
            "text/plain": [
              "X_0       1372\n",
              "X_1        137\n",
              "X_2        513\n",
              "X_3        135\n",
              "X_4       1841\n",
              "          ... \n",
              "X_103     1147\n",
              "X_104     4182\n",
              "offset     133\n",
              "id         600\n",
              "label        2\n",
              "Length: 108, dtype: int64"
            ]
          },
          "metadata": {},
          "execution_count": 6
        }
      ]
    },
    {
      "cell_type": "code",
      "source": [
        "df.describe(include=\"all\").T"
      ],
      "metadata": {
        "colab": {
          "base_uri": "https://localhost:8080/",
          "height": 424
        },
        "id": "Zd18YszmG2c9",
        "outputId": "a402dbbd-eb8e-4d38-b7f4-3f44fdaf1c0d"
      },
      "execution_count": null,
      "outputs": [
        {
          "output_type": "execute_result",
          "data": {
            "text/plain": [
              "          count        mean         std         min         25%        50%  \\\n",
              "X_0     79800.0    0.155129    3.047073   -6.000000   -1.289256    0.00000   \n",
              "X_1     79800.0   89.397506   20.258613    0.000000   75.000000   88.00000   \n",
              "X_2     79800.0   87.264355   19.951703    0.000000   72.750000   85.50000   \n",
              "X_3     79800.0   85.344023   19.978456    0.000000   71.000000   84.00000   \n",
              "X_4     79800.0    0.145070    1.102048   -2.000000   -0.228728    0.00000   \n",
              "...         ...         ...         ...         ...         ...        ...   \n",
              "X_103   79800.0    0.000516    0.100430   -2.241758   -0.029670    0.00000   \n",
              "X_104   79800.0    2.405792    2.542446    0.000000    1.068188    1.83275   \n",
              "offset  79800.0 -330.000000  191.964741 -660.000000 -495.000000 -330.00000   \n",
              "id      79800.0  300.500000  173.205925    1.000000  150.750000  300.50000   \n",
              "label   79800.0    0.500000    0.500003    0.000000    0.000000    0.50000   \n",
              "\n",
              "               75%         max  \n",
              "X_0       2.602498    4.000000  \n",
              "X_1     102.000000  177.000000  \n",
              "X_2      99.750000  177.000000  \n",
              "X_3      98.000000  177.000000  \n",
              "X_4       0.854563    2.000000  \n",
              "...            ...         ...  \n",
              "X_103     0.030769    2.209890  \n",
              "X_104     3.004270   50.647474  \n",
              "offset -165.000000    0.000000  \n",
              "id      450.250000  600.000000  \n",
              "label     1.000000    1.000000  \n",
              "\n",
              "[108 rows x 8 columns]"
            ],
            "text/html": [
              "\n",
              "  <div id=\"df-88358732-21da-4894-8ee1-aed8db976843\">\n",
              "    <div class=\"colab-df-container\">\n",
              "      <div>\n",
              "<style scoped>\n",
              "    .dataframe tbody tr th:only-of-type {\n",
              "        vertical-align: middle;\n",
              "    }\n",
              "\n",
              "    .dataframe tbody tr th {\n",
              "        vertical-align: top;\n",
              "    }\n",
              "\n",
              "    .dataframe thead th {\n",
              "        text-align: right;\n",
              "    }\n",
              "</style>\n",
              "<table border=\"1\" class=\"dataframe\">\n",
              "  <thead>\n",
              "    <tr style=\"text-align: right;\">\n",
              "      <th></th>\n",
              "      <th>count</th>\n",
              "      <th>mean</th>\n",
              "      <th>std</th>\n",
              "      <th>min</th>\n",
              "      <th>25%</th>\n",
              "      <th>50%</th>\n",
              "      <th>75%</th>\n",
              "      <th>max</th>\n",
              "    </tr>\n",
              "  </thead>\n",
              "  <tbody>\n",
              "    <tr>\n",
              "      <th>X_0</th>\n",
              "      <td>79800.0</td>\n",
              "      <td>0.155129</td>\n",
              "      <td>3.047073</td>\n",
              "      <td>-6.000000</td>\n",
              "      <td>-1.289256</td>\n",
              "      <td>0.00000</td>\n",
              "      <td>2.602498</td>\n",
              "      <td>4.000000</td>\n",
              "    </tr>\n",
              "    <tr>\n",
              "      <th>X_1</th>\n",
              "      <td>79800.0</td>\n",
              "      <td>89.397506</td>\n",
              "      <td>20.258613</td>\n",
              "      <td>0.000000</td>\n",
              "      <td>75.000000</td>\n",
              "      <td>88.00000</td>\n",
              "      <td>102.000000</td>\n",
              "      <td>177.000000</td>\n",
              "    </tr>\n",
              "    <tr>\n",
              "      <th>X_2</th>\n",
              "      <td>79800.0</td>\n",
              "      <td>87.264355</td>\n",
              "      <td>19.951703</td>\n",
              "      <td>0.000000</td>\n",
              "      <td>72.750000</td>\n",
              "      <td>85.50000</td>\n",
              "      <td>99.750000</td>\n",
              "      <td>177.000000</td>\n",
              "    </tr>\n",
              "    <tr>\n",
              "      <th>X_3</th>\n",
              "      <td>79800.0</td>\n",
              "      <td>85.344023</td>\n",
              "      <td>19.978456</td>\n",
              "      <td>0.000000</td>\n",
              "      <td>71.000000</td>\n",
              "      <td>84.00000</td>\n",
              "      <td>98.000000</td>\n",
              "      <td>177.000000</td>\n",
              "    </tr>\n",
              "    <tr>\n",
              "      <th>X_4</th>\n",
              "      <td>79800.0</td>\n",
              "      <td>0.145070</td>\n",
              "      <td>1.102048</td>\n",
              "      <td>-2.000000</td>\n",
              "      <td>-0.228728</td>\n",
              "      <td>0.00000</td>\n",
              "      <td>0.854563</td>\n",
              "      <td>2.000000</td>\n",
              "    </tr>\n",
              "    <tr>\n",
              "      <th>...</th>\n",
              "      <td>...</td>\n",
              "      <td>...</td>\n",
              "      <td>...</td>\n",
              "      <td>...</td>\n",
              "      <td>...</td>\n",
              "      <td>...</td>\n",
              "      <td>...</td>\n",
              "      <td>...</td>\n",
              "    </tr>\n",
              "    <tr>\n",
              "      <th>X_103</th>\n",
              "      <td>79800.0</td>\n",
              "      <td>0.000516</td>\n",
              "      <td>0.100430</td>\n",
              "      <td>-2.241758</td>\n",
              "      <td>-0.029670</td>\n",
              "      <td>0.00000</td>\n",
              "      <td>0.030769</td>\n",
              "      <td>2.209890</td>\n",
              "    </tr>\n",
              "    <tr>\n",
              "      <th>X_104</th>\n",
              "      <td>79800.0</td>\n",
              "      <td>2.405792</td>\n",
              "      <td>2.542446</td>\n",
              "      <td>0.000000</td>\n",
              "      <td>1.068188</td>\n",
              "      <td>1.83275</td>\n",
              "      <td>3.004270</td>\n",
              "      <td>50.647474</td>\n",
              "    </tr>\n",
              "    <tr>\n",
              "      <th>offset</th>\n",
              "      <td>79800.0</td>\n",
              "      <td>-330.000000</td>\n",
              "      <td>191.964741</td>\n",
              "      <td>-660.000000</td>\n",
              "      <td>-495.000000</td>\n",
              "      <td>-330.00000</td>\n",
              "      <td>-165.000000</td>\n",
              "      <td>0.000000</td>\n",
              "    </tr>\n",
              "    <tr>\n",
              "      <th>id</th>\n",
              "      <td>79800.0</td>\n",
              "      <td>300.500000</td>\n",
              "      <td>173.205925</td>\n",
              "      <td>1.000000</td>\n",
              "      <td>150.750000</td>\n",
              "      <td>300.50000</td>\n",
              "      <td>450.250000</td>\n",
              "      <td>600.000000</td>\n",
              "    </tr>\n",
              "    <tr>\n",
              "      <th>label</th>\n",
              "      <td>79800.0</td>\n",
              "      <td>0.500000</td>\n",
              "      <td>0.500003</td>\n",
              "      <td>0.000000</td>\n",
              "      <td>0.000000</td>\n",
              "      <td>0.50000</td>\n",
              "      <td>1.000000</td>\n",
              "      <td>1.000000</td>\n",
              "    </tr>\n",
              "  </tbody>\n",
              "</table>\n",
              "<p>108 rows × 8 columns</p>\n",
              "</div>\n",
              "      <button class=\"colab-df-convert\" onclick=\"convertToInteractive('df-88358732-21da-4894-8ee1-aed8db976843')\"\n",
              "              title=\"Convert this dataframe to an interactive table.\"\n",
              "              style=\"display:none;\">\n",
              "        \n",
              "  <svg xmlns=\"http://www.w3.org/2000/svg\" height=\"24px\"viewBox=\"0 0 24 24\"\n",
              "       width=\"24px\">\n",
              "    <path d=\"M0 0h24v24H0V0z\" fill=\"none\"/>\n",
              "    <path d=\"M18.56 5.44l.94 2.06.94-2.06 2.06-.94-2.06-.94-.94-2.06-.94 2.06-2.06.94zm-11 1L8.5 8.5l.94-2.06 2.06-.94-2.06-.94L8.5 2.5l-.94 2.06-2.06.94zm10 10l.94 2.06.94-2.06 2.06-.94-2.06-.94-.94-2.06-.94 2.06-2.06.94z\"/><path d=\"M17.41 7.96l-1.37-1.37c-.4-.4-.92-.59-1.43-.59-.52 0-1.04.2-1.43.59L10.3 9.45l-7.72 7.72c-.78.78-.78 2.05 0 2.83L4 21.41c.39.39.9.59 1.41.59.51 0 1.02-.2 1.41-.59l7.78-7.78 2.81-2.81c.8-.78.8-2.07 0-2.86zM5.41 20L4 18.59l7.72-7.72 1.47 1.35L5.41 20z\"/>\n",
              "  </svg>\n",
              "      </button>\n",
              "      \n",
              "  <style>\n",
              "    .colab-df-container {\n",
              "      display:flex;\n",
              "      flex-wrap:wrap;\n",
              "      gap: 12px;\n",
              "    }\n",
              "\n",
              "    .colab-df-convert {\n",
              "      background-color: #E8F0FE;\n",
              "      border: none;\n",
              "      border-radius: 50%;\n",
              "      cursor: pointer;\n",
              "      display: none;\n",
              "      fill: #1967D2;\n",
              "      height: 32px;\n",
              "      padding: 0 0 0 0;\n",
              "      width: 32px;\n",
              "    }\n",
              "\n",
              "    .colab-df-convert:hover {\n",
              "      background-color: #E2EBFA;\n",
              "      box-shadow: 0px 1px 2px rgba(60, 64, 67, 0.3), 0px 1px 3px 1px rgba(60, 64, 67, 0.15);\n",
              "      fill: #174EA6;\n",
              "    }\n",
              "\n",
              "    [theme=dark] .colab-df-convert {\n",
              "      background-color: #3B4455;\n",
              "      fill: #D2E3FC;\n",
              "    }\n",
              "\n",
              "    [theme=dark] .colab-df-convert:hover {\n",
              "      background-color: #434B5C;\n",
              "      box-shadow: 0px 1px 3px 1px rgba(0, 0, 0, 0.15);\n",
              "      filter: drop-shadow(0px 1px 2px rgba(0, 0, 0, 0.3));\n",
              "      fill: #FFFFFF;\n",
              "    }\n",
              "  </style>\n",
              "\n",
              "      <script>\n",
              "        const buttonEl =\n",
              "          document.querySelector('#df-88358732-21da-4894-8ee1-aed8db976843 button.colab-df-convert');\n",
              "        buttonEl.style.display =\n",
              "          google.colab.kernel.accessAllowed ? 'block' : 'none';\n",
              "\n",
              "        async function convertToInteractive(key) {\n",
              "          const element = document.querySelector('#df-88358732-21da-4894-8ee1-aed8db976843');\n",
              "          const dataTable =\n",
              "            await google.colab.kernel.invokeFunction('convertToInteractive',\n",
              "                                                     [key], {});\n",
              "          if (!dataTable) return;\n",
              "\n",
              "          const docLinkHtml = 'Like what you see? Visit the ' +\n",
              "            '<a target=\"_blank\" href=https://colab.research.google.com/notebooks/data_table.ipynb>data table notebook</a>'\n",
              "            + ' to learn more about interactive tables.';\n",
              "          element.innerHTML = '';\n",
              "          dataTable['output_type'] = 'display_data';\n",
              "          await google.colab.output.renderOutput(dataTable, element);\n",
              "          const docLink = document.createElement('div');\n",
              "          docLink.innerHTML = docLinkHtml;\n",
              "          element.appendChild(docLink);\n",
              "        }\n",
              "      </script>\n",
              "    </div>\n",
              "  </div>\n",
              "  "
            ]
          },
          "metadata": {},
          "execution_count": 7
        }
      ]
    },
    {
      "cell_type": "code",
      "source": [
        "df[\"label\"].value_counts()"
      ],
      "metadata": {
        "colab": {
          "base_uri": "https://localhost:8080/"
        },
        "id": "uxYagwm7G_2v",
        "outputId": "9423ada9-72ff-43a0-f8e2-ef0719d5a621"
      },
      "execution_count": null,
      "outputs": [
        {
          "output_type": "execute_result",
          "data": {
            "text/plain": [
              "1    39900\n",
              "0    39900\n",
              "Name: label, dtype: int64"
            ]
          },
          "metadata": {},
          "execution_count": 8
        }
      ]
    },
    {
      "cell_type": "code",
      "source": [
        "# Create (X_train, y_train), (X_test, y_test)\n",
        "\n",
        "as_np = df.to_numpy()\n",
        "\n",
        "index = int(len(as_np) * .80)\n",
        "\n",
        "X_train, y_train = as_np[:index, :-1], as_np[:index, -1]\n",
        "X_test, y_test = as_np[index:, :-1], as_np[index:, -1]\n",
        "\n",
        "(X_train.shape, y_train.shape), (X_test.shape, y_test.shape)"
      ],
      "metadata": {
        "id": "a9nH6yTpHK6s",
        "colab": {
          "base_uri": "https://localhost:8080/"
        },
        "outputId": "a605fb63-7688-4865-8c71-e83ffc4af0c4"
      },
      "execution_count": null,
      "outputs": [
        {
          "output_type": "execute_result",
          "data": {
            "text/plain": [
              "(((63840, 107), (63840,)), ((15960, 107), (15960,)))"
            ]
          },
          "metadata": {},
          "execution_count": 34
        }
      ]
    },
    {
      "cell_type": "code",
      "source": [
        "df1 = df.loc[df['offset'] == 0]"
      ],
      "metadata": {
        "id": "7N9rVOEAvHZX"
      },
      "execution_count": null,
      "outputs": []
    },
    {
      "cell_type": "code",
      "source": [
        "df1.head()"
      ],
      "metadata": {
        "colab": {
          "base_uri": "https://localhost:8080/",
          "height": 300
        },
        "id": "6RNyRoT92YUk",
        "outputId": "772de048-2c4f-44c7-fa7e-4c4d213296d5"
      },
      "execution_count": null,
      "outputs": [
        {
          "output_type": "execute_result",
          "data": {
            "text/plain": [
              "          X_0  X_1     X_2  X_3       X_4   X_5       X_6       X_7  X_8  \\\n",
              "132 -1.200000  127  125.50  124  0.000000  0.20  1.290994 -0.056816  127   \n",
              "265  4.000000   86   85.25   85  2.000000 -0.02  0.500000 -1.317901   90   \n",
              "398  4.000000  106  105.25  105  2.000000  0.02  0.500000  3.000000  106   \n",
              "531 -3.109816  105   98.75   94  0.456508 -0.14  5.188127 -0.077303  105   \n",
              "664  0.000000   77   77.00   77  0.000000  0.00  0.000000  7.000000   77   \n",
              "\n",
              "            X_9  ...      X_98  X_99      X_100  X_101     X_102     X_103  \\\n",
              "132  124.857143  ...  1.772306    19  16.923077     16  1.085143  0.028571   \n",
              "265   86.857143  ... -0.707671    20  15.846154     13  0.634795 -0.054945   \n",
              "398  105.000000  ...  0.060937    32  30.307692     28 -0.722135  0.012088   \n",
              "531   96.285714  ... -1.039498    21  16.615385     14  0.449215  0.078022   \n",
              "664   76.857143  ...  1.798440    23  16.076923     11  0.845429 -0.015385   \n",
              "\n",
              "        X_104  offset  id  label  \n",
              "132  0.862316       0   1      1  \n",
              "265  2.409915       0   2      1  \n",
              "398  1.109400       0   3      1  \n",
              "531  2.433737       0   4      1  \n",
              "664  2.985005       0   5      1  \n",
              "\n",
              "[5 rows x 108 columns]"
            ],
            "text/html": [
              "\n",
              "  <div id=\"df-194affa1-7443-4330-8ad3-2d51096ad236\">\n",
              "    <div class=\"colab-df-container\">\n",
              "      <div>\n",
              "<style scoped>\n",
              "    .dataframe tbody tr th:only-of-type {\n",
              "        vertical-align: middle;\n",
              "    }\n",
              "\n",
              "    .dataframe tbody tr th {\n",
              "        vertical-align: top;\n",
              "    }\n",
              "\n",
              "    .dataframe thead th {\n",
              "        text-align: right;\n",
              "    }\n",
              "</style>\n",
              "<table border=\"1\" class=\"dataframe\">\n",
              "  <thead>\n",
              "    <tr style=\"text-align: right;\">\n",
              "      <th></th>\n",
              "      <th>X_0</th>\n",
              "      <th>X_1</th>\n",
              "      <th>X_2</th>\n",
              "      <th>X_3</th>\n",
              "      <th>X_4</th>\n",
              "      <th>X_5</th>\n",
              "      <th>X_6</th>\n",
              "      <th>X_7</th>\n",
              "      <th>X_8</th>\n",
              "      <th>X_9</th>\n",
              "      <th>...</th>\n",
              "      <th>X_98</th>\n",
              "      <th>X_99</th>\n",
              "      <th>X_100</th>\n",
              "      <th>X_101</th>\n",
              "      <th>X_102</th>\n",
              "      <th>X_103</th>\n",
              "      <th>X_104</th>\n",
              "      <th>offset</th>\n",
              "      <th>id</th>\n",
              "      <th>label</th>\n",
              "    </tr>\n",
              "  </thead>\n",
              "  <tbody>\n",
              "    <tr>\n",
              "      <th>132</th>\n",
              "      <td>-1.200000</td>\n",
              "      <td>127</td>\n",
              "      <td>125.50</td>\n",
              "      <td>124</td>\n",
              "      <td>0.000000</td>\n",
              "      <td>0.20</td>\n",
              "      <td>1.290994</td>\n",
              "      <td>-0.056816</td>\n",
              "      <td>127</td>\n",
              "      <td>124.857143</td>\n",
              "      <td>...</td>\n",
              "      <td>1.772306</td>\n",
              "      <td>19</td>\n",
              "      <td>16.923077</td>\n",
              "      <td>16</td>\n",
              "      <td>1.085143</td>\n",
              "      <td>0.028571</td>\n",
              "      <td>0.862316</td>\n",
              "      <td>0</td>\n",
              "      <td>1</td>\n",
              "      <td>1</td>\n",
              "    </tr>\n",
              "    <tr>\n",
              "      <th>265</th>\n",
              "      <td>4.000000</td>\n",
              "      <td>86</td>\n",
              "      <td>85.25</td>\n",
              "      <td>85</td>\n",
              "      <td>2.000000</td>\n",
              "      <td>-0.02</td>\n",
              "      <td>0.500000</td>\n",
              "      <td>-1.317901</td>\n",
              "      <td>90</td>\n",
              "      <td>86.857143</td>\n",
              "      <td>...</td>\n",
              "      <td>-0.707671</td>\n",
              "      <td>20</td>\n",
              "      <td>15.846154</td>\n",
              "      <td>13</td>\n",
              "      <td>0.634795</td>\n",
              "      <td>-0.054945</td>\n",
              "      <td>2.409915</td>\n",
              "      <td>0</td>\n",
              "      <td>2</td>\n",
              "      <td>1</td>\n",
              "    </tr>\n",
              "    <tr>\n",
              "      <th>398</th>\n",
              "      <td>4.000000</td>\n",
              "      <td>106</td>\n",
              "      <td>105.25</td>\n",
              "      <td>105</td>\n",
              "      <td>2.000000</td>\n",
              "      <td>0.02</td>\n",
              "      <td>0.500000</td>\n",
              "      <td>3.000000</td>\n",
              "      <td>106</td>\n",
              "      <td>105.000000</td>\n",
              "      <td>...</td>\n",
              "      <td>0.060937</td>\n",
              "      <td>32</td>\n",
              "      <td>30.307692</td>\n",
              "      <td>28</td>\n",
              "      <td>-0.722135</td>\n",
              "      <td>0.012088</td>\n",
              "      <td>1.109400</td>\n",
              "      <td>0</td>\n",
              "      <td>3</td>\n",
              "      <td>1</td>\n",
              "    </tr>\n",
              "    <tr>\n",
              "      <th>531</th>\n",
              "      <td>-3.109816</td>\n",
              "      <td>105</td>\n",
              "      <td>98.75</td>\n",
              "      <td>94</td>\n",
              "      <td>0.456508</td>\n",
              "      <td>-0.14</td>\n",
              "      <td>5.188127</td>\n",
              "      <td>-0.077303</td>\n",
              "      <td>105</td>\n",
              "      <td>96.285714</td>\n",
              "      <td>...</td>\n",
              "      <td>-1.039498</td>\n",
              "      <td>21</td>\n",
              "      <td>16.615385</td>\n",
              "      <td>14</td>\n",
              "      <td>0.449215</td>\n",
              "      <td>0.078022</td>\n",
              "      <td>2.433737</td>\n",
              "      <td>0</td>\n",
              "      <td>4</td>\n",
              "      <td>1</td>\n",
              "    </tr>\n",
              "    <tr>\n",
              "      <th>664</th>\n",
              "      <td>0.000000</td>\n",
              "      <td>77</td>\n",
              "      <td>77.00</td>\n",
              "      <td>77</td>\n",
              "      <td>0.000000</td>\n",
              "      <td>0.00</td>\n",
              "      <td>0.000000</td>\n",
              "      <td>7.000000</td>\n",
              "      <td>77</td>\n",
              "      <td>76.857143</td>\n",
              "      <td>...</td>\n",
              "      <td>1.798440</td>\n",
              "      <td>23</td>\n",
              "      <td>16.076923</td>\n",
              "      <td>11</td>\n",
              "      <td>0.845429</td>\n",
              "      <td>-0.015385</td>\n",
              "      <td>2.985005</td>\n",
              "      <td>0</td>\n",
              "      <td>5</td>\n",
              "      <td>1</td>\n",
              "    </tr>\n",
              "  </tbody>\n",
              "</table>\n",
              "<p>5 rows × 108 columns</p>\n",
              "</div>\n",
              "      <button class=\"colab-df-convert\" onclick=\"convertToInteractive('df-194affa1-7443-4330-8ad3-2d51096ad236')\"\n",
              "              title=\"Convert this dataframe to an interactive table.\"\n",
              "              style=\"display:none;\">\n",
              "        \n",
              "  <svg xmlns=\"http://www.w3.org/2000/svg\" height=\"24px\"viewBox=\"0 0 24 24\"\n",
              "       width=\"24px\">\n",
              "    <path d=\"M0 0h24v24H0V0z\" fill=\"none\"/>\n",
              "    <path d=\"M18.56 5.44l.94 2.06.94-2.06 2.06-.94-2.06-.94-.94-2.06-.94 2.06-2.06.94zm-11 1L8.5 8.5l.94-2.06 2.06-.94-2.06-.94L8.5 2.5l-.94 2.06-2.06.94zm10 10l.94 2.06.94-2.06 2.06-.94-2.06-.94-.94-2.06-.94 2.06-2.06.94z\"/><path d=\"M17.41 7.96l-1.37-1.37c-.4-.4-.92-.59-1.43-.59-.52 0-1.04.2-1.43.59L10.3 9.45l-7.72 7.72c-.78.78-.78 2.05 0 2.83L4 21.41c.39.39.9.59 1.41.59.51 0 1.02-.2 1.41-.59l7.78-7.78 2.81-2.81c.8-.78.8-2.07 0-2.86zM5.41 20L4 18.59l7.72-7.72 1.47 1.35L5.41 20z\"/>\n",
              "  </svg>\n",
              "      </button>\n",
              "      \n",
              "  <style>\n",
              "    .colab-df-container {\n",
              "      display:flex;\n",
              "      flex-wrap:wrap;\n",
              "      gap: 12px;\n",
              "    }\n",
              "\n",
              "    .colab-df-convert {\n",
              "      background-color: #E8F0FE;\n",
              "      border: none;\n",
              "      border-radius: 50%;\n",
              "      cursor: pointer;\n",
              "      display: none;\n",
              "      fill: #1967D2;\n",
              "      height: 32px;\n",
              "      padding: 0 0 0 0;\n",
              "      width: 32px;\n",
              "    }\n",
              "\n",
              "    .colab-df-convert:hover {\n",
              "      background-color: #E2EBFA;\n",
              "      box-shadow: 0px 1px 2px rgba(60, 64, 67, 0.3), 0px 1px 3px 1px rgba(60, 64, 67, 0.15);\n",
              "      fill: #174EA6;\n",
              "    }\n",
              "\n",
              "    [theme=dark] .colab-df-convert {\n",
              "      background-color: #3B4455;\n",
              "      fill: #D2E3FC;\n",
              "    }\n",
              "\n",
              "    [theme=dark] .colab-df-convert:hover {\n",
              "      background-color: #434B5C;\n",
              "      box-shadow: 0px 1px 3px 1px rgba(0, 0, 0, 0.15);\n",
              "      filter: drop-shadow(0px 1px 2px rgba(0, 0, 0, 0.3));\n",
              "      fill: #FFFFFF;\n",
              "    }\n",
              "  </style>\n",
              "\n",
              "      <script>\n",
              "        const buttonEl =\n",
              "          document.querySelector('#df-194affa1-7443-4330-8ad3-2d51096ad236 button.colab-df-convert');\n",
              "        buttonEl.style.display =\n",
              "          google.colab.kernel.accessAllowed ? 'block' : 'none';\n",
              "\n",
              "        async function convertToInteractive(key) {\n",
              "          const element = document.querySelector('#df-194affa1-7443-4330-8ad3-2d51096ad236');\n",
              "          const dataTable =\n",
              "            await google.colab.kernel.invokeFunction('convertToInteractive',\n",
              "                                                     [key], {});\n",
              "          if (!dataTable) return;\n",
              "\n",
              "          const docLinkHtml = 'Like what you see? Visit the ' +\n",
              "            '<a target=\"_blank\" href=https://colab.research.google.com/notebooks/data_table.ipynb>data table notebook</a>'\n",
              "            + ' to learn more about interactive tables.';\n",
              "          element.innerHTML = '';\n",
              "          dataTable['output_type'] = 'display_data';\n",
              "          await google.colab.output.renderOutput(dataTable, element);\n",
              "          const docLink = document.createElement('div');\n",
              "          docLink.innerHTML = docLinkHtml;\n",
              "          element.appendChild(docLink);\n",
              "        }\n",
              "      </script>\n",
              "    </div>\n",
              "  </div>\n",
              "  "
            ]
          },
          "metadata": {},
          "execution_count": 12
        }
      ]
    },
    {
      "cell_type": "code",
      "source": [
        "df1.info()"
      ],
      "metadata": {
        "colab": {
          "base_uri": "https://localhost:8080/"
        },
        "id": "zsTElW4F7QHt",
        "outputId": "fd5b6be4-8e2e-4642-d440-2dab7cd29be6"
      },
      "execution_count": null,
      "outputs": [
        {
          "output_type": "stream",
          "name": "stdout",
          "text": [
            "<class 'pandas.core.frame.DataFrame'>\n",
            "Int64Index: 600 entries, 132 to 79799\n",
            "Columns: 108 entries, X_0 to label\n",
            "dtypes: float64(93), int64(15)\n",
            "memory usage: 510.9 KB\n"
          ]
        }
      ]
    },
    {
      "cell_type": "code",
      "source": [
        "X_train, X_test, y_train, y_test = train_test_split(df1.drop(\"label\", axis=1), df1[\"label\"], test_size=0.2, random_state=42)"
      ],
      "metadata": {
        "id": "O3C0Iovz77l5"
      },
      "execution_count": null,
      "outputs": []
    },
    {
      "cell_type": "markdown",
      "source": [
        "**Logestic Regression**"
      ],
      "metadata": {
        "id": "iYbPAAbNhFpP"
      }
    },
    {
      "cell_type": "code",
      "source": [
        "model = LogisticRegression().fit(X_train, y_train)\n",
        "test_predictions = model.predict(X_test)\n",
        "test_predictions"
      ],
      "metadata": {
        "colab": {
          "base_uri": "https://localhost:8080/"
        },
        "id": "3jTRF86hQDbR",
        "outputId": "f3c5ccee-27b5-47b3-e32b-c8a96b7ccce3"
      },
      "execution_count": null,
      "outputs": [
        {
          "output_type": "stream",
          "name": "stderr",
          "text": [
            "/usr/local/lib/python3.7/dist-packages/sklearn/linear_model/_logistic.py:818: ConvergenceWarning: lbfgs failed to converge (status=1):\n",
            "STOP: TOTAL NO. of ITERATIONS REACHED LIMIT.\n",
            "\n",
            "Increase the number of iterations (max_iter) or scale the data as shown in:\n",
            "    https://scikit-learn.org/stable/modules/preprocessing.html\n",
            "Please also refer to the documentation for alternative solver options:\n",
            "    https://scikit-learn.org/stable/modules/linear_model.html#logistic-regression\n",
            "  extra_warning_msg=_LOGISTIC_SOLVER_CONVERGENCE_MSG,\n"
          ]
        },
        {
          "output_type": "execute_result",
          "data": {
            "text/plain": [
              "array([1, 0, 0, 1, 1, 1, 1, 0, 1, 0, 1, 1, 1, 0, 0, 1, 1, 1, 1, 1, 1, 0,\n",
              "       0, 0, 0, 0, 1, 1, 0, 0, 0, 1, 1, 1, 1, 0, 1, 0, 0, 1, 0, 1, 0, 0,\n",
              "       1, 1, 0, 1, 1, 0, 1, 1, 1, 0, 0, 0, 1, 1, 1, 1, 1, 1, 1, 0, 0, 1,\n",
              "       0, 0, 1, 0, 0, 1, 0, 0, 0, 0, 0, 1, 0, 0, 1, 0, 0, 0, 1, 1, 1, 1,\n",
              "       0, 1, 1, 0, 1, 0, 1, 0, 1, 1, 0, 1, 1, 1, 0, 0, 1, 0, 1, 1, 1, 0,\n",
              "       1, 0, 0, 0, 0, 0, 0, 1, 0, 0])"
            ]
          },
          "metadata": {},
          "execution_count": 40
        }
      ]
    },
    {
      "cell_type": "code",
      "source": [
        "# Display Confusion Matrix\n",
        "\n",
        "from sklearn.metrics import confusion_matrix, ConfusionMatrixDisplay\n",
        "\n",
        "cm = confusion_matrix(y_test, test_predictions, labels=[0, 1])\n",
        "disp = ConfusionMatrixDisplay(confusion_matrix=cm,\n",
        "                              display_labels=['Not Sepsis', 'Sepsis'])\n",
        "disp.plot()"
      ],
      "metadata": {
        "colab": {
          "base_uri": "https://localhost:8080/",
          "height": 297
        },
        "id": "6wRii27ceenP",
        "outputId": "73b43771-5837-47bf-9a5a-cbd36932b917"
      },
      "execution_count": null,
      "outputs": [
        {
          "output_type": "execute_result",
          "data": {
            "text/plain": [
              "<sklearn.metrics._plot.confusion_matrix.ConfusionMatrixDisplay at 0x7f5a4a304fd0>"
            ]
          },
          "metadata": {},
          "execution_count": 41
        },
        {
          "output_type": "display_data",
          "data": {
            "text/plain": [
              "<Figure size 432x288 with 2 Axes>"
            ],
            "image/png": "[encoded data removed]"
          },
          "metadata": {
            "needs_background": "light"
          }
        }
      ]
    },
    {
      "cell_type": "code",
      "source": [
        "# Get TNs, FPs, FNs, TPs\n",
        "\n",
        "tn, fp, fn, tp = cm.ravel()\n",
        "\n",
        "s = \"\"\"\n",
        "True Negatives: {0}\n",
        "False Positives: {1}\n",
        "False Negatives: {2}\n",
        "True Positives: {3}\n",
        "\"\"\".format(tn, fp, fn, tp)\n",
        "\n",
        "print(s)"
      ],
      "metadata": {
        "colab": {
          "base_uri": "https://localhost:8080/"
        },
        "id": "enwSu5Jnf9cT",
        "outputId": "9c8a07b5-6790-4392-d451-d710251be3da"
      },
      "execution_count": null,
      "outputs": [
        {
          "output_type": "stream",
          "name": "stdout",
          "text": [
            "\n",
            "True Negatives: 57\n",
            "False Positives: 1\n",
            "False Negatives: 1\n",
            "True Positives: 61\n",
            "\n"
          ]
        }
      ]
    },
    {
      "cell_type": "markdown",
      "source": [
        "**Accuracy**"
      ],
      "metadata": {
        "id": "mxkbiDUigDZY"
      }
    },
    {
      "cell_type": "code",
      "source": [
        "def accuracy(tn, fp, fn, tp):\n",
        "  return (tp + tn) / (tp + tn + fp + fn)\n",
        "\n",
        "\"Accuracy: {0}\".format(accuracy(tn, fp, fn, tp))"
      ],
      "metadata": {
        "colab": {
          "base_uri": "https://localhost:8080/",
          "height": 35
        },
        "id": "oSZ4EEuVgGLH",
        "outputId": "64f40673-d42b-4913-e193-c86b262db2a1"
      },
      "execution_count": null,
      "outputs": [
        {
          "output_type": "execute_result",
          "data": {
            "text/plain": [
              "'Accuracy: 0.9833333333333333'"
            ],
            "application/vnd.google.colaboratory.intrinsic+json": {
              "type": "string"
            }
          },
          "metadata": {},
          "execution_count": 43
        }
      ]
    },
    {
      "cell_type": "markdown",
      "source": [
        "**Sensitivity**"
      ],
      "metadata": {
        "id": "-TeRCsRygMuP"
      }
    },
    {
      "cell_type": "code",
      "source": [
        "def tpr(tn, fp, fn, tp):\n",
        "  return tp / (tp + fn)\n",
        "\n",
        "\"True Positive Rate: {0}\".format(tpr(tn, fp, fn, tp))"
      ],
      "metadata": {
        "colab": {
          "base_uri": "https://localhost:8080/",
          "height": 35
        },
        "id": "JpcijCCHgSXU",
        "outputId": "9e5402ec-4ec9-4b5b-ba68-5ef25f4730f2"
      },
      "execution_count": null,
      "outputs": [
        {
          "output_type": "execute_result",
          "data": {
            "text/plain": [
              "'True Positive Rate: 0.9838709677419355'"
            ],
            "application/vnd.google.colaboratory.intrinsic+json": {
              "type": "string"
            }
          },
          "metadata": {},
          "execution_count": 44
        }
      ]
    },
    {
      "cell_type": "markdown",
      "source": [
        "**False Negative Rate**"
      ],
      "metadata": {
        "id": "KfvPt9VnixBz"
      }
    },
    {
      "cell_type": "code",
      "source": [
        "def fnr(tn, fp, fn, tp):\n",
        "  return fn / (tp + fn)\n",
        "\n",
        "\"False Negative Rate: {0}\".format(fnr(tn, fp, fn, tp))"
      ],
      "metadata": {
        "colab": {
          "base_uri": "https://localhost:8080/",
          "height": 35
        },
        "id": "cbvT9jI5ivhP",
        "outputId": "df73ab0b-8324-4f7b-cb57-15b7b926c234"
      },
      "execution_count": null,
      "outputs": [
        {
          "output_type": "execute_result",
          "data": {
            "text/plain": [
              "'False Negative Rate: 0.016129032258064516'"
            ],
            "application/vnd.google.colaboratory.intrinsic+json": {
              "type": "string"
            }
          },
          "metadata": {},
          "execution_count": 61
        }
      ]
    },
    {
      "cell_type": "markdown",
      "source": [
        "**Specificity**"
      ],
      "metadata": {
        "id": "a-XJ41rkgbV4"
      }
    },
    {
      "cell_type": "code",
      "source": [
        "def tnr(tn, fp, fn, tp):\n",
        "  return tn / (tn + fp)\n",
        "\n",
        "\"Specificity: {0}\".format(tnr(tn, fp, fn, tp))"
      ],
      "metadata": {
        "colab": {
          "base_uri": "https://localhost:8080/",
          "height": 35
        },
        "id": "mw7NTj7egfzt",
        "outputId": "502bbd82-2e3c-44cb-d4dc-727b7d6d9161"
      },
      "execution_count": null,
      "outputs": [
        {
          "output_type": "execute_result",
          "data": {
            "text/plain": [
              "'Specificity: 0.9827586206896551'"
            ],
            "application/vnd.google.colaboratory.intrinsic+json": {
              "type": "string"
            }
          },
          "metadata": {},
          "execution_count": 47
        }
      ]
    },
    {
      "cell_type": "markdown",
      "source": [
        "**False Positive Rate**"
      ],
      "metadata": {
        "id": "PL_93X_kjAwl"
      }
    },
    {
      "cell_type": "code",
      "source": [
        "def fpr(tn, fp, fn, tp):\n",
        "  return fp / (tn + fp)\n",
        "\n",
        "\"False Positive Rate: {0}\".format(fpr(tn, fp, fn, tp))"
      ],
      "metadata": {
        "colab": {
          "base_uri": "https://localhost:8080/",
          "height": 35
        },
        "id": "5WeLeipQjEKg",
        "outputId": "e923a799-560c-4a7d-eb69-3b6194464b7d"
      },
      "execution_count": null,
      "outputs": [
        {
          "output_type": "execute_result",
          "data": {
            "text/plain": [
              "'False Positive Rate: 0.017241379310344827'"
            ],
            "application/vnd.google.colaboratory.intrinsic+json": {
              "type": "string"
            }
          },
          "metadata": {},
          "execution_count": 62
        }
      ]
    },
    {
      "cell_type": "markdown",
      "source": [
        "**Negative Predictive Value**"
      ],
      "metadata": {
        "id": "A6ruj3ScjPBv"
      }
    },
    {
      "cell_type": "code",
      "source": [
        "def npv(tn, fp, fn, tp):\n",
        "  return tn / (tn + fn)\n",
        "\n",
        "\"Negative Predictive Value: {0}\".format(npv(tn, fp, fn, tp))"
      ],
      "metadata": {
        "colab": {
          "base_uri": "https://localhost:8080/",
          "height": 35
        },
        "id": "mYiMWMvyjSdA",
        "outputId": "1ad45f17-f419-4e7e-d851-1a881b3cb556"
      },
      "execution_count": null,
      "outputs": [
        {
          "output_type": "execute_result",
          "data": {
            "text/plain": [
              "'Negative Predictive Value: 0.9827586206896551'"
            ],
            "application/vnd.google.colaboratory.intrinsic+json": {
              "type": "string"
            }
          },
          "metadata": {},
          "execution_count": 63
        }
      ]
    },
    {
      "cell_type": "markdown",
      "source": [
        "**Precision**"
      ],
      "metadata": {
        "id": "hNSsyvAMg1C6"
      }
    },
    {
      "cell_type": "code",
      "source": [
        "def ppv(tn, fp, fn, tp):\n",
        "  return tp / (tp + fp)\n",
        "\n",
        "\"Positive Predictive Value: {0}\".format(ppv(tn, fp, fn, tp))"
      ],
      "metadata": {
        "colab": {
          "base_uri": "https://localhost:8080/",
          "height": 35
        },
        "id": "1kOif6N1g6vL",
        "outputId": "91519515-ba75-4363-b5d3-f5e42543d1aa"
      },
      "execution_count": null,
      "outputs": [
        {
          "output_type": "execute_result",
          "data": {
            "text/plain": [
              "'Positive Predictive Value: 0.9838709677419355'"
            ],
            "application/vnd.google.colaboratory.intrinsic+json": {
              "type": "string"
            }
          },
          "metadata": {},
          "execution_count": 48
        }
      ]
    },
    {
      "cell_type": "markdown",
      "source": [
        "**Balanced Accuracy**"
      ],
      "metadata": {
        "id": "scwKY8UfhDm2"
      }
    },
    {
      "cell_type": "code",
      "source": [
        "def balanced_accuracy(tn, fp, fn, tp):\n",
        "  tprr = tpr(tn, fp, fn, tp)\n",
        "  tnrr = tnr(tn, fp, fn, tp)\n",
        "  return (tprr + tnrr) / 2\n",
        "\n",
        "\"Balanced Accuracy: {0}\".format(balanced_accuracy(tn, fp, fn, tp))"
      ],
      "metadata": {
        "colab": {
          "base_uri": "https://localhost:8080/",
          "height": 35
        },
        "id": "G7RJ9ZruhG6H",
        "outputId": "438ee17d-cc2f-477a-cf78-df5605bfda7b"
      },
      "execution_count": null,
      "outputs": [
        {
          "output_type": "execute_result",
          "data": {
            "text/plain": [
              "'Balanced Accuracy: 0.9833147942157954'"
            ],
            "application/vnd.google.colaboratory.intrinsic+json": {
              "type": "string"
            }
          },
          "metadata": {},
          "execution_count": 49
        }
      ]
    },
    {
      "cell_type": "markdown",
      "source": [
        "**F1**"
      ],
      "metadata": {
        "id": "_Ii9QOyzhN5c"
      }
    },
    {
      "cell_type": "code",
      "source": [
        "def f1(tn, fp, fn, tp):\n",
        "  p = ppv(tn, fp, fn, tp)\n",
        "  r = tpr(tn, fp, fn, tp)\n",
        "  \n",
        "  return (2*p*r) / (p + r)\n",
        "\n",
        "\"F1 Score: {0}\".format(f1(tn, fp, fn, tp))"
      ],
      "metadata": {
        "colab": {
          "base_uri": "https://localhost:8080/",
          "height": 35
        },
        "id": "5kcBbEmjhPXl",
        "outputId": "ea910496-cece-4ad3-ced2-fb20425c3472"
      },
      "execution_count": null,
      "outputs": [
        {
          "output_type": "execute_result",
          "data": {
            "text/plain": [
              "'F1 Score: 0.9838709677419355'"
            ],
            "application/vnd.google.colaboratory.intrinsic+json": {
              "type": "string"
            }
          },
          "metadata": {},
          "execution_count": 50
        }
      ]
    },
    {
      "cell_type": "code",
      "source": [
        "# Get prediction probabilities\n",
        "\n",
        "probabilities = model.predict_proba(X_test)[:, 1]\n",
        "\n",
        "probabilities"
      ],
      "metadata": {
        "colab": {
          "base_uri": "https://localhost:8080/"
        },
        "id": "YHHRLW0Uh5dH",
        "outputId": "1fb3055f-c612-4483-c147-9a8ab53bc81c"
      },
      "execution_count": null,
      "outputs": [
        {
          "output_type": "execute_result",
          "data": {
            "text/plain": [
              "array([9.99806293e-01, 1.33066311e-03, 5.23930452e-08, 9.99990229e-01,\n",
              "       9.93485041e-01, 8.52760252e-01, 9.99999570e-01, 9.89308958e-03,\n",
              "       9.99984057e-01, 4.32230990e-04, 9.99999534e-01, 9.99975634e-01,\n",
              "       9.99998760e-01, 4.66498051e-10, 5.13371077e-03, 9.52748703e-01,\n",
              "       9.99999982e-01, 9.97798560e-01, 9.99466506e-01, 9.99999729e-01,\n",
              "       1.00000000e+00, 4.77450902e-10, 5.40639008e-06, 1.46521759e-06,\n",
              "       1.82536165e-01, 4.33886981e-11, 9.99999994e-01, 9.99873800e-01,\n",
              "       2.07372961e-08, 5.42549562e-12, 4.03823377e-13, 9.99927936e-01,\n",
              "       9.99999600e-01, 9.47124821e-01, 9.95041209e-01, 5.40860748e-04,\n",
              "       9.99999987e-01, 8.36694870e-15, 1.31850811e-03, 9.99995916e-01,\n",
              "       8.94212317e-02, 9.99999884e-01, 2.97493975e-06, 1.13087429e-08,\n",
              "       9.99999835e-01, 9.83957684e-01, 8.65762200e-09, 9.99941815e-01,\n",
              "       9.99999986e-01, 5.68326142e-08, 9.15274679e-01, 9.52979933e-01,\n",
              "       9.99995526e-01, 1.19593345e-08, 9.88100389e-08, 4.91936708e-04,\n",
              "       9.99964539e-01, 9.99999861e-01, 9.99927407e-01, 9.94416804e-01,\n",
              "       9.99999997e-01, 9.94578743e-01, 9.88700047e-01, 2.96005377e-08,\n",
              "       1.38596220e-07, 9.99999962e-01, 1.86919196e-08, 1.42501081e-09,\n",
              "       9.99980048e-01, 1.31123168e-03, 4.85212839e-03, 9.99999998e-01,\n",
              "       5.53474027e-05, 1.37929823e-01, 1.14694357e-04, 2.33781148e-08,\n",
              "       1.42344751e-02, 9.99833119e-01, 7.38145753e-09, 3.70065810e-06,\n",
              "       9.96175347e-01, 2.04039249e-05, 8.92163541e-09, 3.19054984e-04,\n",
              "       9.99999254e-01, 9.99999858e-01, 9.99944146e-01, 9.98620161e-01,\n",
              "       4.62810381e-05, 9.99985283e-01, 9.69684968e-01, 5.53742768e-07,\n",
              "       1.00000000e+00, 8.59097875e-02, 9.98727029e-01, 1.56340481e-01,\n",
              "       9.99657752e-01, 9.99999718e-01, 2.03892054e-02, 9.99999477e-01,\n",
              "       9.99999984e-01, 9.99762437e-01, 2.70652984e-09, 1.34740744e-01,\n",
              "       9.97363457e-01, 3.50075096e-06, 9.99832227e-01, 8.99734817e-01,\n",
              "       9.98178358e-01, 4.41305994e-04, 9.99309804e-01, 9.06195809e-04,\n",
              "       3.36824404e-08, 4.98199698e-09, 8.23031488e-06, 4.85306754e-05,\n",
              "       3.35562308e-01, 9.99891139e-01, 5.93820029e-06, 1.49001086e-05])"
            ]
          },
          "metadata": {},
          "execution_count": 54
        }
      ]
    },
    {
      "cell_type": "code",
      "source": [
        "# Get predictions using normal threshold of 0.5\n",
        "\n",
        "pd.value_counts(probabilities > 0.5)"
      ],
      "metadata": {
        "colab": {
          "base_uri": "https://localhost:8080/"
        },
        "id": "Aw0pTjEMh9t3",
        "outputId": "66aa4cf4-aea8-40d5-dc6e-d8fad9ab0642"
      },
      "execution_count": null,
      "outputs": [
        {
          "output_type": "execute_result",
          "data": {
            "text/plain": [
              "True     62\n",
              "False    58\n",
              "dtype: int64"
            ]
          },
          "metadata": {},
          "execution_count": 55
        }
      ]
    },
    {
      "cell_type": "code",
      "source": [
        "# Generate 2000 evenly-separated thresholds\n",
        "\n",
        "import numpy as np\n",
        "\n",
        "thresholds = np.linspace(0, 1, num=2000).astype(np.float16)\n",
        "\n",
        "thresholds"
      ],
      "metadata": {
        "colab": {
          "base_uri": "https://localhost:8080/"
        },
        "id": "MhBPjNzRiEVq",
        "outputId": "f413e88d-9ba6-45f7-ccda-1d605e5d2be7"
      },
      "execution_count": null,
      "outputs": [
        {
          "output_type": "execute_result",
          "data": {
            "text/plain": [
              "array([0.000e+00, 5.002e-04, 1.000e-03, ..., 9.990e-01, 9.995e-01,\n",
              "       1.000e+00], dtype=float16)"
            ]
          },
          "metadata": {},
          "execution_count": 56
        }
      ]
    },
    {
      "cell_type": "code",
      "source": [
        "# Get test predictions array for each threshold\n",
        "\n",
        "all_predictions = np.array([(probabilities > t).astype(int) for t in thresholds])\n",
        "\n",
        "all_predictions.shape"
      ],
      "metadata": {
        "colab": {
          "base_uri": "https://localhost:8080/"
        },
        "id": "LIADX91diJMj",
        "outputId": "e6b581bf-76d5-4564-b77b-f0fe67d61a70"
      },
      "execution_count": null,
      "outputs": [
        {
          "output_type": "execute_result",
          "data": {
            "text/plain": [
              "(2000, 120)"
            ]
          },
          "metadata": {},
          "execution_count": 57
        }
      ]
    },
    {
      "cell_type": "code",
      "source": [
        "# Show distribution depending on threshold\n",
        "\n",
        "pd.value_counts(all_predictions[0])"
      ],
      "metadata": {
        "colab": {
          "base_uri": "https://localhost:8080/"
        },
        "id": "h3T7hBQUiNmd",
        "outputId": "f47c6da1-03a7-4dc3-ad67-a4afbcd6b788"
      },
      "execution_count": null,
      "outputs": [
        {
          "output_type": "execute_result",
          "data": {
            "text/plain": [
              "1    120\n",
              "dtype: int64"
            ]
          },
          "metadata": {},
          "execution_count": 58
        }
      ]
    },
    {
      "cell_type": "code",
      "source": [
        "# Get confusion matrices, true positive rates, and false positive rates for each threshold\n",
        "\n",
        "confusion_matrices = [confusion_matrix(y_test, predictions) for predictions in all_predictions]\n",
        "tn_fp_fn_tps = [cm.ravel() for cm in confusion_matrices]\n",
        "\n",
        "tprs = [tpr(tn, fp, fn, tp) for tn, fp, fn, tp in tn_fp_fn_tps]\n",
        "fprs = [fpr(tn, fp, fn, tp) for tn, fp, fn, tp in tn_fp_fn_tps]"
      ],
      "metadata": {
        "id": "VdzxnFzDiS93"
      },
      "execution_count": null,
      "outputs": []
    },
    {
      "cell_type": "code",
      "source": [
        "# Create Scatter Plot of ROC Curve\n",
        "\n",
        "import plotly.express as px\n",
        "\n",
        "px.scatter(x=fprs, y=tprs, color=thresholds, labels=dict(x='False Positive Rate', y='True Positive Rate', color='Threshold'), title='ROC Curve')"
      ],
      "metadata": {
        "colab": {
          "base_uri": "https://localhost:8080/",
          "height": 542
        },
        "id": "UI7JUrcXjmFY",
        "outputId": "4a201fc5-4871-4f93-9d62-c59ddd054d8a"
      },
      "execution_count": null,
      "outputs": [
        {
          "output_type": "display_data",
          "data": {
            "text/html": [
              "<html>\n",
              "<head><meta charset=\"utf-8\" /></head>\n",
              "<body>\n",
              "    <div>            <script src=\"https://cdnjs.cloudflare.com/ajax/libs/mathjax/2.7.5/MathJax.js?config=TeX-AMS-MML_SVG\"></script><script type=\"text/javascript\">if (window.MathJax) {MathJax.Hub.Config({SVG: {font: \"STIX-Web\"}});}</script>                <script type=\"text/javascript\">window.PlotlyConfig = {MathJaxConfig: 'local'};</script>\n",
              "        <script src=\"https://cdn.plot.ly/plotly-2.8.3.min.js\"></script>                <div id=\"cd10cedd-9aef-436d-952e-e389aa464568\" class=\"plotly-graph-div\" style=\"height:525px; width:100%;\"></div>            <script type=\"text/javascript\">                                    window.PLOTLYENV=window.PLOTLYENV || {};                                    if (document.getElementById(\"cd10cedd-9aef-436d-952e-e389aa464568\")) {                    Plotly.newPlot(                        \"cd10cedd-9aef-436d-952e-e389aa464568\",                        [{\"hovertemplate\":\"False Positive Rate=%{x}<br>True Positive Rate=%{y}<br>Threshold=%{marker.color}<extra></extra>\",\"legendgroup\":\"\",\"marker\":{\"color\":[0.0,0.0005002021789550781,0.0010004043579101562,0.0015010833740234375,0.0020008087158203125,0.0025005340576171875,0.003002166748046875,0.00350189208984375,0.004001617431640625,0.0045013427734375,0.005001068115234375,0.005504608154296875,0.00600433349609375,0.006504058837890625,0.0070037841796875,0.007503509521484375,0.00800323486328125,0.00850677490234375,0.009002685546875,0.0095062255859375,0.01000213623046875,0.01050567626953125,0.01100921630859375,0.011505126953125,0.0120086669921875,0.01250457763671875,0.01300811767578125,0.0135040283203125,0.014007568359375,0.01450347900390625,0.01500701904296875,0.01551055908203125,0.0160064697265625,0.016510009765625,0.0170135498046875,0.0175018310546875,0.01800537109375,0.0185089111328125,0.019012451171875,0.0195159912109375,0.0200042724609375,0.0205078125,0.0210113525390625,0.021514892578125,0.0220184326171875,0.0225067138671875,0.02301025390625,0.0235137939453125,0.024017333984375,0.024505615234375,0.0250091552734375,0.0255126953125,0.0260162353515625,0.026519775390625,0.027008056640625,0.0275115966796875,0.02801513671875,0.0285186767578125,0.0290069580078125,0.029510498046875,0.0300140380859375,0.030517578125,0.0310211181640625,0.031524658203125,0.032012939453125,0.032501220703125,0.03302001953125,0.03350830078125,0.034027099609375,0.034515380859375,0.035003662109375,0.0355224609375,0.0360107421875,0.036529541015625,0.037017822265625,0.037506103515625,0.03802490234375,0.03851318359375,0.039031982421875,0.039520263671875,0.040008544921875,0.04052734375,0.041015625,0.041534423828125,0.042022705078125,0.042510986328125,0.04302978515625,0.04351806640625,0.044036865234375,0.044525146484375,0.045013427734375,0.0455322265625,0.0460205078125,0.0465087890625,0.047027587890625,0.047515869140625,0.04803466796875,0.04852294921875,0.04901123046875,0.049530029296875,0.050018310546875,0.050537109375,0.051025390625,0.051513671875,0.052032470703125,0.052520751953125,0.05303955078125,0.05352783203125,0.05401611328125,0.054534912109375,0.055023193359375,0.0555419921875,0.0560302734375,0.0565185546875,0.057037353515625,0.057525634765625,0.058013916015625,0.05853271484375,0.05902099609375,0.059539794921875,0.060028076171875,0.060516357421875,0.06103515625,0.0615234375,0.062042236328125,0.06256103515625,0.06304931640625,0.06353759765625,0.06402587890625,0.06451416015625,0.06500244140625,0.0655517578125,0.0660400390625,0.0665283203125,0.0670166015625,0.0675048828125,0.06805419921875,0.06854248046875,0.06903076171875,0.06951904296875,0.07000732421875,0.070556640625,0.071044921875,0.071533203125,0.072021484375,0.072509765625,0.07305908203125,0.07354736328125,0.07403564453125,0.07452392578125,0.07501220703125,0.0755615234375,0.0760498046875,0.0765380859375,0.0770263671875,0.0775146484375,0.07806396484375,0.07855224609375,0.07904052734375,0.07952880859375,0.08001708984375,0.08056640625,0.0810546875,0.08154296875,0.08203125,0.08251953125,0.08306884765625,0.08355712890625,0.08404541015625,0.08453369140625,0.08502197265625,0.0855712890625,0.0860595703125,0.0865478515625,0.0870361328125,0.0875244140625,0.08807373046875,0.08856201171875,0.08905029296875,0.08953857421875,0.09002685546875,0.09051513671875,0.091064453125,0.091552734375,0.092041015625,0.092529296875,0.093017578125,0.09356689453125,0.09405517578125,0.09454345703125,0.09503173828125,0.09552001953125,0.0960693359375,0.0965576171875,0.0970458984375,0.0975341796875,0.0980224609375,0.09857177734375,0.09906005859375,0.09954833984375,0.10003662109375,0.10052490234375,0.10107421875,0.1015625,0.10205078125,0.1025390625,0.10302734375,0.10357666015625,0.10406494140625,0.10455322265625,0.10504150390625,0.10552978515625,0.1060791015625,0.1065673828125,0.1070556640625,0.1075439453125,0.1080322265625,0.10858154296875,0.10906982421875,0.10955810546875,0.11004638671875,0.11053466796875,0.111083984375,0.111572265625,0.112060546875,0.112548828125,0.113037109375,0.11358642578125,0.11407470703125,0.11456298828125,0.11505126953125,0.11553955078125,0.11602783203125,0.1165771484375,0.1170654296875,0.1175537109375,0.1180419921875,0.1185302734375,0.11907958984375,0.11956787109375,0.12005615234375,0.12054443359375,0.12103271484375,0.12158203125,0.1220703125,0.12255859375,0.123046875,0.12353515625,0.12408447265625,0.12457275390625,0.1251220703125,0.1256103515625,0.1260986328125,0.1265869140625,0.1270751953125,0.1275634765625,0.1280517578125,0.1285400390625,0.1290283203125,0.1295166015625,0.1300048828125,0.130615234375,0.131103515625,0.131591796875,0.132080078125,0.132568359375,0.133056640625,0.133544921875,0.134033203125,0.134521484375,0.135009765625,0.1356201171875,0.1361083984375,0.1365966796875,0.1370849609375,0.1375732421875,0.1380615234375,0.1385498046875,0.1390380859375,0.1395263671875,0.1400146484375,0.140625,0.14111328125,0.1416015625,0.14208984375,0.142578125,0.14306640625,0.1435546875,0.14404296875,0.14453125,0.14501953125,0.1456298828125,0.1461181640625,0.1466064453125,0.1470947265625,0.1475830078125,0.1480712890625,0.1485595703125,0.1490478515625,0.1495361328125,0.1500244140625,0.150634765625,0.151123046875,0.151611328125,0.152099609375,0.152587890625,0.153076171875,0.153564453125,0.154052734375,0.154541015625,0.155029296875,0.155517578125,0.1561279296875,0.1566162109375,0.1571044921875,0.1575927734375,0.1580810546875,0.1585693359375,0.1590576171875,0.1595458984375,0.1600341796875,0.1605224609375,0.1611328125,0.16162109375,0.162109375,0.16259765625,0.1630859375,0.16357421875,0.1640625,0.16455078125,0.1650390625,0.16552734375,0.1661376953125,0.1666259765625,0.1671142578125,0.1676025390625,0.1680908203125,0.1685791015625,0.1690673828125,0.1695556640625,0.1700439453125,0.1705322265625,0.171142578125,0.171630859375,0.172119140625,0.172607421875,0.173095703125,0.173583984375,0.174072265625,0.174560546875,0.175048828125,0.175537109375,0.1761474609375,0.1766357421875,0.1771240234375,0.1776123046875,0.1781005859375,0.1785888671875,0.1790771484375,0.1795654296875,0.1800537109375,0.1805419921875,0.1810302734375,0.181640625,0.18212890625,0.1826171875,0.18310546875,0.18359375,0.18408203125,0.1845703125,0.18505859375,0.185546875,0.18603515625,0.1866455078125,0.1871337890625,0.1876220703125,0.1881103515625,0.1885986328125,0.1890869140625,0.1895751953125,0.1900634765625,0.1905517578125,0.1910400390625,0.191650390625,0.192138671875,0.192626953125,0.193115234375,0.193603515625,0.194091796875,0.194580078125,0.195068359375,0.195556640625,0.196044921875,0.1966552734375,0.1971435546875,0.1976318359375,0.1981201171875,0.1986083984375,0.1990966796875,0.1995849609375,0.2000732421875,0.2005615234375,0.2010498046875,0.20166015625,0.2021484375,0.20263671875,0.203125,0.20361328125,0.2041015625,0.20458984375,0.205078125,0.20556640625,0.2060546875,0.20654296875,0.2071533203125,0.2076416015625,0.2081298828125,0.2086181640625,0.2091064453125,0.2095947265625,0.2100830078125,0.2105712890625,0.2110595703125,0.2115478515625,0.212158203125,0.212646484375,0.213134765625,0.213623046875,0.214111328125,0.214599609375,0.215087890625,0.215576171875,0.216064453125,0.216552734375,0.2171630859375,0.2176513671875,0.2181396484375,0.2186279296875,0.2191162109375,0.2196044921875,0.2200927734375,0.2205810546875,0.2210693359375,0.2215576171875,0.22216796875,0.22265625,0.22314453125,0.2236328125,0.22412109375,0.224609375,0.22509765625,0.2255859375,0.22607421875,0.2265625,0.2271728515625,0.2276611328125,0.2281494140625,0.2286376953125,0.2291259765625,0.2296142578125,0.2301025390625,0.2305908203125,0.2310791015625,0.2315673828125,0.2320556640625,0.232666015625,0.233154296875,0.233642578125,0.234130859375,0.234619140625,0.235107421875,0.235595703125,0.236083984375,0.236572265625,0.237060546875,0.2376708984375,0.2381591796875,0.2386474609375,0.2391357421875,0.2396240234375,0.2401123046875,0.2406005859375,0.2410888671875,0.2415771484375,0.2420654296875,0.24267578125,0.2431640625,0.24365234375,0.244140625,0.24462890625,0.2451171875,0.24560546875,0.24609375,0.24658203125,0.2470703125,0.2476806640625,0.2481689453125,0.2486572265625,0.2491455078125,0.2496337890625,0.250244140625,0.250732421875,0.251220703125,0.251708984375,0.252197265625,0.252685546875,0.253173828125,0.253662109375,0.254150390625,0.254638671875,0.255126953125,0.255615234375,0.256103515625,0.256591796875,0.257080078125,0.257568359375,0.258056640625,0.258544921875,0.259033203125,0.259521484375,0.260009765625,0.2607421875,0.26123046875,0.26171875,0.26220703125,0.2626953125,0.26318359375,0.263671875,0.26416015625,0.2646484375,0.26513671875,0.265625,0.26611328125,0.2666015625,0.26708984375,0.267578125,0.26806640625,0.2685546875,0.26904296875,0.26953125,0.27001953125,0.270751953125,0.271240234375,0.271728515625,0.272216796875,0.272705078125,0.273193359375,0.273681640625,0.274169921875,0.274658203125,0.275146484375,0.275634765625,0.276123046875,0.276611328125,0.277099609375,0.277587890625,0.278076171875,0.278564453125,0.279052734375,0.279541015625,0.280029296875,0.28076171875,0.28125,0.28173828125,0.2822265625,0.28271484375,0.283203125,0.28369140625,0.2841796875,0.28466796875,0.28515625,0.28564453125,0.2861328125,0.28662109375,0.287109375,0.28759765625,0.2880859375,0.28857421875,0.2890625,0.28955078125,0.2900390625,0.29052734375,0.291259765625,0.291748046875,0.292236328125,0.292724609375,0.293212890625,0.293701171875,0.294189453125,0.294677734375,0.295166015625,0.295654296875,0.296142578125,0.296630859375,0.297119140625,0.297607421875,0.298095703125,0.298583984375,0.299072265625,0.299560546875,0.300048828125,0.300537109375,0.30126953125,0.3017578125,0.30224609375,0.302734375,0.30322265625,0.3037109375,0.30419921875,0.3046875,0.30517578125,0.3056640625,0.30615234375,0.306640625,0.30712890625,0.3076171875,0.30810546875,0.30859375,0.30908203125,0.3095703125,0.31005859375,0.310546875,0.31103515625,0.311767578125,0.312255859375,0.312744140625,0.313232421875,0.313720703125,0.314208984375,0.314697265625,0.315185546875,0.315673828125,0.316162109375,0.316650390625,0.317138671875,0.317626953125,0.318115234375,0.318603515625,0.319091796875,0.319580078125,0.320068359375,0.320556640625,0.321044921875,0.32177734375,0.322265625,0.32275390625,0.3232421875,0.32373046875,0.32421875,0.32470703125,0.3251953125,0.32568359375,0.326171875,0.32666015625,0.3271484375,0.32763671875,0.328125,0.32861328125,0.3291015625,0.32958984375,0.330078125,0.33056640625,0.3310546875,0.331787109375,0.332275390625,0.332763671875,0.333251953125,0.333740234375,0.334228515625,0.334716796875,0.335205078125,0.335693359375,0.336181640625,0.336669921875,0.337158203125,0.337646484375,0.338134765625,0.338623046875,0.339111328125,0.339599609375,0.340087890625,0.340576171875,0.341064453125,0.341552734375,0.34228515625,0.3427734375,0.34326171875,0.34375,0.34423828125,0.3447265625,0.34521484375,0.345703125,0.34619140625,0.3466796875,0.34716796875,0.34765625,0.34814453125,0.3486328125,0.34912109375,0.349609375,0.35009765625,0.3505859375,0.35107421875,0.3515625,0.352294921875,0.352783203125,0.353271484375,0.353759765625,0.354248046875,0.354736328125,0.355224609375,0.355712890625,0.356201171875,0.356689453125,0.357177734375,0.357666015625,0.358154296875,0.358642578125,0.359130859375,0.359619140625,0.360107421875,0.360595703125,0.361083984375,0.361572265625,0.362060546875,0.36279296875,0.36328125,0.36376953125,0.3642578125,0.36474609375,0.365234375,0.36572265625,0.3662109375,0.36669921875,0.3671875,0.36767578125,0.3681640625,0.36865234375,0.369140625,0.36962890625,0.3701171875,0.37060546875,0.37109375,0.37158203125,0.3720703125,0.372802734375,0.373291015625,0.373779296875,0.374267578125,0.374755859375,0.375244140625,0.375732421875,0.376220703125,0.376708984375,0.377197265625,0.377685546875,0.378173828125,0.378662109375,0.379150390625,0.379638671875,0.380126953125,0.380615234375,0.381103515625,0.381591796875,0.382080078125,0.3828125,0.38330078125,0.3837890625,0.38427734375,0.384765625,0.38525390625,0.3857421875,0.38623046875,0.38671875,0.38720703125,0.3876953125,0.38818359375,0.388671875,0.38916015625,0.3896484375,0.39013671875,0.390625,0.39111328125,0.3916015625,0.39208984375,0.392578125,0.393310546875,0.393798828125,0.394287109375,0.394775390625,0.395263671875,0.395751953125,0.396240234375,0.396728515625,0.397216796875,0.397705078125,0.398193359375,0.398681640625,0.399169921875,0.399658203125,0.400146484375,0.400634765625,0.401123046875,0.401611328125,0.402099609375,0.402587890625,0.4033203125,0.40380859375,0.404296875,0.40478515625,0.4052734375,0.40576171875,0.40625,0.40673828125,0.4072265625,0.40771484375,0.408203125,0.40869140625,0.4091796875,0.40966796875,0.41015625,0.41064453125,0.4111328125,0.41162109375,0.412109375,0.41259765625,0.4130859375,0.413818359375,0.414306640625,0.414794921875,0.415283203125,0.415771484375,0.416259765625,0.416748046875,0.417236328125,0.417724609375,0.418212890625,0.418701171875,0.419189453125,0.419677734375,0.420166015625,0.420654296875,0.421142578125,0.421630859375,0.422119140625,0.422607421875,0.423095703125,0.423828125,0.42431640625,0.4248046875,0.42529296875,0.42578125,0.42626953125,0.4267578125,0.42724609375,0.427734375,0.42822265625,0.4287109375,0.42919921875,0.4296875,0.43017578125,0.4306640625,0.43115234375,0.431640625,0.43212890625,0.4326171875,0.43310546875,0.433837890625,0.434326171875,0.434814453125,0.435302734375,0.435791015625,0.436279296875,0.436767578125,0.437255859375,0.437744140625,0.438232421875,0.438720703125,0.439208984375,0.439697265625,0.440185546875,0.440673828125,0.441162109375,0.441650390625,0.442138671875,0.442626953125,0.443115234375,0.443603515625,0.4443359375,0.44482421875,0.4453125,0.44580078125,0.4462890625,0.44677734375,0.447265625,0.44775390625,0.4482421875,0.44873046875,0.44921875,0.44970703125,0.4501953125,0.45068359375,0.451171875,0.45166015625,0.4521484375,0.45263671875,0.453125,0.45361328125,0.454345703125,0.454833984375,0.455322265625,0.455810546875,0.456298828125,0.456787109375,0.457275390625,0.457763671875,0.458251953125,0.458740234375,0.459228515625,0.459716796875,0.460205078125,0.460693359375,0.461181640625,0.461669921875,0.462158203125,0.462646484375,0.463134765625,0.463623046875,0.464111328125,0.46484375,0.46533203125,0.4658203125,0.46630859375,0.466796875,0.46728515625,0.4677734375,0.46826171875,0.46875,0.46923828125,0.4697265625,0.47021484375,0.470703125,0.47119140625,0.4716796875,0.47216796875,0.47265625,0.47314453125,0.4736328125,0.47412109375,0.474853515625,0.475341796875,0.475830078125,0.476318359375,0.476806640625,0.477294921875,0.477783203125,0.478271484375,0.478759765625,0.479248046875,0.479736328125,0.480224609375,0.480712890625,0.481201171875,0.481689453125,0.482177734375,0.482666015625,0.483154296875,0.483642578125,0.484130859375,0.48486328125,0.4853515625,0.48583984375,0.486328125,0.48681640625,0.4873046875,0.48779296875,0.48828125,0.48876953125,0.4892578125,0.48974609375,0.490234375,0.49072265625,0.4912109375,0.49169921875,0.4921875,0.49267578125,0.4931640625,0.49365234375,0.494140625,0.49462890625,0.495361328125,0.495849609375,0.496337890625,0.496826171875,0.497314453125,0.497802734375,0.498291015625,0.498779296875,0.499267578125,0.499755859375,0.50048828125,0.5009765625,0.50146484375,0.501953125,0.50244140625,0.5029296875,0.50341796875,0.50390625,0.50439453125,0.5048828125,0.50537109375,0.505859375,0.50634765625,0.5068359375,0.50732421875,0.5078125,0.50830078125,0.5087890625,0.50927734375,0.509765625,0.51025390625,0.5107421875,0.51123046875,0.51171875,0.51220703125,0.5126953125,0.51318359375,0.513671875,0.51416015625,0.5146484375,0.51513671875,0.515625,0.51611328125,0.5166015625,0.51708984375,0.517578125,0.51806640625,0.5185546875,0.51904296875,0.51953125,0.52001953125,0.52099609375,0.521484375,0.52197265625,0.5224609375,0.52294921875,0.5234375,0.52392578125,0.5244140625,0.52490234375,0.525390625,0.52587890625,0.5263671875,0.52685546875,0.52734375,0.52783203125,0.5283203125,0.52880859375,0.529296875,0.52978515625,0.5302734375,0.53076171875,0.53125,0.53173828125,0.5322265625,0.53271484375,0.533203125,0.53369140625,0.5341796875,0.53466796875,0.53515625,0.53564453125,0.5361328125,0.53662109375,0.537109375,0.53759765625,0.5380859375,0.53857421875,0.5390625,0.53955078125,0.5400390625,0.54052734375,0.54150390625,0.5419921875,0.54248046875,0.54296875,0.54345703125,0.5439453125,0.54443359375,0.544921875,0.54541015625,0.5458984375,0.54638671875,0.546875,0.54736328125,0.5478515625,0.54833984375,0.548828125,0.54931640625,0.5498046875,0.55029296875,0.55078125,0.55126953125,0.5517578125,0.55224609375,0.552734375,0.55322265625,0.5537109375,0.55419921875,0.5546875,0.55517578125,0.5556640625,0.55615234375,0.556640625,0.55712890625,0.5576171875,0.55810546875,0.55859375,0.55908203125,0.5595703125,0.56005859375,0.560546875,0.5615234375,0.56201171875,0.5625,0.56298828125,0.5634765625,0.56396484375,0.564453125,0.56494140625,0.5654296875,0.56591796875,0.56640625,0.56689453125,0.5673828125,0.56787109375,0.568359375,0.56884765625,0.5693359375,0.56982421875,0.5703125,0.57080078125,0.5712890625,0.57177734375,0.572265625,0.57275390625,0.5732421875,0.57373046875,0.57421875,0.57470703125,0.5751953125,0.57568359375,0.576171875,0.57666015625,0.5771484375,0.57763671875,0.578125,0.57861328125,0.5791015625,0.57958984375,0.580078125,0.58056640625,0.5810546875,0.58203125,0.58251953125,0.5830078125,0.58349609375,0.583984375,0.58447265625,0.5849609375,0.58544921875,0.5859375,0.58642578125,0.5869140625,0.58740234375,0.587890625,0.58837890625,0.5888671875,0.58935546875,0.58984375,0.59033203125,0.5908203125,0.59130859375,0.591796875,0.59228515625,0.5927734375,0.59326171875,0.59375,0.59423828125,0.5947265625,0.59521484375,0.595703125,0.59619140625,0.5966796875,0.59716796875,0.59765625,0.59814453125,0.5986328125,0.59912109375,0.599609375,0.60009765625,0.6005859375,0.60107421875,0.6015625,0.6025390625,0.60302734375,0.603515625,0.60400390625,0.6044921875,0.60498046875,0.60546875,0.60595703125,0.6064453125,0.60693359375,0.607421875,0.60791015625,0.6083984375,0.60888671875,0.609375,0.60986328125,0.6103515625,0.61083984375,0.611328125,0.61181640625,0.6123046875,0.61279296875,0.61328125,0.61376953125,0.6142578125,0.61474609375,0.615234375,0.61572265625,0.6162109375,0.61669921875,0.6171875,0.61767578125,0.6181640625,0.61865234375,0.619140625,0.61962890625,0.6201171875,0.62060546875,0.62109375,0.62158203125,0.6220703125,0.623046875,0.62353515625,0.6240234375,0.62451171875,0.625,0.62548828125,0.6259765625,0.62646484375,0.626953125,0.62744140625,0.6279296875,0.62841796875,0.62890625,0.62939453125,0.6298828125,0.63037109375,0.630859375,0.63134765625,0.6318359375,0.63232421875,0.6328125,0.63330078125,0.6337890625,0.63427734375,0.634765625,0.63525390625,0.6357421875,0.63623046875,0.63671875,0.63720703125,0.6376953125,0.63818359375,0.638671875,0.63916015625,0.6396484375,0.64013671875,0.640625,0.64111328125,0.6416015625,0.64208984375,0.642578125,0.6435546875,0.64404296875,0.64453125,0.64501953125,0.6455078125,0.64599609375,0.646484375,0.64697265625,0.6474609375,0.64794921875,0.6484375,0.64892578125,0.6494140625,0.64990234375,0.650390625,0.65087890625,0.6513671875,0.65185546875,0.65234375,0.65283203125,0.6533203125,0.65380859375,0.654296875,0.65478515625,0.6552734375,0.65576171875,0.65625,0.65673828125,0.6572265625,0.65771484375,0.658203125,0.65869140625,0.6591796875,0.65966796875,0.66015625,0.66064453125,0.6611328125,0.66162109375,0.662109375,0.66259765625,0.66357421875,0.6640625,0.66455078125,0.6650390625,0.66552734375,0.666015625,0.66650390625,0.6669921875,0.66748046875,0.66796875,0.66845703125,0.6689453125,0.66943359375,0.669921875,0.67041015625,0.6708984375,0.67138671875,0.671875,0.67236328125,0.6728515625,0.67333984375,0.673828125,0.67431640625,0.6748046875,0.67529296875,0.67578125,0.67626953125,0.6767578125,0.67724609375,0.677734375,0.67822265625,0.6787109375,0.67919921875,0.6796875,0.68017578125,0.6806640625,0.68115234375,0.681640625,0.68212890625,0.6826171875,0.68310546875,0.68408203125,0.6845703125,0.68505859375,0.685546875,0.68603515625,0.6865234375,0.68701171875,0.6875,0.68798828125,0.6884765625,0.68896484375,0.689453125,0.68994140625,0.6904296875,0.69091796875,0.69140625,0.69189453125,0.6923828125,0.69287109375,0.693359375,0.69384765625,0.6943359375,0.69482421875,0.6953125,0.69580078125,0.6962890625,0.69677734375,0.697265625,0.69775390625,0.6982421875,0.69873046875,0.69921875,0.69970703125,0.7001953125,0.70068359375,0.701171875,0.70166015625,0.7021484375,0.70263671875,0.703125,0.70361328125,0.70458984375,0.705078125,0.70556640625,0.7060546875,0.70654296875,0.70703125,0.70751953125,0.7080078125,0.70849609375,0.708984375,0.70947265625,0.7099609375,0.71044921875,0.7109375,0.71142578125,0.7119140625,0.71240234375,0.712890625,0.71337890625,0.7138671875,0.71435546875,0.71484375,0.71533203125,0.7158203125,0.71630859375,0.716796875,0.71728515625,0.7177734375,0.71826171875,0.71875,0.71923828125,0.7197265625,0.72021484375,0.720703125,0.72119140625,0.7216796875,0.72216796875,0.72265625,0.72314453125,0.7236328125,0.72412109375,0.72509765625,0.7255859375,0.72607421875,0.7265625,0.72705078125,0.7275390625,0.72802734375,0.728515625,0.72900390625,0.7294921875,0.72998046875,0.73046875,0.73095703125,0.7314453125,0.73193359375,0.732421875,0.73291015625,0.7333984375,0.73388671875,0.734375,0.73486328125,0.7353515625,0.73583984375,0.736328125,0.73681640625,0.7373046875,0.73779296875,0.73828125,0.73876953125,0.7392578125,0.73974609375,0.740234375,0.74072265625,0.7412109375,0.74169921875,0.7421875,0.74267578125,0.7431640625,0.74365234375,0.744140625,0.74462890625,0.74560546875,0.74609375,0.74658203125,0.7470703125,0.74755859375,0.748046875,0.74853515625,0.7490234375,0.74951171875,0.75,0.75048828125,0.7509765625,0.75146484375,0.751953125,0.75244140625,0.7529296875,0.75341796875,0.75390625,0.75439453125,0.7548828125,0.75537109375,0.755859375,0.75634765625,0.7568359375,0.75732421875,0.7578125,0.75830078125,0.7587890625,0.75927734375,0.759765625,0.76025390625,0.7607421875,0.76123046875,0.76171875,0.76220703125,0.7626953125,0.76318359375,0.763671875,0.76416015625,0.7646484375,0.765625,0.76611328125,0.7666015625,0.76708984375,0.767578125,0.76806640625,0.7685546875,0.76904296875,0.76953125,0.77001953125,0.7705078125,0.77099609375,0.771484375,0.77197265625,0.7724609375,0.77294921875,0.7734375,0.77392578125,0.7744140625,0.77490234375,0.775390625,0.77587890625,0.7763671875,0.77685546875,0.77734375,0.77783203125,0.7783203125,0.77880859375,0.779296875,0.77978515625,0.7802734375,0.78076171875,0.78125,0.78173828125,0.7822265625,0.78271484375,0.783203125,0.78369140625,0.7841796875,0.78466796875,0.78515625,0.7861328125,0.78662109375,0.787109375,0.78759765625,0.7880859375,0.78857421875,0.7890625,0.78955078125,0.7900390625,0.79052734375,0.791015625,0.79150390625,0.7919921875,0.79248046875,0.79296875,0.79345703125,0.7939453125,0.79443359375,0.794921875,0.79541015625,0.7958984375,0.79638671875,0.796875,0.79736328125,0.7978515625,0.79833984375,0.798828125,0.79931640625,0.7998046875,0.80029296875,0.80078125,0.80126953125,0.8017578125,0.80224609375,0.802734375,0.80322265625,0.8037109375,0.80419921875,0.8046875,0.80517578125,0.8056640625,0.806640625,0.80712890625,0.8076171875,0.80810546875,0.80859375,0.80908203125,0.8095703125,0.81005859375,0.810546875,0.81103515625,0.8115234375,0.81201171875,0.8125,0.81298828125,0.8134765625,0.81396484375,0.814453125,0.81494140625,0.8154296875,0.81591796875,0.81640625,0.81689453125,0.8173828125,0.81787109375,0.818359375,0.81884765625,0.8193359375,0.81982421875,0.8203125,0.82080078125,0.8212890625,0.82177734375,0.822265625,0.82275390625,0.8232421875,0.82373046875,0.82421875,0.82470703125,0.8251953125,0.82568359375,0.826171875,0.8271484375,0.82763671875,0.828125,0.82861328125,0.8291015625,0.82958984375,0.830078125,0.83056640625,0.8310546875,0.83154296875,0.83203125,0.83251953125,0.8330078125,0.83349609375,0.833984375,0.83447265625,0.8349609375,0.83544921875,0.8359375,0.83642578125,0.8369140625,0.83740234375,0.837890625,0.83837890625,0.8388671875,0.83935546875,0.83984375,0.84033203125,0.8408203125,0.84130859375,0.841796875,0.84228515625,0.8427734375,0.84326171875,0.84375,0.84423828125,0.8447265625,0.84521484375,0.845703125,0.84619140625,0.8466796875,0.84765625,0.84814453125,0.8486328125,0.84912109375,0.849609375,0.85009765625,0.8505859375,0.85107421875,0.8515625,0.85205078125,0.8525390625,0.85302734375,0.853515625,0.85400390625,0.8544921875,0.85498046875,0.85546875,0.85595703125,0.8564453125,0.85693359375,0.857421875,0.85791015625,0.8583984375,0.85888671875,0.859375,0.85986328125,0.8603515625,0.86083984375,0.861328125,0.86181640625,0.8623046875,0.86279296875,0.86328125,0.86376953125,0.8642578125,0.86474609375,0.865234375,0.86572265625,0.8662109375,0.86669921875,0.86767578125,0.8681640625,0.86865234375,0.869140625,0.86962890625,0.8701171875,0.87060546875,0.87109375,0.87158203125,0.8720703125,0.87255859375,0.873046875,0.87353515625,0.8740234375,0.87451171875,0.875,0.87548828125,0.8759765625,0.87646484375,0.876953125,0.87744140625,0.8779296875,0.87841796875,0.87890625,0.87939453125,0.8798828125,0.88037109375,0.880859375,0.88134765625,0.8818359375,0.88232421875,0.8828125,0.88330078125,0.8837890625,0.88427734375,0.884765625,0.88525390625,0.8857421875,0.88623046875,0.88671875,0.88720703125,0.88818359375,0.888671875,0.88916015625,0.8896484375,0.89013671875,0.890625,0.89111328125,0.8916015625,0.89208984375,0.892578125,0.89306640625,0.8935546875,0.89404296875,0.89453125,0.89501953125,0.8955078125,0.89599609375,0.896484375,0.89697265625,0.8974609375,0.89794921875,0.8984375,0.89892578125,0.8994140625,0.89990234375,0.900390625,0.90087890625,0.9013671875,0.90185546875,0.90234375,0.90283203125,0.9033203125,0.90380859375,0.904296875,0.90478515625,0.9052734375,0.90576171875,0.90625,0.90673828125,0.9072265625,0.90771484375,0.90869140625,0.9091796875,0.90966796875,0.91015625,0.91064453125,0.9111328125,0.91162109375,0.912109375,0.91259765625,0.9130859375,0.91357421875,0.9140625,0.91455078125,0.9150390625,0.91552734375,0.916015625,0.91650390625,0.9169921875,0.91748046875,0.91796875,0.91845703125,0.9189453125,0.91943359375,0.919921875,0.92041015625,0.9208984375,0.92138671875,0.921875,0.92236328125,0.9228515625,0.92333984375,0.923828125,0.92431640625,0.9248046875,0.92529296875,0.92578125,0.92626953125,0.9267578125,0.92724609375,0.927734375,0.92822265625,0.92919921875,0.9296875,0.93017578125,0.9306640625,0.93115234375,0.931640625,0.93212890625,0.9326171875,0.93310546875,0.93359375,0.93408203125,0.9345703125,0.93505859375,0.935546875,0.93603515625,0.9365234375,0.93701171875,0.9375,0.93798828125,0.9384765625,0.93896484375,0.939453125,0.93994140625,0.9404296875,0.94091796875,0.94140625,0.94189453125,0.9423828125,0.94287109375,0.943359375,0.94384765625,0.9443359375,0.94482421875,0.9453125,0.94580078125,0.9462890625,0.94677734375,0.947265625,0.94775390625,0.9482421875,0.94873046875,0.94970703125,0.9501953125,0.95068359375,0.951171875,0.95166015625,0.9521484375,0.95263671875,0.953125,0.95361328125,0.9541015625,0.95458984375,0.955078125,0.95556640625,0.9560546875,0.95654296875,0.95703125,0.95751953125,0.9580078125,0.95849609375,0.958984375,0.95947265625,0.9599609375,0.96044921875,0.9609375,0.96142578125,0.9619140625,0.96240234375,0.962890625,0.96337890625,0.9638671875,0.96435546875,0.96484375,0.96533203125,0.9658203125,0.96630859375,0.966796875,0.96728515625,0.9677734375,0.96826171875,0.96875,0.9697265625,0.97021484375,0.970703125,0.97119140625,0.9716796875,0.97216796875,0.97265625,0.97314453125,0.9736328125,0.97412109375,0.974609375,0.97509765625,0.9755859375,0.97607421875,0.9765625,0.97705078125,0.9775390625,0.97802734375,0.978515625,0.97900390625,0.9794921875,0.97998046875,0.98046875,0.98095703125,0.9814453125,0.98193359375,0.982421875,0.98291015625,0.9833984375,0.98388671875,0.984375,0.98486328125,0.9853515625,0.98583984375,0.986328125,0.98681640625,0.9873046875,0.98779296875,0.98828125,0.98876953125,0.9892578125,0.990234375,0.99072265625,0.9912109375,0.99169921875,0.9921875,0.99267578125,0.9931640625,0.99365234375,0.994140625,0.99462890625,0.9951171875,0.99560546875,0.99609375,0.99658203125,0.9970703125,0.99755859375,0.998046875,0.99853515625,0.9990234375,0.99951171875,1.0],\"coloraxis\":\"coloraxis\",\"symbol\":\"circle\"},\"mode\":\"markers\",\"name\":\"\",\"showlegend\":false,\"x\":[1.0,0.29310344827586204,0.25862068965517243,0.20689655172413793,0.20689655172413793,0.20689655172413793,0.20689655172413793,0.20689655172413793,0.20689655172413793,0.20689655172413793,0.1896551724137931,0.1724137931034483,0.1724137931034483,0.1724137931034483,0.1724137931034483,0.1724137931034483,0.1724137931034483,0.1724137931034483,0.1724137931034483,0.1724137931034483,0.15517241379310345,0.15517241379310345,0.15517241379310345,0.15517241379310345,0.15517241379310345,0.15517241379310345,0.15517241379310345,0.15517241379310345,0.15517241379310345,0.13793103448275862,0.13793103448275862,0.13793103448275862,0.13793103448275862,0.13793103448275862,0.13793103448275862,0.13793103448275862,0.13793103448275862,0.13793103448275862,0.13793103448275862,0.13793103448275862,0.13793103448275862,0.1206896551724138,0.1206896551724138,0.1206896551724138,0.1206896551724138,0.1206896551724138,0.1206896551724138,0.1206896551724138,0.1206896551724138,0.1206896551724138,0.1206896551724138,0.1206896551724138,0.1206896551724138,0.1206896551724138,0.1206896551724138,0.1206896551724138,0.1206896551724138,0.1206896551724138,0.1206896551724138,0.1206896551724138,0.1206896551724138,0.1206896551724138,0.1206896551724138,0.1206896551724138,0.1206896551724138,0.1206896551724138,0.1206896551724138,0.1206896551724138,0.1206896551724138,0.1206896551724138,0.1206896551724138,0.1206896551724138,0.1206896551724138,0.1206896551724138,0.1206896551724138,0.1206896551724138,0.1206896551724138,0.1206896551724138,0.1206896551724138,0.1206896551724138,0.1206896551724138,0.1206896551724138,0.1206896551724138,0.1206896551724138,0.1206896551724138,0.1206896551724138,0.1206896551724138,0.1206896551724138,0.1206896551724138,0.1206896551724138,0.1206896551724138,0.1206896551724138,0.1206896551724138,0.1206896551724138,0.1206896551724138,0.1206896551724138,0.1206896551724138,0.1206896551724138,0.1206896551724138,0.1206896551724138,0.1206896551724138,0.1206896551724138,0.1206896551724138,0.1206896551724138,0.1206896551724138,0.1206896551724138,0.1206896551724138,0.1206896551724138,0.1206896551724138,0.1206896551724138,0.1206896551724138,0.1206896551724138,0.1206896551724138,0.1206896551724138,0.1206896551724138,0.1206896551724138,0.1206896551724138,0.1206896551724138,0.1206896551724138,0.1206896551724138,0.1206896551724138,0.1206896551724138,0.1206896551724138,0.1206896551724138,0.1206896551724138,0.1206896551724138,0.1206896551724138,0.1206896551724138,0.1206896551724138,0.1206896551724138,0.1206896551724138,0.1206896551724138,0.1206896551724138,0.1206896551724138,0.1206896551724138,0.1206896551724138,0.1206896551724138,0.1206896551724138,0.1206896551724138,0.1206896551724138,0.1206896551724138,0.1206896551724138,0.1206896551724138,0.1206896551724138,0.1206896551724138,0.1206896551724138,0.1206896551724138,0.1206896551724138,0.1206896551724138,0.1206896551724138,0.1206896551724138,0.1206896551724138,0.1206896551724138,0.1206896551724138,0.1206896551724138,0.1206896551724138,0.1206896551724138,0.1206896551724138,0.1206896551724138,0.1206896551724138,0.1206896551724138,0.1206896551724138,0.1206896551724138,0.1206896551724138,0.1206896551724138,0.1206896551724138,0.1206896551724138,0.1206896551724138,0.1206896551724138,0.1206896551724138,0.1206896551724138,0.1206896551724138,0.10344827586206896,0.10344827586206896,0.10344827586206896,0.10344827586206896,0.10344827586206896,0.10344827586206896,0.10344827586206896,0.08620689655172414,0.08620689655172414,0.08620689655172414,0.08620689655172414,0.08620689655172414,0.08620689655172414,0.08620689655172414,0.08620689655172414,0.08620689655172414,0.08620689655172414,0.08620689655172414,0.08620689655172414,0.08620689655172414,0.08620689655172414,0.08620689655172414,0.08620689655172414,0.08620689655172414,0.08620689655172414,0.08620689655172414,0.08620689655172414,0.08620689655172414,0.08620689655172414,0.08620689655172414,0.08620689655172414,0.08620689655172414,0.08620689655172414,0.08620689655172414,0.08620689655172414,0.08620689655172414,0.08620689655172414,0.08620689655172414,0.08620689655172414,0.08620689655172414,0.08620689655172414,0.08620689655172414,0.08620689655172414,0.08620689655172414,0.08620689655172414,0.08620689655172414,0.08620689655172414,0.08620689655172414,0.08620689655172414,0.08620689655172414,0.08620689655172414,0.08620689655172414,0.08620689655172414,0.08620689655172414,0.08620689655172414,0.08620689655172414,0.08620689655172414,0.08620689655172414,0.08620689655172414,0.08620689655172414,0.08620689655172414,0.08620689655172414,0.08620689655172414,0.08620689655172414,0.08620689655172414,0.08620689655172414,0.08620689655172414,0.08620689655172414,0.08620689655172414,0.08620689655172414,0.08620689655172414,0.08620689655172414,0.08620689655172414,0.08620689655172414,0.08620689655172414,0.08620689655172414,0.08620689655172414,0.08620689655172414,0.08620689655172414,0.08620689655172414,0.08620689655172414,0.08620689655172414,0.08620689655172414,0.08620689655172414,0.08620689655172414,0.08620689655172414,0.08620689655172414,0.08620689655172414,0.08620689655172414,0.08620689655172414,0.08620689655172414,0.08620689655172414,0.08620689655172414,0.08620689655172414,0.08620689655172414,0.08620689655172414,0.08620689655172414,0.08620689655172414,0.06896551724137931,0.06896551724137931,0.06896551724137931,0.06896551724137931,0.06896551724137931,0.06896551724137931,0.05172413793103448,0.05172413793103448,0.05172413793103448,0.05172413793103448,0.05172413793103448,0.05172413793103448,0.05172413793103448,0.05172413793103448,0.05172413793103448,0.05172413793103448,0.05172413793103448,0.05172413793103448,0.05172413793103448,0.05172413793103448,0.05172413793103448,0.05172413793103448,0.05172413793103448,0.05172413793103448,0.05172413793103448,0.05172413793103448,0.05172413793103448,0.05172413793103448,0.05172413793103448,0.05172413793103448,0.05172413793103448,0.05172413793103448,0.05172413793103448,0.05172413793103448,0.05172413793103448,0.05172413793103448,0.05172413793103448,0.05172413793103448,0.05172413793103448,0.05172413793103448,0.05172413793103448,0.05172413793103448,0.05172413793103448,0.05172413793103448,0.05172413793103448,0.05172413793103448,0.05172413793103448,0.05172413793103448,0.05172413793103448,0.05172413793103448,0.05172413793103448,0.05172413793103448,0.05172413793103448,0.05172413793103448,0.05172413793103448,0.05172413793103448,0.05172413793103448,0.05172413793103448,0.05172413793103448,0.05172413793103448,0.05172413793103448,0.05172413793103448,0.05172413793103448,0.05172413793103448,0.05172413793103448,0.05172413793103448,0.05172413793103448,0.05172413793103448,0.05172413793103448,0.05172413793103448,0.05172413793103448,0.05172413793103448,0.05172413793103448,0.05172413793103448,0.05172413793103448,0.05172413793103448,0.05172413793103448,0.05172413793103448,0.05172413793103448,0.05172413793103448,0.05172413793103448,0.05172413793103448,0.05172413793103448,0.05172413793103448,0.05172413793103448,0.05172413793103448,0.05172413793103448,0.05172413793103448,0.05172413793103448,0.05172413793103448,0.05172413793103448,0.05172413793103448,0.05172413793103448,0.05172413793103448,0.05172413793103448,0.034482758620689655,0.034482758620689655,0.034482758620689655,0.034482758620689655,0.034482758620689655,0.034482758620689655,0.034482758620689655,0.034482758620689655,0.034482758620689655,0.034482758620689655,0.034482758620689655,0.034482758620689655,0.034482758620689655,0.034482758620689655,0.034482758620689655,0.034482758620689655,0.034482758620689655,0.034482758620689655,0.034482758620689655,0.034482758620689655,0.034482758620689655,0.034482758620689655,0.034482758620689655,0.034482758620689655,0.034482758620689655,0.034482758620689655,0.034482758620689655,0.034482758620689655,0.034482758620689655,0.034482758620689655,0.034482758620689655,0.034482758620689655,0.034482758620689655,0.034482758620689655,0.034482758620689655,0.034482758620689655,0.034482758620689655,0.034482758620689655,0.034482758620689655,0.034482758620689655,0.034482758620689655,0.034482758620689655,0.034482758620689655,0.034482758620689655,0.034482758620689655,0.034482758620689655,0.034482758620689655,0.034482758620689655,0.034482758620689655,0.034482758620689655,0.034482758620689655,0.034482758620689655,0.034482758620689655,0.034482758620689655,0.034482758620689655,0.034482758620689655,0.034482758620689655,0.034482758620689655,0.034482758620689655,0.034482758620689655,0.034482758620689655,0.034482758620689655,0.034482758620689655,0.034482758620689655,0.034482758620689655,0.034482758620689655,0.034482758620689655,0.034482758620689655,0.034482758620689655,0.034482758620689655,0.034482758620689655,0.034482758620689655,0.034482758620689655,0.034482758620689655,0.034482758620689655,0.034482758620689655,0.034482758620689655,0.034482758620689655,0.034482758620689655,0.034482758620689655,0.034482758620689655,0.034482758620689655,0.034482758620689655,0.034482758620689655,0.034482758620689655,0.034482758620689655,0.034482758620689655,0.034482758620689655,0.034482758620689655,0.034482758620689655,0.034482758620689655,0.034482758620689655,0.034482758620689655,0.034482758620689655,0.034482758620689655,0.034482758620689655,0.034482758620689655,0.034482758620689655,0.034482758620689655,0.034482758620689655,0.034482758620689655,0.034482758620689655,0.034482758620689655,0.034482758620689655,0.034482758620689655,0.034482758620689655,0.034482758620689655,0.034482758620689655,0.034482758620689655,0.034482758620689655,0.034482758620689655,0.034482758620689655,0.034482758620689655,0.034482758620689655,0.034482758620689655,0.034482758620689655,0.034482758620689655,0.034482758620689655,0.034482758620689655,0.034482758620689655,0.034482758620689655,0.034482758620689655,0.034482758620689655,0.034482758620689655,0.034482758620689655,0.034482758620689655,0.034482758620689655,0.034482758620689655,0.034482758620689655,0.034482758620689655,0.034482758620689655,0.034482758620689655,0.034482758620689655,0.034482758620689655,0.034482758620689655,0.034482758620689655,0.034482758620689655,0.034482758620689655,0.034482758620689655,0.034482758620689655,0.034482758620689655,0.034482758620689655,0.034482758620689655,0.034482758620689655,0.034482758620689655,0.034482758620689655,0.034482758620689655,0.034482758620689655,0.034482758620689655,0.034482758620689655,0.034482758620689655,0.034482758620689655,0.034482758620689655,0.034482758620689655,0.034482758620689655,0.034482758620689655,0.034482758620689655,0.034482758620689655,0.034482758620689655,0.034482758620689655,0.034482758620689655,0.034482758620689655,0.034482758620689655,0.034482758620689655,0.034482758620689655,0.034482758620689655,0.034482758620689655,0.034482758620689655,0.034482758620689655,0.034482758620689655,0.034482758620689655,0.034482758620689655,0.034482758620689655,0.034482758620689655,0.034482758620689655,0.034482758620689655,0.034482758620689655,0.034482758620689655,0.034482758620689655,0.034482758620689655,0.034482758620689655,0.034482758620689655,0.034482758620689655,0.034482758620689655,0.034482758620689655,0.034482758620689655,0.034482758620689655,0.034482758620689655,0.034482758620689655,0.034482758620689655,0.034482758620689655,0.034482758620689655,0.034482758620689655,0.034482758620689655,0.034482758620689655,0.034482758620689655,0.034482758620689655,0.034482758620689655,0.034482758620689655,0.034482758620689655,0.034482758620689655,0.034482758620689655,0.034482758620689655,0.034482758620689655,0.034482758620689655,0.034482758620689655,0.034482758620689655,0.034482758620689655,0.034482758620689655,0.034482758620689655,0.034482758620689655,0.034482758620689655,0.034482758620689655,0.034482758620689655,0.034482758620689655,0.034482758620689655,0.034482758620689655,0.034482758620689655,0.034482758620689655,0.034482758620689655,0.034482758620689655,0.034482758620689655,0.034482758620689655,0.034482758620689655,0.034482758620689655,0.034482758620689655,0.034482758620689655,0.034482758620689655,0.034482758620689655,0.034482758620689655,0.034482758620689655,0.034482758620689655,0.034482758620689655,0.034482758620689655,0.034482758620689655,0.034482758620689655,0.034482758620689655,0.034482758620689655,0.034482758620689655,0.034482758620689655,0.034482758620689655,0.034482758620689655,0.034482758620689655,0.034482758620689655,0.034482758620689655,0.034482758620689655,0.034482758620689655,0.034482758620689655,0.034482758620689655,0.034482758620689655,0.034482758620689655,0.034482758620689655,0.034482758620689655,0.034482758620689655,0.034482758620689655,0.034482758620689655,0.034482758620689655,0.034482758620689655,0.034482758620689655,0.034482758620689655,0.034482758620689655,0.034482758620689655,0.034482758620689655,0.034482758620689655,0.034482758620689655,0.034482758620689655,0.034482758620689655,0.034482758620689655,0.034482758620689655,0.034482758620689655,0.034482758620689655,0.034482758620689655,0.034482758620689655,0.034482758620689655,0.034482758620689655,0.034482758620689655,0.034482758620689655,0.034482758620689655,0.034482758620689655,0.034482758620689655,0.034482758620689655,0.034482758620689655,0.034482758620689655,0.034482758620689655,0.034482758620689655,0.034482758620689655,0.034482758620689655,0.034482758620689655,0.034482758620689655,0.034482758620689655,0.034482758620689655,0.034482758620689655,0.034482758620689655,0.034482758620689655,0.034482758620689655,0.034482758620689655,0.034482758620689655,0.034482758620689655,0.034482758620689655,0.034482758620689655,0.034482758620689655,0.034482758620689655,0.034482758620689655,0.034482758620689655,0.034482758620689655,0.034482758620689655,0.017241379310344827,0.017241379310344827,0.017241379310344827,0.017241379310344827,0.017241379310344827,0.017241379310344827,0.017241379310344827,0.017241379310344827,0.017241379310344827,0.017241379310344827,0.017241379310344827,0.017241379310344827,0.017241379310344827,0.017241379310344827,0.017241379310344827,0.017241379310344827,0.017241379310344827,0.017241379310344827,0.017241379310344827,0.017241379310344827,0.017241379310344827,0.017241379310344827,0.017241379310344827,0.017241379310344827,0.017241379310344827,0.017241379310344827,0.017241379310344827,0.017241379310344827,0.017241379310344827,0.017241379310344827,0.017241379310344827,0.017241379310344827,0.017241379310344827,0.017241379310344827,0.017241379310344827,0.017241379310344827,0.017241379310344827,0.017241379310344827,0.017241379310344827,0.017241379310344827,0.017241379310344827,0.017241379310344827,0.017241379310344827,0.017241379310344827,0.017241379310344827,0.017241379310344827,0.017241379310344827,0.017241379310344827,0.017241379310344827,0.017241379310344827,0.017241379310344827,0.017241379310344827,0.017241379310344827,0.017241379310344827,0.017241379310344827,0.017241379310344827,0.017241379310344827,0.017241379310344827,0.017241379310344827,0.017241379310344827,0.017241379310344827,0.017241379310344827,0.017241379310344827,0.017241379310344827,0.017241379310344827,0.017241379310344827,0.017241379310344827,0.017241379310344827,0.017241379310344827,0.017241379310344827,0.017241379310344827,0.017241379310344827,0.017241379310344827,0.017241379310344827,0.017241379310344827,0.017241379310344827,0.017241379310344827,0.017241379310344827,0.017241379310344827,0.017241379310344827,0.017241379310344827,0.017241379310344827,0.017241379310344827,0.017241379310344827,0.017241379310344827,0.017241379310344827,0.017241379310344827,0.017241379310344827,0.017241379310344827,0.017241379310344827,0.017241379310344827,0.017241379310344827,0.017241379310344827,0.017241379310344827,0.017241379310344827,0.017241379310344827,0.017241379310344827,0.017241379310344827,0.017241379310344827,0.017241379310344827,0.017241379310344827,0.017241379310344827,0.017241379310344827,0.017241379310344827,0.017241379310344827,0.017241379310344827,0.017241379310344827,0.017241379310344827,0.017241379310344827,0.017241379310344827,0.017241379310344827,0.017241379310344827,0.017241379310344827,0.017241379310344827,0.017241379310344827,0.017241379310344827,0.017241379310344827,0.017241379310344827,0.017241379310344827,0.017241379310344827,0.017241379310344827,0.017241379310344827,0.017241379310344827,0.017241379310344827,0.017241379310344827,0.017241379310344827,0.017241379310344827,0.017241379310344827,0.017241379310344827,0.017241379310344827,0.017241379310344827,0.017241379310344827,0.017241379310344827,0.017241379310344827,0.017241379310344827,0.017241379310344827,0.017241379310344827,0.017241379310344827,0.017241379310344827,0.017241379310344827,0.017241379310344827,0.017241379310344827,0.017241379310344827,0.017241379310344827,0.017241379310344827,0.017241379310344827,0.017241379310344827,0.017241379310344827,0.017241379310344827,0.017241379310344827,0.017241379310344827,0.017241379310344827,0.017241379310344827,0.017241379310344827,0.017241379310344827,0.017241379310344827,0.017241379310344827,0.017241379310344827,0.017241379310344827,0.017241379310344827,0.017241379310344827,0.017241379310344827,0.017241379310344827,0.017241379310344827,0.017241379310344827,0.017241379310344827,0.017241379310344827,0.017241379310344827,0.017241379310344827,0.017241379310344827,0.017241379310344827,0.017241379310344827,0.017241379310344827,0.017241379310344827,0.017241379310344827,0.017241379310344827,0.017241379310344827,0.017241379310344827,0.017241379310344827,0.017241379310344827,0.017241379310344827,0.017241379310344827,0.017241379310344827,0.017241379310344827,0.017241379310344827,0.017241379310344827,0.017241379310344827,0.017241379310344827,0.017241379310344827,0.017241379310344827,0.017241379310344827,0.017241379310344827,0.017241379310344827,0.017241379310344827,0.017241379310344827,0.017241379310344827,0.017241379310344827,0.017241379310344827,0.017241379310344827,0.017241379310344827,0.017241379310344827,0.017241379310344827,0.017241379310344827,0.017241379310344827,0.017241379310344827,0.017241379310344827,0.017241379310344827,0.017241379310344827,0.017241379310344827,0.017241379310344827,0.017241379310344827,0.017241379310344827,0.017241379310344827,0.017241379310344827,0.017241379310344827,0.017241379310344827,0.017241379310344827,0.017241379310344827,0.017241379310344827,0.017241379310344827,0.017241379310344827,0.017241379310344827,0.017241379310344827,0.017241379310344827,0.017241379310344827,0.017241379310344827,0.017241379310344827,0.017241379310344827,0.017241379310344827,0.017241379310344827,0.017241379310344827,0.017241379310344827,0.017241379310344827,0.017241379310344827,0.017241379310344827,0.017241379310344827,0.017241379310344827,0.017241379310344827,0.017241379310344827,0.017241379310344827,0.017241379310344827,0.017241379310344827,0.017241379310344827,0.017241379310344827,0.017241379310344827,0.017241379310344827,0.017241379310344827,0.017241379310344827,0.017241379310344827,0.017241379310344827,0.017241379310344827,0.017241379310344827,0.017241379310344827,0.017241379310344827,0.017241379310344827,0.017241379310344827,0.017241379310344827,0.017241379310344827,0.017241379310344827,0.017241379310344827,0.017241379310344827,0.017241379310344827,0.017241379310344827,0.017241379310344827,0.017241379310344827,0.017241379310344827,0.017241379310344827,0.017241379310344827,0.017241379310344827,0.017241379310344827,0.017241379310344827,0.017241379310344827,0.017241379310344827,0.017241379310344827,0.017241379310344827,0.017241379310344827,0.017241379310344827,0.017241379310344827,0.017241379310344827,0.017241379310344827,0.017241379310344827,0.017241379310344827,0.017241379310344827,0.017241379310344827,0.017241379310344827,0.017241379310344827,0.017241379310344827,0.017241379310344827,0.017241379310344827,0.017241379310344827,0.017241379310344827,0.017241379310344827,0.017241379310344827,0.017241379310344827,0.017241379310344827,0.017241379310344827,0.017241379310344827,0.017241379310344827,0.017241379310344827,0.017241379310344827,0.017241379310344827,0.017241379310344827,0.017241379310344827,0.017241379310344827,0.017241379310344827,0.017241379310344827,0.017241379310344827,0.017241379310344827,0.017241379310344827,0.017241379310344827,0.017241379310344827,0.017241379310344827,0.017241379310344827,0.017241379310344827,0.017241379310344827,0.017241379310344827,0.017241379310344827,0.017241379310344827,0.017241379310344827,0.017241379310344827,0.017241379310344827,0.017241379310344827,0.017241379310344827,0.017241379310344827,0.017241379310344827,0.017241379310344827,0.017241379310344827,0.017241379310344827,0.017241379310344827,0.017241379310344827,0.017241379310344827,0.017241379310344827,0.017241379310344827,0.017241379310344827,0.017241379310344827,0.017241379310344827,0.017241379310344827,0.017241379310344827,0.017241379310344827,0.017241379310344827,0.017241379310344827,0.017241379310344827,0.017241379310344827,0.017241379310344827,0.017241379310344827,0.017241379310344827,0.017241379310344827,0.017241379310344827,0.017241379310344827,0.017241379310344827,0.017241379310344827,0.017241379310344827,0.017241379310344827,0.017241379310344827,0.017241379310344827,0.017241379310344827,0.017241379310344827,0.017241379310344827,0.017241379310344827,0.017241379310344827,0.017241379310344827,0.017241379310344827,0.017241379310344827,0.017241379310344827,0.017241379310344827,0.017241379310344827,0.017241379310344827,0.017241379310344827,0.017241379310344827,0.017241379310344827,0.017241379310344827,0.017241379310344827,0.017241379310344827,0.017241379310344827,0.017241379310344827,0.017241379310344827,0.017241379310344827,0.017241379310344827,0.017241379310344827,0.017241379310344827,0.017241379310344827,0.017241379310344827,0.017241379310344827,0.017241379310344827,0.017241379310344827,0.017241379310344827,0.017241379310344827,0.017241379310344827,0.017241379310344827,0.017241379310344827,0.017241379310344827,0.017241379310344827,0.017241379310344827,0.017241379310344827,0.017241379310344827,0.017241379310344827,0.017241379310344827,0.017241379310344827,0.017241379310344827,0.017241379310344827,0.017241379310344827,0.017241379310344827,0.017241379310344827,0.017241379310344827,0.017241379310344827,0.017241379310344827,0.017241379310344827,0.017241379310344827,0.017241379310344827,0.017241379310344827,0.017241379310344827,0.017241379310344827,0.017241379310344827,0.017241379310344827,0.017241379310344827,0.017241379310344827,0.017241379310344827,0.017241379310344827,0.017241379310344827,0.017241379310344827,0.017241379310344827,0.017241379310344827,0.017241379310344827,0.017241379310344827,0.017241379310344827,0.017241379310344827,0.017241379310344827,0.017241379310344827,0.017241379310344827,0.017241379310344827,0.017241379310344827,0.017241379310344827,0.017241379310344827,0.017241379310344827,0.017241379310344827,0.017241379310344827,0.017241379310344827,0.017241379310344827,0.017241379310344827,0.017241379310344827,0.017241379310344827,0.017241379310344827,0.017241379310344827,0.017241379310344827,0.017241379310344827,0.017241379310344827,0.017241379310344827,0.017241379310344827,0.017241379310344827,0.017241379310344827,0.017241379310344827,0.017241379310344827,0.017241379310344827,0.017241379310344827,0.017241379310344827,0.017241379310344827,0.017241379310344827,0.017241379310344827,0.017241379310344827,0.017241379310344827,0.017241379310344827,0.017241379310344827,0.017241379310344827,0.017241379310344827,0.017241379310344827,0.017241379310344827,0.017241379310344827,0.017241379310344827,0.017241379310344827,0.017241379310344827,0.017241379310344827,0.017241379310344827,0.017241379310344827,0.017241379310344827,0.017241379310344827,0.017241379310344827,0.017241379310344827,0.017241379310344827,0.017241379310344827,0.017241379310344827,0.017241379310344827,0.017241379310344827,0.017241379310344827,0.017241379310344827,0.017241379310344827,0.017241379310344827,0.017241379310344827,0.017241379310344827,0.017241379310344827,0.017241379310344827,0.017241379310344827,0.017241379310344827,0.017241379310344827,0.017241379310344827,0.017241379310344827,0.017241379310344827,0.017241379310344827,0.017241379310344827,0.017241379310344827,0.017241379310344827,0.017241379310344827,0.017241379310344827,0.017241379310344827,0.017241379310344827,0.017241379310344827,0.017241379310344827,0.017241379310344827,0.017241379310344827,0.017241379310344827,0.017241379310344827,0.017241379310344827,0.017241379310344827,0.017241379310344827,0.017241379310344827,0.017241379310344827,0.017241379310344827,0.017241379310344827,0.017241379310344827,0.017241379310344827,0.017241379310344827,0.017241379310344827,0.017241379310344827,0.017241379310344827,0.017241379310344827,0.017241379310344827,0.017241379310344827,0.017241379310344827,0.017241379310344827,0.017241379310344827,0.017241379310344827,0.017241379310344827,0.017241379310344827,0.017241379310344827,0.017241379310344827,0.017241379310344827,0.017241379310344827,0.017241379310344827,0.017241379310344827,0.017241379310344827,0.017241379310344827,0.017241379310344827,0.017241379310344827,0.017241379310344827,0.017241379310344827,0.017241379310344827,0.017241379310344827,0.017241379310344827,0.017241379310344827,0.017241379310344827,0.017241379310344827,0.017241379310344827,0.017241379310344827,0.017241379310344827,0.017241379310344827,0.017241379310344827,0.017241379310344827,0.017241379310344827,0.017241379310344827,0.017241379310344827,0.017241379310344827,0.017241379310344827,0.017241379310344827,0.017241379310344827,0.017241379310344827,0.017241379310344827,0.017241379310344827,0.017241379310344827,0.017241379310344827,0.017241379310344827,0.017241379310344827,0.017241379310344827,0.017241379310344827,0.017241379310344827,0.017241379310344827,0.017241379310344827,0.017241379310344827,0.017241379310344827,0.017241379310344827,0.017241379310344827,0.017241379310344827,0.017241379310344827,0.017241379310344827,0.017241379310344827,0.017241379310344827,0.017241379310344827,0.017241379310344827,0.017241379310344827,0.017241379310344827,0.017241379310344827,0.017241379310344827,0.017241379310344827,0.017241379310344827,0.017241379310344827,0.017241379310344827,0.017241379310344827,0.017241379310344827,0.017241379310344827,0.017241379310344827,0.017241379310344827,0.017241379310344827,0.017241379310344827,0.017241379310344827,0.017241379310344827,0.017241379310344827,0.017241379310344827,0.017241379310344827,0.017241379310344827,0.017241379310344827,0.017241379310344827,0.017241379310344827,0.017241379310344827,0.017241379310344827,0.017241379310344827,0.017241379310344827,0.017241379310344827,0.017241379310344827,0.017241379310344827,0.017241379310344827,0.017241379310344827,0.017241379310344827,0.017241379310344827,0.017241379310344827,0.017241379310344827,0.017241379310344827,0.017241379310344827,0.017241379310344827,0.017241379310344827,0.017241379310344827,0.017241379310344827,0.017241379310344827,0.017241379310344827,0.017241379310344827,0.017241379310344827,0.017241379310344827,0.017241379310344827,0.017241379310344827,0.017241379310344827,0.017241379310344827,0.017241379310344827,0.017241379310344827,0.017241379310344827,0.017241379310344827,0.017241379310344827,0.017241379310344827,0.017241379310344827,0.017241379310344827,0.017241379310344827,0.017241379310344827,0.017241379310344827,0.017241379310344827,0.017241379310344827,0.017241379310344827,0.017241379310344827,0.017241379310344827,0.017241379310344827,0.017241379310344827,0.017241379310344827,0.017241379310344827,0.017241379310344827,0.017241379310344827,0.017241379310344827,0.017241379310344827,0.017241379310344827,0.017241379310344827,0.017241379310344827,0.017241379310344827,0.017241379310344827,0.017241379310344827,0.017241379310344827,0.017241379310344827,0.017241379310344827,0.017241379310344827,0.017241379310344827,0.017241379310344827,0.017241379310344827,0.017241379310344827,0.017241379310344827,0.017241379310344827,0.017241379310344827,0.017241379310344827,0.017241379310344827,0.017241379310344827,0.017241379310344827,0.017241379310344827,0.017241379310344827,0.017241379310344827,0.017241379310344827,0.017241379310344827,0.017241379310344827,0.017241379310344827,0.017241379310344827,0.017241379310344827,0.017241379310344827,0.017241379310344827,0.017241379310344827,0.017241379310344827,0.017241379310344827,0.017241379310344827,0.017241379310344827,0.017241379310344827,0.017241379310344827,0.017241379310344827,0.017241379310344827,0.017241379310344827,0.017241379310344827,0.017241379310344827,0.017241379310344827,0.017241379310344827,0.017241379310344827,0.017241379310344827,0.017241379310344827,0.017241379310344827,0.017241379310344827,0.017241379310344827,0.017241379310344827,0.017241379310344827,0.017241379310344827,0.017241379310344827,0.017241379310344827,0.017241379310344827,0.017241379310344827,0.017241379310344827,0.017241379310344827,0.017241379310344827,0.017241379310344827,0.017241379310344827,0.017241379310344827,0.017241379310344827,0.017241379310344827,0.017241379310344827,0.017241379310344827,0.017241379310344827,0.017241379310344827,0.017241379310344827,0.017241379310344827,0.017241379310344827,0.017241379310344827,0.017241379310344827,0.017241379310344827,0.017241379310344827,0.017241379310344827,0.017241379310344827,0.017241379310344827,0.017241379310344827,0.017241379310344827,0.017241379310344827,0.017241379310344827,0.017241379310344827,0.017241379310344827,0.017241379310344827,0.017241379310344827,0.017241379310344827,0.017241379310344827,0.017241379310344827,0.017241379310344827,0.017241379310344827,0.017241379310344827,0.017241379310344827,0.017241379310344827,0.017241379310344827,0.017241379310344827,0.017241379310344827,0.017241379310344827,0.017241379310344827,0.017241379310344827,0.017241379310344827,0.017241379310344827,0.017241379310344827,0.017241379310344827,0.017241379310344827,0.017241379310344827,0.017241379310344827,0.017241379310344827,0.017241379310344827,0.017241379310344827,0.017241379310344827,0.017241379310344827,0.017241379310344827,0.017241379310344827,0.017241379310344827,0.017241379310344827,0.017241379310344827,0.017241379310344827,0.017241379310344827,0.017241379310344827,0.017241379310344827,0.017241379310344827,0.017241379310344827,0.017241379310344827,0.017241379310344827,0.017241379310344827,0.017241379310344827,0.017241379310344827,0.017241379310344827,0.017241379310344827,0.017241379310344827,0.017241379310344827,0.017241379310344827,0.017241379310344827,0.017241379310344827,0.017241379310344827,0.017241379310344827,0.017241379310344827,0.017241379310344827,0.017241379310344827,0.017241379310344827,0.017241379310344827,0.017241379310344827,0.017241379310344827,0.017241379310344827,0.017241379310344827,0.017241379310344827,0.017241379310344827,0.017241379310344827,0.017241379310344827,0.017241379310344827,0.017241379310344827,0.017241379310344827,0.017241379310344827,0.017241379310344827,0.017241379310344827,0.017241379310344827,0.017241379310344827,0.017241379310344827,0.017241379310344827,0.017241379310344827,0.017241379310344827,0.017241379310344827,0.017241379310344827,0.017241379310344827,0.017241379310344827,0.017241379310344827,0.017241379310344827,0.017241379310344827,0.017241379310344827,0.017241379310344827,0.017241379310344827,0.017241379310344827,0.017241379310344827,0.017241379310344827,0.017241379310344827,0.017241379310344827,0.017241379310344827,0.017241379310344827,0.017241379310344827,0.017241379310344827,0.017241379310344827,0.017241379310344827,0.017241379310344827,0.017241379310344827,0.017241379310344827,0.017241379310344827,0.017241379310344827,0.017241379310344827,0.017241379310344827,0.017241379310344827,0.017241379310344827,0.017241379310344827,0.017241379310344827,0.017241379310344827,0.017241379310344827,0.017241379310344827,0.017241379310344827,0.017241379310344827,0.017241379310344827,0.017241379310344827,0.017241379310344827,0.017241379310344827,0.017241379310344827,0.017241379310344827,0.017241379310344827,0.017241379310344827,0.017241379310344827,0.017241379310344827,0.017241379310344827,0.017241379310344827,0.017241379310344827,0.017241379310344827,0.017241379310344827,0.017241379310344827,0.017241379310344827,0.017241379310344827,0.017241379310344827,0.017241379310344827,0.017241379310344827,0.017241379310344827,0.017241379310344827,0.017241379310344827,0.017241379310344827,0.017241379310344827,0.017241379310344827,0.017241379310344827,0.017241379310344827,0.017241379310344827,0.017241379310344827,0.017241379310344827,0.017241379310344827,0.017241379310344827,0.017241379310344827,0.017241379310344827,0.017241379310344827,0.017241379310344827,0.017241379310344827,0.017241379310344827,0.017241379310344827,0.017241379310344827,0.017241379310344827,0.017241379310344827,0.017241379310344827,0.017241379310344827,0.017241379310344827,0.017241379310344827,0.017241379310344827,0.017241379310344827,0.017241379310344827,0.017241379310344827,0.017241379310344827,0.017241379310344827,0.017241379310344827,0.017241379310344827,0.017241379310344827,0.017241379310344827,0.017241379310344827,0.017241379310344827,0.017241379310344827,0.017241379310344827,0.017241379310344827,0.017241379310344827,0.017241379310344827,0.017241379310344827,0.017241379310344827,0.017241379310344827,0.017241379310344827,0.017241379310344827,0.017241379310344827,0.017241379310344827,0.017241379310344827,0.017241379310344827,0.017241379310344827,0.017241379310344827,0.017241379310344827,0.017241379310344827,0.017241379310344827,0.017241379310344827,0.017241379310344827,0.017241379310344827,0.017241379310344827,0.017241379310344827,0.017241379310344827,0.017241379310344827,0.017241379310344827,0.017241379310344827,0.017241379310344827,0.017241379310344827,0.017241379310344827,0.017241379310344827,0.017241379310344827,0.017241379310344827,0.017241379310344827,0.017241379310344827,0.017241379310344827,0.017241379310344827,0.017241379310344827,0.017241379310344827,0.017241379310344827,0.017241379310344827,0.017241379310344827,0.017241379310344827,0.017241379310344827,0.017241379310344827,0.017241379310344827,0.017241379310344827,0.017241379310344827,0.017241379310344827,0.017241379310344827,0.017241379310344827,0.017241379310344827,0.017241379310344827,0.017241379310344827,0.017241379310344827,0.017241379310344827,0.017241379310344827,0.017241379310344827,0.017241379310344827,0.017241379310344827,0.017241379310344827,0.017241379310344827,0.017241379310344827,0.017241379310344827,0.017241379310344827,0.017241379310344827,0.017241379310344827,0.017241379310344827,0.017241379310344827,0.017241379310344827,0.017241379310344827,0.017241379310344827,0.017241379310344827,0.017241379310344827,0.017241379310344827,0.017241379310344827,0.017241379310344827,0.017241379310344827,0.017241379310344827,0.017241379310344827,0.017241379310344827,0.017241379310344827,0.017241379310344827,0.017241379310344827,0.017241379310344827,0.017241379310344827,0.017241379310344827,0.017241379310344827,0.017241379310344827,0.017241379310344827,0.017241379310344827,0.017241379310344827,0.017241379310344827,0.017241379310344827,0.017241379310344827,0.017241379310344827,0.017241379310344827,0.017241379310344827,0.017241379310344827,0.017241379310344827,0.017241379310344827,0.017241379310344827,0.017241379310344827,0.017241379310344827,0.017241379310344827,0.017241379310344827,0.017241379310344827,0.017241379310344827,0.017241379310344827,0.017241379310344827,0.017241379310344827,0.017241379310344827,0.017241379310344827,0.017241379310344827,0.017241379310344827,0.017241379310344827,0.017241379310344827,0.017241379310344827,0.017241379310344827,0.017241379310344827,0.017241379310344827,0.017241379310344827,0.017241379310344827,0.017241379310344827,0.017241379310344827,0.017241379310344827,0.017241379310344827,0.017241379310344827,0.017241379310344827,0.017241379310344827,0.017241379310344827,0.017241379310344827,0.017241379310344827,0.017241379310344827,0.017241379310344827,0.017241379310344827,0.017241379310344827,0.017241379310344827,0.017241379310344827,0.017241379310344827,0.017241379310344827,0.017241379310344827,0.017241379310344827,0.017241379310344827,0.017241379310344827,0.017241379310344827,0.017241379310344827,0.017241379310344827,0.017241379310344827,0.017241379310344827,0.017241379310344827,0.017241379310344827,0.017241379310344827,0.017241379310344827,0.017241379310344827,0.017241379310344827,0.017241379310344827,0.017241379310344827,0.017241379310344827,0.017241379310344827,0.017241379310344827,0.017241379310344827,0.017241379310344827,0.017241379310344827,0.017241379310344827,0.017241379310344827,0.017241379310344827,0.017241379310344827,0.017241379310344827,0.017241379310344827,0.017241379310344827,0.017241379310344827,0.017241379310344827,0.017241379310344827,0.017241379310344827,0.017241379310344827,0.017241379310344827,0.017241379310344827,0.017241379310344827,0.017241379310344827,0.017241379310344827,0.017241379310344827,0.017241379310344827,0.017241379310344827,0.017241379310344827,0.017241379310344827,0.017241379310344827,0.017241379310344827,0.017241379310344827,0.017241379310344827,0.017241379310344827,0.017241379310344827,0.017241379310344827,0.017241379310344827,0.017241379310344827,0.017241379310344827,0.017241379310344827,0.017241379310344827,0.017241379310344827,0.017241379310344827,0.017241379310344827,0.017241379310344827,0.017241379310344827,0.017241379310344827,0.017241379310344827,0.017241379310344827,0.017241379310344827,0.017241379310344827,0.017241379310344827,0.017241379310344827,0.017241379310344827,0.017241379310344827,0.017241379310344827,0.017241379310344827,0.017241379310344827,0.017241379310344827,0.017241379310344827,0.017241379310344827,0.017241379310344827,0.017241379310344827,0.017241379310344827,0.017241379310344827,0.017241379310344827,0.017241379310344827,0.017241379310344827,0.017241379310344827,0.017241379310344827,0.017241379310344827,0.017241379310344827,0.017241379310344827,0.017241379310344827,0.017241379310344827,0.017241379310344827,0.017241379310344827,0.017241379310344827,0.017241379310344827,0.017241379310344827,0.017241379310344827,0.017241379310344827,0.017241379310344827,0.017241379310344827,0.017241379310344827,0.017241379310344827,0.017241379310344827,0.017241379310344827,0.017241379310344827,0.017241379310344827,0.017241379310344827,0.017241379310344827,0.017241379310344827,0.017241379310344827,0.017241379310344827,0.017241379310344827,0.017241379310344827,0.017241379310344827,0.017241379310344827,0.017241379310344827,0.017241379310344827,0.017241379310344827,0.017241379310344827,0.017241379310344827,0.017241379310344827,0.017241379310344827,0.017241379310344827,0.017241379310344827,0.017241379310344827,0.017241379310344827,0.017241379310344827,0.017241379310344827,0.017241379310344827,0.017241379310344827,0.017241379310344827,0.017241379310344827,0.017241379310344827,0.017241379310344827,0.017241379310344827,0.017241379310344827,0.017241379310344827,0.017241379310344827,0.017241379310344827,0.017241379310344827,0.017241379310344827,0.017241379310344827,0.017241379310344827,0.017241379310344827,0.017241379310344827,0.017241379310344827,0.017241379310344827,0.017241379310344827,0.017241379310344827,0.017241379310344827,0.017241379310344827,0.017241379310344827,0.017241379310344827,0.017241379310344827,0.017241379310344827,0.017241379310344827,0.017241379310344827,0.017241379310344827,0.017241379310344827,0.017241379310344827,0.017241379310344827,0.017241379310344827,0.017241379310344827,0.017241379310344827,0.017241379310344827,0.017241379310344827,0.017241379310344827,0.017241379310344827,0.017241379310344827,0.017241379310344827,0.017241379310344827,0.017241379310344827,0.017241379310344827,0.017241379310344827,0.017241379310344827,0.017241379310344827,0.017241379310344827,0.017241379310344827,0.017241379310344827,0.017241379310344827,0.017241379310344827,0.017241379310344827,0.017241379310344827,0.017241379310344827,0.017241379310344827,0.017241379310344827,0.017241379310344827,0.017241379310344827,0.017241379310344827,0.017241379310344827,0.017241379310344827,0.017241379310344827,0.017241379310344827,0.017241379310344827,0.017241379310344827,0.017241379310344827,0.017241379310344827,0.017241379310344827,0.017241379310344827,0.017241379310344827,0.017241379310344827,0.017241379310344827,0.017241379310344827,0.017241379310344827,0.017241379310344827,0.017241379310344827,0.017241379310344827,0.017241379310344827,0.017241379310344827,0.017241379310344827,0.017241379310344827,0.017241379310344827,0.017241379310344827,0.017241379310344827,0.017241379310344827,0.017241379310344827,0.017241379310344827,0.017241379310344827,0.017241379310344827,0.017241379310344827,0.017241379310344827,0.017241379310344827,0.017241379310344827,0.017241379310344827,0.017241379310344827,0.017241379310344827,0.017241379310344827,0.017241379310344827,0.017241379310344827,0.017241379310344827,0.017241379310344827,0.017241379310344827,0.017241379310344827,0.017241379310344827,0.017241379310344827,0.017241379310344827,0.017241379310344827,0.017241379310344827,0.017241379310344827,0.017241379310344827,0.0,0.0,0.0,0.0,0.0,0.0,0.0,0.0,0.0,0.0,0.0,0.0,0.0,0.0,0.0,0.0,0.0,0.0,0.0,0.0,0.0,0.0,0.0],\"xaxis\":\"x\",\"y\":[1.0,1.0,1.0,1.0,1.0,1.0,1.0,1.0,1.0,1.0,1.0,1.0,1.0,1.0,1.0,1.0,1.0,1.0,1.0,1.0,1.0,1.0,1.0,1.0,1.0,1.0,1.0,1.0,1.0,1.0,1.0,1.0,1.0,1.0,1.0,1.0,1.0,1.0,1.0,1.0,1.0,1.0,1.0,1.0,1.0,1.0,1.0,1.0,1.0,1.0,1.0,1.0,1.0,1.0,1.0,1.0,1.0,1.0,1.0,1.0,1.0,1.0,1.0,1.0,1.0,1.0,1.0,1.0,1.0,1.0,1.0,1.0,1.0,1.0,1.0,1.0,1.0,1.0,1.0,1.0,1.0,1.0,1.0,1.0,1.0,1.0,1.0,1.0,1.0,1.0,1.0,1.0,1.0,1.0,1.0,1.0,1.0,1.0,1.0,1.0,1.0,1.0,1.0,1.0,1.0,1.0,1.0,1.0,1.0,1.0,1.0,1.0,1.0,1.0,1.0,1.0,1.0,1.0,1.0,1.0,1.0,1.0,1.0,1.0,1.0,1.0,1.0,1.0,1.0,1.0,1.0,1.0,1.0,1.0,1.0,1.0,1.0,1.0,1.0,1.0,1.0,1.0,1.0,1.0,1.0,1.0,1.0,1.0,1.0,1.0,1.0,1.0,1.0,1.0,1.0,1.0,1.0,1.0,1.0,1.0,1.0,1.0,1.0,1.0,1.0,1.0,1.0,1.0,1.0,1.0,1.0,1.0,1.0,1.0,1.0,1.0,1.0,1.0,1.0,1.0,1.0,1.0,1.0,1.0,1.0,1.0,1.0,1.0,1.0,1.0,1.0,1.0,1.0,1.0,1.0,1.0,1.0,1.0,1.0,1.0,1.0,1.0,1.0,1.0,1.0,1.0,1.0,1.0,1.0,1.0,1.0,1.0,1.0,1.0,1.0,1.0,1.0,1.0,1.0,1.0,1.0,1.0,1.0,1.0,1.0,1.0,1.0,1.0,1.0,1.0,1.0,1.0,1.0,1.0,1.0,1.0,1.0,1.0,1.0,1.0,1.0,1.0,1.0,1.0,1.0,1.0,1.0,1.0,1.0,1.0,1.0,1.0,1.0,1.0,1.0,1.0,1.0,1.0,1.0,1.0,1.0,1.0,1.0,1.0,1.0,1.0,1.0,1.0,1.0,1.0,1.0,1.0,1.0,1.0,1.0,1.0,1.0,1.0,1.0,1.0,1.0,1.0,1.0,1.0,1.0,1.0,1.0,1.0,1.0,1.0,1.0,1.0,1.0,1.0,1.0,1.0,1.0,1.0,1.0,1.0,1.0,1.0,1.0,1.0,1.0,1.0,1.0,1.0,1.0,1.0,1.0,1.0,1.0,0.9838709677419355,0.9838709677419355,0.9838709677419355,0.9838709677419355,0.9838709677419355,0.9838709677419355,0.9838709677419355,0.9838709677419355,0.9838709677419355,0.9838709677419355,0.9838709677419355,0.9838709677419355,0.9838709677419355,0.9838709677419355,0.9838709677419355,0.9838709677419355,0.9838709677419355,0.9838709677419355,0.9838709677419355,0.9838709677419355,0.9838709677419355,0.9838709677419355,0.9838709677419355,0.9838709677419355,0.9838709677419355,0.9838709677419355,0.9838709677419355,0.9838709677419355,0.9838709677419355,0.9838709677419355,0.9838709677419355,0.9838709677419355,0.9838709677419355,0.9838709677419355,0.9838709677419355,0.9838709677419355,0.9838709677419355,0.9838709677419355,0.9838709677419355,0.9838709677419355,0.9838709677419355,0.9838709677419355,0.9838709677419355,0.9838709677419355,0.9838709677419355,0.9838709677419355,0.9838709677419355,0.9838709677419355,0.9838709677419355,0.9838709677419355,0.9838709677419355,0.9838709677419355,0.9838709677419355,0.9838709677419355,0.9838709677419355,0.9838709677419355,0.9838709677419355,0.9838709677419355,0.9838709677419355,0.9838709677419355,0.9838709677419355,0.9838709677419355,0.9838709677419355,0.9838709677419355,0.9838709677419355,0.9838709677419355,0.9838709677419355,0.9838709677419355,0.9838709677419355,0.9838709677419355,0.9838709677419355,0.9838709677419355,0.9838709677419355,0.9838709677419355,0.9838709677419355,0.9838709677419355,0.9838709677419355,0.9838709677419355,0.9838709677419355,0.9838709677419355,0.9838709677419355,0.9838709677419355,0.9838709677419355,0.9838709677419355,0.9838709677419355,0.9838709677419355,0.9838709677419355,0.9838709677419355,0.9838709677419355,0.9838709677419355,0.9838709677419355,0.9838709677419355,0.9838709677419355,0.9838709677419355,0.9838709677419355,0.9838709677419355,0.9838709677419355,0.9838709677419355,0.9838709677419355,0.9838709677419355,0.9838709677419355,0.9838709677419355,0.9838709677419355,0.9838709677419355,0.9838709677419355,0.9838709677419355,0.9838709677419355,0.9838709677419355,0.9838709677419355,0.9838709677419355,0.9838709677419355,0.9838709677419355,0.9838709677419355,0.9838709677419355,0.9838709677419355,0.9838709677419355,0.9838709677419355,0.9838709677419355,0.9838709677419355,0.9838709677419355,0.9838709677419355,0.9838709677419355,0.9838709677419355,0.9838709677419355,0.9838709677419355,0.9838709677419355,0.9838709677419355,0.9838709677419355,0.9838709677419355,0.9838709677419355,0.9838709677419355,0.9838709677419355,0.9838709677419355,0.9838709677419355,0.9838709677419355,0.9838709677419355,0.9838709677419355,0.9838709677419355,0.9838709677419355,0.9838709677419355,0.9838709677419355,0.9838709677419355,0.9838709677419355,0.9838709677419355,0.9838709677419355,0.9838709677419355,0.9838709677419355,0.9838709677419355,0.9838709677419355,0.9838709677419355,0.9838709677419355,0.9838709677419355,0.9838709677419355,0.9838709677419355,0.9838709677419355,0.9838709677419355,0.9838709677419355,0.9838709677419355,0.9838709677419355,0.9838709677419355,0.9838709677419355,0.9838709677419355,0.9838709677419355,0.9838709677419355,0.9838709677419355,0.9838709677419355,0.9838709677419355,0.9838709677419355,0.9838709677419355,0.9838709677419355,0.9838709677419355,0.9838709677419355,0.9838709677419355,0.9838709677419355,0.9838709677419355,0.9838709677419355,0.9838709677419355,0.9838709677419355,0.9838709677419355,0.9838709677419355,0.9838709677419355,0.9838709677419355,0.9838709677419355,0.9838709677419355,0.9838709677419355,0.9838709677419355,0.9838709677419355,0.9838709677419355,0.9838709677419355,0.9838709677419355,0.9838709677419355,0.9838709677419355,0.9838709677419355,0.9838709677419355,0.9838709677419355,0.9838709677419355,0.9838709677419355,0.9838709677419355,0.9838709677419355,0.9838709677419355,0.9838709677419355,0.9838709677419355,0.9838709677419355,0.9838709677419355,0.9838709677419355,0.9838709677419355,0.9838709677419355,0.9838709677419355,0.9838709677419355,0.9838709677419355,0.9838709677419355,0.9838709677419355,0.9838709677419355,0.9838709677419355,0.9838709677419355,0.9838709677419355,0.9838709677419355,0.9838709677419355,0.9838709677419355,0.9838709677419355,0.9838709677419355,0.9838709677419355,0.9838709677419355,0.9838709677419355,0.9838709677419355,0.9838709677419355,0.9838709677419355,0.9838709677419355,0.9838709677419355,0.9838709677419355,0.9838709677419355,0.9838709677419355,0.9838709677419355,0.9838709677419355,0.9838709677419355,0.9838709677419355,0.9838709677419355,0.9838709677419355,0.9838709677419355,0.9838709677419355,0.9838709677419355,0.9838709677419355,0.9838709677419355,0.9838709677419355,0.9838709677419355,0.9838709677419355,0.9838709677419355,0.9838709677419355,0.9838709677419355,0.9838709677419355,0.9838709677419355,0.9838709677419355,0.9838709677419355,0.9838709677419355,0.9838709677419355,0.9838709677419355,0.9838709677419355,0.9838709677419355,0.9838709677419355,0.9838709677419355,0.9838709677419355,0.9838709677419355,0.9838709677419355,0.9838709677419355,0.9838709677419355,0.9838709677419355,0.9838709677419355,0.9838709677419355,0.9838709677419355,0.9838709677419355,0.9838709677419355,0.9838709677419355,0.9838709677419355,0.9838709677419355,0.9838709677419355,0.9838709677419355,0.9838709677419355,0.9838709677419355,0.9838709677419355,0.9838709677419355,0.9838709677419355,0.9838709677419355,0.9838709677419355,0.9838709677419355,0.9838709677419355,0.9838709677419355,0.9838709677419355,0.9838709677419355,0.9838709677419355,0.9838709677419355,0.9838709677419355,0.9838709677419355,0.9838709677419355,0.9838709677419355,0.9838709677419355,0.9838709677419355,0.9838709677419355,0.9838709677419355,0.9838709677419355,0.9838709677419355,0.9838709677419355,0.9838709677419355,0.9838709677419355,0.9838709677419355,0.9838709677419355,0.9838709677419355,0.9838709677419355,0.9838709677419355,0.9838709677419355,0.9838709677419355,0.9838709677419355,0.9838709677419355,0.9838709677419355,0.9838709677419355,0.9838709677419355,0.9838709677419355,0.9838709677419355,0.9838709677419355,0.9838709677419355,0.9838709677419355,0.9838709677419355,0.9838709677419355,0.9838709677419355,0.9838709677419355,0.9838709677419355,0.9838709677419355,0.9838709677419355,0.9838709677419355,0.9838709677419355,0.9838709677419355,0.9838709677419355,0.9838709677419355,0.9838709677419355,0.9838709677419355,0.9838709677419355,0.9838709677419355,0.9838709677419355,0.9838709677419355,0.9838709677419355,0.9838709677419355,0.9838709677419355,0.9838709677419355,0.9838709677419355,0.9838709677419355,0.9838709677419355,0.9838709677419355,0.9838709677419355,0.9838709677419355,0.9838709677419355,0.9838709677419355,0.9838709677419355,0.9838709677419355,0.9838709677419355,0.9838709677419355,0.9838709677419355,0.9838709677419355,0.9838709677419355,0.9838709677419355,0.9838709677419355,0.9838709677419355,0.9838709677419355,0.9838709677419355,0.9838709677419355,0.9838709677419355,0.9838709677419355,0.9838709677419355,0.9838709677419355,0.9838709677419355,0.9838709677419355,0.9838709677419355,0.9838709677419355,0.9838709677419355,0.9838709677419355,0.9838709677419355,0.9838709677419355,0.9838709677419355,0.9838709677419355,0.9838709677419355,0.9838709677419355,0.9838709677419355,0.9838709677419355,0.9838709677419355,0.9838709677419355,0.9838709677419355,0.9838709677419355,0.9838709677419355,0.9838709677419355,0.9838709677419355,0.9838709677419355,0.9838709677419355,0.9838709677419355,0.9838709677419355,0.9838709677419355,0.9838709677419355,0.9838709677419355,0.9838709677419355,0.9838709677419355,0.9838709677419355,0.9838709677419355,0.9838709677419355,0.9838709677419355,0.9838709677419355,0.9838709677419355,0.9838709677419355,0.9838709677419355,0.9838709677419355,0.9838709677419355,0.9838709677419355,0.9838709677419355,0.9838709677419355,0.9838709677419355,0.9838709677419355,0.9838709677419355,0.9838709677419355,0.9838709677419355,0.9838709677419355,0.9838709677419355,0.9838709677419355,0.9838709677419355,0.9838709677419355,0.9838709677419355,0.9838709677419355,0.9838709677419355,0.9838709677419355,0.9838709677419355,0.9838709677419355,0.9838709677419355,0.9838709677419355,0.9838709677419355,0.9838709677419355,0.9838709677419355,0.9838709677419355,0.9838709677419355,0.9838709677419355,0.9838709677419355,0.9838709677419355,0.9838709677419355,0.9838709677419355,0.9838709677419355,0.9838709677419355,0.9838709677419355,0.9838709677419355,0.9838709677419355,0.9838709677419355,0.9838709677419355,0.9838709677419355,0.9838709677419355,0.9838709677419355,0.9838709677419355,0.9838709677419355,0.9838709677419355,0.9838709677419355,0.9838709677419355,0.9838709677419355,0.9838709677419355,0.9838709677419355,0.9838709677419355,0.9838709677419355,0.9838709677419355,0.9838709677419355,0.9838709677419355,0.9838709677419355,0.9838709677419355,0.9838709677419355,0.9838709677419355,0.9838709677419355,0.9838709677419355,0.9838709677419355,0.9838709677419355,0.9838709677419355,0.9838709677419355,0.9838709677419355,0.9838709677419355,0.9838709677419355,0.9838709677419355,0.9838709677419355,0.9838709677419355,0.9838709677419355,0.9838709677419355,0.9838709677419355,0.9838709677419355,0.9838709677419355,0.9838709677419355,0.9838709677419355,0.9838709677419355,0.9838709677419355,0.9838709677419355,0.9838709677419355,0.9838709677419355,0.9838709677419355,0.9838709677419355,0.9838709677419355,0.9838709677419355,0.9838709677419355,0.9838709677419355,0.9838709677419355,0.9838709677419355,0.9838709677419355,0.9838709677419355,0.9838709677419355,0.9838709677419355,0.9838709677419355,0.9838709677419355,0.9838709677419355,0.9838709677419355,0.9838709677419355,0.9838709677419355,0.9838709677419355,0.9838709677419355,0.9838709677419355,0.9838709677419355,0.9838709677419355,0.9838709677419355,0.9838709677419355,0.9838709677419355,0.9838709677419355,0.9838709677419355,0.9838709677419355,0.9838709677419355,0.9838709677419355,0.9838709677419355,0.9838709677419355,0.9838709677419355,0.9838709677419355,0.9838709677419355,0.9838709677419355,0.9838709677419355,0.9838709677419355,0.9838709677419355,0.9838709677419355,0.9838709677419355,0.9838709677419355,0.9838709677419355,0.9838709677419355,0.9838709677419355,0.9838709677419355,0.9838709677419355,0.9838709677419355,0.9838709677419355,0.9838709677419355,0.9838709677419355,0.9838709677419355,0.9838709677419355,0.9838709677419355,0.9838709677419355,0.9838709677419355,0.9838709677419355,0.9838709677419355,0.9838709677419355,0.9838709677419355,0.9838709677419355,0.9838709677419355,0.9838709677419355,0.9838709677419355,0.9838709677419355,0.9838709677419355,0.9838709677419355,0.9838709677419355,0.9838709677419355,0.9838709677419355,0.9838709677419355,0.9838709677419355,0.9838709677419355,0.9838709677419355,0.9838709677419355,0.9838709677419355,0.9838709677419355,0.9838709677419355,0.9838709677419355,0.9838709677419355,0.9838709677419355,0.9838709677419355,0.9838709677419355,0.9838709677419355,0.9838709677419355,0.9838709677419355,0.9838709677419355,0.9838709677419355,0.9838709677419355,0.9838709677419355,0.9838709677419355,0.9838709677419355,0.9838709677419355,0.9838709677419355,0.9838709677419355,0.9838709677419355,0.9838709677419355,0.9838709677419355,0.9838709677419355,0.9838709677419355,0.9838709677419355,0.9838709677419355,0.9838709677419355,0.9838709677419355,0.9838709677419355,0.9838709677419355,0.9838709677419355,0.9838709677419355,0.9838709677419355,0.9838709677419355,0.9838709677419355,0.9838709677419355,0.9838709677419355,0.9838709677419355,0.9838709677419355,0.9838709677419355,0.9838709677419355,0.9838709677419355,0.9838709677419355,0.9838709677419355,0.9838709677419355,0.9838709677419355,0.9838709677419355,0.9838709677419355,0.9838709677419355,0.9838709677419355,0.9838709677419355,0.9838709677419355,0.9838709677419355,0.9838709677419355,0.9838709677419355,0.9838709677419355,0.9838709677419355,0.9838709677419355,0.9838709677419355,0.9838709677419355,0.9838709677419355,0.9838709677419355,0.9838709677419355,0.9838709677419355,0.9838709677419355,0.9838709677419355,0.9838709677419355,0.9838709677419355,0.9838709677419355,0.9838709677419355,0.9838709677419355,0.9838709677419355,0.9838709677419355,0.9838709677419355,0.9838709677419355,0.9838709677419355,0.9838709677419355,0.9838709677419355,0.9838709677419355,0.9838709677419355,0.9838709677419355,0.9838709677419355,0.9838709677419355,0.9838709677419355,0.9838709677419355,0.9838709677419355,0.9838709677419355,0.9838709677419355,0.9838709677419355,0.9838709677419355,0.9838709677419355,0.9838709677419355,0.9838709677419355,0.9838709677419355,0.9838709677419355,0.9838709677419355,0.9838709677419355,0.9838709677419355,0.9838709677419355,0.9838709677419355,0.9838709677419355,0.9838709677419355,0.9838709677419355,0.9838709677419355,0.9838709677419355,0.9838709677419355,0.9838709677419355,0.9838709677419355,0.9838709677419355,0.9838709677419355,0.9838709677419355,0.9838709677419355,0.9838709677419355,0.9838709677419355,0.9838709677419355,0.9838709677419355,0.9838709677419355,0.9838709677419355,0.9838709677419355,0.9838709677419355,0.9838709677419355,0.9838709677419355,0.9838709677419355,0.9838709677419355,0.9838709677419355,0.9838709677419355,0.9838709677419355,0.9838709677419355,0.9838709677419355,0.9838709677419355,0.9838709677419355,0.9838709677419355,0.9838709677419355,0.9838709677419355,0.9838709677419355,0.9838709677419355,0.9838709677419355,0.9838709677419355,0.9838709677419355,0.9838709677419355,0.9838709677419355,0.9838709677419355,0.9838709677419355,0.9838709677419355,0.9838709677419355,0.9838709677419355,0.9838709677419355,0.9838709677419355,0.9838709677419355,0.9838709677419355,0.9838709677419355,0.9838709677419355,0.9838709677419355,0.9838709677419355,0.9838709677419355,0.9838709677419355,0.9838709677419355,0.9838709677419355,0.9838709677419355,0.9838709677419355,0.9838709677419355,0.9838709677419355,0.9838709677419355,0.9838709677419355,0.9838709677419355,0.9838709677419355,0.9838709677419355,0.9838709677419355,0.9838709677419355,0.9838709677419355,0.9838709677419355,0.9838709677419355,0.9838709677419355,0.9838709677419355,0.9838709677419355,0.9838709677419355,0.9838709677419355,0.9838709677419355,0.9838709677419355,0.9838709677419355,0.9838709677419355,0.9838709677419355,0.9838709677419355,0.9838709677419355,0.9838709677419355,0.9838709677419355,0.9838709677419355,0.9838709677419355,0.9838709677419355,0.9838709677419355,0.9838709677419355,0.9838709677419355,0.9838709677419355,0.9838709677419355,0.9838709677419355,0.9838709677419355,0.9838709677419355,0.9838709677419355,0.9838709677419355,0.9838709677419355,0.9838709677419355,0.9838709677419355,0.9838709677419355,0.9838709677419355,0.9838709677419355,0.9838709677419355,0.9838709677419355,0.9838709677419355,0.9838709677419355,0.9838709677419355,0.9838709677419355,0.9838709677419355,0.9838709677419355,0.9838709677419355,0.9838709677419355,0.9838709677419355,0.9838709677419355,0.9838709677419355,0.9838709677419355,0.9838709677419355,0.9838709677419355,0.9838709677419355,0.9838709677419355,0.9838709677419355,0.9838709677419355,0.9838709677419355,0.9838709677419355,0.9838709677419355,0.9838709677419355,0.9838709677419355,0.9838709677419355,0.9838709677419355,0.9838709677419355,0.9838709677419355,0.9838709677419355,0.9838709677419355,0.9838709677419355,0.9838709677419355,0.9838709677419355,0.9838709677419355,0.9838709677419355,0.9838709677419355,0.9838709677419355,0.9838709677419355,0.9838709677419355,0.9838709677419355,0.9838709677419355,0.9838709677419355,0.9838709677419355,0.9838709677419355,0.9838709677419355,0.9838709677419355,0.9838709677419355,0.9838709677419355,0.9838709677419355,0.9838709677419355,0.9838709677419355,0.9838709677419355,0.9838709677419355,0.9838709677419355,0.9838709677419355,0.9838709677419355,0.9838709677419355,0.9838709677419355,0.9838709677419355,0.9838709677419355,0.9838709677419355,0.9838709677419355,0.9838709677419355,0.9838709677419355,0.9838709677419355,0.9838709677419355,0.9838709677419355,0.9838709677419355,0.9838709677419355,0.9838709677419355,0.9838709677419355,0.9838709677419355,0.9838709677419355,0.9838709677419355,0.9838709677419355,0.9838709677419355,0.9838709677419355,0.9838709677419355,0.9838709677419355,0.9838709677419355,0.9838709677419355,0.9838709677419355,0.9838709677419355,0.9838709677419355,0.9838709677419355,0.9838709677419355,0.9838709677419355,0.9838709677419355,0.9838709677419355,0.9838709677419355,0.9838709677419355,0.9838709677419355,0.9838709677419355,0.9838709677419355,0.9838709677419355,0.9838709677419355,0.9838709677419355,0.9838709677419355,0.9838709677419355,0.9838709677419355,0.9838709677419355,0.9838709677419355,0.9838709677419355,0.9838709677419355,0.9838709677419355,0.9838709677419355,0.9838709677419355,0.9838709677419355,0.9838709677419355,0.9838709677419355,0.9838709677419355,0.9838709677419355,0.9838709677419355,0.9838709677419355,0.9838709677419355,0.9838709677419355,0.9838709677419355,0.9838709677419355,0.9838709677419355,0.9838709677419355,0.9838709677419355,0.9838709677419355,0.9838709677419355,0.9838709677419355,0.9838709677419355,0.9838709677419355,0.9838709677419355,0.9838709677419355,0.9838709677419355,0.9838709677419355,0.9838709677419355,0.9838709677419355,0.9838709677419355,0.9838709677419355,0.9838709677419355,0.9838709677419355,0.9838709677419355,0.9838709677419355,0.9838709677419355,0.9838709677419355,0.9838709677419355,0.9838709677419355,0.9838709677419355,0.9838709677419355,0.9838709677419355,0.9838709677419355,0.9838709677419355,0.9838709677419355,0.9838709677419355,0.9838709677419355,0.9838709677419355,0.9838709677419355,0.9838709677419355,0.9838709677419355,0.9838709677419355,0.9838709677419355,0.9838709677419355,0.9838709677419355,0.9838709677419355,0.9838709677419355,0.9838709677419355,0.9838709677419355,0.9838709677419355,0.9838709677419355,0.9838709677419355,0.9838709677419355,0.9838709677419355,0.9838709677419355,0.9838709677419355,0.9838709677419355,0.9838709677419355,0.9838709677419355,0.9838709677419355,0.9838709677419355,0.9838709677419355,0.9838709677419355,0.9838709677419355,0.9838709677419355,0.9838709677419355,0.9838709677419355,0.9838709677419355,0.9838709677419355,0.9838709677419355,0.9838709677419355,0.9838709677419355,0.9838709677419355,0.9838709677419355,0.9838709677419355,0.9838709677419355,0.9838709677419355,0.9838709677419355,0.9838709677419355,0.9838709677419355,0.9838709677419355,0.9838709677419355,0.9838709677419355,0.9838709677419355,0.9838709677419355,0.9838709677419355,0.9838709677419355,0.9838709677419355,0.9838709677419355,0.9838709677419355,0.9838709677419355,0.9838709677419355,0.9838709677419355,0.9838709677419355,0.9838709677419355,0.9838709677419355,0.9838709677419355,0.9838709677419355,0.9838709677419355,0.9838709677419355,0.9838709677419355,0.9838709677419355,0.9838709677419355,0.9838709677419355,0.9838709677419355,0.9838709677419355,0.9838709677419355,0.9838709677419355,0.9838709677419355,0.9838709677419355,0.9838709677419355,0.9838709677419355,0.9838709677419355,0.9838709677419355,0.9838709677419355,0.9838709677419355,0.9838709677419355,0.9838709677419355,0.9838709677419355,0.9838709677419355,0.9838709677419355,0.9838709677419355,0.9838709677419355,0.9838709677419355,0.9838709677419355,0.9838709677419355,0.9838709677419355,0.9838709677419355,0.9838709677419355,0.9838709677419355,0.9838709677419355,0.9838709677419355,0.9838709677419355,0.9838709677419355,0.9838709677419355,0.9838709677419355,0.9838709677419355,0.9838709677419355,0.9838709677419355,0.9838709677419355,0.9838709677419355,0.9838709677419355,0.9838709677419355,0.9838709677419355,0.9838709677419355,0.9838709677419355,0.9838709677419355,0.9838709677419355,0.9838709677419355,0.9838709677419355,0.9838709677419355,0.9838709677419355,0.9838709677419355,0.9838709677419355,0.9838709677419355,0.9838709677419355,0.9838709677419355,0.9838709677419355,0.9838709677419355,0.9838709677419355,0.9838709677419355,0.9838709677419355,0.9838709677419355,0.9838709677419355,0.9838709677419355,0.9838709677419355,0.9838709677419355,0.9838709677419355,0.9838709677419355,0.9838709677419355,0.9838709677419355,0.9838709677419355,0.9838709677419355,0.9838709677419355,0.9838709677419355,0.9838709677419355,0.9838709677419355,0.9838709677419355,0.9838709677419355,0.9838709677419355,0.9838709677419355,0.9838709677419355,0.9838709677419355,0.9838709677419355,0.9838709677419355,0.9838709677419355,0.9838709677419355,0.9838709677419355,0.9838709677419355,0.9838709677419355,0.9838709677419355,0.9838709677419355,0.9838709677419355,0.9838709677419355,0.9838709677419355,0.9838709677419355,0.9838709677419355,0.9838709677419355,0.9838709677419355,0.9838709677419355,0.9838709677419355,0.9838709677419355,0.9838709677419355,0.9838709677419355,0.9838709677419355,0.9838709677419355,0.9838709677419355,0.9838709677419355,0.9838709677419355,0.9838709677419355,0.9838709677419355,0.9838709677419355,0.9838709677419355,0.9838709677419355,0.9838709677419355,0.9838709677419355,0.9838709677419355,0.9838709677419355,0.9838709677419355,0.9838709677419355,0.9838709677419355,0.9838709677419355,0.9838709677419355,0.9838709677419355,0.9838709677419355,0.9838709677419355,0.9838709677419355,0.9838709677419355,0.9838709677419355,0.9838709677419355,0.9838709677419355,0.9838709677419355,0.9838709677419355,0.9838709677419355,0.9838709677419355,0.9838709677419355,0.9838709677419355,0.9838709677419355,0.9838709677419355,0.9838709677419355,0.9838709677419355,0.9838709677419355,0.9838709677419355,0.9838709677419355,0.9838709677419355,0.9838709677419355,0.9838709677419355,0.9838709677419355,0.9838709677419355,0.9838709677419355,0.9838709677419355,0.9838709677419355,0.9838709677419355,0.9838709677419355,0.9838709677419355,0.9838709677419355,0.9838709677419355,0.9838709677419355,0.9838709677419355,0.9838709677419355,0.9838709677419355,0.9838709677419355,0.9838709677419355,0.9838709677419355,0.9838709677419355,0.9838709677419355,0.9838709677419355,0.9838709677419355,0.9838709677419355,0.9838709677419355,0.9838709677419355,0.9838709677419355,0.9838709677419355,0.9838709677419355,0.9838709677419355,0.9838709677419355,0.9838709677419355,0.9838709677419355,0.9838709677419355,0.9838709677419355,0.9838709677419355,0.9838709677419355,0.9838709677419355,0.9838709677419355,0.9838709677419355,0.9838709677419355,0.9838709677419355,0.9838709677419355,0.9838709677419355,0.9838709677419355,0.9838709677419355,0.9838709677419355,0.9838709677419355,0.9838709677419355,0.9838709677419355,0.9838709677419355,0.9838709677419355,0.9838709677419355,0.9838709677419355,0.9838709677419355,0.9838709677419355,0.9838709677419355,0.9838709677419355,0.9838709677419355,0.9838709677419355,0.9838709677419355,0.9838709677419355,0.9838709677419355,0.9838709677419355,0.9838709677419355,0.9838709677419355,0.9838709677419355,0.9838709677419355,0.9838709677419355,0.9838709677419355,0.9838709677419355,0.9838709677419355,0.9838709677419355,0.9838709677419355,0.9838709677419355,0.9838709677419355,0.9838709677419355,0.9838709677419355,0.9838709677419355,0.9838709677419355,0.9838709677419355,0.9838709677419355,0.9838709677419355,0.9838709677419355,0.9838709677419355,0.9838709677419355,0.9838709677419355,0.9838709677419355,0.9838709677419355,0.9838709677419355,0.9838709677419355,0.9838709677419355,0.9838709677419355,0.9838709677419355,0.9838709677419355,0.9838709677419355,0.9838709677419355,0.9838709677419355,0.9838709677419355,0.9838709677419355,0.9838709677419355,0.9838709677419355,0.9838709677419355,0.9838709677419355,0.9838709677419355,0.9838709677419355,0.9838709677419355,0.9838709677419355,0.9838709677419355,0.9838709677419355,0.9838709677419355,0.9838709677419355,0.9838709677419355,0.9838709677419355,0.9838709677419355,0.9838709677419355,0.9838709677419355,0.9838709677419355,0.9838709677419355,0.9838709677419355,0.9838709677419355,0.9838709677419355,0.9838709677419355,0.9838709677419355,0.9838709677419355,0.9838709677419355,0.9838709677419355,0.9838709677419355,0.9838709677419355,0.9838709677419355,0.9838709677419355,0.9838709677419355,0.9838709677419355,0.9838709677419355,0.9838709677419355,0.9838709677419355,0.9838709677419355,0.9838709677419355,0.9838709677419355,0.9838709677419355,0.9838709677419355,0.9838709677419355,0.9838709677419355,0.9838709677419355,0.9838709677419355,0.9838709677419355,0.9838709677419355,0.9838709677419355,0.9838709677419355,0.9838709677419355,0.9838709677419355,0.9838709677419355,0.9838709677419355,0.9838709677419355,0.9838709677419355,0.9838709677419355,0.9838709677419355,0.9838709677419355,0.9838709677419355,0.9838709677419355,0.9838709677419355,0.9838709677419355,0.9838709677419355,0.9838709677419355,0.9838709677419355,0.9838709677419355,0.9838709677419355,0.9838709677419355,0.9838709677419355,0.9838709677419355,0.9838709677419355,0.9838709677419355,0.9838709677419355,0.9838709677419355,0.9838709677419355,0.9838709677419355,0.9838709677419355,0.9838709677419355,0.9838709677419355,0.9838709677419355,0.9838709677419355,0.9838709677419355,0.9838709677419355,0.9838709677419355,0.9838709677419355,0.9838709677419355,0.9838709677419355,0.9838709677419355,0.9838709677419355,0.9838709677419355,0.9838709677419355,0.9838709677419355,0.9838709677419355,0.9838709677419355,0.9838709677419355,0.9838709677419355,0.9838709677419355,0.9838709677419355,0.9838709677419355,0.9838709677419355,0.9838709677419355,0.9838709677419355,0.9838709677419355,0.9838709677419355,0.9838709677419355,0.9838709677419355,0.9838709677419355,0.9838709677419355,0.9838709677419355,0.9838709677419355,0.9838709677419355,0.9838709677419355,0.9838709677419355,0.9838709677419355,0.9838709677419355,0.9838709677419355,0.9838709677419355,0.9838709677419355,0.9838709677419355,0.9838709677419355,0.9838709677419355,0.9838709677419355,0.9838709677419355,0.9838709677419355,0.9838709677419355,0.9838709677419355,0.9838709677419355,0.9838709677419355,0.9838709677419355,0.9838709677419355,0.9838709677419355,0.9838709677419355,0.9838709677419355,0.9838709677419355,0.9838709677419355,0.9838709677419355,0.9838709677419355,0.9838709677419355,0.9838709677419355,0.9838709677419355,0.9838709677419355,0.9838709677419355,0.9838709677419355,0.9838709677419355,0.9838709677419355,0.9838709677419355,0.9838709677419355,0.9838709677419355,0.9838709677419355,0.9838709677419355,0.9838709677419355,0.9838709677419355,0.9838709677419355,0.9838709677419355,0.9838709677419355,0.9838709677419355,0.9838709677419355,0.9838709677419355,0.9838709677419355,0.9838709677419355,0.9838709677419355,0.9838709677419355,0.967741935483871,0.967741935483871,0.967741935483871,0.967741935483871,0.967741935483871,0.967741935483871,0.967741935483871,0.967741935483871,0.967741935483871,0.967741935483871,0.967741935483871,0.967741935483871,0.967741935483871,0.967741935483871,0.967741935483871,0.967741935483871,0.967741935483871,0.967741935483871,0.967741935483871,0.967741935483871,0.967741935483871,0.967741935483871,0.967741935483871,0.967741935483871,0.967741935483871,0.967741935483871,0.967741935483871,0.967741935483871,0.967741935483871,0.967741935483871,0.967741935483871,0.967741935483871,0.967741935483871,0.967741935483871,0.967741935483871,0.967741935483871,0.967741935483871,0.967741935483871,0.967741935483871,0.967741935483871,0.967741935483871,0.967741935483871,0.967741935483871,0.967741935483871,0.967741935483871,0.967741935483871,0.967741935483871,0.967741935483871,0.967741935483871,0.967741935483871,0.967741935483871,0.967741935483871,0.967741935483871,0.967741935483871,0.967741935483871,0.967741935483871,0.967741935483871,0.967741935483871,0.967741935483871,0.967741935483871,0.967741935483871,0.967741935483871,0.967741935483871,0.967741935483871,0.967741935483871,0.967741935483871,0.967741935483871,0.967741935483871,0.967741935483871,0.967741935483871,0.967741935483871,0.967741935483871,0.967741935483871,0.967741935483871,0.967741935483871,0.967741935483871,0.967741935483871,0.967741935483871,0.967741935483871,0.967741935483871,0.967741935483871,0.967741935483871,0.967741935483871,0.967741935483871,0.967741935483871,0.967741935483871,0.967741935483871,0.967741935483871,0.967741935483871,0.967741935483871,0.967741935483871,0.967741935483871,0.967741935483871,0.967741935483871,0.9516129032258065,0.9516129032258065,0.9516129032258065,0.9516129032258065,0.9516129032258065,0.9516129032258065,0.9516129032258065,0.9516129032258065,0.9516129032258065,0.9516129032258065,0.9516129032258065,0.9516129032258065,0.9516129032258065,0.9516129032258065,0.9516129032258065,0.9516129032258065,0.9516129032258065,0.9516129032258065,0.9516129032258065,0.9516129032258065,0.9516129032258065,0.9516129032258065,0.9516129032258065,0.9516129032258065,0.9516129032258065,0.9516129032258065,0.9516129032258065,0.9516129032258065,0.9516129032258065,0.9516129032258065,0.9516129032258065,0.9354838709677419,0.9354838709677419,0.9354838709677419,0.9354838709677419,0.9354838709677419,0.9354838709677419,0.9354838709677419,0.9354838709677419,0.9354838709677419,0.9354838709677419,0.9354838709677419,0.9354838709677419,0.9354838709677419,0.9354838709677419,0.9354838709677419,0.9354838709677419,0.9354838709677419,0.9354838709677419,0.9354838709677419,0.9354838709677419,0.9354838709677419,0.9354838709677419,0.9354838709677419,0.9354838709677419,0.9354838709677419,0.9354838709677419,0.9354838709677419,0.9354838709677419,0.9354838709677419,0.9354838709677419,0.9354838709677419,0.9354838709677419,0.9354838709677419,0.9354838709677419,0.9354838709677419,0.9354838709677419,0.9354838709677419,0.9354838709677419,0.9354838709677419,0.9354838709677419,0.9354838709677419,0.9354838709677419,0.9354838709677419,0.9354838709677419,0.9354838709677419,0.9354838709677419,0.9354838709677419,0.9354838709677419,0.9354838709677419,0.9354838709677419,0.9354838709677419,0.9354838709677419,0.9354838709677419,0.9354838709677419,0.9354838709677419,0.9354838709677419,0.9354838709677419,0.9354838709677419,0.9354838709677419,0.9354838709677419,0.9354838709677419,0.9354838709677419,0.9354838709677419,0.9354838709677419,0.9193548387096774,0.9193548387096774,0.9193548387096774,0.9193548387096774,0.9193548387096774,0.9193548387096774,0.9193548387096774,0.9193548387096774,0.9193548387096774,0.9193548387096774,0.9193548387096774,0.8870967741935484,0.8870967741935484,0.8870967741935484,0.8870967741935484,0.8870967741935484,0.8870967741935484,0.8870967741935484,0.8870967741935484,0.8870967741935484,0.8870967741935484,0.8870967741935484,0.8870967741935484,0.8870967741935484,0.8870967741935484,0.8870967741935484,0.8870967741935484,0.8870967741935484,0.8870967741935484,0.8870967741935484,0.8870967741935484,0.8870967741935484,0.8870967741935484,0.8870967741935484,0.8870967741935484,0.8870967741935484,0.8870967741935484,0.8870967741935484,0.8870967741935484,0.8870967741935484,0.8870967741935484,0.8870967741935484,0.8870967741935484,0.8870967741935484,0.8709677419354839,0.8709677419354839,0.8709677419354839,0.8709677419354839,0.8709677419354839,0.8709677419354839,0.8709677419354839,0.8709677419354839,0.8709677419354839,0.8709677419354839,0.8709677419354839,0.8709677419354839,0.8709677419354839,0.8709677419354839,0.8709677419354839,0.8709677419354839,0.8709677419354839,0.8709677419354839,0.8709677419354839,0.8709677419354839,0.8709677419354839,0.8709677419354839,0.8709677419354839,0.8709677419354839,0.8709677419354839,0.8709677419354839,0.8709677419354839,0.8709677419354839,0.8709677419354839,0.8709677419354839,0.8548387096774194,0.8548387096774194,0.8548387096774194,0.8548387096774194,0.8548387096774194,0.8548387096774194,0.8548387096774194,0.8548387096774194,0.8548387096774194,0.8548387096774194,0.8548387096774194,0.8548387096774194,0.8548387096774194,0.8548387096774194,0.8548387096774194,0.8548387096774194,0.8548387096774194,0.8548387096774194,0.8387096774193549,0.8387096774193549,0.8064516129032258,0.7903225806451613,0.7903225806451613,0.7903225806451613,0.7741935483870968,0.7741935483870968,0.7580645161290323,0.7419354838709677,0.7258064516129032,0.6935483870967742,0.6612903225806451,0.0],\"yaxis\":\"y\",\"type\":\"scattergl\"}],                        {\"template\":{\"data\":{\"bar\":[{\"error_x\":{\"color\":\"#2a3f5f\"},\"error_y\":{\"color\":\"#2a3f5f\"},\"marker\":{\"line\":{\"color\":\"#E5ECF6\",\"width\":0.5},\"pattern\":{\"fillmode\":\"overlay\",\"size\":10,\"solidity\":0.2}},\"type\":\"bar\"}],\"barpolar\":[{\"marker\":{\"line\":{\"color\":\"#E5ECF6\",\"width\":0.5},\"pattern\":{\"fillmode\":\"overlay\",\"size\":10,\"solidity\":0.2}},\"type\":\"barpolar\"}],\"carpet\":[{\"aaxis\":{\"endlinecolor\":\"#2a3f5f\",\"gridcolor\":\"white\",\"linecolor\":\"white\",\"minorgridcolor\":\"white\",\"startlinecolor\":\"#2a3f5f\"},\"baxis\":{\"endlinecolor\":\"#2a3f5f\",\"gridcolor\":\"white\",\"linecolor\":\"white\",\"minorgridcolor\":\"white\",\"startlinecolor\":\"#2a3f5f\"},\"type\":\"carpet\"}],\"choropleth\":[{\"colorbar\":{\"outlinewidth\":0,\"ticks\":\"\"},\"type\":\"choropleth\"}],\"contour\":[{\"colorbar\":{\"outlinewidth\":0,\"ticks\":\"\"},\"colorscale\":[[0.0,\"#0d0887\"],[0.1111111111111111,\"#46039f\"],[0.2222222222222222,\"#7201a8\"],[0.3333333333333333,\"#9c179e\"],[0.4444444444444444,\"#bd3786\"],[0.5555555555555556,\"#d8576b\"],[0.6666666666666666,\"#ed7953\"],[0.7777777777777778,\"#fb9f3a\"],[0.8888888888888888,\"#fdca26\"],[1.0,\"#f0f921\"]],\"type\":\"contour\"}],\"contourcarpet\":[{\"colorbar\":{\"outlinewidth\":0,\"ticks\":\"\"},\"type\":\"contourcarpet\"}],\"heatmap\":[{\"colorbar\":{\"outlinewidth\":0,\"ticks\":\"\"},\"colorscale\":[[0.0,\"#0d0887\"],[0.1111111111111111,\"#46039f\"],[0.2222222222222222,\"#7201a8\"],[0.3333333333333333,\"#9c179e\"],[0.4444444444444444,\"#bd3786\"],[0.5555555555555556,\"#d8576b\"],[0.6666666666666666,\"#ed7953\"],[0.7777777777777778,\"#fb9f3a\"],[0.8888888888888888,\"#fdca26\"],[1.0,\"#f0f921\"]],\"type\":\"heatmap\"}],\"heatmapgl\":[{\"colorbar\":{\"outlinewidth\":0,\"ticks\":\"\"},\"colorscale\":[[0.0,\"#0d0887\"],[0.1111111111111111,\"#46039f\"],[0.2222222222222222,\"#7201a8\"],[0.3333333333333333,\"#9c179e\"],[0.4444444444444444,\"#bd3786\"],[0.5555555555555556,\"#d8576b\"],[0.6666666666666666,\"#ed7953\"],[0.7777777777777778,\"#fb9f3a\"],[0.8888888888888888,\"#fdca26\"],[1.0,\"#f0f921\"]],\"type\":\"heatmapgl\"}],\"histogram\":[{\"marker\":{\"pattern\":{\"fillmode\":\"overlay\",\"size\":10,\"solidity\":0.2}},\"type\":\"histogram\"}],\"histogram2d\":[{\"colorbar\":{\"outlinewidth\":0,\"ticks\":\"\"},\"colorscale\":[[0.0,\"#0d0887\"],[0.1111111111111111,\"#46039f\"],[0.2222222222222222,\"#7201a8\"],[0.3333333333333333,\"#9c179e\"],[0.4444444444444444,\"#bd3786\"],[0.5555555555555556,\"#d8576b\"],[0.6666666666666666,\"#ed7953\"],[0.7777777777777778,\"#fb9f3a\"],[0.8888888888888888,\"#fdca26\"],[1.0,\"#f0f921\"]],\"type\":\"histogram2d\"}],\"histogram2dcontour\":[{\"colorbar\":{\"outlinewidth\":0,\"ticks\":\"\"},\"colorscale\":[[0.0,\"#0d0887\"],[0.1111111111111111,\"#46039f\"],[0.2222222222222222,\"#7201a8\"],[0.3333333333333333,\"#9c179e\"],[0.4444444444444444,\"#bd3786\"],[0.5555555555555556,\"#d8576b\"],[0.6666666666666666,\"#ed7953\"],[0.7777777777777778,\"#fb9f3a\"],[0.8888888888888888,\"#fdca26\"],[1.0,\"#f0f921\"]],\"type\":\"histogram2dcontour\"}],\"mesh3d\":[{\"colorbar\":{\"outlinewidth\":0,\"ticks\":\"\"},\"type\":\"mesh3d\"}],\"parcoords\":[{\"line\":{\"colorbar\":{\"outlinewidth\":0,\"ticks\":\"\"}},\"type\":\"parcoords\"}],\"pie\":[{\"automargin\":true,\"type\":\"pie\"}],\"scatter\":[{\"marker\":{\"colorbar\":{\"outlinewidth\":0,\"ticks\":\"\"}},\"type\":\"scatter\"}],\"scatter3d\":[{\"line\":{\"colorbar\":{\"outlinewidth\":0,\"ticks\":\"\"}},\"marker\":{\"colorbar\":{\"outlinewidth\":0,\"ticks\":\"\"}},\"type\":\"scatter3d\"}],\"scattercarpet\":[{\"marker\":{\"colorbar\":{\"outlinewidth\":0,\"ticks\":\"\"}},\"type\":\"scattercarpet\"}],\"scattergeo\":[{\"marker\":{\"colorbar\":{\"outlinewidth\":0,\"ticks\":\"\"}},\"type\":\"scattergeo\"}],\"scattergl\":[{\"marker\":{\"colorbar\":{\"outlinewidth\":0,\"ticks\":\"\"}},\"type\":\"scattergl\"}],\"scattermapbox\":[{\"marker\":{\"colorbar\":{\"outlinewidth\":0,\"ticks\":\"\"}},\"type\":\"scattermapbox\"}],\"scatterpolar\":[{\"marker\":{\"colorbar\":{\"outlinewidth\":0,\"ticks\":\"\"}},\"type\":\"scatterpolar\"}],\"scatterpolargl\":[{\"marker\":{\"colorbar\":{\"outlinewidth\":0,\"ticks\":\"\"}},\"type\":\"scatterpolargl\"}],\"scatterternary\":[{\"marker\":{\"colorbar\":{\"outlinewidth\":0,\"ticks\":\"\"}},\"type\":\"scatterternary\"}],\"surface\":[{\"colorbar\":{\"outlinewidth\":0,\"ticks\":\"\"},\"colorscale\":[[0.0,\"#0d0887\"],[0.1111111111111111,\"#46039f\"],[0.2222222222222222,\"#7201a8\"],[0.3333333333333333,\"#9c179e\"],[0.4444444444444444,\"#bd3786\"],[0.5555555555555556,\"#d8576b\"],[0.6666666666666666,\"#ed7953\"],[0.7777777777777778,\"#fb9f3a\"],[0.8888888888888888,\"#fdca26\"],[1.0,\"#f0f921\"]],\"type\":\"surface\"}],\"table\":[{\"cells\":{\"fill\":{\"color\":\"#EBF0F8\"},\"line\":{\"color\":\"white\"}},\"header\":{\"fill\":{\"color\":\"#C8D4E3\"},\"line\":{\"color\":\"white\"}},\"type\":\"table\"}]},\"layout\":{\"annotationdefaults\":{\"arrowcolor\":\"#2a3f5f\",\"arrowhead\":0,\"arrowwidth\":1},\"autotypenumbers\":\"strict\",\"coloraxis\":{\"colorbar\":{\"outlinewidth\":0,\"ticks\":\"\"}},\"colorscale\":{\"diverging\":[[0,\"#8e0152\"],[0.1,\"#c51b7d\"],[0.2,\"#de77ae\"],[0.3,\"#f1b6da\"],[0.4,\"#fde0ef\"],[0.5,\"#f7f7f7\"],[0.6,\"#e6f5d0\"],[0.7,\"#b8e186\"],[0.8,\"#7fbc41\"],[0.9,\"#4d9221\"],[1,\"#276419\"]],\"sequential\":[[0.0,\"#0d0887\"],[0.1111111111111111,\"#46039f\"],[0.2222222222222222,\"#7201a8\"],[0.3333333333333333,\"#9c179e\"],[0.4444444444444444,\"#bd3786\"],[0.5555555555555556,\"#d8576b\"],[0.6666666666666666,\"#ed7953\"],[0.7777777777777778,\"#fb9f3a\"],[0.8888888888888888,\"#fdca26\"],[1.0,\"#f0f921\"]],\"sequentialminus\":[[0.0,\"#0d0887\"],[0.1111111111111111,\"#46039f\"],[0.2222222222222222,\"#7201a8\"],[0.3333333333333333,\"#9c179e\"],[0.4444444444444444,\"#bd3786\"],[0.5555555555555556,\"#d8576b\"],[0.6666666666666666,\"#ed7953\"],[0.7777777777777778,\"#fb9f3a\"],[0.8888888888888888,\"#fdca26\"],[1.0,\"#f0f921\"]]},\"colorway\":[\"#636efa\",\"#EF553B\",\"#00cc96\",\"#ab63fa\",\"#FFA15A\",\"#19d3f3\",\"#FF6692\",\"#B6E880\",\"#FF97FF\",\"#FECB52\"],\"font\":{\"color\":\"#2a3f5f\"},\"geo\":{\"bgcolor\":\"white\",\"lakecolor\":\"white\",\"landcolor\":\"#E5ECF6\",\"showlakes\":true,\"showland\":true,\"subunitcolor\":\"white\"},\"hoverlabel\":{\"align\":\"left\"},\"hovermode\":\"closest\",\"mapbox\":{\"style\":\"light\"},\"paper_bgcolor\":\"white\",\"plot_bgcolor\":\"#E5ECF6\",\"polar\":{\"angularaxis\":{\"gridcolor\":\"white\",\"linecolor\":\"white\",\"ticks\":\"\"},\"bgcolor\":\"#E5ECF6\",\"radialaxis\":{\"gridcolor\":\"white\",\"linecolor\":\"white\",\"ticks\":\"\"}},\"scene\":{\"xaxis\":{\"backgroundcolor\":\"#E5ECF6\",\"gridcolor\":\"white\",\"gridwidth\":2,\"linecolor\":\"white\",\"showbackground\":true,\"ticks\":\"\",\"zerolinecolor\":\"white\"},\"yaxis\":{\"backgroundcolor\":\"#E5ECF6\",\"gridcolor\":\"white\",\"gridwidth\":2,\"linecolor\":\"white\",\"showbackground\":true,\"ticks\":\"\",\"zerolinecolor\":\"white\"},\"zaxis\":{\"backgroundcolor\":\"#E5ECF6\",\"gridcolor\":\"white\",\"gridwidth\":2,\"linecolor\":\"white\",\"showbackground\":true,\"ticks\":\"\",\"zerolinecolor\":\"white\"}},\"shapedefaults\":{\"line\":{\"color\":\"#2a3f5f\"}},\"ternary\":{\"aaxis\":{\"gridcolor\":\"white\",\"linecolor\":\"white\",\"ticks\":\"\"},\"baxis\":{\"gridcolor\":\"white\",\"linecolor\":\"white\",\"ticks\":\"\"},\"bgcolor\":\"#E5ECF6\",\"caxis\":{\"gridcolor\":\"white\",\"linecolor\":\"white\",\"ticks\":\"\"}},\"title\":{\"x\":0.05},\"xaxis\":{\"automargin\":true,\"gridcolor\":\"white\",\"linecolor\":\"white\",\"ticks\":\"\",\"title\":{\"standoff\":15},\"zerolinecolor\":\"white\",\"zerolinewidth\":2},\"yaxis\":{\"automargin\":true,\"gridcolor\":\"white\",\"linecolor\":\"white\",\"ticks\":\"\",\"title\":{\"standoff\":15},\"zerolinecolor\":\"white\",\"zerolinewidth\":2}}},\"xaxis\":{\"anchor\":\"y\",\"domain\":[0.0,1.0],\"title\":{\"text\":\"False Positive Rate\"}},\"yaxis\":{\"anchor\":\"x\",\"domain\":[0.0,1.0],\"title\":{\"text\":\"True Positive Rate\"}},\"coloraxis\":{\"colorbar\":{\"title\":{\"text\":\"Threshold\"}},\"colorscale\":[[0.0,\"#0d0887\"],[0.1111111111111111,\"#46039f\"],[0.2222222222222222,\"#7201a8\"],[0.3333333333333333,\"#9c179e\"],[0.4444444444444444,\"#bd3786\"],[0.5555555555555556,\"#d8576b\"],[0.6666666666666666,\"#ed7953\"],[0.7777777777777778,\"#fb9f3a\"],[0.8888888888888888,\"#fdca26\"],[1.0,\"#f0f921\"]]},\"legend\":{\"tracegroupgap\":0},\"title\":{\"text\":\"ROC Curve\"}},                        {\"responsive\": true}                    ).then(function(){\n",
              "                            \n",
              "var gd = document.getElementById('cd10cedd-9aef-436d-952e-e389aa464568');\n",
              "var x = new MutationObserver(function (mutations, observer) {{\n",
              "        var display = window.getComputedStyle(gd).display;\n",
              "        if (!display || display === 'none') {{\n",
              "            console.log([gd, 'removed!']);\n",
              "            Plotly.purge(gd);\n",
              "            observer.disconnect();\n",
              "        }}\n",
              "}});\n",
              "\n",
              "// Listen for the removal of the full notebook cells\n",
              "var notebookContainer = gd.closest('#notebook-container');\n",
              "if (notebookContainer) {{\n",
              "    x.observe(notebookContainer, {childList: true});\n",
              "}}\n",
              "\n",
              "// Listen for the clearing of the current output cell\n",
              "var outputEl = gd.closest('.output');\n",
              "if (outputEl) {{\n",
              "    x.observe(outputEl, {childList: true});\n",
              "}}\n",
              "\n",
              "                        })                };                            </script>        </div>\n",
              "</body>\n",
              "</html>"
            ]
          },
          "metadata": {}
        }
      ]
    },
    {
      "cell_type": "code",
      "source": [
        "# Accuracy on Train\n",
        "print(\"Training Accuracy is: \", logreg.score(X_train, y_train))\n",
        "\n",
        "# Accuracy on Train\n",
        "print(\"Testing Accuracy is: \", logreg.score(X_test, y_test))"
      ],
      "metadata": {
        "colab": {
          "base_uri": "https://localhost:8080/"
        },
        "id": "dMLBltqe-TMd",
        "outputId": "ddc253e3-15eb-4d8e-b5b4-5549b5f84033"
      },
      "execution_count": null,
      "outputs": [
        {
          "output_type": "stream",
          "name": "stdout",
          "text": [
            "Training Accuracy is:  0.9583333333333334\n",
            "Testing Accuracy is:  0.9833333333333333\n"
          ]
        }
      ]
    },
    {
      "cell_type": "markdown",
      "source": [
        "**KNN**"
      ],
      "metadata": {
        "id": "8ujXKbEukO47"
      }
    },
    {
      "cell_type": "code",
      "source": [
        "from sklearn.neighbors import KNeighborsClassifier\n",
        "\n",
        "model = KNeighborsClassifier().fit(X_train, y_train)\n",
        "test_predictions = model.predict(X_test)\n",
        "test_predictions"
      ],
      "metadata": {
        "colab": {
          "base_uri": "https://localhost:8080/"
        },
        "id": "RlVcCkwLRv1V",
        "outputId": "e33fa2fd-99ec-47e8-9341-61afe0841a14"
      },
      "execution_count": null,
      "outputs": [
        {
          "output_type": "execute_result",
          "data": {
            "text/plain": [
              "array([1, 0, 0, 1, 1, 1, 1, 0, 1, 0, 1, 1, 1, 0, 0, 1, 1, 1, 1, 1, 1, 0,\n",
              "       0, 0, 0, 0, 1, 1, 0, 0, 0, 1, 1, 1, 1, 0, 1, 0, 0, 1, 0, 1, 0, 0,\n",
              "       1, 1, 0, 1, 1, 0, 1, 1, 1, 0, 0, 0, 1, 1, 1, 1, 1, 1, 0, 0, 0, 1,\n",
              "       0, 0, 1, 0, 0, 1, 0, 0, 0, 0, 0, 1, 0, 0, 1, 0, 0, 0, 1, 1, 1, 1,\n",
              "       0, 1, 1, 0, 1, 1, 1, 1, 1, 1, 0, 1, 1, 1, 0, 0, 1, 0, 1, 1, 1, 0,\n",
              "       1, 0, 0, 0, 0, 0, 0, 1, 0, 0])"
            ]
          },
          "metadata": {},
          "execution_count": 67
        }
      ]
    },
    {
      "cell_type": "code",
      "source": [
        "cm = confusion_matrix(y_test, test_predictions, labels=[0, 1])\n",
        "disp = ConfusionMatrixDisplay(confusion_matrix=cm,\n",
        "                              display_labels=['Not Sepsis', 'Sepsis'])\n",
        "disp.plot()"
      ],
      "metadata": {
        "colab": {
          "base_uri": "https://localhost:8080/",
          "height": 296
        },
        "id": "lIlVNALrk9-u",
        "outputId": "aa7591e9-3b45-44fd-b428-d1c346f91463"
      },
      "execution_count": null,
      "outputs": [
        {
          "output_type": "execute_result",
          "data": {
            "text/plain": [
              "<sklearn.metrics._plot.confusion_matrix.ConfusionMatrixDisplay at 0x7f5a44476490>"
            ]
          },
          "metadata": {},
          "execution_count": 68
        },
        {
          "output_type": "display_data",
          "data": {
            "text/plain": [
              "<Figure size 432x288 with 2 Axes>"
            ],
            "image/png": "[encoded data removed]"
          },
          "metadata": {
            "needs_background": "light"
          }
        }
      ]
    },
    {
      "cell_type": "code",
      "source": [
        "tn, fp, fn, tp = cm.ravel()\n",
        "\n",
        "s = \"\"\"\n",
        "True Negatives: {0}\n",
        "False Positives: {1}\n",
        "False Negatives: {2}\n",
        "True Positives: {3}\n",
        "\"\"\".format(tn, fp, fn, tp)\n",
        "\n",
        "print(s)"
      ],
      "metadata": {
        "colab": {
          "base_uri": "https://localhost:8080/"
        },
        "id": "mGHUDDnnlLc6",
        "outputId": "42db9902-e601-4fa2-e2af-4339eb859367"
      },
      "execution_count": null,
      "outputs": [
        {
          "output_type": "stream",
          "name": "stdout",
          "text": [
            "\n",
            "True Negatives: 57\n",
            "False Positives: 1\n",
            "False Negatives: 0\n",
            "True Positives: 62\n",
            "\n"
          ]
        }
      ]
    },
    {
      "cell_type": "markdown",
      "source": [
        "**Accuracy**"
      ],
      "metadata": {
        "id": "h2kr-SbmldVI"
      }
    },
    {
      "cell_type": "code",
      "source": [
        "def accuracy(tn, fp, fn, tp):\n",
        "  return (tp + tn) / (tp + tn + fp + fn)\n",
        "\n",
        "\"Accuracy: {0}\".format(accuracy(tn, fp, fn, tp))"
      ],
      "metadata": {
        "colab": {
          "base_uri": "https://localhost:8080/",
          "height": 35
        },
        "outputId": "8f63bd2e-2c30-4516-9578-555e09caf2d4",
        "id": "zYMfvWTnldVI"
      },
      "execution_count": null,
      "outputs": [
        {
          "output_type": "execute_result",
          "data": {
            "text/plain": [
              "'Accuracy: 0.9916666666666667'"
            ],
            "application/vnd.google.colaboratory.intrinsic+json": {
              "type": "string"
            }
          },
          "metadata": {},
          "execution_count": 70
        }
      ]
    },
    {
      "cell_type": "markdown",
      "source": [
        "**Sensitivity**"
      ],
      "metadata": {
        "id": "YnwIBfitldVI"
      }
    },
    {
      "cell_type": "code",
      "source": [
        "def tpr(tn, fp, fn, tp):\n",
        "  return tp / (tp + fn)\n",
        "\n",
        "\"True Positive Rate: {0}\".format(tpr(tn, fp, fn, tp))"
      ],
      "metadata": {
        "colab": {
          "base_uri": "https://localhost:8080/",
          "height": 35
        },
        "outputId": "d7385a0b-b643-4930-ffd7-eb507bb38085",
        "id": "IW3ivnZAldVJ"
      },
      "execution_count": null,
      "outputs": [
        {
          "output_type": "execute_result",
          "data": {
            "text/plain": [
              "'True Positive Rate: 1.0'"
            ],
            "application/vnd.google.colaboratory.intrinsic+json": {
              "type": "string"
            }
          },
          "metadata": {},
          "execution_count": 71
        }
      ]
    },
    {
      "cell_type": "markdown",
      "source": [
        "**False Negative Rate**"
      ],
      "metadata": {
        "id": "S_cTY69CldVJ"
      }
    },
    {
      "cell_type": "code",
      "source": [
        "def fnr(tn, fp, fn, tp):\n",
        "  return fn / (tp + fn)\n",
        "\n",
        "\"False Negative Rate: {0}\".format(fnr(tn, fp, fn, tp))"
      ],
      "metadata": {
        "colab": {
          "base_uri": "https://localhost:8080/",
          "height": 35
        },
        "outputId": "fb782bb9-8a4c-4837-c2d0-737126954659",
        "id": "8jVXSyfBldVJ"
      },
      "execution_count": null,
      "outputs": [
        {
          "output_type": "execute_result",
          "data": {
            "text/plain": [
              "'False Negative Rate: 0.0'"
            ],
            "application/vnd.google.colaboratory.intrinsic+json": {
              "type": "string"
            }
          },
          "metadata": {},
          "execution_count": 72
        }
      ]
    },
    {
      "cell_type": "markdown",
      "source": [
        "**Specificity**"
      ],
      "metadata": {
        "id": "Cxz5OKD4ldVJ"
      }
    },
    {
      "cell_type": "code",
      "source": [
        "def tnr(tn, fp, fn, tp):\n",
        "  return tn / (tn + fp)\n",
        "\n",
        "\"Specificity: {0}\".format(tnr(tn, fp, fn, tp))"
      ],
      "metadata": {
        "colab": {
          "base_uri": "https://localhost:8080/",
          "height": 35
        },
        "outputId": "004eea7c-481b-459d-e8ca-48362ea3a1ff",
        "id": "0axUglUlldVJ"
      },
      "execution_count": null,
      "outputs": [
        {
          "output_type": "execute_result",
          "data": {
            "text/plain": [
              "'Specificity: 0.9827586206896551'"
            ],
            "application/vnd.google.colaboratory.intrinsic+json": {
              "type": "string"
            }
          },
          "metadata": {},
          "execution_count": 73
        }
      ]
    },
    {
      "cell_type": "markdown",
      "source": [
        "**False Positive Rate**"
      ],
      "metadata": {
        "id": "1xaXTElJldVJ"
      }
    },
    {
      "cell_type": "code",
      "source": [
        "def fpr(tn, fp, fn, tp):\n",
        "  return fp / (tn + fp)\n",
        "\n",
        "\"False Positive Rate: {0}\".format(fpr(tn, fp, fn, tp))"
      ],
      "metadata": {
        "colab": {
          "base_uri": "https://localhost:8080/",
          "height": 35
        },
        "outputId": "14af283c-6620-4d56-e186-cfbb6c81b140",
        "id": "SSjxImT4ldVK"
      },
      "execution_count": null,
      "outputs": [
        {
          "output_type": "execute_result",
          "data": {
            "text/plain": [
              "'False Positive Rate: 0.017241379310344827'"
            ],
            "application/vnd.google.colaboratory.intrinsic+json": {
              "type": "string"
            }
          },
          "metadata": {},
          "execution_count": 74
        }
      ]
    },
    {
      "cell_type": "markdown",
      "source": [
        "**Negative Predictive Value**"
      ],
      "metadata": {
        "id": "qi6OStrQldVK"
      }
    },
    {
      "cell_type": "code",
      "source": [
        "def npv(tn, fp, fn, tp):\n",
        "  return tn / (tn + fn)\n",
        "\n",
        "\"Negative Predictive Value: {0}\".format(npv(tn, fp, fn, tp))"
      ],
      "metadata": {
        "colab": {
          "base_uri": "https://localhost:8080/",
          "height": 35
        },
        "outputId": "09f96fff-fc8b-4967-cd4c-0defc2833147",
        "id": "YKtm0hb5ldVK"
      },
      "execution_count": null,
      "outputs": [
        {
          "output_type": "execute_result",
          "data": {
            "text/plain": [
              "'Negative Predictive Value: 1.0'"
            ],
            "application/vnd.google.colaboratory.intrinsic+json": {
              "type": "string"
            }
          },
          "metadata": {},
          "execution_count": 75
        }
      ]
    },
    {
      "cell_type": "markdown",
      "source": [
        "**Precision**"
      ],
      "metadata": {
        "id": "tm6NcBR0ldVK"
      }
    },
    {
      "cell_type": "code",
      "source": [
        "def ppv(tn, fp, fn, tp):\n",
        "  return tp / (tp + fp)\n",
        "\n",
        "\"Positive Predictive Value: {0}\".format(ppv(tn, fp, fn, tp))"
      ],
      "metadata": {
        "colab": {
          "base_uri": "https://localhost:8080/",
          "height": 35
        },
        "outputId": "4ea71342-3329-405b-faae-9121b1f716e6",
        "id": "3UefZIYQldVK"
      },
      "execution_count": null,
      "outputs": [
        {
          "output_type": "execute_result",
          "data": {
            "text/plain": [
              "'Positive Predictive Value: 0.9841269841269841'"
            ],
            "application/vnd.google.colaboratory.intrinsic+json": {
              "type": "string"
            }
          },
          "metadata": {},
          "execution_count": 76
        }
      ]
    },
    {
      "cell_type": "markdown",
      "source": [
        "**Balanced Accuracy**"
      ],
      "metadata": {
        "id": "-Bc4LRBIldVK"
      }
    },
    {
      "cell_type": "code",
      "source": [
        "def balanced_accuracy(tn, fp, fn, tp):\n",
        "  tprr = tpr(tn, fp, fn, tp)\n",
        "  tnrr = tnr(tn, fp, fn, tp)\n",
        "  return (tprr + tnrr) / 2\n",
        "\n",
        "\"Balanced Accuracy: {0}\".format(balanced_accuracy(tn, fp, fn, tp))"
      ],
      "metadata": {
        "colab": {
          "base_uri": "https://localhost:8080/",
          "height": 35
        },
        "outputId": "358345ef-a399-431e-d4f1-7896c467f630",
        "id": "ramVta-oldVL"
      },
      "execution_count": null,
      "outputs": [
        {
          "output_type": "execute_result",
          "data": {
            "text/plain": [
              "'Balanced Accuracy: 0.9913793103448276'"
            ],
            "application/vnd.google.colaboratory.intrinsic+json": {
              "type": "string"
            }
          },
          "metadata": {},
          "execution_count": 77
        }
      ]
    },
    {
      "cell_type": "markdown",
      "source": [
        "**F1**"
      ],
      "metadata": {
        "id": "fl5kC-xpldVL"
      }
    },
    {
      "cell_type": "code",
      "source": [
        "def f1(tn, fp, fn, tp):\n",
        "  p = ppv(tn, fp, fn, tp)\n",
        "  r = tpr(tn, fp, fn, tp)\n",
        "  \n",
        "  return (2*p*r) / (p + r)\n",
        "\n",
        "\"F1 Score: {0}\".format(f1(tn, fp, fn, tp))"
      ],
      "metadata": {
        "colab": {
          "base_uri": "https://localhost:8080/",
          "height": 35
        },
        "outputId": "a77755a0-3b70-4fa1-f467-b218918bd940",
        "id": "jyzUtbjmldVL"
      },
      "execution_count": null,
      "outputs": [
        {
          "output_type": "execute_result",
          "data": {
            "text/plain": [
              "'F1 Score: 0.9919999999999999'"
            ],
            "application/vnd.google.colaboratory.intrinsic+json": {
              "type": "string"
            }
          },
          "metadata": {},
          "execution_count": 78
        }
      ]
    },
    {
      "cell_type": "code",
      "source": [
        "print(\"Training Accuracy is: \", knn.score(X_train, y_train))\n",
        "\n",
        "print(\"Testing Accuracy is: \", knn.score(X_test, y_test))"
      ],
      "metadata": {
        "colab": {
          "base_uri": "https://localhost:8080/"
        },
        "id": "qQpUZJFB-nDp",
        "outputId": "e93bf695-f7e1-4a7a-a3df-1bda006d0695"
      },
      "execution_count": null,
      "outputs": [
        {
          "output_type": "stream",
          "name": "stdout",
          "text": [
            "Training Accuracy is:  0.9875\n",
            "Testing Accuracy is:  0.9833333333333333\n"
          ]
        }
      ]
    },
    {
      "cell_type": "markdown",
      "source": [
        "**Random Forest**"
      ],
      "metadata": {
        "id": "EfwOdXcpl6Oe"
      }
    },
    {
      "cell_type": "code",
      "source": [
        "model = RandomForestClassifier().fit(X_train, y_train)\n",
        "test_predictions = model.predict(X_test)\n",
        "test_predictions"
      ],
      "metadata": {
        "colab": {
          "base_uri": "https://localhost:8080/"
        },
        "id": "6AivVtTbR9Xo",
        "outputId": "13879af5-72e7-496d-89ca-67bf957225f2"
      },
      "execution_count": null,
      "outputs": [
        {
          "output_type": "execute_result",
          "data": {
            "text/plain": [
              "array([1, 0, 0, 1, 1, 1, 1, 0, 1, 0, 1, 1, 1, 0, 0, 1, 1, 1, 1, 1, 1, 0,\n",
              "       0, 0, 0, 0, 1, 1, 0, 0, 0, 1, 1, 1, 1, 0, 1, 0, 0, 1, 0, 1, 0, 0,\n",
              "       1, 1, 0, 1, 1, 0, 1, 1, 1, 0, 0, 0, 1, 1, 1, 1, 1, 1, 0, 0, 0, 1,\n",
              "       0, 0, 1, 0, 0, 1, 0, 0, 0, 0, 0, 1, 0, 0, 1, 0, 0, 0, 1, 1, 1, 1,\n",
              "       0, 1, 1, 0, 1, 0, 1, 1, 1, 1, 0, 1, 1, 1, 0, 0, 1, 0, 1, 1, 1, 0,\n",
              "       1, 0, 0, 0, 0, 0, 0, 1, 0, 0])"
            ]
          },
          "metadata": {},
          "execution_count": 79
        }
      ]
    },
    {
      "cell_type": "code",
      "source": [
        "cm = confusion_matrix(y_test, test_predictions, labels=[0, 1])\n",
        "disp = ConfusionMatrixDisplay(confusion_matrix=cm,\n",
        "                              display_labels=['Not Sepsis', 'Sepsis'])\n",
        "disp.plot()"
      ],
      "metadata": {
        "colab": {
          "base_uri": "https://localhost:8080/",
          "height": 296
        },
        "id": "qNCAC2k5mRsK",
        "outputId": "f2a8d985-150c-49fd-a92a-0d5652aae221"
      },
      "execution_count": null,
      "outputs": [
        {
          "output_type": "execute_result",
          "data": {
            "text/plain": [
              "<sklearn.metrics._plot.confusion_matrix.ConfusionMatrixDisplay at 0x7f5a46a41e10>"
            ]
          },
          "metadata": {},
          "execution_count": 80
        },
        {
          "output_type": "display_data",
          "data": {
            "text/plain": [
              "<Figure size 432x288 with 2 Axes>"
            ],
            "image/png": "[encoded data removed]"
          },
          "metadata": {
            "needs_background": "light"
          }
        }
      ]
    },
    {
      "cell_type": "code",
      "source": [
        "tn, fp, fn, tp = cm.ravel()\n",
        "\n",
        "s = \"\"\"\n",
        "True Negatives: {0}\n",
        "False Positives: {1}\n",
        "False Negatives: {2}\n",
        "True Positives: {3}\n",
        "\"\"\".format(tn, fp, fn, tp)\n",
        "\n",
        "print(s)"
      ],
      "metadata": {
        "colab": {
          "base_uri": "https://localhost:8080/"
        },
        "id": "pJwqen59mZW2",
        "outputId": "2fb05099-e459-4634-dd78-59002c292e22"
      },
      "execution_count": null,
      "outputs": [
        {
          "output_type": "stream",
          "name": "stdout",
          "text": [
            "\n",
            "True Negatives: 58\n",
            "False Positives: 0\n",
            "False Negatives: 0\n",
            "True Positives: 62\n",
            "\n"
          ]
        }
      ]
    },
    {
      "cell_type": "markdown",
      "source": [
        "**Accuracy**"
      ],
      "metadata": {
        "id": "q6NbrFcSlzvX"
      }
    },
    {
      "cell_type": "code",
      "source": [
        "def accuracy(tn, fp, fn, tp):\n",
        "  return (tp + tn) / (tp + tn + fp + fn)\n",
        "\n",
        "\"Accuracy: {0}\".format(accuracy(tn, fp, fn, tp))"
      ],
      "metadata": {
        "colab": {
          "base_uri": "https://localhost:8080/",
          "height": 35
        },
        "outputId": "efeabe21-d3e8-491e-e575-4bb07437e21f",
        "id": "AlE4-_S9lzvX"
      },
      "execution_count": null,
      "outputs": [
        {
          "output_type": "execute_result",
          "data": {
            "text/plain": [
              "'Accuracy: 1.0'"
            ],
            "application/vnd.google.colaboratory.intrinsic+json": {
              "type": "string"
            }
          },
          "metadata": {},
          "execution_count": 82
        }
      ]
    },
    {
      "cell_type": "markdown",
      "source": [
        "**Sensitivity**"
      ],
      "metadata": {
        "id": "ILKeqI7blzvX"
      }
    },
    {
      "cell_type": "code",
      "source": [
        "def tpr(tn, fp, fn, tp):\n",
        "  return tp / (tp + fn)\n",
        "\n",
        "\"True Positive Rate: {0}\".format(tpr(tn, fp, fn, tp))"
      ],
      "metadata": {
        "colab": {
          "base_uri": "https://localhost:8080/",
          "height": 35
        },
        "outputId": "19bf33a9-eec3-4743-a5b9-e217a97dc045",
        "id": "9pLBTJpvlzvY"
      },
      "execution_count": null,
      "outputs": [
        {
          "output_type": "execute_result",
          "data": {
            "text/plain": [
              "'True Positive Rate: 1.0'"
            ],
            "application/vnd.google.colaboratory.intrinsic+json": {
              "type": "string"
            }
          },
          "metadata": {},
          "execution_count": 83
        }
      ]
    },
    {
      "cell_type": "markdown",
      "source": [
        "**False Negative Rate**"
      ],
      "metadata": {
        "id": "gy8D9yeelzvY"
      }
    },
    {
      "cell_type": "code",
      "source": [
        "def fnr(tn, fp, fn, tp):\n",
        "  return fn / (tp + fn)\n",
        "\n",
        "\"False Negative Rate: {0}\".format(fnr(tn, fp, fn, tp))"
      ],
      "metadata": {
        "colab": {
          "base_uri": "https://localhost:8080/",
          "height": 35
        },
        "outputId": "d0128415-296d-46c2-e03c-dcec4173a84b",
        "id": "Ul2S2kVGlzvY"
      },
      "execution_count": null,
      "outputs": [
        {
          "output_type": "execute_result",
          "data": {
            "text/plain": [
              "'False Negative Rate: 0.0'"
            ],
            "application/vnd.google.colaboratory.intrinsic+json": {
              "type": "string"
            }
          },
          "metadata": {},
          "execution_count": 84
        }
      ]
    },
    {
      "cell_type": "markdown",
      "source": [
        "**Specificity**"
      ],
      "metadata": {
        "id": "HoYktEhZlzvY"
      }
    },
    {
      "cell_type": "code",
      "source": [
        "def tnr(tn, fp, fn, tp):\n",
        "  return tn / (tn + fp)\n",
        "\n",
        "\"Specificity: {0}\".format(tnr(tn, fp, fn, tp))"
      ],
      "metadata": {
        "colab": {
          "base_uri": "https://localhost:8080/",
          "height": 35
        },
        "outputId": "9e234991-b47d-48d5-eec8-5cb698bd1f86",
        "id": "b4cPIcEJlzvY"
      },
      "execution_count": null,
      "outputs": [
        {
          "output_type": "execute_result",
          "data": {
            "text/plain": [
              "'Specificity: 1.0'"
            ],
            "application/vnd.google.colaboratory.intrinsic+json": {
              "type": "string"
            }
          },
          "metadata": {},
          "execution_count": 85
        }
      ]
    },
    {
      "cell_type": "markdown",
      "source": [
        "**False Positive Rate**"
      ],
      "metadata": {
        "id": "tXFxk8UwlzvZ"
      }
    },
    {
      "cell_type": "code",
      "source": [
        "def fpr(tn, fp, fn, tp):\n",
        "  return fp / (tn + fp)\n",
        "\n",
        "\"False Positive Rate: {0}\".format(fpr(tn, fp, fn, tp))"
      ],
      "metadata": {
        "colab": {
          "base_uri": "https://localhost:8080/",
          "height": 35
        },
        "outputId": "8b84195c-bad3-4101-85c6-6223b088919c",
        "id": "3l-unM_PlzvZ"
      },
      "execution_count": null,
      "outputs": [
        {
          "output_type": "execute_result",
          "data": {
            "text/plain": [
              "'False Positive Rate: 0.0'"
            ],
            "application/vnd.google.colaboratory.intrinsic+json": {
              "type": "string"
            }
          },
          "metadata": {},
          "execution_count": 86
        }
      ]
    },
    {
      "cell_type": "markdown",
      "source": [
        "**Negative Predictive Value**"
      ],
      "metadata": {
        "id": "lwxaHW_KlzvZ"
      }
    },
    {
      "cell_type": "code",
      "source": [
        "def npv(tn, fp, fn, tp):\n",
        "  return tn / (tn + fn)\n",
        "\n",
        "\"Negative Predictive Value: {0}\".format(npv(tn, fp, fn, tp))"
      ],
      "metadata": {
        "colab": {
          "base_uri": "https://localhost:8080/",
          "height": 35
        },
        "outputId": "ba5923d0-0d50-404e-a485-3c9d6e26aca9",
        "id": "ydvxFER5lzvZ"
      },
      "execution_count": null,
      "outputs": [
        {
          "output_type": "execute_result",
          "data": {
            "text/plain": [
              "'Negative Predictive Value: 1.0'"
            ],
            "application/vnd.google.colaboratory.intrinsic+json": {
              "type": "string"
            }
          },
          "metadata": {},
          "execution_count": 87
        }
      ]
    },
    {
      "cell_type": "markdown",
      "source": [
        "**Precision**"
      ],
      "metadata": {
        "id": "qjGVaA_YlzvZ"
      }
    },
    {
      "cell_type": "code",
      "source": [
        "def ppv(tn, fp, fn, tp):\n",
        "  return tp / (tp + fp)\n",
        "\n",
        "\"Positive Predictive Value: {0}\".format(ppv(tn, fp, fn, tp))"
      ],
      "metadata": {
        "colab": {
          "base_uri": "https://localhost:8080/",
          "height": 35
        },
        "outputId": "efea7875-5b16-4900-8089-e1e25bc70bf9",
        "id": "ItTy2lzLlzvZ"
      },
      "execution_count": null,
      "outputs": [
        {
          "output_type": "execute_result",
          "data": {
            "text/plain": [
              "'Positive Predictive Value: 1.0'"
            ],
            "application/vnd.google.colaboratory.intrinsic+json": {
              "type": "string"
            }
          },
          "metadata": {},
          "execution_count": 88
        }
      ]
    },
    {
      "cell_type": "markdown",
      "source": [
        "**Balanced Accuracy**"
      ],
      "metadata": {
        "id": "k1njco0UlzvZ"
      }
    },
    {
      "cell_type": "code",
      "source": [
        "def balanced_accuracy(tn, fp, fn, tp):\n",
        "  tprr = tpr(tn, fp, fn, tp)\n",
        "  tnrr = tnr(tn, fp, fn, tp)\n",
        "  return (tprr + tnrr) / 2\n",
        "\n",
        "\"Balanced Accuracy: {0}\".format(balanced_accuracy(tn, fp, fn, tp))"
      ],
      "metadata": {
        "colab": {
          "base_uri": "https://localhost:8080/",
          "height": 35
        },
        "outputId": "f8d16a92-0041-4669-e6be-d1123d539693",
        "id": "cjP__n11lzva"
      },
      "execution_count": null,
      "outputs": [
        {
          "output_type": "execute_result",
          "data": {
            "text/plain": [
              "'Balanced Accuracy: 1.0'"
            ],
            "application/vnd.google.colaboratory.intrinsic+json": {
              "type": "string"
            }
          },
          "metadata": {},
          "execution_count": 89
        }
      ]
    },
    {
      "cell_type": "markdown",
      "source": [
        "**F1**"
      ],
      "metadata": {
        "id": "Raw9N1i9lzva"
      }
    },
    {
      "cell_type": "code",
      "source": [
        "def f1(tn, fp, fn, tp):\n",
        "  p = ppv(tn, fp, fn, tp)\n",
        "  r = tpr(tn, fp, fn, tp)\n",
        "  \n",
        "  return (2*p*r) / (p + r)\n",
        "\n",
        "\"F1 Score: {0}\".format(f1(tn, fp, fn, tp))"
      ],
      "metadata": {
        "colab": {
          "base_uri": "https://localhost:8080/",
          "height": 35
        },
        "outputId": "5480ce36-8791-4398-b1c4-758b2710fbae",
        "id": "IXA55_7Nlzva"
      },
      "execution_count": null,
      "outputs": [
        {
          "output_type": "execute_result",
          "data": {
            "text/plain": [
              "'F1 Score: 1.0'"
            ],
            "application/vnd.google.colaboratory.intrinsic+json": {
              "type": "string"
            }
          },
          "metadata": {},
          "execution_count": 90
        }
      ]
    },
    {
      "cell_type": "code",
      "source": [
        "tn, fp, fn, tp = cm.ravel()\n",
        "\n",
        "s = \"\"\"\n",
        "True Negatives: {0}\n",
        "False Positives: {1}\n",
        "False Negatives: {2}\n",
        "True Positives: {3}\n",
        "\"\"\".format(tn, fp, fn, tp)\n",
        "\n",
        "print(s)"
      ],
      "metadata": {
        "colab": {
          "base_uri": "https://localhost:8080/"
        },
        "outputId": "2fb05099-e459-4634-dd78-59002c292e22",
        "id": "wgnUFc6ln-Kd"
      },
      "execution_count": null,
      "outputs": [
        {
          "output_type": "stream",
          "name": "stdout",
          "text": [
            "\n",
            "True Negatives: 58\n",
            "False Positives: 0\n",
            "False Negatives: 0\n",
            "True Positives: 62\n",
            "\n"
          ]
        }
      ]
    },
    {
      "cell_type": "markdown",
      "source": [
        "**MLP**"
      ],
      "metadata": {
        "id": "BbGq9HZAniZt"
      }
    },
    {
      "cell_type": "code",
      "source": [
        "model = MLPClassifier().fit(X_train, y_train)\n",
        "test_predictions = model.predict(X_test)\n",
        "test_predictions"
      ],
      "metadata": {
        "colab": {
          "base_uri": "https://localhost:8080/"
        },
        "id": "-SEuvFxynk59",
        "outputId": "adecd374-21cb-4b63-8512-b06ae04494bd"
      },
      "execution_count": null,
      "outputs": [
        {
          "output_type": "execute_result",
          "data": {
            "text/plain": [
              "array([1, 0, 0, 1, 1, 1, 1, 0, 1, 0, 1, 1, 1, 0, 0, 1, 1, 1, 1, 1, 1, 0,\n",
              "       0, 0, 1, 0, 1, 1, 0, 0, 0, 1, 1, 1, 1, 0, 1, 0, 0, 1, 0, 1, 0, 0,\n",
              "       1, 1, 0, 1, 1, 0, 1, 1, 1, 0, 0, 0, 1, 1, 1, 1, 1, 1, 1, 0, 0, 1,\n",
              "       0, 0, 1, 0, 0, 1, 0, 0, 0, 0, 0, 1, 0, 0, 1, 0, 0, 0, 1, 1, 1, 1,\n",
              "       0, 1, 1, 0, 1, 1, 1, 1, 1, 1, 0, 1, 1, 1, 0, 1, 1, 0, 1, 1, 1, 0,\n",
              "       1, 0, 0, 0, 0, 0, 0, 1, 0, 0])"
            ]
          },
          "metadata": {},
          "execution_count": 92
        }
      ]
    },
    {
      "cell_type": "code",
      "source": [
        "cm = confusion_matrix(y_test, test_predictions, labels=[0, 1])\n",
        "disp = ConfusionMatrixDisplay(confusion_matrix=cm,\n",
        "                              display_labels=['Not Sepsis', 'Sepsis'])\n",
        "disp.plot()"
      ],
      "metadata": {
        "colab": {
          "base_uri": "https://localhost:8080/",
          "height": 296
        },
        "id": "YdcZfZ0dnzpJ",
        "outputId": "ff6626c6-b7c6-4718-9409-6b59334aaf40"
      },
      "execution_count": null,
      "outputs": [
        {
          "output_type": "execute_result",
          "data": {
            "text/plain": [
              "<sklearn.metrics._plot.confusion_matrix.ConfusionMatrixDisplay at 0x7f5a443605d0>"
            ]
          },
          "metadata": {},
          "execution_count": 93
        },
        {
          "output_type": "display_data",
          "data": {
            "text/plain": [
              "<Figure size 432x288 with 2 Axes>"
            ],
            "image/png": "[encoded data removed]"
          },
          "metadata": {
            "needs_background": "light"
          }
        }
      ]
    },
    {
      "cell_type": "code",
      "source": [
        "tn, fp, fn, tp = cm.ravel()\n",
        "\n",
        "s = \"\"\"\n",
        "True Negatives: {0}\n",
        "False Positives: {1}\n",
        "False Negatives: {2}\n",
        "True Positives: {3}\n",
        "\"\"\".format(tn, fp, fn, tp)\n",
        "\n",
        "print(s)"
      ],
      "metadata": {
        "colab": {
          "base_uri": "https://localhost:8080/"
        },
        "outputId": "8c242537-7ef9-4eb3-a492-5b41854283ff",
        "id": "MbSudc1ToFwa"
      },
      "execution_count": null,
      "outputs": [
        {
          "output_type": "stream",
          "name": "stdout",
          "text": [
            "\n",
            "True Negatives: 54\n",
            "False Positives: 4\n",
            "False Negatives: 0\n",
            "True Positives: 62\n",
            "\n"
          ]
        }
      ]
    },
    {
      "cell_type": "markdown",
      "source": [
        "**Accuracy**"
      ],
      "metadata": {
        "id": "MTpNpY2KoFwb"
      }
    },
    {
      "cell_type": "code",
      "source": [
        "def accuracy(tn, fp, fn, tp):\n",
        "  return (tp + tn) / (tp + tn + fp + fn)\n",
        "\n",
        "\"Accuracy: {0}\".format(accuracy(tn, fp, fn, tp))"
      ],
      "metadata": {
        "colab": {
          "base_uri": "https://localhost:8080/",
          "height": 35
        },
        "outputId": "9404eaeb-6a54-46a3-f6ea-955aec49364c",
        "id": "L40QFTaHoFwb"
      },
      "execution_count": null,
      "outputs": [
        {
          "output_type": "execute_result",
          "data": {
            "text/plain": [
              "'Accuracy: 0.9666666666666667'"
            ],
            "application/vnd.google.colaboratory.intrinsic+json": {
              "type": "string"
            }
          },
          "metadata": {},
          "execution_count": 95
        }
      ]
    },
    {
      "cell_type": "markdown",
      "source": [
        "**Sensitivity**"
      ],
      "metadata": {
        "id": "CL_Xw9NcoFwb"
      }
    },
    {
      "cell_type": "code",
      "source": [
        "def tpr(tn, fp, fn, tp):\n",
        "  return tp / (tp + fn)\n",
        "\n",
        "\"True Positive Rate: {0}\".format(tpr(tn, fp, fn, tp))"
      ],
      "metadata": {
        "colab": {
          "base_uri": "https://localhost:8080/",
          "height": 35
        },
        "outputId": "7223df8c-8014-4865-f5c7-7e122b5bb118",
        "id": "nkf8wTPAoFwc"
      },
      "execution_count": null,
      "outputs": [
        {
          "output_type": "execute_result",
          "data": {
            "text/plain": [
              "'True Positive Rate: 1.0'"
            ],
            "application/vnd.google.colaboratory.intrinsic+json": {
              "type": "string"
            }
          },
          "metadata": {},
          "execution_count": 96
        }
      ]
    },
    {
      "cell_type": "markdown",
      "source": [
        "**False Negative Rate**"
      ],
      "metadata": {
        "id": "aWFp4TWhoFwc"
      }
    },
    {
      "cell_type": "code",
      "source": [
        "def fnr(tn, fp, fn, tp):\n",
        "  return fn / (tp + fn)\n",
        "\n",
        "\"False Negative Rate: {0}\".format(fnr(tn, fp, fn, tp))"
      ],
      "metadata": {
        "colab": {
          "base_uri": "https://localhost:8080/",
          "height": 35
        },
        "outputId": "58744120-88a5-4069-aacb-c2e93cdfedab",
        "id": "Z3hrfZ17oFwc"
      },
      "execution_count": null,
      "outputs": [
        {
          "output_type": "execute_result",
          "data": {
            "text/plain": [
              "'False Negative Rate: 0.0'"
            ],
            "application/vnd.google.colaboratory.intrinsic+json": {
              "type": "string"
            }
          },
          "metadata": {},
          "execution_count": 97
        }
      ]
    },
    {
      "cell_type": "markdown",
      "source": [
        "**Specificity**"
      ],
      "metadata": {
        "id": "FJNWwQ8CoFwc"
      }
    },
    {
      "cell_type": "code",
      "source": [
        "def tnr(tn, fp, fn, tp):\n",
        "  return tn / (tn + fp)\n",
        "\n",
        "\"Specificity: {0}\".format(tnr(tn, fp, fn, tp))"
      ],
      "metadata": {
        "colab": {
          "base_uri": "https://localhost:8080/",
          "height": 35
        },
        "outputId": "e870fbe9-39de-4de0-9f48-c1568e9aa253",
        "id": "S-MFq3OcoFwc"
      },
      "execution_count": null,
      "outputs": [
        {
          "output_type": "execute_result",
          "data": {
            "text/plain": [
              "'Specificity: 0.9310344827586207'"
            ],
            "application/vnd.google.colaboratory.intrinsic+json": {
              "type": "string"
            }
          },
          "metadata": {},
          "execution_count": 98
        }
      ]
    },
    {
      "cell_type": "markdown",
      "source": [
        "**False Positive Rate**"
      ],
      "metadata": {
        "id": "4g7fgbxFoFwd"
      }
    },
    {
      "cell_type": "code",
      "source": [
        "def fpr(tn, fp, fn, tp):\n",
        "  return fp / (tn + fp)\n",
        "\n",
        "\"False Positive Rate: {0}\".format(fpr(tn, fp, fn, tp))"
      ],
      "metadata": {
        "colab": {
          "base_uri": "https://localhost:8080/",
          "height": 35
        },
        "outputId": "3537a022-579b-4189-fdac-953dbc0b16c8",
        "id": "Bs4iZc8poFwd"
      },
      "execution_count": null,
      "outputs": [
        {
          "output_type": "execute_result",
          "data": {
            "text/plain": [
              "'False Positive Rate: 0.06896551724137931'"
            ],
            "application/vnd.google.colaboratory.intrinsic+json": {
              "type": "string"
            }
          },
          "metadata": {},
          "execution_count": 99
        }
      ]
    },
    {
      "cell_type": "markdown",
      "source": [
        "**Negative Predictive Value**"
      ],
      "metadata": {
        "id": "why2LvWDoFwd"
      }
    },
    {
      "cell_type": "code",
      "source": [
        "def npv(tn, fp, fn, tp):\n",
        "  return tn / (tn + fn)\n",
        "\n",
        "\"Negative Predictive Value: {0}\".format(npv(tn, fp, fn, tp))"
      ],
      "metadata": {
        "colab": {
          "base_uri": "https://localhost:8080/",
          "height": 35
        },
        "outputId": "3f49a26f-6c69-4562-ab49-3e874f2d0669",
        "id": "Ltbl8UP-oFwd"
      },
      "execution_count": null,
      "outputs": [
        {
          "output_type": "execute_result",
          "data": {
            "text/plain": [
              "'Negative Predictive Value: 1.0'"
            ],
            "application/vnd.google.colaboratory.intrinsic+json": {
              "type": "string"
            }
          },
          "metadata": {},
          "execution_count": 100
        }
      ]
    },
    {
      "cell_type": "markdown",
      "source": [
        "**Precision**"
      ],
      "metadata": {
        "id": "VBTND3pXoFwe"
      }
    },
    {
      "cell_type": "code",
      "source": [
        "def ppv(tn, fp, fn, tp):\n",
        "  return tp / (tp + fp)\n",
        "\n",
        "\"Positive Predictive Value: {0}\".format(ppv(tn, fp, fn, tp))"
      ],
      "metadata": {
        "colab": {
          "base_uri": "https://localhost:8080/",
          "height": 35
        },
        "outputId": "b204ec37-0cb8-40d8-e18f-47d97f454f2e",
        "id": "zxm5BBY3oFwe"
      },
      "execution_count": null,
      "outputs": [
        {
          "output_type": "execute_result",
          "data": {
            "text/plain": [
              "'Positive Predictive Value: 0.9393939393939394'"
            ],
            "application/vnd.google.colaboratory.intrinsic+json": {
              "type": "string"
            }
          },
          "metadata": {},
          "execution_count": 101
        }
      ]
    },
    {
      "cell_type": "markdown",
      "source": [
        "**Balanced Accuracy**"
      ],
      "metadata": {
        "id": "I2R_G9J0oFwe"
      }
    },
    {
      "cell_type": "code",
      "source": [
        "def balanced_accuracy(tn, fp, fn, tp):\n",
        "  tprr = tpr(tn, fp, fn, tp)\n",
        "  tnrr = tnr(tn, fp, fn, tp)\n",
        "  return (tprr + tnrr) / 2\n",
        "\n",
        "\"Balanced Accuracy: {0}\".format(balanced_accuracy(tn, fp, fn, tp))"
      ],
      "metadata": {
        "colab": {
          "base_uri": "https://localhost:8080/",
          "height": 35
        },
        "outputId": "4cb68d96-c518-438f-e780-ba100c7bfc25",
        "id": "gIIYRvaSoFwe"
      },
      "execution_count": null,
      "outputs": [
        {
          "output_type": "execute_result",
          "data": {
            "text/plain": [
              "'Balanced Accuracy: 0.9655172413793103'"
            ],
            "application/vnd.google.colaboratory.intrinsic+json": {
              "type": "string"
            }
          },
          "metadata": {},
          "execution_count": 102
        }
      ]
    },
    {
      "cell_type": "markdown",
      "source": [
        "**F1**"
      ],
      "metadata": {
        "id": "LFaz_KyuoFwe"
      }
    },
    {
      "cell_type": "code",
      "source": [
        "def f1(tn, fp, fn, tp):\n",
        "  p = ppv(tn, fp, fn, tp)\n",
        "  r = tpr(tn, fp, fn, tp)\n",
        "  \n",
        "  return (2*p*r) / (p + r)\n",
        "\n",
        "\"F1 Score: {0}\".format(f1(tn, fp, fn, tp))"
      ],
      "metadata": {
        "colab": {
          "base_uri": "https://localhost:8080/",
          "height": 35
        },
        "outputId": "b3d86372-9afe-4790-9f43-95beeddd2081",
        "id": "ohVr4y3PoFwf"
      },
      "execution_count": null,
      "outputs": [
        {
          "output_type": "execute_result",
          "data": {
            "text/plain": [
              "'F1 Score: 0.96875'"
            ],
            "application/vnd.google.colaboratory.intrinsic+json": {
              "type": "string"
            }
          },
          "metadata": {},
          "execution_count": 103
        }
      ]
    }
  ]
}
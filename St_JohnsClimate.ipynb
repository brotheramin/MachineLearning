{
  "nbformat": 4,
  "nbformat_minor": 0,
  "metadata": {
    "colab": {
      "provenance": [],
      "authorship_tag": "ABX9TyOKdPzSWK+J2Y6DxWnMlMk2",
      "include_colab_link": true
    },
    "kernelspec": {
      "name": "python3",
      "display_name": "Python 3"
    },
    "language_info": {
      "name": "python"
    }
  },
  "cells": [
    {
      "cell_type": "markdown",
      "metadata": {
        "id": "view-in-github",
        "colab_type": "text"
      },
      "source": [
        "<a href=\"https://colab.research.google.com/github/brotheramin/MachineLearning/blob/main/St_JohnsClimate.ipynb\" target=\"_parent\"><img src=\"https://colab.research.google.com/assets/colab-badge.svg\" alt=\"Open In Colab\"/></a>"
      ]
    },
    {
      "cell_type": "code",
      "execution_count": 3,
      "metadata": {
        "colab": {
          "base_uri": "https://localhost:8080/"
        },
        "id": "h1wgw8oy9oRQ",
        "outputId": "6ac35a37-1762-45fb-83fe-63e63725c794"
      },
      "outputs": [
        {
          "output_type": "stream",
          "name": "stdout",
          "text": [
            "Chi-Square Statistic: 1233.064626832027, p-value: 8.812274424332014e-260\n"
          ]
        }
      ],
      "source": [
        "import pandas as pd\n",
        "from scipy.stats import chisquare, norm\n",
        "import numpy as np\n",
        "\n",
        "# Load the dataset\n",
        "climate_data = pd.read_csv('Canadian_climate_history.csv')\n",
        "\n",
        "# Drop missing values from the 'MEAN_TEMPERATURE_STJOHNS' column\n",
        "stjohns_temps = climate_data['MEAN_TEMPERATURE_STJOHNS'].dropna()\n",
        "\n",
        "# Fit a normal distribution to the data\n",
        "stjohns_mean, stjohns_std = norm.fit(stjohns_temps)\n",
        "\n",
        "# Define bins and calculate observed frequencies\n",
        "num_bins = 10  # You can adjust the number of bins\n",
        "observed_freq, bin_edges = np.histogram(stjohns_temps, bins=num_bins)\n",
        "\n",
        "# Calculate expected frequencies for each bin using the normal distribution\n",
        "cdf_vals = norm.cdf(bin_edges, stjohns_mean, stjohns_std)\n",
        "expected_freq = np.diff(cdf_vals) * len(stjohns_temps)\n",
        "\n",
        "# Normalize frequencies to have the same sum\n",
        "expected_freq = expected_freq * (observed_freq.sum() / expected_freq.sum())\n",
        "\n",
        "# Perform the Chi-Square Goodness-of-Fit Test\n",
        "chi2_stat, p_value = chisquare(observed_freq, expected_freq)\n",
        "\n",
        "# Print the results\n",
        "print(f\"Chi-Square Statistic: {chi2_stat}, p-value: {p_value}\")"
      ]
    },
    {
      "cell_type": "code",
      "source": [
        "import pandas as pd\n",
        "from scipy.stats import chisquare, norm, gamma\n",
        "import numpy as np\n",
        "\n",
        "# Load the dataset\n",
        "climate_data = pd.read_csv('Canadian_climate_history.csv')\n",
        "\n",
        "# Drop missing values from the 'MEAN_TEMPERATURE_STJOHNS' column\n",
        "stjohns_temps = climate_data['MEAN_TEMPERATURE_STJOHNS'].dropna()\n",
        "\n",
        "# Define the number of bins\n",
        "num_bins = 15  # Increased for smoother results\n",
        "\n",
        "# Calculate observed frequencies\n",
        "observed_freq, bin_edges = np.histogram(stjohns_temps, bins=num_bins)\n",
        "\n",
        "# Fit a normal distribution and calculate expected frequencies\n",
        "normal_mean, normal_std = norm.fit(stjohns_temps)\n",
        "cdf_normal = norm.cdf(bin_edges, normal_mean, normal_std)\n",
        "expected_freq_normal = np.diff(cdf_normal) * len(stjohns_temps)\n",
        "expected_freq_normal *= observed_freq.sum() / expected_freq_normal.sum()\n",
        "\n",
        "# Fit a gamma distribution and calculate expected frequencies\n",
        "gamma_shape, gamma_loc, gamma_scale = gamma.fit(stjohns_temps)\n",
        "cdf_gamma = gamma.cdf(bin_edges, gamma_shape, loc=gamma_loc, scale=gamma_scale)\n",
        "expected_freq_gamma = np.diff(cdf_gamma) * len(stjohns_temps)\n",
        "expected_freq_gamma *= observed_freq.sum() / expected_freq_gamma.sum()\n",
        "\n",
        "# Perform the Chi-Square Goodness-of-Fit Test for both distributions\n",
        "chi2_stat_normal, p_value_normal = chisquare(observed_freq, expected_freq_normal)\n",
        "chi2_stat_gamma, p_value_gamma = chisquare(observed_freq, expected_freq_gamma)\n",
        "\n",
        "# Display the results\n",
        "print(f\"Normal Distribution - Chi-Square Statistic: {chi2_stat_normal}, p-value: {p_value_normal}\")\n",
        "print(f\"Gamma Distribution - Chi-Square Statistic: {chi2_stat_gamma}, p-value: {p_value_gamma}\")"
      ],
      "metadata": {
        "colab": {
          "base_uri": "https://localhost:8080/"
        },
        "id": "Zy9-NBNn_aUe",
        "outputId": "02f3b9d7-2557-40c2-e7aa-5d98db4d8eb1"
      },
      "execution_count": 4,
      "outputs": [
        {
          "output_type": "stream",
          "name": "stdout",
          "text": [
            "Normal Distribution - Chi-Square Statistic: 1444.307371201838, p-value: 4.684927642626088e-300\n",
            "Gamma Distribution - Chi-Square Statistic: 1437.3617364506179, p-value: 1.4668461124952655e-298\n"
          ]
        }
      ]
    },
    {
      "cell_type": "code",
      "source": [
        "import pandas as pd\n",
        "import numpy as np\n",
        "from scipy.stats import chisquare, norm\n",
        "import matplotlib.pyplot as plt\n",
        "\n",
        "# Load and preprocess the data\n",
        "climate_data = pd.read_csv('Canadian_climate_history.csv')\n",
        "climate_data['LOCAL_DATE'] = pd.to_datetime(climate_data['LOCAL_DATE'], errors='coerce')\n",
        "climate_data = climate_data.set_index('LOCAL_DATE')\n",
        "stjohns_temps = climate_data['MEAN_TEMPERATURE_STJOHNS'].dropna()\n",
        "\n",
        "# Define seasons: Winter (Dec-Feb), Spring (Mar-May), Summer (Jun-Aug), Fall (Sep-Nov)\n",
        "seasons = {\n",
        "    \"Winter\": stjohns_temps[(stjohns_temps.index.month == 12) | (stjohns_temps.index.month <= 2)],\n",
        "    \"Spring\": stjohns_temps[(stjohns_temps.index.month >= 3) & (stjohns_temps.index.month <= 5)],\n",
        "    \"Summer\": stjohns_temps[(stjohns_temps.index.month >= 6) & (stjohns_temps.index.month <= 8)],\n",
        "    \"Fall\": stjohns_temps[(stjohns_temps.index.month >= 9) & (stjohns_temps.index.month <= 11)]\n",
        "}\n",
        "\n",
        "# Initialize results dictionary\n",
        "results = {}\n",
        "\n",
        "# Perform Chi-Square Goodness-of-Fit Test for each season\n",
        "num_bins = 10  # Define number of bins for smoother results\n",
        "\n",
        "for season, temps in seasons.items():\n",
        "    # Observed frequencies\n",
        "    observed_freq, bin_edges = np.histogram(temps, bins=num_bins)\n",
        "\n",
        "    # Fit a normal distribution and calculate expected frequencies\n",
        "    season_mean, season_std = norm.fit(temps)\n",
        "    cdf_vals = norm.cdf(bin_edges, season_mean, season_std)\n",
        "    expected_freq = np.diff(cdf_vals) * len(temps)\n",
        "    expected_freq *= observed_freq.sum() / expected_freq.sum()  # Normalize frequencies\n",
        "\n",
        "    # Perform the Chi-Square Goodness-of-Fit Test\n",
        "    chi2_stat, p_value = chisquare(observed_freq, expected_freq)\n",
        "\n",
        "    # Store results\n",
        "    results[season] = {'Chi-Square Statistic': chi2_stat, 'p-value': p_value}\n",
        "\n",
        "# Display the results for each season\n",
        "for season, result in results.items():\n",
        "    print(f\"{season} - Chi-Square Statistic: {result['Chi-Square Statistic']}, p-value: {result['p-value']}\")"
      ],
      "metadata": {
        "colab": {
          "base_uri": "https://localhost:8080/"
        },
        "id": "bGkcPP2BAc7E",
        "outputId": "f47cbd78-b95b-45b2-d991-4e60428377aa"
      },
      "execution_count": 6,
      "outputs": [
        {
          "output_type": "stream",
          "name": "stdout",
          "text": [
            "Winter - Chi-Square Statistic: 17.29694107141906, p-value: 0.04426395170078908\n",
            "Spring - Chi-Square Statistic: 88.54632183426334, p-value: 3.1853402009453265e-15\n",
            "Summer - Chi-Square Statistic: 264.49405267426823, p-value: 8.641937271720324e-52\n",
            "Fall - Chi-Square Statistic: 108.74598908472113, p-value: 2.6462923056958793e-19\n"
          ]
        }
      ]
    },
    {
      "cell_type": "code",
      "source": [
        "import pandas as pd\n",
        "import numpy as np\n",
        "from scipy.stats import chisquare, weibull_min, lognorm\n",
        "import matplotlib.pyplot as plt\n",
        "\n",
        "# Load and preprocess the data\n",
        "climate_data = pd.read_csv('Canadian_climate_history.csv')\n",
        "climate_data['LOCAL_DATE'] = pd.to_datetime(climate_data['LOCAL_DATE'], errors='coerce')\n",
        "climate_data = climate_data.set_index('LOCAL_DATE')\n",
        "stjohns_temps = climate_data['MEAN_TEMPERATURE_STJOHNS'].dropna()\n",
        "\n",
        "# Define seasons: Winter (Dec-Feb), Spring (Mar-May), Summer (Jun-Aug), Fall (Sep-Nov)\n",
        "seasons = {\n",
        "    \"Spring\": stjohns_temps[(stjohns_temps.index.month >= 3) & (stjohns_temps.index.month <= 5)],\n",
        "    \"Summer\": stjohns_temps[(stjohns_temps.index.month >= 6) & (stjohns_temps.index.month <= 8)],\n",
        "    \"Fall\": stjohns_temps[(stjohns_temps.index.month >= 9) & (stjohns_temps.index.month <= 11)]\n",
        "}\n",
        "\n",
        "# Initialize results dictionary\n",
        "results = {}\n",
        "\n",
        "# Define number of bins\n",
        "num_bins = 10\n",
        "shift_value = abs(stjohns_temps.min()) + 1  # Shift to make all values positive\n",
        "\n",
        "# Perform Chi-Square Goodness-of-Fit Test for shifted log-normal and Weibull distributions\n",
        "for season, temps in seasons.items():\n",
        "    # Observed frequencies\n",
        "    observed_freq, bin_edges = np.histogram(temps, bins=num_bins)\n",
        "\n",
        "    # Shifted Log-Normal distribution fitting and expected frequencies\n",
        "    shifted_temps = temps + shift_value\n",
        "    shape, loc, scale = lognorm.fit(shifted_temps, floc=0)  # floc=0 to fix location\n",
        "    cdf_lognorm = lognorm.cdf(bin_edges + shift_value, shape, loc=loc, scale=scale)\n",
        "    expected_freq_lognorm = np.diff(cdf_lognorm) * len(shifted_temps)\n",
        "    expected_freq_lognorm *= observed_freq.sum() / expected_freq_lognorm.sum()  # Normalize frequencies\n",
        "\n",
        "    # Weibull distribution fitting and expected frequencies\n",
        "    c, loc, scale = weibull_min.fit(temps)\n",
        "    cdf_weibull = weibull_min.cdf(bin_edges, c, loc=loc, scale=scale)\n",
        "    expected_freq_weibull = np.diff(cdf_weibull) * len(temps)\n",
        "    expected_freq_weibull *= observed_freq.sum() / expected_freq_weibull.sum()  # Normalize frequencies\n",
        "\n",
        "    # Perform the Chi-Square Goodness-of-Fit Test for both distributions\n",
        "    chi2_stat_lognorm, p_value_lognorm = chisquare(observed_freq, expected_freq_lognorm)\n",
        "    chi2_stat_weibull, p_value_weibull = chisquare(observed_freq, expected_freq_weibull)\n",
        "\n",
        "    # Store results\n",
        "    results[season] = {\n",
        "        'Shifted Log-Normal Chi-Square': chi2_stat_lognorm, 'Shifted Log-Normal p-value': p_value_lognorm,\n",
        "        'Weibull Chi-Square': chi2_stat_weibull, 'Weibull p-value': p_value_weibull\n",
        "    }\n",
        "\n",
        "# Display the results for each season and distribution\n",
        "for season, result in results.items():\n",
        "    print(f\"{season} - Shifted Log-Normal Chi-Square: {result['Shifted Log-Normal Chi-Square']}, p-value: {result['Shifted Log-Normal p-value']}\")\n",
        "    print(f\"{season} - Weibull Chi-Square: {result['Weibull Chi-Square']}, p-value: {result['Weibull p-value']}\")"
      ],
      "metadata": {
        "colab": {
          "base_uri": "https://localhost:8080/"
        },
        "id": "K-PPXrz0CDNa",
        "outputId": "7b1629ce-7284-42ed-8a61-03b4efbc5325"
      },
      "execution_count": 8,
      "outputs": [
        {
          "output_type": "stream",
          "name": "stdout",
          "text": [
            "Spring - Shifted Log-Normal Chi-Square: 18554.309404712047, p-value: 0.0\n",
            "Spring - Weibull Chi-Square: 252.55526151872323, p-value: 2.8802355594216445e-49\n",
            "Summer - Shifted Log-Normal Chi-Square: 565.494395806019, p-value: 5.297758309248969e-116\n",
            "Summer - Weibull Chi-Square: 81.98030036029499, p-value: 6.526463864189011e-14\n",
            "Fall - Shifted Log-Normal Chi-Square: 221.20607321022626, p-value: 1.1670439293628948e-42\n",
            "Fall - Weibull Chi-Square: 64.48937665598817, p-value: 1.8132663532513147e-10\n"
          ]
        }
      ]
    },
    {
      "cell_type": "code",
      "source": [
        "import pandas as pd\n",
        "import numpy as np\n",
        "from scipy.stats import chisquare\n",
        "from sklearn.neighbors import KernelDensity\n",
        "import matplotlib.pyplot as plt\n",
        "\n",
        "# Load and preprocess the data\n",
        "climate_data = pd.read_csv('Canadian_climate_history.csv')\n",
        "climate_data['LOCAL_DATE'] = pd.to_datetime(climate_data['LOCAL_DATE'], errors='coerce')\n",
        "climate_data = climate_data.set_index('LOCAL_DATE')\n",
        "stjohns_temps = climate_data['MEAN_TEMPERATURE_STJOHNS'].dropna()\n",
        "\n",
        "# Define a dictionary to store results for each month\n",
        "results = {}\n",
        "\n",
        "# Perform Chi-Square Goodness-of-Fit Test using KDE for each month\n",
        "for month in range(1, 13):\n",
        "    # Extract temperature data for each month\n",
        "    monthly_temps = stjohns_temps[stjohns_temps.index.month == month]\n",
        "\n",
        "    # Observed frequencies\n",
        "    num_bins = 10\n",
        "    observed_freq, bin_edges = np.histogram(monthly_temps, bins=num_bins)\n",
        "\n",
        "    # KDE to estimate the density\n",
        "    kde = KernelDensity(bandwidth=1.0, kernel='gaussian')\n",
        "    kde.fit(monthly_temps.values.reshape(-1, 1))\n",
        "\n",
        "    # Generate expected frequencies based on KDE\n",
        "    bin_centers = (bin_edges[:-1] + bin_edges[1:]) / 2\n",
        "    log_densities = kde.score_samples(bin_centers.reshape(-1, 1))\n",
        "    expected_freq = np.exp(log_densities) * len(monthly_temps) * (bin_edges[1] - bin_edges[0])\n",
        "    expected_freq *= observed_freq.sum() / expected_freq.sum()  # Normalize frequencies\n",
        "\n",
        "    # Perform the Chi-Square Goodness-of-Fit Test\n",
        "    chi2_stat, p_value = chisquare(observed_freq, expected_freq)\n",
        "\n",
        "    # Store results\n",
        "    results[f\"Month {month}\"] = {'Chi-Square Statistic': chi2_stat, 'p-value': p_value}\n",
        "\n",
        "# Display the results for each month\n",
        "for month, result in results.items():\n",
        "    print(f\"{month} - Chi-Square Statistic: {result['Chi-Square Statistic']}, p-value: {result['p-value']}\")"
      ],
      "metadata": {
        "colab": {
          "base_uri": "https://localhost:8080/"
        },
        "id": "IdQYCnwzDBks",
        "outputId": "c64b1cc6-ff76-4aff-88b7-76eaf95b090d"
      },
      "execution_count": 9,
      "outputs": [
        {
          "output_type": "stream",
          "name": "stdout",
          "text": [
            "Month 1 - Chi-Square Statistic: 3.902590857314743, p-value: 0.9177058916584641\n",
            "Month 2 - Chi-Square Statistic: 1.8038407792149909, p-value: 0.994203394000153\n",
            "Month 3 - Chi-Square Statistic: 1.6430617331293145, p-value: 0.9959397890339731\n",
            "Month 4 - Chi-Square Statistic: 4.6990698742020935, p-value: 0.8597127426519187\n",
            "Month 5 - Chi-Square Statistic: 6.64608438811871, p-value: 0.6739127181453697\n",
            "Month 6 - Chi-Square Statistic: 5.347213585136231, p-value: 0.8030515863664108\n",
            "Month 7 - Chi-Square Statistic: 8.567278165804748, p-value: 0.47813701877192316\n",
            "Month 8 - Chi-Square Statistic: 7.103638648091529, p-value: 0.6263299439975035\n",
            "Month 9 - Chi-Square Statistic: 2.124620992612135, p-value: 0.9893399695472903\n",
            "Month 10 - Chi-Square Statistic: 3.6344106157856517, p-value: 0.9337877669159877\n",
            "Month 11 - Chi-Square Statistic: 2.209588535007845, p-value: 0.9877030107772983\n",
            "Month 12 - Chi-Square Statistic: 8.624608934460445, p-value: 0.472621984150961\n"
          ]
        }
      ]
    }
  ]
}
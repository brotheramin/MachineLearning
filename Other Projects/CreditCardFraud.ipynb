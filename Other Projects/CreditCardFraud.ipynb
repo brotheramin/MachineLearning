{
  "nbformat": 4,
  "nbformat_minor": 0,
  "metadata": {
    "colab": {
      "name": "Untitled8.ipynb",
      "provenance": [],
      "authorship_tag": "ABX9TyNsjOracd2hVbpfyFgReuxN",
      "include_colab_link": true
    },
    "kernelspec": {
      "name": "python3",
      "display_name": "Python 3"
    },
    "language_info": {
      "name": "python"
    }
  },
  "cells": [
    {
      "cell_type": "markdown",
      "metadata": {
        "id": "view-in-github",
        "colab_type": "text"
      },
      "source": [
        "<a href=\"https://colab.research.google.com/github/brotheramin/MachineLearning/blob/main/CreditCardFraud.ipynb\" target=\"_parent\"><img src=\"https://colab.research.google.com/assets/colab-badge.svg\" alt=\"Open In Colab\"/></a>"
      ]
    },
    {
      "cell_type": "markdown",
      "source": [
        "**Credit Card Fraud Detection**\n",
        "\n",
        "The dataset contains transactions made by credit cards in September 2013 by european cardholders. This dataset represents transactions that occurred in two days, where we have 492 cases of fraud out of 284,807 transactions. The dataset is highly unbalanced, the positive class (known fraudulent transactions) account for only 0.172% of all transactions.\n",
        "\n",
        "An autoencoder is used as an unsupervised model to identify irregularities that might indicate fraud. It is imperfect, but works reasonably well.\n",
        "\n",
        "The data is available on [Kaggle](https://www.kaggle.com/mlg-ulb/creditcardfraud)"
      ],
      "metadata": {
        "id": "foQ9N-cwDrcv"
      }
    },
    {
      "cell_type": "code",
      "source": [
        "%tensorflow_version 2.x"
      ],
      "metadata": {
        "id": "kX4hGOHqD0D9"
      },
      "execution_count": 1,
      "outputs": []
    },
    {
      "cell_type": "code",
      "execution_count": 2,
      "metadata": {
        "id": "ZOw23i5gDCe3"
      },
      "outputs": [],
      "source": [
        "import pandas as pd\n",
        "import numpy as np\n",
        "import matplotlib.pyplot as plt\n",
        "import seaborn as sns\n",
        "from sklearn.model_selection import train_test_split\n",
        "from sklearn.preprocessing import StandardScaler\n",
        "from tensorflow.keras.models import Sequential, load_model\n",
        "from tensorflow.keras.layers import Dense\n",
        "from tensorflow.keras.callbacks import ModelCheckpoint\n",
        "from sklearn.metrics import confusion_matrix"
      ]
    },
    {
      "cell_type": "markdown",
      "source": [
        "**Read Data**\n",
        "\n",
        "The original data set is fairly large. To reduce experiment cycle time, a subset of of the data is used here. The data is available on Kaggle, which requires login. If you are using Google Colab, you can download the zip file to your local machine and then upload it into a Google Colab notebook. Pandas can read zip files directly."
      ],
      "metadata": {
        "id": "YhJxv2k7D-CJ"
      }
    },
    {
      "cell_type": "code",
      "source": [
        "data = pd.read_csv(\"creditcard.csv\")\n",
        "data = data.head(30000)\n",
        "data.shape"
      ],
      "metadata": {
        "colab": {
          "base_uri": "https://localhost:8080/"
        },
        "id": "CwOfj2wdEB4W",
        "outputId": "324bc2c7-b062-4778-f9f7-7e4391a7b4be"
      },
      "execution_count": 6,
      "outputs": [
        {
          "output_type": "execute_result",
          "data": {
            "text/plain": [
              "(30000, 31)"
            ]
          },
          "metadata": {},
          "execution_count": 6
        }
      ]
    },
    {
      "cell_type": "code",
      "source": [
        "\n",
        "data.head()"
      ],
      "metadata": {
        "colab": {
          "base_uri": "https://localhost:8080/",
          "height": 300
        },
        "id": "ZRqgFCDsEFX3",
        "outputId": "47e6ff8e-fd7c-476b-9b29-aaeab2c53082"
      },
      "execution_count": 7,
      "outputs": [
        {
          "output_type": "execute_result",
          "data": {
            "text/plain": [
              "       712  1.38284715007044  -0.00637330519583678  -0.496478563762524  \\\n",
              "0  34714.0         -0.505623              0.696249            0.864695   \n",
              "1  34714.0         -1.347241              1.278883            1.380049   \n",
              "2  34715.0         -1.997486             -6.247751           -2.146480   \n",
              "3  34715.0         -0.373098              1.153177            1.436122   \n",
              "4  34716.0         -0.338448             -0.012549            1.548567   \n",
              "\n",
              "   -1.08205305225498  -0.0808830443608156  -1.15632019489055  \\\n",
              "0           1.120677             0.042565          -0.077980   \n",
              "1           0.913509             0.162013          -0.114490   \n",
              "2           0.828500            -2.484162          -0.205025   \n",
              "3           0.138901            -0.096129          -1.163653   \n",
              "4          -2.132899             0.332593           0.183520   \n",
              "\n",
              "   0.292571822610627  -0.258428163078786  1.06456613243598  ...  \\\n",
              "0           0.948634           -0.118641         -0.296673  ...   \n",
              "1           0.916754           -0.141199         -0.537024  ...   \n",
              "2           2.006526           -0.658223         -0.743316  ...   \n",
              "3           0.746219           -0.115367         -0.474063  ...   \n",
              "4           0.186680            0.020768         -1.327153  ...   \n",
              "\n",
              "   -0.449804627263864  -1.27888499555974  0.019728921381961  \\\n",
              "0            0.054431           0.398556           0.037060   \n",
              "1            0.002815           0.415186          -0.456130   \n",
              "2            1.187403          -0.648449          -1.788212   \n",
              "3           -0.236107          -0.599251           0.027593   \n",
              "4           -0.020604          -0.109244          -0.133021   \n",
              "\n",
              "   -0.525997185720502  0.561247041848369  -0.845993246118688  \\\n",
              "0            0.175790          -0.386621           -0.328350   \n",
              "1            0.137008           0.504979           -0.115927   \n",
              "2           -0.005568           0.155405           -0.220592   \n",
              "3            0.670301          -0.190295            0.050345   \n",
              "4           -0.856017          -0.334356           -0.628094   \n",
              "\n",
              "   0.0125287619204441  0.00912469017906386     1.62    0  \n",
              "0           -0.046589            -0.075340    81.40  0.0  \n",
              "1            0.314052             0.158906    88.23  0.0  \n",
              "2           -0.356211             0.307654  1800.00  0.0  \n",
              "3            0.247474             0.102719     5.36  0.0  \n",
              "4           -0.057004            -0.117696     5.00  0.0  \n",
              "\n",
              "[5 rows x 31 columns]"
            ],
            "text/html": [
              "\n",
              "  <div id=\"df-e5fe9e93-b14d-453f-9acf-cc62ee5425fb\">\n",
              "    <div class=\"colab-df-container\">\n",
              "      <div>\n",
              "<style scoped>\n",
              "    .dataframe tbody tr th:only-of-type {\n",
              "        vertical-align: middle;\n",
              "    }\n",
              "\n",
              "    .dataframe tbody tr th {\n",
              "        vertical-align: top;\n",
              "    }\n",
              "\n",
              "    .dataframe thead th {\n",
              "        text-align: right;\n",
              "    }\n",
              "</style>\n",
              "<table border=\"1\" class=\"dataframe\">\n",
              "  <thead>\n",
              "    <tr style=\"text-align: right;\">\n",
              "      <th></th>\n",
              "      <th>712</th>\n",
              "      <th>1.38284715007044</th>\n",
              "      <th>-0.00637330519583678</th>\n",
              "      <th>-0.496478563762524</th>\n",
              "      <th>-1.08205305225498</th>\n",
              "      <th>-0.0808830443608156</th>\n",
              "      <th>-1.15632019489055</th>\n",
              "      <th>0.292571822610627</th>\n",
              "      <th>-0.258428163078786</th>\n",
              "      <th>1.06456613243598</th>\n",
              "      <th>...</th>\n",
              "      <th>-0.449804627263864</th>\n",
              "      <th>-1.27888499555974</th>\n",
              "      <th>0.019728921381961</th>\n",
              "      <th>-0.525997185720502</th>\n",
              "      <th>0.561247041848369</th>\n",
              "      <th>-0.845993246118688</th>\n",
              "      <th>0.0125287619204441</th>\n",
              "      <th>0.00912469017906386</th>\n",
              "      <th>1.62</th>\n",
              "      <th>0</th>\n",
              "    </tr>\n",
              "  </thead>\n",
              "  <tbody>\n",
              "    <tr>\n",
              "      <th>0</th>\n",
              "      <td>34714.0</td>\n",
              "      <td>-0.505623</td>\n",
              "      <td>0.696249</td>\n",
              "      <td>0.864695</td>\n",
              "      <td>1.120677</td>\n",
              "      <td>0.042565</td>\n",
              "      <td>-0.077980</td>\n",
              "      <td>0.948634</td>\n",
              "      <td>-0.118641</td>\n",
              "      <td>-0.296673</td>\n",
              "      <td>...</td>\n",
              "      <td>0.054431</td>\n",
              "      <td>0.398556</td>\n",
              "      <td>0.037060</td>\n",
              "      <td>0.175790</td>\n",
              "      <td>-0.386621</td>\n",
              "      <td>-0.328350</td>\n",
              "      <td>-0.046589</td>\n",
              "      <td>-0.075340</td>\n",
              "      <td>81.40</td>\n",
              "      <td>0.0</td>\n",
              "    </tr>\n",
              "    <tr>\n",
              "      <th>1</th>\n",
              "      <td>34714.0</td>\n",
              "      <td>-1.347241</td>\n",
              "      <td>1.278883</td>\n",
              "      <td>1.380049</td>\n",
              "      <td>0.913509</td>\n",
              "      <td>0.162013</td>\n",
              "      <td>-0.114490</td>\n",
              "      <td>0.916754</td>\n",
              "      <td>-0.141199</td>\n",
              "      <td>-0.537024</td>\n",
              "      <td>...</td>\n",
              "      <td>0.002815</td>\n",
              "      <td>0.415186</td>\n",
              "      <td>-0.456130</td>\n",
              "      <td>0.137008</td>\n",
              "      <td>0.504979</td>\n",
              "      <td>-0.115927</td>\n",
              "      <td>0.314052</td>\n",
              "      <td>0.158906</td>\n",
              "      <td>88.23</td>\n",
              "      <td>0.0</td>\n",
              "    </tr>\n",
              "    <tr>\n",
              "      <th>2</th>\n",
              "      <td>34715.0</td>\n",
              "      <td>-1.997486</td>\n",
              "      <td>-6.247751</td>\n",
              "      <td>-2.146480</td>\n",
              "      <td>0.828500</td>\n",
              "      <td>-2.484162</td>\n",
              "      <td>-0.205025</td>\n",
              "      <td>2.006526</td>\n",
              "      <td>-0.658223</td>\n",
              "      <td>-0.743316</td>\n",
              "      <td>...</td>\n",
              "      <td>1.187403</td>\n",
              "      <td>-0.648449</td>\n",
              "      <td>-1.788212</td>\n",
              "      <td>-0.005568</td>\n",
              "      <td>0.155405</td>\n",
              "      <td>-0.220592</td>\n",
              "      <td>-0.356211</td>\n",
              "      <td>0.307654</td>\n",
              "      <td>1800.00</td>\n",
              "      <td>0.0</td>\n",
              "    </tr>\n",
              "    <tr>\n",
              "      <th>3</th>\n",
              "      <td>34715.0</td>\n",
              "      <td>-0.373098</td>\n",
              "      <td>1.153177</td>\n",
              "      <td>1.436122</td>\n",
              "      <td>0.138901</td>\n",
              "      <td>-0.096129</td>\n",
              "      <td>-1.163653</td>\n",
              "      <td>0.746219</td>\n",
              "      <td>-0.115367</td>\n",
              "      <td>-0.474063</td>\n",
              "      <td>...</td>\n",
              "      <td>-0.236107</td>\n",
              "      <td>-0.599251</td>\n",
              "      <td>0.027593</td>\n",
              "      <td>0.670301</td>\n",
              "      <td>-0.190295</td>\n",
              "      <td>0.050345</td>\n",
              "      <td>0.247474</td>\n",
              "      <td>0.102719</td>\n",
              "      <td>5.36</td>\n",
              "      <td>0.0</td>\n",
              "    </tr>\n",
              "    <tr>\n",
              "      <th>4</th>\n",
              "      <td>34716.0</td>\n",
              "      <td>-0.338448</td>\n",
              "      <td>-0.012549</td>\n",
              "      <td>1.548567</td>\n",
              "      <td>-2.132899</td>\n",
              "      <td>0.332593</td>\n",
              "      <td>0.183520</td>\n",
              "      <td>0.186680</td>\n",
              "      <td>0.020768</td>\n",
              "      <td>-1.327153</td>\n",
              "      <td>...</td>\n",
              "      <td>-0.020604</td>\n",
              "      <td>-0.109244</td>\n",
              "      <td>-0.133021</td>\n",
              "      <td>-0.856017</td>\n",
              "      <td>-0.334356</td>\n",
              "      <td>-0.628094</td>\n",
              "      <td>-0.057004</td>\n",
              "      <td>-0.117696</td>\n",
              "      <td>5.00</td>\n",
              "      <td>0.0</td>\n",
              "    </tr>\n",
              "  </tbody>\n",
              "</table>\n",
              "<p>5 rows × 31 columns</p>\n",
              "</div>\n",
              "      <button class=\"colab-df-convert\" onclick=\"convertToInteractive('df-e5fe9e93-b14d-453f-9acf-cc62ee5425fb')\"\n",
              "              title=\"Convert this dataframe to an interactive table.\"\n",
              "              style=\"display:none;\">\n",
              "        \n",
              "  <svg xmlns=\"http://www.w3.org/2000/svg\" height=\"24px\"viewBox=\"0 0 24 24\"\n",
              "       width=\"24px\">\n",
              "    <path d=\"M0 0h24v24H0V0z\" fill=\"none\"/>\n",
              "    <path d=\"M18.56 5.44l.94 2.06.94-2.06 2.06-.94-2.06-.94-.94-2.06-.94 2.06-2.06.94zm-11 1L8.5 8.5l.94-2.06 2.06-.94-2.06-.94L8.5 2.5l-.94 2.06-2.06.94zm10 10l.94 2.06.94-2.06 2.06-.94-2.06-.94-.94-2.06-.94 2.06-2.06.94z\"/><path d=\"M17.41 7.96l-1.37-1.37c-.4-.4-.92-.59-1.43-.59-.52 0-1.04.2-1.43.59L10.3 9.45l-7.72 7.72c-.78.78-.78 2.05 0 2.83L4 21.41c.39.39.9.59 1.41.59.51 0 1.02-.2 1.41-.59l7.78-7.78 2.81-2.81c.8-.78.8-2.07 0-2.86zM5.41 20L4 18.59l7.72-7.72 1.47 1.35L5.41 20z\"/>\n",
              "  </svg>\n",
              "      </button>\n",
              "      \n",
              "  <style>\n",
              "    .colab-df-container {\n",
              "      display:flex;\n",
              "      flex-wrap:wrap;\n",
              "      gap: 12px;\n",
              "    }\n",
              "\n",
              "    .colab-df-convert {\n",
              "      background-color: #E8F0FE;\n",
              "      border: none;\n",
              "      border-radius: 50%;\n",
              "      cursor: pointer;\n",
              "      display: none;\n",
              "      fill: #1967D2;\n",
              "      height: 32px;\n",
              "      padding: 0 0 0 0;\n",
              "      width: 32px;\n",
              "    }\n",
              "\n",
              "    .colab-df-convert:hover {\n",
              "      background-color: #E2EBFA;\n",
              "      box-shadow: 0px 1px 2px rgba(60, 64, 67, 0.3), 0px 1px 3px 1px rgba(60, 64, 67, 0.15);\n",
              "      fill: #174EA6;\n",
              "    }\n",
              "\n",
              "    [theme=dark] .colab-df-convert {\n",
              "      background-color: #3B4455;\n",
              "      fill: #D2E3FC;\n",
              "    }\n",
              "\n",
              "    [theme=dark] .colab-df-convert:hover {\n",
              "      background-color: #434B5C;\n",
              "      box-shadow: 0px 1px 3px 1px rgba(0, 0, 0, 0.15);\n",
              "      filter: drop-shadow(0px 1px 2px rgba(0, 0, 0, 0.3));\n",
              "      fill: #FFFFFF;\n",
              "    }\n",
              "  </style>\n",
              "\n",
              "      <script>\n",
              "        const buttonEl =\n",
              "          document.querySelector('#df-e5fe9e93-b14d-453f-9acf-cc62ee5425fb button.colab-df-convert');\n",
              "        buttonEl.style.display =\n",
              "          google.colab.kernel.accessAllowed ? 'block' : 'none';\n",
              "\n",
              "        async function convertToInteractive(key) {\n",
              "          const element = document.querySelector('#df-e5fe9e93-b14d-453f-9acf-cc62ee5425fb');\n",
              "          const dataTable =\n",
              "            await google.colab.kernel.invokeFunction('convertToInteractive',\n",
              "                                                     [key], {});\n",
              "          if (!dataTable) return;\n",
              "\n",
              "          const docLinkHtml = 'Like what you see? Visit the ' +\n",
              "            '<a target=\"_blank\" href=https://colab.research.google.com/notebooks/data_table.ipynb>data table notebook</a>'\n",
              "            + ' to learn more about interactive tables.';\n",
              "          element.innerHTML = '';\n",
              "          dataTable['output_type'] = 'display_data';\n",
              "          await google.colab.output.renderOutput(dataTable, element);\n",
              "          const docLink = document.createElement('div');\n",
              "          docLink.innerHTML = docLinkHtml;\n",
              "          element.appendChild(docLink);\n",
              "        }\n",
              "      </script>\n",
              "    </div>\n",
              "  </div>\n",
              "  "
            ]
          },
          "metadata": {},
          "execution_count": 7
        }
      ]
    },
    {
      "cell_type": "code",
      "source": [
        "data.groupby(['Class']).count()"
      ],
      "metadata": {
        "id": "mCVOZYttEIl5"
      },
      "execution_count": null,
      "outputs": []
    },
    {
      "cell_type": "markdown",
      "source": [
        "**Data Engineering**\n",
        "\n",
        "The Time column is ignored and the Amount is normalized. All other columns remain the same."
      ],
      "metadata": {
        "id": "_unNOZqhEOM3"
      }
    },
    {
      "cell_type": "code",
      "source": [
        "data = data.drop(['Time'], axis=1)\n",
        "data['Amount'] = StandardScaler().fit_transform(data['Amount'].values.reshape(-1, 1))"
      ],
      "metadata": {
        "id": "GnjnBgwyEQOl"
      },
      "execution_count": null,
      "outputs": []
    },
    {
      "cell_type": "code",
      "source": [
        "X_train, X_test = train_test_split(data, test_size=0.2, random_state=0)\n",
        "X_train = X_train.drop(['Class'], axis=1)\n",
        "y_test = X_test['Class']\n",
        "X_test = X_test.drop(['Class'], axis=1)\n",
        "X_train = X_train.values\n",
        "X_test = X_test.values\n",
        "X_train.shape"
      ],
      "metadata": {
        "id": "22RGCsKREShV"
      },
      "execution_count": null,
      "outputs": []
    },
    {
      "cell_type": "markdown",
      "source": [
        "**Autoencoder Model**\n",
        "\n",
        "This is a standard dense autoencoder with four layers."
      ],
      "metadata": {
        "id": "LSByn_HdEXrk"
      }
    },
    {
      "cell_type": "code",
      "source": [
        "input_dim = X_train.shape[1]\n",
        "encoding_dim = 14\n",
        "\n",
        "model = Sequential()\n",
        "model.add(Dense(encoding_dim, activation=\"tanh\", input_shape=(input_dim,)))\n",
        "model.add(Dense(int(encoding_dim / 2), activation=\"relu\"))\n",
        "model.add(Dense(int(encoding_dim / 2), activation='tanh'))\n",
        "model.add(Dense(input_dim, activation='relu'))\n",
        "\n",
        "model.summary()"
      ],
      "metadata": {
        "colab": {
          "base_uri": "https://localhost:8080/"
        },
        "id": "bW74eu4kEUx4",
        "outputId": "00a0b530-848d-4942-dff2-80498a7370fe"
      },
      "execution_count": 13,
      "outputs": [
        {
          "output_type": "stream",
          "name": "stdout",
          "text": [
            "Model: \"sequential\"\n",
            "_________________________________________________________________\n",
            " Layer (type)                Output Shape              Param #   \n",
            "=================================================================\n",
            " dense (Dense)               (None, 14)                448       \n",
            "                                                                 \n",
            " dense_1 (Dense)             (None, 7)                 105       \n",
            "                                                                 \n",
            " dense_2 (Dense)             (None, 7)                 56        \n",
            "                                                                 \n",
            " dense_3 (Dense)             (None, 31)                248       \n",
            "                                                                 \n",
            "=================================================================\n",
            "Total params: 857\n",
            "Trainable params: 857\n",
            "Non-trainable params: 0\n",
            "_________________________________________________________________\n"
          ]
        }
      ]
    },
    {
      "cell_type": "markdown",
      "source": [
        "**Model Training**\n",
        "\n",
        "Given such a simple model and relatively small data set, it might be faster to train without a GPU."
      ],
      "metadata": {
        "id": "pCbsE2tBEdpC"
      }
    },
    {
      "cell_type": "code",
      "source": [
        "nb_epoch = 40\n",
        "batch_size = 32\n",
        "\n",
        "model.compile(optimizer='adam', loss='mean_squared_error', metrics=['acc'])\n",
        "\n",
        "history = model.fit(X_train, X_train,\n",
        "                    epochs=nb_epoch,\n",
        "                    batch_size=batch_size,\n",
        "                    validation_data=(X_test, X_test),\n",
        "                    verbose=1)\n",
        "\n",
        "autoencoder = model"
      ],
      "metadata": {
        "colab": {
          "base_uri": "https://localhost:8080/"
        },
        "id": "HnbHg82jEjZb",
        "outputId": "759f6667-718e-46af-ff74-b7c8bac314dd"
      },
      "execution_count": 14,
      "outputs": [
        {
          "output_type": "stream",
          "name": "stdout",
          "text": [
            "Epoch 1/40\n",
            "750/750 [==============================] - 2s 2ms/step - loss: 55443604.0000 - acc: 0.9813 - val_loss: 55516900.0000 - val_acc: 1.0000\n",
            "Epoch 2/40\n",
            "750/750 [==============================] - 1s 2ms/step - loss: 55426852.0000 - acc: 1.0000 - val_loss: 55500676.0000 - val_acc: 1.0000\n",
            "Epoch 3/40\n",
            "750/750 [==============================] - 1s 2ms/step - loss: 55410692.0000 - acc: 1.0000 - val_loss: 55484624.0000 - val_acc: 1.0000\n",
            "Epoch 4/40\n",
            "750/750 [==============================] - 1s 2ms/step - loss: 55394736.0000 - acc: 1.0000 - val_loss: 55468628.0000 - val_acc: 1.0000\n",
            "Epoch 5/40\n",
            "750/750 [==============================] - 1s 2ms/step - loss: 55378744.0000 - acc: 1.0000 - val_loss: 55452640.0000 - val_acc: 1.0000\n",
            "Epoch 6/40\n",
            "750/750 [==============================] - 1s 2ms/step - loss: 55362804.0000 - acc: 1.0000 - val_loss: 55436644.0000 - val_acc: 1.0000\n",
            "Epoch 7/40\n",
            "750/750 [==============================] - 1s 2ms/step - loss: 55346768.0000 - acc: 1.0000 - val_loss: 55420660.0000 - val_acc: 1.0000\n",
            "Epoch 8/40\n",
            "750/750 [==============================] - 1s 2ms/step - loss: 55330816.0000 - acc: 1.0000 - val_loss: 55404692.0000 - val_acc: 1.0000\n",
            "Epoch 9/40\n",
            "750/750 [==============================] - 1s 2ms/step - loss: 55314856.0000 - acc: 1.0000 - val_loss: 55388740.0000 - val_acc: 1.0000\n",
            "Epoch 10/40\n",
            "750/750 [==============================] - 1s 2ms/step - loss: 55298920.0000 - acc: 1.0000 - val_loss: 55372744.0000 - val_acc: 1.0000\n",
            "Epoch 11/40\n",
            "750/750 [==============================] - 1s 2ms/step - loss: 55282916.0000 - acc: 1.0000 - val_loss: 55356780.0000 - val_acc: 1.0000\n",
            "Epoch 12/40\n",
            "750/750 [==============================] - 1s 2ms/step - loss: 55267016.0000 - acc: 1.0000 - val_loss: 55340820.0000 - val_acc: 1.0000\n",
            "Epoch 13/40\n",
            "750/750 [==============================] - 1s 2ms/step - loss: 55251060.0000 - acc: 1.0000 - val_loss: 55324848.0000 - val_acc: 1.0000\n",
            "Epoch 14/40\n",
            "750/750 [==============================] - 1s 2ms/step - loss: 55235132.0000 - acc: 1.0000 - val_loss: 55308920.0000 - val_acc: 1.0000\n",
            "Epoch 15/40\n",
            "750/750 [==============================] - 1s 2ms/step - loss: 55219164.0000 - acc: 1.0000 - val_loss: 55292932.0000 - val_acc: 1.0000\n",
            "Epoch 16/40\n",
            "750/750 [==============================] - 3s 3ms/step - loss: 55203260.0000 - acc: 1.0000 - val_loss: 55277004.0000 - val_acc: 1.0000\n",
            "Epoch 17/40\n",
            "750/750 [==============================] - 2s 2ms/step - loss: 55187296.0000 - acc: 1.0000 - val_loss: 55261052.0000 - val_acc: 1.0000\n",
            "Epoch 18/40\n",
            "750/750 [==============================] - 1s 2ms/step - loss: 55171368.0000 - acc: 1.0000 - val_loss: 55245080.0000 - val_acc: 1.0000\n",
            "Epoch 19/40\n",
            "750/750 [==============================] - 1s 2ms/step - loss: 55155408.0000 - acc: 1.0000 - val_loss: 55229148.0000 - val_acc: 1.0000\n",
            "Epoch 20/40\n",
            "750/750 [==============================] - 1s 2ms/step - loss: 55139496.0000 - acc: 1.0000 - val_loss: 55213212.0000 - val_acc: 1.0000\n",
            "Epoch 21/40\n",
            "750/750 [==============================] - 1s 2ms/step - loss: 55123524.0000 - acc: 1.0000 - val_loss: 55197260.0000 - val_acc: 1.0000\n",
            "Epoch 22/40\n",
            "750/750 [==============================] - 1s 2ms/step - loss: 55107604.0000 - acc: 1.0000 - val_loss: 55181296.0000 - val_acc: 1.0000\n",
            "Epoch 23/40\n",
            "750/750 [==============================] - 1s 2ms/step - loss: 55091708.0000 - acc: 1.0000 - val_loss: 55165420.0000 - val_acc: 1.0000\n",
            "Epoch 24/40\n",
            "750/750 [==============================] - 1s 2ms/step - loss: 55075776.0000 - acc: 1.0000 - val_loss: 55149456.0000 - val_acc: 1.0000\n",
            "Epoch 25/40\n",
            "750/750 [==============================] - 1s 2ms/step - loss: 55059864.0000 - acc: 1.0000 - val_loss: 55133504.0000 - val_acc: 1.0000\n",
            "Epoch 26/40\n",
            "750/750 [==============================] - 1s 2ms/step - loss: 55043972.0000 - acc: 1.0000 - val_loss: 55117604.0000 - val_acc: 1.0000\n",
            "Epoch 27/40\n",
            "750/750 [==============================] - 1s 2ms/step - loss: 55027996.0000 - acc: 1.0000 - val_loss: 55101692.0000 - val_acc: 1.0000\n",
            "Epoch 28/40\n",
            "750/750 [==============================] - 1s 2ms/step - loss: 55012116.0000 - acc: 1.0000 - val_loss: 55085748.0000 - val_acc: 1.0000\n",
            "Epoch 29/40\n",
            "750/750 [==============================] - 1s 2ms/step - loss: 54996180.0000 - acc: 1.0000 - val_loss: 55069824.0000 - val_acc: 1.0000\n",
            "Epoch 30/40\n",
            "750/750 [==============================] - 1s 2ms/step - loss: 54980284.0000 - acc: 1.0000 - val_loss: 55053888.0000 - val_acc: 1.0000\n",
            "Epoch 31/40\n",
            "750/750 [==============================] - 1s 2ms/step - loss: 54964392.0000 - acc: 1.0000 - val_loss: 55037996.0000 - val_acc: 1.0000\n",
            "Epoch 32/40\n",
            "750/750 [==============================] - 1s 2ms/step - loss: 54948496.0000 - acc: 1.0000 - val_loss: 55022060.0000 - val_acc: 1.0000\n",
            "Epoch 33/40\n",
            "750/750 [==============================] - 1s 2ms/step - loss: 54932580.0000 - acc: 1.0000 - val_loss: 55006140.0000 - val_acc: 1.0000\n",
            "Epoch 34/40\n",
            "750/750 [==============================] - 1s 2ms/step - loss: 54916652.0000 - acc: 1.0000 - val_loss: 54990252.0000 - val_acc: 1.0000\n",
            "Epoch 35/40\n",
            "750/750 [==============================] - 1s 2ms/step - loss: 54900812.0000 - acc: 1.0000 - val_loss: 54974332.0000 - val_acc: 1.0000\n",
            "Epoch 36/40\n",
            "750/750 [==============================] - 1s 2ms/step - loss: 54884828.0000 - acc: 1.0000 - val_loss: 54958412.0000 - val_acc: 1.0000\n",
            "Epoch 37/40\n",
            "750/750 [==============================] - 1s 2ms/step - loss: 54869000.0000 - acc: 1.0000 - val_loss: 54942536.0000 - val_acc: 1.0000\n",
            "Epoch 38/40\n",
            "750/750 [==============================] - 1s 2ms/step - loss: 54853076.0000 - acc: 1.0000 - val_loss: 54926600.0000 - val_acc: 1.0000\n",
            "Epoch 39/40\n",
            "750/750 [==============================] - 1s 2ms/step - loss: 54837232.0000 - acc: 1.0000 - val_loss: 54910708.0000 - val_acc: 1.0000\n",
            "Epoch 40/40\n",
            "750/750 [==============================] - 1s 2ms/step - loss: 54821324.0000 - acc: 1.0000 - val_loss: 54894800.0000 - val_acc: 1.0000\n"
          ]
        }
      ]
    },
    {
      "cell_type": "markdown",
      "source": [
        "**Model Performance**\n",
        "\n",
        "A simple plot of model accuracy to confirm that it is learning something."
      ],
      "metadata": {
        "id": "BYhqHNIoEqDK"
      }
    },
    {
      "cell_type": "code",
      "source": [
        "# summarize history for accuracy\n",
        "plt.plot(history.history['acc'])\n",
        "plt.plot(history.history['val_acc'])\n",
        "plt.title('Model accuracy')\n",
        "plt.ylabel('Accuracy')\n",
        "plt.xlabel('Epoch')\n",
        "plt.legend(['Train', 'Test'], loc='upper left')\n",
        "plt.show()"
      ],
      "metadata": {
        "colab": {
          "base_uri": "https://localhost:8080/",
          "height": 295
        },
        "id": "hJVYnZcnEpRd",
        "outputId": "93915299-ec70-48f4-ccc1-945781a436c8"
      },
      "execution_count": 15,
      "outputs": [
        {
          "output_type": "display_data",
          "data": {
            "text/plain": [
              "<Figure size 432x288 with 1 Axes>"
            ],
            "image/png": "[encoded data removed]"
          },
          "metadata": {
            "needs_background": "light"
          }
        }
      ]
    },
    {
      "cell_type": "markdown",
      "source": [
        "**Prediction**\n",
        "\n",
        "Predictions are made on the test set. The mean-squared error (MSE) is calculated between the test set and their predictions. If the MSE is high, it's a potential irregularity that might suggest fraud. It's not perfect, there will be false positives and false negatives."
      ],
      "metadata": {
        "id": "0LashOrlEwy7"
      }
    },
    {
      "cell_type": "code",
      "source": [
        "predictions = autoencoder.predict(X_test)\n",
        "mse = np.mean(np.power(X_test - predictions, 2), axis=1)\n",
        "error_df = pd.DataFrame({'reconstruction_error': mse, 'true_class': y_test})"
      ],
      "metadata": {
        "colab": {
          "base_uri": "https://localhost:8080/",
          "height": 201
        },
        "id": "bH_Hg_tyE0hA",
        "outputId": "0dfd9b31-09aa-47ca-edc4-8fee0ef30dfb"
      },
      "execution_count": 16,
      "outputs": [
        {
          "output_type": "error",
          "ename": "NameError",
          "evalue": "ignored",
          "traceback": [
            "\u001b[0;31m---------------------------------------------------------------------------\u001b[0m",
            "\u001b[0;31mNameError\u001b[0m                                 Traceback (most recent call last)",
            "\u001b[0;32m<ipython-input-16-8efa46e0dd83>\u001b[0m in \u001b[0;36m<module>\u001b[0;34m()\u001b[0m\n\u001b[1;32m      1\u001b[0m \u001b[0mpredictions\u001b[0m \u001b[0;34m=\u001b[0m \u001b[0mautoencoder\u001b[0m\u001b[0;34m.\u001b[0m\u001b[0mpredict\u001b[0m\u001b[0;34m(\u001b[0m\u001b[0mX_test\u001b[0m\u001b[0;34m)\u001b[0m\u001b[0;34m\u001b[0m\u001b[0;34m\u001b[0m\u001b[0m\n\u001b[1;32m      2\u001b[0m \u001b[0mmse\u001b[0m \u001b[0;34m=\u001b[0m \u001b[0mnp\u001b[0m\u001b[0;34m.\u001b[0m\u001b[0mmean\u001b[0m\u001b[0;34m(\u001b[0m\u001b[0mnp\u001b[0m\u001b[0;34m.\u001b[0m\u001b[0mpower\u001b[0m\u001b[0;34m(\u001b[0m\u001b[0mX_test\u001b[0m \u001b[0;34m-\u001b[0m \u001b[0mpredictions\u001b[0m\u001b[0;34m,\u001b[0m \u001b[0;36m2\u001b[0m\u001b[0;34m)\u001b[0m\u001b[0;34m,\u001b[0m \u001b[0maxis\u001b[0m\u001b[0;34m=\u001b[0m\u001b[0;36m1\u001b[0m\u001b[0;34m)\u001b[0m\u001b[0;34m\u001b[0m\u001b[0;34m\u001b[0m\u001b[0m\n\u001b[0;32m----> 3\u001b[0;31m \u001b[0merror_df\u001b[0m \u001b[0;34m=\u001b[0m \u001b[0mpd\u001b[0m\u001b[0;34m.\u001b[0m\u001b[0mDataFrame\u001b[0m\u001b[0;34m(\u001b[0m\u001b[0;34m{\u001b[0m\u001b[0;34m'reconstruction_error'\u001b[0m\u001b[0;34m:\u001b[0m \u001b[0mmse\u001b[0m\u001b[0;34m,\u001b[0m \u001b[0;34m'true_class'\u001b[0m\u001b[0;34m:\u001b[0m \u001b[0my_test\u001b[0m\u001b[0;34m}\u001b[0m\u001b[0;34m)\u001b[0m\u001b[0;34m\u001b[0m\u001b[0;34m\u001b[0m\u001b[0m\n\u001b[0m",
            "\u001b[0;31mNameError\u001b[0m: name 'y_test' is not defined"
          ]
        }
      ]
    },
    {
      "cell_type": "code",
      "source": [
        "error_df.head()"
      ],
      "metadata": {
        "id": "lpS6I0YBE2rB"
      },
      "execution_count": null,
      "outputs": []
    },
    {
      "cell_type": "markdown",
      "source": [
        "**Plot Reconstruction Error**\n",
        "\n",
        "The reconstruction error for each sample is plotted long with a color code indicating known fraud. Only 6000 samples are plotted, but the index is randomly sampled from the original set, so the X-axis shows almost the full range of indices."
      ],
      "metadata": {
        "id": "dHDSQqUZE1hn"
      }
    },
    {
      "cell_type": "code",
      "source": [
        "threshold = 6.0\n",
        "\n",
        "groups = error_df.groupby('true_class')\n",
        "fig, ax = plt.subplots(figsize=(12, 8))\n",
        "\n",
        "for name, group in groups:\n",
        "    ax.plot(group.index, group.reconstruction_error, marker='o', ms=2.0, linestyle='',\n",
        "            label = \"Fraud\" if name == 1 else \"Normal\",\n",
        "            color = \"red\" if name == 1 else \"blue\")\n",
        "ax.hlines(threshold, ax.get_xlim()[0], ax.get_xlim()[1], colors=\"green\", zorder=100, label='Threshold')\n",
        "ax.legend()\n",
        "plt.title(\"Reconstruction error for different classes\")\n",
        "plt.ylabel(\"Reconstruction error\")\n",
        "plt.xlabel(\"Data point index\")\n",
        "plt.show();"
      ],
      "metadata": {
        "id": "aS6r1qQQE-P8"
      },
      "execution_count": null,
      "outputs": []
    },
    {
      "cell_type": "markdown",
      "source": [
        "**Analysis**\n",
        "\n",
        "Given the known fraud transactions, we can determine the number of true/false positives and negatives. Ideally, there should be no false positives and false negatives, but this is an imperfect model. Let's see how well it does."
      ],
      "metadata": {
        "id": "uH9TeOtxFC4V"
      }
    },
    {
      "cell_type": "code",
      "source": [
        "normal = error_df[error_df.true_class == 0]\n",
        "fraud = error_df[error_df.true_class == 1]\n",
        "\n",
        "print('Normal transactions: %d, fraud transactions: %d' % (len(normal), len(fraud)))"
      ],
      "metadata": {
        "id": "TIli_fshFGkU"
      },
      "execution_count": null,
      "outputs": []
    },
    {
      "cell_type": "code",
      "source": [
        "true_positives = len(fraud[fraud.reconstruction_error >= threshold])\n",
        "false_positives = len(normal[normal.reconstruction_error >= threshold])\n",
        "\n",
        "true_negatives = len(normal[normal.reconstruction_error < threshold])\n",
        "false_negatives = len(fraud[fraud.reconstruction_error < threshold])\n",
        "\n",
        "print('True positives: %d, true negatives: %d' % (true_positives, true_negatives))\n",
        "print('False positives: %d, false negatives: %d' % (false_positives, false_negatives))"
      ],
      "metadata": {
        "id": "MIvYkiqPFKZV"
      },
      "execution_count": null,
      "outputs": []
    },
    {
      "cell_type": "markdown",
      "source": [
        "**Confusion Matrix**\n",
        "\n",
        "The confusion matrix below shows the number of true/false positive/negatives. It's not perfect, but not too bad either."
      ],
      "metadata": {
        "id": "UqRxZXV5FMha"
      }
    },
    {
      "cell_type": "code",
      "source": [
        "labels = [\"Normal\", \"Fraud\"]\n",
        "\n",
        "y_pred = [1 if e > threshold else 0 for e in error_df.reconstruction_error.values]\n",
        "conf_matrix = confusion_matrix(error_df.true_class, y_pred)\n",
        "\n",
        "plt.figure(figsize=(6, 5))\n",
        "sns.heatmap(conf_matrix, xticklabels=labels, yticklabels=labels, annot=True, fmt=\"d\");\n",
        "plt.title(\"Confusion matrix\")\n",
        "plt.ylabel('True class')\n",
        "plt.xlabel('Predicted class')\n",
        "plt.show()"
      ],
      "metadata": {
        "id": "50ndAGu7FL7E"
      },
      "execution_count": null,
      "outputs": []
    }
  ]
}
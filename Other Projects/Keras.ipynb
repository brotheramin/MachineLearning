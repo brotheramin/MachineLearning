{
  "nbformat": 4,
  "nbformat_minor": 0,
  "metadata": {
    "colab": {
      "name": "Keras.ipynb",
      "provenance": [],
      "authorship_tag": "ABX9TyO4us7cnQR+3hk8lkan8hqM",
      "include_colab_link": true
    },
    "kernelspec": {
      "name": "python3",
      "display_name": "Python 3"
    },
    "language_info": {
      "name": "python"
    }
  },
  "cells": [
    {
      "cell_type": "markdown",
      "metadata": {
        "id": "view-in-github",
        "colab_type": "text"
      },
      "source": [
        "<a href=\"https://colab.research.google.com/github/brotheramin/MachineLearning/blob/main/Keras.ipynb\" target=\"_parent\"><img src=\"https://colab.research.google.com/assets/colab-badge.svg\" alt=\"Open In Colab\"/></a>"
      ]
    },
    {
      "cell_type": "markdown",
      "source": [
        "**Keras**\n",
        "\n",
        "Keras is a popular, high level deep learning library for Python. It can run on top of several lower level deep learning libraries, such as Tensorflow or Theano. Keras is now included as part of Tensorflow 2.0\n",
        "\n",
        "Keras was designed to be easy to use and intuitive for deep neural networks. Keras includes a number of commonly used layers, activation functions, and optimizers. A model can be defined and trained with just a few lines of Python code.\n",
        "\n",
        "Keras interoperates with Matplotlib and NumPy."
      ],
      "metadata": {
        "id": "7oHIQ-sbdvDW"
      }
    },
    {
      "cell_type": "code",
      "execution_count": null,
      "metadata": {
        "id": "JpHvStm7dtW5"
      },
      "outputs": [],
      "source": [
        "%tensorflow_version 2.x"
      ]
    },
    {
      "cell_type": "code",
      "source": [
        "from tensorflow.keras.models import Sequential\n",
        "from tensorflow.keras.layers import Dense, Activation\n",
        "from tensorflow.keras.optimizers import Adam\n",
        "from tensorflow.keras.models import model_from_json\n",
        "\n",
        "from matplotlib import pyplot as plt\n",
        "\n",
        "import numpy as np"
      ],
      "metadata": {
        "id": "5BqpL7bOd5uq"
      },
      "execution_count": null,
      "outputs": []
    },
    {
      "cell_type": "markdown",
      "source": [
        "**Learning a Mathematical Function**\n",
        "\n",
        "As an easy to understand example, we will develop a Keras models to predict the value of a mathematical function. This example trains quickly, making it ideal for experimentation.\n",
        "\n",
        "The train and test data sets are generated using the function below. The number of training samples can be adjusted to explore model accuracy as a function of data set size."
      ],
      "metadata": {
        "id": "UG_i5u_eeBFQ"
      }
    },
    {
      "cell_type": "code",
      "source": [
        "def function(x):\n",
        "    return 10*x**2 - 5*x - 0.5"
      ],
      "metadata": {
        "id": "DqwfpnMleE9V"
      },
      "execution_count": null,
      "outputs": []
    },
    {
      "cell_type": "code",
      "source": [
        "x_train = np.random.rand(10000)\n",
        "y_train = function(x_train)\n",
        "\n",
        "x_test = np.linspace(0, 1, 100)\n",
        "y_test = function(x_test)"
      ],
      "metadata": {
        "id": "H0hudcoUeN1e"
      },
      "execution_count": null,
      "outputs": []
    },
    {
      "cell_type": "markdown",
      "source": [
        "**Visualize the Dataset**"
      ],
      "metadata": {
        "id": "fMDV8D7ZeO69"
      }
    },
    {
      "cell_type": "code",
      "source": [
        "plt.scatter(x_train, y_train, label='Train', color='blue')\n",
        "plt.plot(x_test, y_test, label='Test', color='red')\n",
        "plt.ylabel('y')\n",
        "plt.xlabel('x')\n",
        "plt.legend(loc='best')\n",
        "plt.show()"
      ],
      "metadata": {
        "id": "nMAGyt8neS6h"
      },
      "execution_count": null,
      "outputs": []
    },
    {
      "cell_type": "markdown",
      "source": [
        "**Define the Model**\n",
        "\n",
        "A basic, multilayer dense model with ReLU activation functions is used. The output layer does not have an activation function in order to produce continuous output values."
      ],
      "metadata": {
        "id": "W453pl8ceZhB"
      }
    },
    {
      "cell_type": "code",
      "source": [
        "model = Sequential()\n",
        "model.add(Dense(units=200, input_dim=1))\n",
        "model.add(Activation('relu'))\n",
        "model.add(Dense(units=20))\n",
        "model.add(Activation('relu'))\n",
        "model.add(Dense(units=1))"
      ],
      "metadata": {
        "id": "KvaEoyrCegoY"
      },
      "execution_count": null,
      "outputs": []
    },
    {
      "cell_type": "markdown",
      "source": [
        "**Training**"
      ],
      "metadata": {
        "id": "R3g5YallejDL"
      }
    },
    {
      "cell_type": "code",
      "source": [
        "model.compile(loss='mean_squared_error', optimizer=Adam())\n",
        "history = model.fit(x_train, y_train, batch_size=50, epochs=10, verbose=1, validation_data=(x_test, y_test))"
      ],
      "metadata": {
        "id": "3nyVTMg0eksc"
      },
      "execution_count": null,
      "outputs": []
    },
    {
      "cell_type": "markdown",
      "source": [
        "**Model Loss**\n",
        "\n",
        "The loss is the difference between expected output (y_train) and model output. Lower loss values are better."
      ],
      "metadata": {
        "id": "tC0yuY1reuaI"
      }
    },
    {
      "cell_type": "code",
      "source": [
        "plt.plot(history.history['loss'])\n",
        "plt.plot(history.history['val_loss'])\n",
        "plt.title('Model loss')\n",
        "plt.ylabel('Loss')\n",
        "plt.xlabel('Epoch')\n",
        "plt.legend(['Train', 'Test'], loc='upper left')\n",
        "plt.show()"
      ],
      "metadata": {
        "id": "VPnqzFD9ezfV"
      },
      "execution_count": null,
      "outputs": []
    },
    {
      "cell_type": "markdown",
      "source": [
        "**Predictions**"
      ],
      "metadata": {
        "id": "pbwvIMoCe5dT"
      }
    },
    {
      "cell_type": "code",
      "source": [
        "y_predictions = model.predict(x_test)"
      ],
      "metadata": {
        "id": "3h_Mt2Xhe7zj"
      },
      "execution_count": null,
      "outputs": []
    },
    {
      "cell_type": "code",
      "source": [
        "plt.scatter(x_test, y_predictions, label='Predictions', color='blue')\n",
        "plt.plot(x_test, y_test, label='Test', color='red')\n",
        "plt.ylabel('y')\n",
        "plt.xlabel('x')\n",
        "plt.legend(loc='best')\n",
        "plt.show()"
      ],
      "metadata": {
        "id": "Cqu1cJe2e-ZI"
      },
      "execution_count": null,
      "outputs": []
    },
    {
      "cell_type": "markdown",
      "source": [
        "**Save the Model**\n",
        "\n",
        "The model structure and trained weights/biases can be saved to files. These can be reloaded later for prediction."
      ],
      "metadata": {
        "id": "mgTYJ1B7fD-1"
      }
    },
    {
      "cell_type": "code",
      "source": [
        "model_structure = model.to_json()\n",
        "with open(\"model.json\", \"w\") as json_file:\n",
        "    json_file.write(model_structure)\n",
        "model.save_weights(\"weights.h5\")"
      ],
      "metadata": {
        "id": "ucyVZOpAfGDS"
      },
      "execution_count": null,
      "outputs": []
    },
    {
      "cell_type": "markdown",
      "source": [
        "**Restore Trained Model**"
      ],
      "metadata": {
        "id": "F3_z24PgfI2B"
      }
    },
    {
      "cell_type": "code",
      "source": [
        "with open('model.json', 'r') as json_file:\n",
        "    loaded_model_json = json_file.read()\n",
        "restored_model = model_from_json(loaded_model_json)\n",
        "restored_model.load_weights(\"weights.h5\")"
      ],
      "metadata": {
        "id": "i92Usr7BfMte"
      },
      "execution_count": null,
      "outputs": []
    },
    {
      "cell_type": "markdown",
      "source": [
        "**Predictions**\n",
        "\n",
        "Make predictions using the restored model. It should produce the same results as the original model."
      ],
      "metadata": {
        "id": "9t3R3OcMfRce"
      }
    },
    {
      "cell_type": "code",
      "source": [
        "y_predictions = restored_model.predict(x_test, batch_size=1)\n",
        "\n",
        "plt.scatter(x_test, y_predictions, label='Predictions', color='blue')\n",
        "plt.plot(x_test, y_test, label='Test', color='red')\n",
        "plt.ylabel('y')\n",
        "plt.xlabel('x')\n",
        "plt.legend(loc='best')\n",
        "plt.show()"
      ],
      "metadata": {
        "id": "wt2HkxVcfTtj"
      },
      "execution_count": null,
      "outputs": []
    }
  ]
}